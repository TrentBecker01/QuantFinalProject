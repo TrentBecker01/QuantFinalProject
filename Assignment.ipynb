{
  "cells": [
    {
      "cell_type": "markdown",
      "metadata": {
        "id": "HmRbPqCoV8hW"
      },
      "source": [
        "# <span style=\"color:blue\">Quant Final Project</span>\n",
        "## Finance 372 - Prof Travis Johnson"
      ]
    },
    {
      "cell_type": "markdown",
      "metadata": {
        "id": "rY2TsKH4V8hY"
      },
      "source": [
        "## Solution by: <span style=\"color:orange\">Trent Becker, Arjun Nair, Madhavan Uchani </span>"
      ]
    },
    {
      "cell_type": "code",
      "execution_count": 106,
      "metadata": {
        "id": "RXYIbw3rV8hY"
      },
      "outputs": [],
      "source": [
        "import pandas as pd\n",
        "import datetime as dt\n",
        "import numpy as np\n",
        "from pathlib import Path"
      ]
    },
    {
      "cell_type": "code",
      "execution_count": 107,
      "metadata": {
        "id": "WpnDfGn0V8hZ"
      },
      "outputs": [],
      "source": [
        "# Solution\n",
        "# signal_df = pd.read_stata(\"final_project_data.dta\")\n",
        "#TODO --> Determine if we need the foreign identifier code from compustat data or if we can justify not needing it\n",
        "df = pd.read_csv(\"crsp_finalproject.csv\", dtype={'PERMNO': 'str', 'date': 'str', 'TICKER': 'str', 'COMNAM': 'str', 'PRC': 'float', 'VOL': 'float', 'RET': 'str', 'SHROUT': 'float'})\n",
        "df['RET'] = pd.to_numeric(df['RET'], errors='coerce')\n",
        "df['RET'] = df['RET'].astype(float)\n",
        "df = df[df['date'] >= '1983-06-01']"
      ]
    },
    {
      "cell_type": "markdown",
      "metadata": {
        "id": "4x8huJPhV8hZ"
      },
      "source": [
        "Now remove unnecessary columns, keeping only gvkey, datadate, at, cogs, and revt. Write the edited dataframe into a .dta file using `.to_stata('gp_data.dta',write_index=False)`"
      ]
    },
    {
      "cell_type": "code",
      "execution_count": 108,
      "metadata": {
        "id": "X_A8xzlAV8hZ"
      },
      "outputs": [],
      "source": [
        "# Solution\n",
        "#signal_df = signal_df[['PERMNO', 'date', 'TICKER', 'COMNAM', 'PRC', 'VOL', 'RET', 'SHROUT']]\n",
        "#signal_df.to_stata('index_rebalancing_data.dta', write_index=False)\n",
        "df1985 = df[pd.to_datetime(df['date']).dt.year == 1985]\n",
        "# df1985.to_csv(\"1985data.csv\")"
      ]
    },
    {
      "cell_type": "markdown",
      "metadata": {
        "id": "TJKZFr4rV8ha"
      },
      "source": [
        "Run this cell without editing it to show us what your signal_df looks like:"
      ]
    },
    {
      "cell_type": "code",
      "execution_count": 109,
      "metadata": {
        "colab": {
          "base_uri": "https://localhost:8080/",
          "height": 423
        },
        "id": "wlFy9pWHV8ha",
        "outputId": "e4480a66-9356-4997-a5a0-5052cca747fc"
      },
      "outputs": [
        {
          "data": {
            "text/html": [
              "<div>\n",
              "<style scoped>\n",
              "    .dataframe tbody tr th:only-of-type {\n",
              "        vertical-align: middle;\n",
              "    }\n",
              "\n",
              "    .dataframe tbody tr th {\n",
              "        vertical-align: top;\n",
              "    }\n",
              "\n",
              "    .dataframe thead th {\n",
              "        text-align: right;\n",
              "    }\n",
              "</style>\n",
              "<table border=\"1\" class=\"dataframe\">\n",
              "  <thead>\n",
              "    <tr style=\"text-align: right;\">\n",
              "      <th></th>\n",
              "      <th>PERMNO</th>\n",
              "      <th>date</th>\n",
              "      <th>TICKER</th>\n",
              "      <th>COMNAM</th>\n",
              "      <th>PRC</th>\n",
              "      <th>VOL</th>\n",
              "      <th>RET</th>\n",
              "      <th>SHROUT</th>\n",
              "    </tr>\n",
              "  </thead>\n",
              "  <tbody>\n",
              "    <tr>\n",
              "      <th>1079</th>\n",
              "      <td>10006</td>\n",
              "      <td>1984-04-30</td>\n",
              "      <td>ACF</td>\n",
              "      <td>A C F INDUSTRIES INC</td>\n",
              "      <td>52.6250</td>\n",
              "      <td>19428.0</td>\n",
              "      <td>0.031863</td>\n",
              "      <td>8385.0</td>\n",
              "    </tr>\n",
              "    <tr>\n",
              "      <th>1936</th>\n",
              "      <td>10015</td>\n",
              "      <td>1984-04-30</td>\n",
              "      <td>AMFD</td>\n",
              "      <td>A &amp; M FOOD SERVICES INC</td>\n",
              "      <td>-7.2500</td>\n",
              "      <td>1362.0</td>\n",
              "      <td>0.104762</td>\n",
              "      <td>3568.0</td>\n",
              "    </tr>\n",
              "    <tr>\n",
              "      <th>4175</th>\n",
              "      <td>10031</td>\n",
              "      <td>1984-04-30</td>\n",
              "      <td>ANTQ</td>\n",
              "      <td>A A IMPORTING INC</td>\n",
              "      <td>-4.3125</td>\n",
              "      <td>203.0</td>\n",
              "      <td>-0.178571</td>\n",
              "      <td>2683.0</td>\n",
              "    </tr>\n",
              "    <tr>\n",
              "      <th>8015</th>\n",
              "      <td>10057</td>\n",
              "      <td>1984-04-30</td>\n",
              "      <td>AMT</td>\n",
              "      <td>ACME CLEVELAND CORP</td>\n",
              "      <td>21.0000</td>\n",
              "      <td>2576.0</td>\n",
              "      <td>0.004762</td>\n",
              "      <td>6106.0</td>\n",
              "    </tr>\n",
              "    <tr>\n",
              "      <th>8300</th>\n",
              "      <td>10058</td>\n",
              "      <td>1984-04-30</td>\n",
              "      <td>ABKC</td>\n",
              "      <td>A B K C O INDUSTRIES INC</td>\n",
              "      <td>-0.6875</td>\n",
              "      <td>6.0</td>\n",
              "      <td>-0.083333</td>\n",
              "      <td>1089.0</td>\n",
              "    </tr>\n",
              "    <tr>\n",
              "      <th>...</th>\n",
              "      <td>...</td>\n",
              "      <td>...</td>\n",
              "      <td>...</td>\n",
              "      <td>...</td>\n",
              "      <td>...</td>\n",
              "      <td>...</td>\n",
              "      <td>...</td>\n",
              "      <td>...</td>\n",
              "    </tr>\n",
              "    <tr>\n",
              "      <th>4018028</th>\n",
              "      <td>90705</td>\n",
              "      <td>1984-04-30</td>\n",
              "      <td>OPTC</td>\n",
              "      <td>OPTELECOM INC</td>\n",
              "      <td>-4.6875</td>\n",
              "      <td>1318.0</td>\n",
              "      <td>-0.157303</td>\n",
              "      <td>3025.0</td>\n",
              "    </tr>\n",
              "    <tr>\n",
              "      <th>4051671</th>\n",
              "      <td>90975</td>\n",
              "      <td>1984-04-30</td>\n",
              "      <td>PEOP</td>\n",
              "      <td>PEOPLES BAN CORP</td>\n",
              "      <td>-25.2500</td>\n",
              "      <td>834.0</td>\n",
              "      <td>0.052083</td>\n",
              "      <td>3782.0</td>\n",
              "    </tr>\n",
              "    <tr>\n",
              "      <th>4206531</th>\n",
              "      <td>92321</td>\n",
              "      <td>1984-04-30</td>\n",
              "      <td>NaN</td>\n",
              "      <td>TAURUS OIL CORP</td>\n",
              "      <td>NaN</td>\n",
              "      <td>NaN</td>\n",
              "      <td>NaN</td>\n",
              "      <td>15639.0</td>\n",
              "    </tr>\n",
              "    <tr>\n",
              "      <th>4274787</th>\n",
              "      <td>92946</td>\n",
              "      <td>1984-04-30</td>\n",
              "      <td>VYQT</td>\n",
              "      <td>VYQUEST INC</td>\n",
              "      <td>-5.3125</td>\n",
              "      <td>360.0</td>\n",
              "      <td>-0.086022</td>\n",
              "      <td>3837.0</td>\n",
              "    </tr>\n",
              "    <tr>\n",
              "      <th>4298584</th>\n",
              "      <td>93172</td>\n",
              "      <td>1984-04-30</td>\n",
              "      <td>WINNS</td>\n",
              "      <td>WINN ENTERPRISES</td>\n",
              "      <td>4.6250</td>\n",
              "      <td>1196.0</td>\n",
              "      <td>-0.051282</td>\n",
              "      <td>6140.0</td>\n",
              "    </tr>\n",
              "  </tbody>\n",
              "</table>\n",
              "<p>6514 rows × 8 columns</p>\n",
              "</div>"
            ],
            "text/plain": [
              "        PERMNO        date TICKER                    COMNAM      PRC      VOL  \\\n",
              "1079     10006  1984-04-30    ACF      A C F INDUSTRIES INC  52.6250  19428.0   \n",
              "1936     10015  1984-04-30   AMFD   A & M FOOD SERVICES INC  -7.2500   1362.0   \n",
              "4175     10031  1984-04-30   ANTQ         A A IMPORTING INC  -4.3125    203.0   \n",
              "8015     10057  1984-04-30    AMT       ACME CLEVELAND CORP  21.0000   2576.0   \n",
              "8300     10058  1984-04-30   ABKC  A B K C O INDUSTRIES INC  -0.6875      6.0   \n",
              "...        ...         ...    ...                       ...      ...      ...   \n",
              "4018028  90705  1984-04-30   OPTC             OPTELECOM INC  -4.6875   1318.0   \n",
              "4051671  90975  1984-04-30   PEOP          PEOPLES BAN CORP -25.2500    834.0   \n",
              "4206531  92321  1984-04-30    NaN           TAURUS OIL CORP      NaN      NaN   \n",
              "4274787  92946  1984-04-30   VYQT               VYQUEST INC  -5.3125    360.0   \n",
              "4298584  93172  1984-04-30  WINNS          WINN ENTERPRISES   4.6250   1196.0   \n",
              "\n",
              "              RET   SHROUT  \n",
              "1079     0.031863   8385.0  \n",
              "1936     0.104762   3568.0  \n",
              "4175    -0.178571   2683.0  \n",
              "8015     0.004762   6106.0  \n",
              "8300    -0.083333   1089.0  \n",
              "...           ...      ...  \n",
              "4018028 -0.157303   3025.0  \n",
              "4051671  0.052083   3782.0  \n",
              "4206531       NaN  15639.0  \n",
              "4274787 -0.086022   3837.0  \n",
              "4298584 -0.051282   6140.0  \n",
              "\n",
              "[6514 rows x 8 columns]"
            ]
          },
          "execution_count": 109,
          "metadata": {},
          "output_type": "execute_result"
        }
      ],
      "source": [
        "# print(signal_df.sort_values(by='date'))\n",
        "temp_df = df[df['date'] == '1984-04-30']\n",
        "temp_df"
      ]
    },
    {
      "cell_type": "markdown",
      "metadata": {
        "id": "_RFU4KXgV8hb"
      },
      "source": [
        "Copy and modify the BMDataProcessor to create a IRDataProcessor class. It should load the same `price_df` as before (from the monthly_returns.csv file) but a new `signal_df` with revt, cogs, and lag_at columns (in addition to the date and security_id columns). The lag_at column should contain the prior year's at value, which you can get using the included  `safe_lead_lag` method\n",
        "\n",
        "Let's be very conservative and say we can't rely on having accounting data until 120 days after the end of the fiscal year ('datadate' column). Assume we are willing to use accounting data up to two years old."
      ]
    },
    {
      "cell_type": "markdown",
      "metadata": {
        "id": "MhmGW9wKV8hb"
      },
      "source": [
        "***HINT***: be sure to change the `data_folder_path`, `min_accounting_lag`, `max_accounting_lag`, and the constructor `__init__(self)` to reflect the new strategy. The `unique_dates()` and `signal_df_for_date` functions only need to be updated to use datatdate instead of rdq (since we don't have an rdq column in this annual data). These functions will otherwise work as-is, and the other functions don't need to be changed at all."
      ]
    },
    {
      "cell_type": "code",
      "execution_count": 110,
      "metadata": {
        "id": "KVCp-g0aV8hb"
      },
      "outputs": [],
      "source": [
        "# Solution\n",
        "class IRDataProcessor():\n",
        "    \n",
        "    # Path to where we store the data\n",
        "    data_folder_path = Path('') \n",
        "    # Minimum share price to open a new position\n",
        "    min_share_price = 3.0\n",
        "    \n",
        "    # Constructor, loads/cleans/merges data as needed\n",
        "    def __init__(self):\n",
        "        \n",
        "        # Load price data: monthly 1961-2020 sample from CRSP including all public US equities\n",
        "        # In monthly_returns.csv\n",
        "#         self.price_df = pd.read_csv(self.data_folder_path / 'monthly_returns.csv')\n",
        "        \n",
        "        # Parse the yyyyMMdd int dates into DateTime64\n",
        "        # Based on formatting strings here\n",
        "        # https://docs.python.org/3/library/datetime.html#strftime-and-strptime-behavior\n",
        "#         self.price_df.loc[:,'date'] = pd.to_datetime(self.price_df.loc[:,'date'], format =\"%Y%m%d\")\n",
        "        \n",
        "        # Prices sometimes negative to indicate no volume at closing auction\n",
        "        # In these cases, price = -0.5*(bid+ask)\n",
        "        # But we don't use that information and so want prices to always be positive\n",
        "        # See http://www.crsp.org/products/documentation/data-definitions-p\n",
        "#         self.price_df.loc[:,'prccm'] = np.absolute(self.price_df.loc[:,'prccm'])\n",
        "        \n",
        "        # Add next-months return as a new column 'ret_next'\n",
        "        # Use the safe_lead_lag: want lead return but only when permno the same\n",
        "        # self.price_df.loc[:,'ret_next'] = safe_lead_lag(self.price_df.loc[:,'ret'],self.price_df.loc[:,'permno'],1)\n",
        "        \n",
        "#         self.price_df = self.price_df.dropna()\n",
        "#         self.price_df['market_cap'] = self.price_df['prccm'] * self.price_df['cshom']\n",
        "\n",
        "        # Load accounting data used for BM signal\n",
        "        # Quarterly sample from 1961-2020 from Compustat Fundamentals Quarterly\n",
        "        # Stored in the `comp_bm.dta` file\n",
        "        # `.dta` files are Stata data, and do a better job than `.csv` files of remembering data types\n",
        "        self.signal_df = pd.read_csv(\"crsp_finalproject.csv\", dtype={'PERMNO': 'str', 'date': 'str', 'TICKER': 'str', 'COMNAM': 'str', 'PRC': 'float', 'VOL': 'float', 'RET': 'str', 'SHROUT': 'float'})\n",
        "        self.signal_df = self.signal_df[self.signal_df['date'] >= '1983-06-28']\n",
        "        self.signal_df['RET'] = pd.to_numeric(self.signal_df['RET'], errors='coerce')\n",
        "        self.signal_df['RET'] = self.signal_df['RET'].astype(float)        \n",
        "#         self.signal_df.loc[:, 'lag_at'] = safe_lead_lag(self.signal_df.loc[:, 'at'], self.signal_df.loc[:,'gvkey'], -1)\n",
        "#         self.signal_df.drop('at', axis=1, inplace=True)\n",
        "\n",
        "        self.signal_df['date'] = pd.to_datetime(self.signal_df['date'])\n",
        "        self.signal_df['month'] = pd.DatetimeIndex(self.signal_df['date']).month\n",
        "        self.signal_df['day'] = pd.DatetimeIndex(self.signal_df['date']).day\n",
        "        self.signal_df['year'] = pd.DatetimeIndex(self.signal_df['date']).year\n",
        "        self.signal_df.loc[self.signal_df['month'] == 4, \"day\"] = 30\n",
        "        self.signal_df.loc[self.signal_df['month'] == 6, \"day\"] = 30\n",
        "        import calendar\n",
        "        self.signal_df['date'] = self.signal_df['date'].apply(lambda dt: dt.replace(day=min(calendar.monthrange(dt.year, dt.month)[1],30)))\n",
        "        self.signal_df['PRC'] = self.signal_df['PRC'].abs()\n",
        "        # self.signal_df['date'] = pd.to_datetime(dict(year=self.signal_df.year, month=self.signal_df.month, day=self.signal_df.day))\n",
        "        self.signal_df['market_cap'] = self.signal_df['PRC'] * self.signal_df['SHROUT']\n",
        "        # self.signal_df['ret_next'] = safe_lead_lag(self.signal_df.loc[:,'RET'],self.signal_df.loc[:,'PERMNO'],12)\n",
        "        self.signal_df = self.signal_df.dropna()\n",
        "        \n",
        "        #TODO explain why these dates were selected based on Russell 2000 schedule\n",
        "        prediction_date = '04/30'\n",
        "        last_rebalance = '06/30'\n",
        "        self.signal_df = self.liquidity_filter(self.signal_df)\n",
        "        self.prediction_date = dt.datetime.strptime(prediction_date, '%m/%d')\n",
        "        self.last_rebalance = dt.datetime.strptime(last_rebalance, '%m/%d')\n",
        "\n",
        "        # The problem with our accounting data is that it identifies stocks using gvkey instead of permno\n",
        "        # To merge with return_df, we need to use another dataset that converts gvkey to permno\n",
        "        # This is stored in the gvkey_permno_conversion.dta file\n",
        "#         self.gvkey_permno_conversion = pd.read_stata(self.data_folder_path / 'gvkey_permno_conversion.dta')\n",
        "\n",
        "        # Use a merge command to add the permno column to our signal_df\n",
        "#         self.signal_df = self.signal_df.merge(self.gvkey_permno_conversion,on=['gvkey','datadate'])           \n",
        "        \n",
        "    # Returns an array with the unique dates for which we have loaded data\n",
        "    # Uses from the price_df since that's how frequency we can update portfolio value\n",
        "    # Filters all dates in price_df to return only dates for which we have signals as well\n",
        "    def unique_dates(self):\n",
        "        temp_df = self.signal_df\n",
        "        # temp_df['date'] = temp_df['date'].apply(lambda dt: dt.replace(day=30) if ((dt.month == 4) | (dt.month == 6)) else dt)\n",
        "        price_dates = pd.Series( np.sort(self.signal_df.loc[:,'date'].unique()) )\n",
        "        return price_dates    \n",
        "    # Returns a DataFrame containing one row for all securities in price_df as of date.\n",
        "    # Columns must include:\n",
        "    # - 'date': date on which price data observed\n",
        "    # - 'security_id': a security identifier\n",
        "    # - 'prc': price on date\n",
        "    # - 'ret': return from previous date to date\n",
        "    # Ignores liquidity and future-return availability requirements\n",
        "    # To be used only for closing decisions and execution decisions\n",
        "    # Some of the returned stocks cannot be traded\n",
        "    def price_df_for_date(self,date):\n",
        "        price_date_df = self.signal_df.loc[ self.signal_df.loc[:,'date'] == date, :]\n",
        "        return price_date_df.rename(columns={'PERMNO':'security_id'}) \n",
        "    \n",
        "    # Returns a DataFrame where each row is a security in the strategy's universe,\n",
        "    # Columes must include:\n",
        "    # - 'date': date on which price data observed\n",
        "    # - 'security_id': a security identifier\n",
        "    # - whatever signals the trading rule needs to decide which securities to open new positions in\n",
        "    #   - In this case, return cshoq, prccq, and ceqq so trading rule can compute B/M ratio\n",
        "    #\n",
        "    # Also responsible for applying whatever liquidity filters are wanted to narrow universe,\n",
        "    # and check that we have future return data (no point in backtesting if we don't know what happens next)\n",
        "    def signal_df_for_date(self,date):\n",
        "        temp_df1 = self.signal_df\n",
        "        # temp_df1 = self.date_filter(temp_df1, self.prediction_date.month, self.last_rebalance.month)\n",
        "        # temp_df1['date'] = temp_df1['date'].apply(lambda dt: dt.replace(day=30))\n",
        "        # temp_df1.to_csv(\"temp_df1_1985.csv\")\n",
        "        date_price_df = temp_df1.loc[ temp_df1.loc[:,'date'] == date,:]\n",
        "        date_price_df.rename(columns={'PERMNO':'security_id', 'PRC': 'prc', 'RET': 'ret'}, inplace=True)  # use permno as our security_id        \n",
        "        # and return without the ret_next column so backtests don't cheat by using it\n",
        "        return date_price_df\n",
        "    \n",
        "    def filter_and_rank(self,df):\n",
        "        #TODO commenting out for now because I think CRSP may only be US data and we could justify that but not sure\n",
        "        # filtered_df = self.country_filter(self.signal_df)\n",
        "        filtered_df = self.date_filter(df, self.prediction_date.month,self.last_rebalance.month)\n",
        "        # filtered_df = filtered_df.loc[ np.isfinite(filtered_df.loc[:,'ret_next']),:]\n",
        "        # filtered_df = filtered_df.drop(columns=['ret_next'])\n",
        "  \n",
        "        # TODO: May need to change this since dropping NaN gets rid of too many rows\n",
        "        filtered_df = filtered_df[filtered_df['market_cap'].notna()]\n",
        "        filtered_df.rename(columns={'PERMNO':'security_id', 'PRC': 'prc', 'RET': 'ret'}, inplace=True)  # use permno as our security_id        \n",
        "        filtered_df = self.rank_by_market_cap(filtered_df)\n",
        "        # ranking process\n",
        "        return filtered_df\n",
        "    \n",
        "\n",
        "    # Returns a filterd version of the passed DataFrame,\n",
        "    # with all observations deemefd too illiquid removed\n",
        "    # Liquidity requirements:\n",
        "    #  - price >= $3\n",
        "    def liquidity_filter(self,df):\n",
        "        return df.loc[ df.loc[:,'PRC'] >= self.min_share_price,:]\n",
        "\n",
        "    \n",
        "\n",
        "    def country_filter(self, df):\n",
        "        return df.loc[df.loc[:, 'fic'] == 'USA',:]\n",
        "\n",
        "    \n",
        "\n",
        "    def date_filter(self, df, prediction_month, rebalance_month): \n",
        "        condition1 = ((df['month'] == prediction_month))\n",
        "        condition2 = ((df['month'] == rebalance_month))\n",
        "        return df.loc[(condition1 | condition2),:]\n",
        "    \n",
        "    \n",
        "    def rank_by_market_cap(self, df):\n",
        "        df['rank'] = df.groupby(['date'])['market_cap'].rank(ascending=False, method='first')\n",
        "        return df \n",
        "\n",
        "        \n",
        "        \n",
        "###################################################################\n",
        "# Helper methods, do not modify\n",
        "###################################################################\n",
        "\n",
        "# Function safe_lead_lag returns a new Series with the lead/lagged values\n",
        "#  but only when a group is the same for the lead/lag\n",
        "# Inputs:\n",
        "# - data_series: data we want to lead/lag\n",
        "# - group_series: grouping we want to be the same for the lead/lag to be value\n",
        "# requires data_series and group_series already by sorted by group_series\n",
        "# so that all alike values of group_series are adjacent,\n",
        "# meaning group_series should look like:\n",
        "#    g_0\n",
        "#    g_0\n",
        "#    g_0\n",
        "#    g_0\n",
        "#    g_1\n",
        "#    g_1\n",
        "#    g_2\n",
        "#    g_2 \n",
        "#    ...\n",
        "# where g_i indicates the observation is in group i,\n",
        "# and once the first g_{i+1} appears no more g_i values appear\n",
        "# \n",
        "# lead_lag > 0 returns a data_series with values of data_series lead_lag rows ahead\n",
        "# as long as group_series remains the same, NaN if group different\n",
        "# lead_lag < 0 returns a data_series with values of data_series -lead_lag rows behind \n",
        "# (same as lead_lag rows ahead) as long as group_series remains the same, NaN if group different\n",
        "def safe_lead_lag(data_series,group_series,lead_lag): \n",
        "    df = pd.DataFrame({ 'data': data_series, 'group': group_series })\n",
        "    return df.groupby(['group'])['data'].shift(-lead_lag)"
      ]
    },
    {
      "cell_type": "code",
      "execution_count": 111,
      "metadata": {
        "colab": {
          "base_uri": "https://localhost:8080/",
          "height": 641
        },
        "id": "nwWMBioJH8wV",
        "outputId": "c32ec176-abac-47a5-c0a7-0cff10109726"
      },
      "outputs": [
        {
          "ename": "KeyboardInterrupt",
          "evalue": "",
          "output_type": "error",
          "traceback": [
            "\u001b[1;31m---------------------------------------------------------------------------\u001b[0m",
            "\u001b[1;31mKeyboardInterrupt\u001b[0m                         Traceback (most recent call last)",
            "\u001b[1;32m<ipython-input-111-92394c832226>\u001b[0m in \u001b[0;36m<module>\u001b[1;34m\u001b[0m\n\u001b[1;32m----> 1\u001b[1;33m \u001b[0mtemp_processor\u001b[0m \u001b[1;33m=\u001b[0m \u001b[0mIRDataProcessor\u001b[0m\u001b[1;33m(\u001b[0m\u001b[1;33m)\u001b[0m\u001b[1;33m\u001b[0m\u001b[1;33m\u001b[0m\u001b[0m\n\u001b[0m\u001b[0;32m      2\u001b[0m \u001b[0mtemp_df\u001b[0m \u001b[1;33m=\u001b[0m \u001b[0mtemp_processor\u001b[0m\u001b[1;33m.\u001b[0m\u001b[0msignal_df\u001b[0m\u001b[1;33m\u001b[0m\u001b[1;33m\u001b[0m\u001b[0m\n\u001b[0;32m      3\u001b[0m \u001b[0mtemp_df\u001b[0m \u001b[1;33m=\u001b[0m \u001b[0mtemp_processor\u001b[0m\u001b[1;33m.\u001b[0m\u001b[0mfilter_and_rank\u001b[0m\u001b[1;33m(\u001b[0m\u001b[0mtemp_df\u001b[0m\u001b[1;33m)\u001b[0m\u001b[1;33m\u001b[0m\u001b[1;33m\u001b[0m\u001b[0m\n\u001b[0;32m      4\u001b[0m \u001b[0mtemp_df\u001b[0m\u001b[1;33m\u001b[0m\u001b[1;33m\u001b[0m\u001b[0m\n\u001b[0;32m      5\u001b[0m \u001b[1;33m\u001b[0m\u001b[0m\n",
            "\u001b[1;32m<ipython-input-110-96ccfeb5d174>\u001b[0m in \u001b[0;36m__init__\u001b[1;34m(self)\u001b[0m\n\u001b[0;32m     50\u001b[0m         \u001b[0mself\u001b[0m\u001b[1;33m.\u001b[0m\u001b[0msignal_df\u001b[0m\u001b[1;33m.\u001b[0m\u001b[0mloc\u001b[0m\u001b[1;33m[\u001b[0m\u001b[0mself\u001b[0m\u001b[1;33m.\u001b[0m\u001b[0msignal_df\u001b[0m\u001b[1;33m[\u001b[0m\u001b[1;34m'month'\u001b[0m\u001b[1;33m]\u001b[0m \u001b[1;33m==\u001b[0m \u001b[1;36m6\u001b[0m\u001b[1;33m,\u001b[0m \u001b[1;34m\"day\"\u001b[0m\u001b[1;33m]\u001b[0m \u001b[1;33m=\u001b[0m \u001b[1;36m30\u001b[0m\u001b[1;33m\u001b[0m\u001b[1;33m\u001b[0m\u001b[0m\n\u001b[0;32m     51\u001b[0m         \u001b[1;32mimport\u001b[0m \u001b[0mcalendar\u001b[0m\u001b[1;33m\u001b[0m\u001b[1;33m\u001b[0m\u001b[0m\n\u001b[1;32m---> 52\u001b[1;33m         \u001b[0mself\u001b[0m\u001b[1;33m.\u001b[0m\u001b[0msignal_df\u001b[0m\u001b[1;33m[\u001b[0m\u001b[1;34m'date'\u001b[0m\u001b[1;33m]\u001b[0m \u001b[1;33m=\u001b[0m \u001b[0mself\u001b[0m\u001b[1;33m.\u001b[0m\u001b[0msignal_df\u001b[0m\u001b[1;33m[\u001b[0m\u001b[1;34m'date'\u001b[0m\u001b[1;33m]\u001b[0m\u001b[1;33m.\u001b[0m\u001b[0mapply\u001b[0m\u001b[1;33m(\u001b[0m\u001b[1;32mlambda\u001b[0m \u001b[0mdt\u001b[0m\u001b[1;33m:\u001b[0m \u001b[0mdt\u001b[0m\u001b[1;33m.\u001b[0m\u001b[0mreplace\u001b[0m\u001b[1;33m(\u001b[0m\u001b[0mday\u001b[0m\u001b[1;33m=\u001b[0m\u001b[0mmin\u001b[0m\u001b[1;33m(\u001b[0m\u001b[0mcalendar\u001b[0m\u001b[1;33m.\u001b[0m\u001b[0mmonthrange\u001b[0m\u001b[1;33m(\u001b[0m\u001b[0mdt\u001b[0m\u001b[1;33m.\u001b[0m\u001b[0myear\u001b[0m\u001b[1;33m,\u001b[0m \u001b[0mdt\u001b[0m\u001b[1;33m.\u001b[0m\u001b[0mmonth\u001b[0m\u001b[1;33m)\u001b[0m\u001b[1;33m[\u001b[0m\u001b[1;36m1\u001b[0m\u001b[1;33m]\u001b[0m\u001b[1;33m,\u001b[0m\u001b[1;36m30\u001b[0m\u001b[1;33m)\u001b[0m\u001b[1;33m)\u001b[0m\u001b[1;33m)\u001b[0m\u001b[1;33m\u001b[0m\u001b[1;33m\u001b[0m\u001b[0m\n\u001b[0m\u001b[0;32m     53\u001b[0m         \u001b[0mself\u001b[0m\u001b[1;33m.\u001b[0m\u001b[0msignal_df\u001b[0m\u001b[1;33m[\u001b[0m\u001b[1;34m'PRC'\u001b[0m\u001b[1;33m]\u001b[0m \u001b[1;33m=\u001b[0m \u001b[0mself\u001b[0m\u001b[1;33m.\u001b[0m\u001b[0msignal_df\u001b[0m\u001b[1;33m[\u001b[0m\u001b[1;34m'PRC'\u001b[0m\u001b[1;33m]\u001b[0m\u001b[1;33m.\u001b[0m\u001b[0mabs\u001b[0m\u001b[1;33m(\u001b[0m\u001b[1;33m)\u001b[0m\u001b[1;33m\u001b[0m\u001b[1;33m\u001b[0m\u001b[0m\n\u001b[0;32m     54\u001b[0m         \u001b[1;31m# self.signal_df['date'] = pd.to_datetime(dict(year=self.signal_df.year, month=self.signal_df.month, day=self.signal_df.day))\u001b[0m\u001b[1;33m\u001b[0m\u001b[1;33m\u001b[0m\u001b[1;33m\u001b[0m\u001b[0m\n",
            "\u001b[1;32mc:\\Users\\trent\\anaconda3\\lib\\site-packages\\pandas\\core\\series.py\u001b[0m in \u001b[0;36mapply\u001b[1;34m(self, func, convert_dtype, args, **kwds)\u001b[0m\n\u001b[0;32m   4198\u001b[0m             \u001b[1;32melse\u001b[0m\u001b[1;33m:\u001b[0m\u001b[1;33m\u001b[0m\u001b[1;33m\u001b[0m\u001b[0m\n\u001b[0;32m   4199\u001b[0m                 \u001b[0mvalues\u001b[0m \u001b[1;33m=\u001b[0m \u001b[0mself\u001b[0m\u001b[1;33m.\u001b[0m\u001b[0mastype\u001b[0m\u001b[1;33m(\u001b[0m\u001b[0mobject\u001b[0m\u001b[1;33m)\u001b[0m\u001b[1;33m.\u001b[0m\u001b[0m_values\u001b[0m\u001b[1;33m\u001b[0m\u001b[1;33m\u001b[0m\u001b[0m\n\u001b[1;32m-> 4200\u001b[1;33m                 \u001b[0mmapped\u001b[0m \u001b[1;33m=\u001b[0m \u001b[0mlib\u001b[0m\u001b[1;33m.\u001b[0m\u001b[0mmap_infer\u001b[0m\u001b[1;33m(\u001b[0m\u001b[0mvalues\u001b[0m\u001b[1;33m,\u001b[0m \u001b[0mf\u001b[0m\u001b[1;33m,\u001b[0m \u001b[0mconvert\u001b[0m\u001b[1;33m=\u001b[0m\u001b[0mconvert_dtype\u001b[0m\u001b[1;33m)\u001b[0m\u001b[1;33m\u001b[0m\u001b[1;33m\u001b[0m\u001b[0m\n\u001b[0m\u001b[0;32m   4201\u001b[0m \u001b[1;33m\u001b[0m\u001b[0m\n\u001b[0;32m   4202\u001b[0m         \u001b[1;32mif\u001b[0m \u001b[0mlen\u001b[0m\u001b[1;33m(\u001b[0m\u001b[0mmapped\u001b[0m\u001b[1;33m)\u001b[0m \u001b[1;32mand\u001b[0m \u001b[0misinstance\u001b[0m\u001b[1;33m(\u001b[0m\u001b[0mmapped\u001b[0m\u001b[1;33m[\u001b[0m\u001b[1;36m0\u001b[0m\u001b[1;33m]\u001b[0m\u001b[1;33m,\u001b[0m \u001b[0mSeries\u001b[0m\u001b[1;33m)\u001b[0m\u001b[1;33m:\u001b[0m\u001b[1;33m\u001b[0m\u001b[1;33m\u001b[0m\u001b[0m\n",
            "\u001b[1;32mpandas\\_libs\\lib.pyx\u001b[0m in \u001b[0;36mpandas._libs.lib.map_infer\u001b[1;34m()\u001b[0m\n",
            "\u001b[1;32m<ipython-input-110-96ccfeb5d174>\u001b[0m in \u001b[0;36m<lambda>\u001b[1;34m(dt)\u001b[0m\n\u001b[0;32m     50\u001b[0m         \u001b[0mself\u001b[0m\u001b[1;33m.\u001b[0m\u001b[0msignal_df\u001b[0m\u001b[1;33m.\u001b[0m\u001b[0mloc\u001b[0m\u001b[1;33m[\u001b[0m\u001b[0mself\u001b[0m\u001b[1;33m.\u001b[0m\u001b[0msignal_df\u001b[0m\u001b[1;33m[\u001b[0m\u001b[1;34m'month'\u001b[0m\u001b[1;33m]\u001b[0m \u001b[1;33m==\u001b[0m \u001b[1;36m6\u001b[0m\u001b[1;33m,\u001b[0m \u001b[1;34m\"day\"\u001b[0m\u001b[1;33m]\u001b[0m \u001b[1;33m=\u001b[0m \u001b[1;36m30\u001b[0m\u001b[1;33m\u001b[0m\u001b[1;33m\u001b[0m\u001b[0m\n\u001b[0;32m     51\u001b[0m         \u001b[1;32mimport\u001b[0m \u001b[0mcalendar\u001b[0m\u001b[1;33m\u001b[0m\u001b[1;33m\u001b[0m\u001b[0m\n\u001b[1;32m---> 52\u001b[1;33m         \u001b[0mself\u001b[0m\u001b[1;33m.\u001b[0m\u001b[0msignal_df\u001b[0m\u001b[1;33m[\u001b[0m\u001b[1;34m'date'\u001b[0m\u001b[1;33m]\u001b[0m \u001b[1;33m=\u001b[0m \u001b[0mself\u001b[0m\u001b[1;33m.\u001b[0m\u001b[0msignal_df\u001b[0m\u001b[1;33m[\u001b[0m\u001b[1;34m'date'\u001b[0m\u001b[1;33m]\u001b[0m\u001b[1;33m.\u001b[0m\u001b[0mapply\u001b[0m\u001b[1;33m(\u001b[0m\u001b[1;32mlambda\u001b[0m \u001b[0mdt\u001b[0m\u001b[1;33m:\u001b[0m \u001b[0mdt\u001b[0m\u001b[1;33m.\u001b[0m\u001b[0mreplace\u001b[0m\u001b[1;33m(\u001b[0m\u001b[0mday\u001b[0m\u001b[1;33m=\u001b[0m\u001b[0mmin\u001b[0m\u001b[1;33m(\u001b[0m\u001b[0mcalendar\u001b[0m\u001b[1;33m.\u001b[0m\u001b[0mmonthrange\u001b[0m\u001b[1;33m(\u001b[0m\u001b[0mdt\u001b[0m\u001b[1;33m.\u001b[0m\u001b[0myear\u001b[0m\u001b[1;33m,\u001b[0m \u001b[0mdt\u001b[0m\u001b[1;33m.\u001b[0m\u001b[0mmonth\u001b[0m\u001b[1;33m)\u001b[0m\u001b[1;33m[\u001b[0m\u001b[1;36m1\u001b[0m\u001b[1;33m]\u001b[0m\u001b[1;33m,\u001b[0m\u001b[1;36m30\u001b[0m\u001b[1;33m)\u001b[0m\u001b[1;33m)\u001b[0m\u001b[1;33m)\u001b[0m\u001b[1;33m\u001b[0m\u001b[1;33m\u001b[0m\u001b[0m\n\u001b[0m\u001b[0;32m     53\u001b[0m         \u001b[0mself\u001b[0m\u001b[1;33m.\u001b[0m\u001b[0msignal_df\u001b[0m\u001b[1;33m[\u001b[0m\u001b[1;34m'PRC'\u001b[0m\u001b[1;33m]\u001b[0m \u001b[1;33m=\u001b[0m \u001b[0mself\u001b[0m\u001b[1;33m.\u001b[0m\u001b[0msignal_df\u001b[0m\u001b[1;33m[\u001b[0m\u001b[1;34m'PRC'\u001b[0m\u001b[1;33m]\u001b[0m\u001b[1;33m.\u001b[0m\u001b[0mabs\u001b[0m\u001b[1;33m(\u001b[0m\u001b[1;33m)\u001b[0m\u001b[1;33m\u001b[0m\u001b[1;33m\u001b[0m\u001b[0m\n\u001b[0;32m     54\u001b[0m         \u001b[1;31m# self.signal_df['date'] = pd.to_datetime(dict(year=self.signal_df.year, month=self.signal_df.month, day=self.signal_df.day))\u001b[0m\u001b[1;33m\u001b[0m\u001b[1;33m\u001b[0m\u001b[1;33m\u001b[0m\u001b[0m\n",
            "\u001b[1;31mKeyboardInterrupt\u001b[0m: "
          ]
        }
      ],
      "source": [
        "temp_processor = IRDataProcessor()\n",
        "temp_df = temp_processor.signal_df\n",
        "temp_df = temp_processor.filter_and_rank(temp_df)\n",
        "temp_df\n",
        "\n",
        "## VERIFIED FINE BY THIS POINT"
      ]
    },
    {
      "cell_type": "markdown",
      "metadata": {
        "id": "gbotCdXUV8hd"
      },
      "source": [
        "### After running your code above, you should be able to run these tests sucessfully. Please run each cell without editing."
      ]
    },
    {
      "cell_type": "markdown",
      "metadata": {
        "id": "HulbXIH_V8hd"
      },
      "source": [
        "#### Constructor tests: should print price_df and signal_df."
      ]
    },
    {
      "cell_type": "code",
      "execution_count": null,
      "metadata": {
        "colab": {
          "base_uri": "https://localhost:8080/"
        },
        "id": "JkRdf3Q2KyJN",
        "outputId": "9b75aa2b-59c1-470c-b118-e21dace337b7"
      },
      "outputs": [
        {
          "name": "stdout",
          "output_type": "stream",
          "text": [
            "\n",
            "\n",
            "         PERMNO       date TICKER                     COMNAM        PRC  \\\n",
            "2        10000 1986-02-28  OMFGA  OPTIMUM MANUFACTURING INC    3.25000   \n",
            "3        10000 1986-03-30  OMFGA  OPTIMUM MANUFACTURING INC    4.43750   \n",
            "4        10000 1986-04-30  OMFGA  OPTIMUM MANUFACTURING INC    4.00000   \n",
            "5        10000 1986-05-30  OMFGA  OPTIMUM MANUFACTURING INC    3.10938   \n",
            "6        10000 1986-06-30  OMFGA  OPTIMUM MANUFACTURING INC    3.09375   \n",
            "...        ...        ...    ...                        ...        ...   \n",
            "4325383  93436 2022-08-30   TSLA                  TESLA INC  275.60999   \n",
            "4325384  93436 2022-09-30   TSLA                  TESLA INC  265.25000   \n",
            "4325385  93436 2022-10-30   TSLA                  TESLA INC  227.53999   \n",
            "4325386  93436 2022-11-30   TSLA                  TESLA INC  194.70000   \n",
            "4325387  93436 2022-12-30   TSLA                  TESLA INC  123.18000   \n",
            "\n",
            "                VOL       RET     SHROUT  month  day  year    market_cap  \n",
            "2             828.0 -0.257143     3680.0      2   28  1986  1.196000e+04  \n",
            "3            1078.0  0.365385     3680.0      3   31  1986  1.633000e+04  \n",
            "4             957.0 -0.098592     3793.0      4   30  1986  1.517200e+04  \n",
            "5            1074.0 -0.222656     3793.0      5   30  1986  1.179388e+04  \n",
            "6            1069.0 -0.005025     3793.0      6   30  1986  1.173459e+04  \n",
            "...             ...       ...        ...    ...  ...   ...           ...  \n",
            "4325383   7322218.0 -0.072489  3133470.0      8   31  2022  8.636156e+08  \n",
            "4325384  12965500.0 -0.037589  3158000.0      9   30  2022  8.376595e+08  \n",
            "4325385  17325849.0 -0.142168  3157752.0     10   31  2022  7.185149e+08  \n",
            "4325386  18824244.0 -0.144326  3157752.0     11   30  2022  6.148143e+08  \n",
            "4325387  29417041.0 -0.367334  3157752.0     12   30  2022  3.889719e+08  \n",
            "\n",
            "[2932236 rows x 12 columns]\n"
          ]
        }
      ],
      "source": [
        "data_processor = IRDataProcessor()\n",
        "print('\\n\\n', data_processor.signal_df)"
      ]
    },
    {
      "cell_type": "markdown",
      "metadata": {
        "id": "d0oR_CCZV8he"
      },
      "source": [
        "#### `ranking_df` test: should return DataFrame with market_cap field ranked by decreasing order on specific dates (4/30 and 6/30)"
      ]
    },
    {
      "cell_type": "code",
      "execution_count": null,
      "metadata": {
        "colab": {
          "base_uri": "https://localhost:8080/",
          "height": 641
        },
        "id": "i8VDQ1nPKyed",
        "outputId": "c29bfa88-3e08-4e57-ea5e-82d99c26bca4"
      },
      "outputs": [
        {
          "data": {
            "text/html": [
              "<div>\n",
              "<style scoped>\n",
              "    .dataframe tbody tr th:only-of-type {\n",
              "        vertical-align: middle;\n",
              "    }\n",
              "\n",
              "    .dataframe tbody tr th {\n",
              "        vertical-align: top;\n",
              "    }\n",
              "\n",
              "    .dataframe thead th {\n",
              "        text-align: right;\n",
              "    }\n",
              "</style>\n",
              "<table border=\"1\" class=\"dataframe\">\n",
              "  <thead>\n",
              "    <tr style=\"text-align: right;\">\n",
              "      <th></th>\n",
              "      <th>security_id</th>\n",
              "      <th>date</th>\n",
              "      <th>TICKER</th>\n",
              "      <th>COMNAM</th>\n",
              "      <th>prc</th>\n",
              "      <th>VOL</th>\n",
              "      <th>ret</th>\n",
              "      <th>SHROUT</th>\n",
              "      <th>month</th>\n",
              "      <th>day</th>\n",
              "      <th>year</th>\n",
              "      <th>market_cap</th>\n",
              "      <th>rank</th>\n",
              "    </tr>\n",
              "  </thead>\n",
              "  <tbody>\n",
              "    <tr>\n",
              "      <th>4</th>\n",
              "      <td>10000</td>\n",
              "      <td>1986-04-30</td>\n",
              "      <td>OMFGA</td>\n",
              "      <td>OPTIMUM MANUFACTURING INC</td>\n",
              "      <td>4.00000</td>\n",
              "      <td>957.0</td>\n",
              "      <td>-0.098592</td>\n",
              "      <td>3793.0</td>\n",
              "      <td>4</td>\n",
              "      <td>30</td>\n",
              "      <td>1986</td>\n",
              "      <td>1.517200e+04</td>\n",
              "      <td>4273.0</td>\n",
              "    </tr>\n",
              "    <tr>\n",
              "      <th>6</th>\n",
              "      <td>10000</td>\n",
              "      <td>1986-06-30</td>\n",
              "      <td>OMFGA</td>\n",
              "      <td>OPTIMUM MANUFACTURING INC</td>\n",
              "      <td>3.09375</td>\n",
              "      <td>1069.0</td>\n",
              "      <td>-0.005025</td>\n",
              "      <td>3793.0</td>\n",
              "      <td>6</td>\n",
              "      <td>30</td>\n",
              "      <td>1986</td>\n",
              "      <td>1.173459e+04</td>\n",
              "      <td>4562.0</td>\n",
              "    </tr>\n",
              "    <tr>\n",
              "      <th>23</th>\n",
              "      <td>10001</td>\n",
              "      <td>1986-04-30</td>\n",
              "      <td>GFGC</td>\n",
              "      <td>GREAT FALLS GAS CO</td>\n",
              "      <td>6.37500</td>\n",
              "      <td>225.0</td>\n",
              "      <td>0.009901</td>\n",
              "      <td>985.0</td>\n",
              "      <td>4</td>\n",
              "      <td>30</td>\n",
              "      <td>1986</td>\n",
              "      <td>6.279375e+03</td>\n",
              "      <td>4811.0</td>\n",
              "    </tr>\n",
              "    <tr>\n",
              "      <th>25</th>\n",
              "      <td>10001</td>\n",
              "      <td>1986-06-30</td>\n",
              "      <td>GFGC</td>\n",
              "      <td>GREAT FALLS GAS CO</td>\n",
              "      <td>6.12500</td>\n",
              "      <td>238.0</td>\n",
              "      <td>-0.013069</td>\n",
              "      <td>985.0</td>\n",
              "      <td>6</td>\n",
              "      <td>30</td>\n",
              "      <td>1986</td>\n",
              "      <td>6.033125e+03</td>\n",
              "      <td>4932.0</td>\n",
              "    </tr>\n",
              "    <tr>\n",
              "      <th>35</th>\n",
              "      <td>10001</td>\n",
              "      <td>1987-04-30</td>\n",
              "      <td>GFGC</td>\n",
              "      <td>GREAT FALLS GAS CO</td>\n",
              "      <td>6.12500</td>\n",
              "      <td>188.0</td>\n",
              "      <td>-0.039216</td>\n",
              "      <td>991.0</td>\n",
              "      <td>4</td>\n",
              "      <td>30</td>\n",
              "      <td>1987</td>\n",
              "      <td>6.069875e+03</td>\n",
              "      <td>5286.0</td>\n",
              "    </tr>\n",
              "    <tr>\n",
              "      <th>...</th>\n",
              "      <td>...</td>\n",
              "      <td>...</td>\n",
              "      <td>...</td>\n",
              "      <td>...</td>\n",
              "      <td>...</td>\n",
              "      <td>...</td>\n",
              "      <td>...</td>\n",
              "      <td>...</td>\n",
              "      <td>...</td>\n",
              "      <td>...</td>\n",
              "      <td>...</td>\n",
              "      <td>...</td>\n",
              "      <td>...</td>\n",
              "    </tr>\n",
              "    <tr>\n",
              "      <th>4325357</th>\n",
              "      <td>93436</td>\n",
              "      <td>2020-06-30</td>\n",
              "      <td>TSLA</td>\n",
              "      <td>TESLA INC</td>\n",
              "      <td>1079.81006</td>\n",
              "      <td>2551787.0</td>\n",
              "      <td>0.293186</td>\n",
              "      <td>186000.0</td>\n",
              "      <td>6</td>\n",
              "      <td>30</td>\n",
              "      <td>2020</td>\n",
              "      <td>2.008447e+08</td>\n",
              "      <td>26.0</td>\n",
              "    </tr>\n",
              "    <tr>\n",
              "      <th>4325367</th>\n",
              "      <td>93436</td>\n",
              "      <td>2021-04-30</td>\n",
              "      <td>TSLA</td>\n",
              "      <td>TESLA INC</td>\n",
              "      <td>709.44000</td>\n",
              "      <td>6774422.0</td>\n",
              "      <td>0.062147</td>\n",
              "      <td>963330.0</td>\n",
              "      <td>4</td>\n",
              "      <td>30</td>\n",
              "      <td>2021</td>\n",
              "      <td>6.834248e+08</td>\n",
              "      <td>7.0</td>\n",
              "    </tr>\n",
              "    <tr>\n",
              "      <th>4325369</th>\n",
              "      <td>93436</td>\n",
              "      <td>2021-06-30</td>\n",
              "      <td>TSLA</td>\n",
              "      <td>TESLA INC</td>\n",
              "      <td>679.70001</td>\n",
              "      <td>5186813.0</td>\n",
              "      <td>0.087137</td>\n",
              "      <td>984003.0</td>\n",
              "      <td>6</td>\n",
              "      <td>30</td>\n",
              "      <td>2021</td>\n",
              "      <td>6.688268e+08</td>\n",
              "      <td>7.0</td>\n",
              "    </tr>\n",
              "    <tr>\n",
              "      <th>4325379</th>\n",
              "      <td>93436</td>\n",
              "      <td>2022-04-30</td>\n",
              "      <td>TSLA</td>\n",
              "      <td>TESLA INC</td>\n",
              "      <td>870.76001</td>\n",
              "      <td>5046142.0</td>\n",
              "      <td>-0.191945</td>\n",
              "      <td>1036010.0</td>\n",
              "      <td>4</td>\n",
              "      <td>30</td>\n",
              "      <td>2022</td>\n",
              "      <td>9.021161e+08</td>\n",
              "      <td>4.0</td>\n",
              "    </tr>\n",
              "    <tr>\n",
              "      <th>4325381</th>\n",
              "      <td>93436</td>\n",
              "      <td>2022-06-30</td>\n",
              "      <td>TSLA</td>\n",
              "      <td>TESLA INC</td>\n",
              "      <td>673.41998</td>\n",
              "      <td>6684634.0</td>\n",
              "      <td>-0.111888</td>\n",
              "      <td>1041000.0</td>\n",
              "      <td>6</td>\n",
              "      <td>30</td>\n",
              "      <td>2022</td>\n",
              "      <td>7.010302e+08</td>\n",
              "      <td>4.0</td>\n",
              "    </tr>\n",
              "  </tbody>\n",
              "</table>\n",
              "<p>488446 rows × 13 columns</p>\n",
              "</div>"
            ],
            "text/plain": [
              "        security_id       date TICKER                     COMNAM         prc  \\\n",
              "4             10000 1986-04-30  OMFGA  OPTIMUM MANUFACTURING INC     4.00000   \n",
              "6             10000 1986-06-30  OMFGA  OPTIMUM MANUFACTURING INC     3.09375   \n",
              "23            10001 1986-04-30   GFGC         GREAT FALLS GAS CO     6.37500   \n",
              "25            10001 1986-06-30   GFGC         GREAT FALLS GAS CO     6.12500   \n",
              "35            10001 1987-04-30   GFGC         GREAT FALLS GAS CO     6.12500   \n",
              "...             ...        ...    ...                        ...         ...   \n",
              "4325357       93436 2020-06-30   TSLA                  TESLA INC  1079.81006   \n",
              "4325367       93436 2021-04-30   TSLA                  TESLA INC   709.44000   \n",
              "4325369       93436 2021-06-30   TSLA                  TESLA INC   679.70001   \n",
              "4325379       93436 2022-04-30   TSLA                  TESLA INC   870.76001   \n",
              "4325381       93436 2022-06-30   TSLA                  TESLA INC   673.41998   \n",
              "\n",
              "               VOL       ret     SHROUT  month  day  year    market_cap  \\\n",
              "4            957.0 -0.098592     3793.0      4   30  1986  1.517200e+04   \n",
              "6           1069.0 -0.005025     3793.0      6   30  1986  1.173459e+04   \n",
              "23           225.0  0.009901      985.0      4   30  1986  6.279375e+03   \n",
              "25           238.0 -0.013069      985.0      6   30  1986  6.033125e+03   \n",
              "35           188.0 -0.039216      991.0      4   30  1987  6.069875e+03   \n",
              "...            ...       ...        ...    ...  ...   ...           ...   \n",
              "4325357  2551787.0  0.293186   186000.0      6   30  2020  2.008447e+08   \n",
              "4325367  6774422.0  0.062147   963330.0      4   30  2021  6.834248e+08   \n",
              "4325369  5186813.0  0.087137   984003.0      6   30  2021  6.688268e+08   \n",
              "4325379  5046142.0 -0.191945  1036010.0      4   30  2022  9.021161e+08   \n",
              "4325381  6684634.0 -0.111888  1041000.0      6   30  2022  7.010302e+08   \n",
              "\n",
              "           rank  \n",
              "4        4273.0  \n",
              "6        4562.0  \n",
              "23       4811.0  \n",
              "25       4932.0  \n",
              "35       5286.0  \n",
              "...         ...  \n",
              "4325357    26.0  \n",
              "4325367     7.0  \n",
              "4325369     7.0  \n",
              "4325379     4.0  \n",
              "4325381     4.0  \n",
              "\n",
              "[488446 rows x 13 columns]"
            ]
          },
          "execution_count": 9,
          "metadata": {},
          "output_type": "execute_result"
        }
      ],
      "source": [
        "ranked_df = data_processor.filter_and_rank(data_processor.signal_df)\n",
        "ranked_df"
      ]
    },
    {
      "cell_type": "markdown",
      "metadata": {
        "id": "MY6w6rxTH8wX"
      },
      "source": [
        "#### Try it for a specific date to prove values are sorted/ranked correctly."
      ]
    },
    {
      "cell_type": "code",
      "execution_count": null,
      "metadata": {
        "colab": {
          "base_uri": "https://localhost:8080/",
          "height": 641
        },
        "id": "DGiovo7FKyvu",
        "outputId": "4452fa96-5dfe-43c2-9ea1-0400f358d58a"
      },
      "outputs": [
        {
          "data": {
            "text/html": [
              "<div>\n",
              "<style scoped>\n",
              "    .dataframe tbody tr th:only-of-type {\n",
              "        vertical-align: middle;\n",
              "    }\n",
              "\n",
              "    .dataframe tbody tr th {\n",
              "        vertical-align: top;\n",
              "    }\n",
              "\n",
              "    .dataframe thead th {\n",
              "        text-align: right;\n",
              "    }\n",
              "</style>\n",
              "<table border=\"1\" class=\"dataframe\">\n",
              "  <thead>\n",
              "    <tr style=\"text-align: right;\">\n",
              "      <th></th>\n",
              "      <th>security_id</th>\n",
              "      <th>date</th>\n",
              "      <th>TICKER</th>\n",
              "      <th>COMNAM</th>\n",
              "      <th>prc</th>\n",
              "      <th>VOL</th>\n",
              "      <th>ret</th>\n",
              "      <th>SHROUT</th>\n",
              "      <th>month</th>\n",
              "      <th>day</th>\n",
              "      <th>year</th>\n",
              "      <th>market_cap</th>\n",
              "      <th>rank</th>\n",
              "    </tr>\n",
              "  </thead>\n",
              "  <tbody>\n",
              "    <tr>\n",
              "      <th>255320</th>\n",
              "      <td>12060</td>\n",
              "      <td>1998-06-30</td>\n",
              "      <td>GE</td>\n",
              "      <td>GENERAL ELECTRIC CO</td>\n",
              "      <td>90.875</td>\n",
              "      <td>924414.0</td>\n",
              "      <td>0.089955</td>\n",
              "      <td>3258022.0</td>\n",
              "      <td>6</td>\n",
              "      <td>30</td>\n",
              "      <td>1998</td>\n",
              "      <td>2.960727e+08</td>\n",
              "      <td>1.0</td>\n",
              "    </tr>\n",
              "    <tr>\n",
              "      <th>14940</th>\n",
              "      <td>10107</td>\n",
              "      <td>1998-06-30</td>\n",
              "      <td>MSFT</td>\n",
              "      <td>MICROSOFT CORP</td>\n",
              "      <td>108.375</td>\n",
              "      <td>3106879.0</td>\n",
              "      <td>0.277819</td>\n",
              "      <td>2484636.0</td>\n",
              "      <td>6</td>\n",
              "      <td>30</td>\n",
              "      <td>1998</td>\n",
              "      <td>2.692724e+08</td>\n",
              "      <td>2.0</td>\n",
              "    </tr>\n",
              "    <tr>\n",
              "      <th>161620</th>\n",
              "      <td>11308</td>\n",
              "      <td>1998-06-30</td>\n",
              "      <td>KO</td>\n",
              "      <td>COCA COLA CO</td>\n",
              "      <td>85.500</td>\n",
              "      <td>699553.0</td>\n",
              "      <td>0.092823</td>\n",
              "      <td>2469341.0</td>\n",
              "      <td>6</td>\n",
              "      <td>30</td>\n",
              "      <td>1998</td>\n",
              "      <td>2.111287e+08</td>\n",
              "      <td>3.0</td>\n",
              "    </tr>\n",
              "    <tr>\n",
              "      <th>230220</th>\n",
              "      <td>11850</td>\n",
              "      <td>1998-06-30</td>\n",
              "      <td>XON</td>\n",
              "      <td>EXXON CORP</td>\n",
              "      <td>71.375</td>\n",
              "      <td>682701.0</td>\n",
              "      <td>0.012411</td>\n",
              "      <td>2446791.0</td>\n",
              "      <td>6</td>\n",
              "      <td>30</td>\n",
              "      <td>1998</td>\n",
              "      <td>1.746397e+08</td>\n",
              "      <td>4.0</td>\n",
              "    </tr>\n",
              "    <tr>\n",
              "      <th>934138</th>\n",
              "      <td>22752</td>\n",
              "      <td>1998-06-30</td>\n",
              "      <td>MRK</td>\n",
              "      <td>MERCK &amp; CO INC</td>\n",
              "      <td>133.750</td>\n",
              "      <td>612706.0</td>\n",
              "      <td>0.147009</td>\n",
              "      <td>1195259.0</td>\n",
              "      <td>6</td>\n",
              "      <td>30</td>\n",
              "      <td>1998</td>\n",
              "      <td>1.598659e+08</td>\n",
              "      <td>5.0</td>\n",
              "    </tr>\n",
              "    <tr>\n",
              "      <th>...</th>\n",
              "      <td>...</td>\n",
              "      <td>...</td>\n",
              "      <td>...</td>\n",
              "      <td>...</td>\n",
              "      <td>...</td>\n",
              "      <td>...</td>\n",
              "      <td>...</td>\n",
              "      <td>...</td>\n",
              "      <td>...</td>\n",
              "      <td>...</td>\n",
              "      <td>...</td>\n",
              "      <td>...</td>\n",
              "      <td>...</td>\n",
              "    </tr>\n",
              "    <tr>\n",
              "      <th>3190671</th>\n",
              "      <td>81782</td>\n",
              "      <td>1998-06-30</td>\n",
              "      <td>TI</td>\n",
              "      <td>TELECOM ITALIA SPA</td>\n",
              "      <td>48.000</td>\n",
              "      <td>0.0</td>\n",
              "      <td>-0.092056</td>\n",
              "      <td>19.0</td>\n",
              "      <td>6</td>\n",
              "      <td>30</td>\n",
              "      <td>1998</td>\n",
              "      <td>9.120000e+02</td>\n",
              "      <td>7701.0</td>\n",
              "    </tr>\n",
              "    <tr>\n",
              "      <th>1106235</th>\n",
              "      <td>28303</td>\n",
              "      <td>1998-06-30</td>\n",
              "      <td>DAIEY</td>\n",
              "      <td>DAI EI INC</td>\n",
              "      <td>4.250</td>\n",
              "      <td>58.0</td>\n",
              "      <td>-0.313131</td>\n",
              "      <td>151.0</td>\n",
              "      <td>6</td>\n",
              "      <td>30</td>\n",
              "      <td>1998</td>\n",
              "      <td>6.417500e+02</td>\n",
              "      <td>7702.0</td>\n",
              "    </tr>\n",
              "    <tr>\n",
              "      <th>3353243</th>\n",
              "      <td>83923</td>\n",
              "      <td>1998-06-30</td>\n",
              "      <td>APCFY</td>\n",
              "      <td>ATLAS PACIFIC LTD</td>\n",
              "      <td>3.375</td>\n",
              "      <td>23.0</td>\n",
              "      <td>0.000000</td>\n",
              "      <td>149.0</td>\n",
              "      <td>6</td>\n",
              "      <td>30</td>\n",
              "      <td>1998</td>\n",
              "      <td>5.028750e+02</td>\n",
              "      <td>7703.0</td>\n",
              "    </tr>\n",
              "    <tr>\n",
              "      <th>3292072</th>\n",
              "      <td>83336</td>\n",
              "      <td>1998-06-30</td>\n",
              "      <td>SCV</td>\n",
              "      <td>SCANIA AKTIEBOLAG</td>\n",
              "      <td>24.625</td>\n",
              "      <td>4.0</td>\n",
              "      <td>-0.017456</td>\n",
              "      <td>16.0</td>\n",
              "      <td>6</td>\n",
              "      <td>30</td>\n",
              "      <td>1998</td>\n",
              "      <td>3.940000e+02</td>\n",
              "      <td>7704.0</td>\n",
              "    </tr>\n",
              "    <tr>\n",
              "      <th>3514521</th>\n",
              "      <td>85777</td>\n",
              "      <td>1998-06-30</td>\n",
              "      <td>UU</td>\n",
              "      <td>UNITED UTILITIES PLC</td>\n",
              "      <td>28.500</td>\n",
              "      <td>3.0</td>\n",
              "      <td>0.090559</td>\n",
              "      <td>2.0</td>\n",
              "      <td>6</td>\n",
              "      <td>30</td>\n",
              "      <td>1998</td>\n",
              "      <td>5.700000e+01</td>\n",
              "      <td>7705.0</td>\n",
              "    </tr>\n",
              "  </tbody>\n",
              "</table>\n",
              "<p>7705 rows × 13 columns</p>\n",
              "</div>"
            ],
            "text/plain": [
              "        security_id       date TICKER                COMNAM      prc  \\\n",
              "255320        12060 1998-06-30     GE   GENERAL ELECTRIC CO   90.875   \n",
              "14940         10107 1998-06-30   MSFT        MICROSOFT CORP  108.375   \n",
              "161620        11308 1998-06-30     KO          COCA COLA CO   85.500   \n",
              "230220        11850 1998-06-30    XON            EXXON CORP   71.375   \n",
              "934138        22752 1998-06-30    MRK        MERCK & CO INC  133.750   \n",
              "...             ...        ...    ...                   ...      ...   \n",
              "3190671       81782 1998-06-30     TI    TELECOM ITALIA SPA   48.000   \n",
              "1106235       28303 1998-06-30  DAIEY            DAI EI INC    4.250   \n",
              "3353243       83923 1998-06-30  APCFY     ATLAS PACIFIC LTD    3.375   \n",
              "3292072       83336 1998-06-30    SCV     SCANIA AKTIEBOLAG   24.625   \n",
              "3514521       85777 1998-06-30     UU  UNITED UTILITIES PLC   28.500   \n",
              "\n",
              "               VOL       ret     SHROUT  month  day  year    market_cap  \\\n",
              "255320    924414.0  0.089955  3258022.0      6   30  1998  2.960727e+08   \n",
              "14940    3106879.0  0.277819  2484636.0      6   30  1998  2.692724e+08   \n",
              "161620    699553.0  0.092823  2469341.0      6   30  1998  2.111287e+08   \n",
              "230220    682701.0  0.012411  2446791.0      6   30  1998  1.746397e+08   \n",
              "934138    612706.0  0.147009  1195259.0      6   30  1998  1.598659e+08   \n",
              "...            ...       ...        ...    ...  ...   ...           ...   \n",
              "3190671        0.0 -0.092056       19.0      6   30  1998  9.120000e+02   \n",
              "1106235       58.0 -0.313131      151.0      6   30  1998  6.417500e+02   \n",
              "3353243       23.0  0.000000      149.0      6   30  1998  5.028750e+02   \n",
              "3292072        4.0 -0.017456       16.0      6   30  1998  3.940000e+02   \n",
              "3514521        3.0  0.090559        2.0      6   30  1998  5.700000e+01   \n",
              "\n",
              "           rank  \n",
              "255320      1.0  \n",
              "14940       2.0  \n",
              "161620      3.0  \n",
              "230220      4.0  \n",
              "934138      5.0  \n",
              "...         ...  \n",
              "3190671  7701.0  \n",
              "1106235  7702.0  \n",
              "3353243  7703.0  \n",
              "3292072  7704.0  \n",
              "3514521  7705.0  \n",
              "\n",
              "[7705 rows x 13 columns]"
            ]
          },
          "execution_count": 10,
          "metadata": {},
          "output_type": "execute_result"
        }
      ],
      "source": [
        "# Prove it works for a specific date - look at 'rank' column\n",
        "test_ranked_df = ranked_df.sort_values(by=['market_cap', 'date'], ascending = False)\n",
        "test_ranked_df = test_ranked_df.loc[(test_ranked_df['date'] == '1998-06-30')]\n",
        "test_ranked_df"
      ]
    },
    {
      "cell_type": "markdown",
      "metadata": {
        "id": "2nAhAy-3H8wX"
      },
      "source": [
        "## Need to build our enter exit signals based on the market cap weights.\n",
        "For Russell 2000: enter signal means market cap was outside of (1001-3000) and is now inside, exit signal means market cap was inside (1001-3000) and is now outside"
      ]
    },
    {
      "cell_type": "code",
      "execution_count": null,
      "metadata": {
        "id": "ufZ6QcHzH8wX"
      },
      "outputs": [],
      "source": [
        "def index_enter(df, trade_date):\n",
        "    trade_date = pd.to_datetime(trade_date)\n",
        "    rebalance_date =  trade_date - pd.DateOffset(years=1) + pd.DateOffset(months=2)\n",
        "    future_date = trade_date + pd.DateOffset(years=1)\n",
        "    wanted_dates = [trade_date, future_date,rebalance_date]\n",
        "    df = df[df['date'].isin(wanted_dates)]\n",
        "\n",
        "    last_rebalance_df = df.loc[df['date'] == rebalance_date]\n",
        "    future_valid_names = list(df.loc[df['date'] == future_date]['security_id'])\n",
        "    prediction_df = df.loc[df['date'] == trade_date]\n",
        "    # Make sure we only check ones that we can potentially close on the future date\n",
        "    prediction_df = prediction_df[prediction_df['security_id'].isin(future_valid_names)]\n",
        "    # Filter last_rebalance_df by ones that are outside of 3000 ranking\n",
        "    last_rebalance_names = list(last_rebalance_df[last_rebalance_df['rank'] > 3000]['security_id'])\n",
        "    # Filter prediction_df by ones that are inside the 1001-3000 ranking\n",
        "    prediction_df = prediction_df[(prediction_df['rank']>1000) & (prediction_df['rank']<3001)]\n",
        "    prediction_df = prediction_df[prediction_df['security_id'].isin(last_rebalance_names)]\n",
        "    \n",
        "    # Returning the 20 lowest ranked market caps as our buys\n",
        "    return prediction_df.nsmallest(20, 'rank')\n",
        "\n",
        "def index_exit(df, trade_date): \n",
        "    trade_date = pd.to_datetime(trade_date)\n",
        "    rebalance_date =  trade_date - pd.DateOffset(years=1) + pd.DateOffset(months=2)\n",
        "    future_date = trade_date + pd.DateOffset(years=1)\n",
        "    wanted_dates = [trade_date, future_date,rebalance_date]\n",
        "    df = df[df['date'].isin(wanted_dates)]\n",
        "\n",
        "    last_rebalance_df = df.loc[df['date'] == rebalance_date]\n",
        "    future_valid_names = list(df.loc[df['date'] == future_date]['security_id'])\n",
        "    prediction_df = df.loc[df['date'] == trade_date]\n",
        "    # Make sure we only check ones that we can potentially close on the future date\n",
        "    prediction_df = prediction_df[prediction_df['security_id'].isin(future_valid_names)]\n",
        "    # Filter last_rebalance_df by ones that are inside of 1001-3000 ranking\n",
        "    last_rebalance_names = list(last_rebalance_df[(last_rebalance_df['rank']>1000) & (last_rebalance_df['rank']<3001)]['security_id'])\n",
        "    # Filter prediction_df by ones that are outside the 3000 ranking\n",
        "    prediction_df = prediction_df[prediction_df['rank'] > 3000]\n",
        "    prediction_df = prediction_df[prediction_df['security_id'].isin(last_rebalance_names)]\n",
        "    \n",
        "    # Returning the 20 highest ranked market caps as our sells\n",
        "    return prediction_df.nlargest(20, 'rank')"
      ]
    },
    {
      "cell_type": "markdown",
      "metadata": {
        "id": "DT79U7F6V8hf"
      },
      "source": [
        "## <span style=\"color:blue\">Task 4</span>: Create a ProfTradingRule"
      ]
    },
    {
      "cell_type": "markdown",
      "metadata": {
        "id": "u3PXfFWtV8hf"
      },
      "source": [
        "This strategy should long stocks that are projected to enter the index and short stocks projected to exit the index, and use equal weighting"
      ]
    },
    {
      "cell_type": "code",
      "execution_count": null,
      "metadata": {
        "id": "A84G_iYcV8hf"
      },
      "outputs": [],
      "source": [
        "# Solution\n",
        "class IRTradingRule():\n",
        "    # strategy: The index rebalancing strategy forms a new portfolio each month with long positions in firms projected to enter index, and short positions in firms projected to exit index.\n",
        "    # For each $1 NAV, we open $1 total of long positions AND $1 total of short positions\n",
        "    # This would be the max leverage allowed given 50% margin requirements\n",
        "    #\n",
        "    # Assume 100% of portfolio liquidated after each rebalance period and repurchased with new quantities\n",
        "    \n",
        "    # strategy-specifc columns for trades_df (variables we want to keep track of for subsequent analysis)\n",
        "    # usually the variables that led the strategy to open trade in the first place\n",
        "    strategy_specific_trades_df_columns = {'ir': pd.Series([], dtype='float')} \n",
        "    \n",
        "    # minumum number of stocks with available ir for us to actually trade\n",
        "    min_stocks_available = 5\n",
        "\n",
        "    value_weighted = False\n",
        "    \n",
        "    def __init__(self,portfolio_db):\n",
        "        self.portfolio_db = portfolio_db\n",
        "    \n",
        "    # Regardless of the strategy you are implementing, this method must return\n",
        "    # open_trades_df, close_trades_df\n",
        "    #\n",
        "    # open_trades_df is a DataFrame with all the required trades_df columns plus any custom ones for this strategy\n",
        "    #     each row is a new trade the strategy wants to open\n",
        "    #     method only populates the security_id (index) and quantity required columns, plus any custom columns. Rest remain NaN to be populated elsewhere\n",
        "    # close_trades_df is a DataFrame that is a subset of the rows of portfolio_db.trades_df\n",
        "    #     each row is an exist trade the strategy wants to close\n",
        "    #     we don't need to populate any columns in this function\n",
        "    def compute_trades(self,signal_df, date):                \n",
        "        # Since we are doing 100% turnover each period, all currently open trades should be closed\n",
        "        #self.portfolio_db.trades_df.to_csv(\"CloseTrades.csv\")\n",
        "        # signal_df.to_csv(\"DebugFile.csv\")\n",
        "        close_trades_df = self.portfolio_db.trades_df.loc[ self.portfolio_db.trades_df.loc[:,'close_datetime'].isna() ,: ].copy()\n",
        "        print(\"CLOSE TRADES LENGTH: \", len(close_trades_df))\n",
        "        # before deciding to open new positions, check that signal_df gives us a big enough set of stocks to actually do this\n",
        "        if( len(signal_df) < self.min_stocks_available ):\n",
        "            return self.empty_trades_df(), close_trades_df       \n",
        "        \n",
        "        # As our gross profitability measure, we'll use annual revenue (REVT), minus annual cost of goods sold (COGS), scaled by prior-year book value of assets (AT)        \n",
        "        # signal_df.loc[:,'gp'] = (signal_df.loc[:,'revt'] - signal_df.loc[:, 'cogs']) / (signal_df.loc[:,'lag_at'])        \n",
        "        # You shouldn't have to change anything below here if you are doing a decile strategy    \n",
        "            \n",
        "        # Find top 10% of signal column      \n",
        "        # need to make a copy because we are going to modify this and don't want to affect signal_df\n",
        "        buys_df = index_enter(signal_df, date)\n",
        "        # Find bottom 10% of signal column\n",
        "        # need to make a copy because we are going to modify this and don't want to affect signal_df\n",
        "        sells_df = index_exit(signal_df, date)\n",
        "\n",
        "        # print(\"BUYS: \", len(buys_df), \"SELLS: \", len(sells_df), \"\\n\")\n",
        "        # signal_df.to_csv(\"DebugFile.csv\")\n",
        "        if( self.value_weighted ): \n",
        "            # Compute value weights\n",
        "            buys_mktcap = buys_df.loc[:,'prc']*buys_df.loc[:,'SHROUT']\n",
        "            buys_w = buys_mktcap / buys_mktcap.sum()\n",
        "            sells_mktcap = sells_df.loc[:,'prc']*sells_df.loc[:,'SHROUT']\n",
        "            sells_w = -sells_mktcap / sells_mktcap.sum() # weights negative because we are selling\n",
        "            \n",
        "            # Dollars per position equal total NAV * buys_w and NAV * sells_w, respectively\n",
        "            buys_dollar = self.portfolio_db.current_nav() * buys_w\n",
        "            buys_df.loc[:,'quantity'] = buys_dollar / buys_df.loc[:,'prc']\n",
        "            sells_dollar = self.portfolio_db.current_nav() * sells_w\n",
        "            sells_df.loc[:,'quantity'] = sells_dollar / sells_df.loc[:,'prc']             \n",
        "                        \n",
        "        else:\n",
        "            # With equal weights we can go directly to dollars per buy/sell\n",
        "            # Which is just NAV / number of positions\n",
        "            dollars_per_buy = self.portfolio_db.current_nav() / len(buys_df)\n",
        "            buys_df['quantity'] = dollars_per_buy / buys_df['prc']\n",
        "      \n",
        "            # figure out quantity per trade by splitting $ evenly\n",
        "            dollars_per_sell = -self.portfolio_db.current_nav() / len(sells_df) # negative because we are selling\n",
        "            sells_df['quantity'] = dollars_per_sell / sells_df['prc'] \n",
        "        open_trades_df = self.empty_trades_df().append(\n",
        "        buys_df.loc[:,['security_id','quantity']]).append(\n",
        "        sells_df.loc[:,['security_id','quantity']])\n",
        "        # open_trades_df.to_csv(\"OpenTradesFile.csv\")\n",
        "        print(\"OPEN TRADES LENGTH: \", len(open_trades_df))\n",
        "        # print(open_trades_df)\n",
        "        return open_trades_df, close_trades_df\n",
        "    \n",
        "    # Returns an empty trades_df\n",
        "    # Used so we know the right columns to populate when creating a trades_df else\n",
        "    def empty_trades_df(self):\n",
        "        return pd.concat([self.portfolio_db.empty_trades_df(), pd.DataFrame(self.strategy_specific_trades_df_columns)], axis=1)"
      ]
    },
    {
      "cell_type": "markdown",
      "metadata": {
        "id": "OXecovPqV8hf"
      },
      "source": [
        "### After running your code above, you should be able to run these tests sucessfully. Please run each cell without editing."
      ]
    },
    {
      "cell_type": "markdown",
      "metadata": {
        "id": "sIUdMFkTV8hf"
      },
      "source": [
        "#### `compute_trades` test: should output an open_trades_df with open positions having positive quantity and high gp, close_trades_df negative quantity and low gp, and an empty close_trades_df"
      ]
    },
    {
      "cell_type": "code",
      "execution_count": null,
      "metadata": {
        "colab": {
          "base_uri": "https://localhost:8080/"
        },
        "id": "rhGgwIUxV8hg",
        "outputId": "481e8306-94bd-40f1-bc12-8f1c60ca5efd"
      },
      "outputs": [],
      "source": [
        "%run portfolio_db.ipynb\n",
        "portfolio_db = PortfolioDB()\n",
        "portfolio_db.add_cash(100)\n",
        "\n",
        "data_processor = IRDataProcessor()"
      ]
    },
    {
      "cell_type": "code",
      "execution_count": 118,
      "metadata": {},
      "outputs": [
        {
          "name": "stdout",
          "output_type": "stream",
          "text": [
            "CLOSE TRADES LENGTH:  40\n",
            "OPEN TRADES LENGTH:  40\n"
          ]
        }
      ],
      "source": [
        "\n",
        "trading_rule = IRTradingRule(portfolio_db)\n",
        "\n",
        "%run backtest_executor.ipynb\n",
        "executor = BacktestExecutor(portfolio_db)\n",
        "test_date = '1984-04-30'\n",
        "# test_price_df = data_processor.price_df_for_date(test_date)\n",
        "test_signal_df = data_processor.filter_and_rank(data_processor.signal_df)\n",
        "test_open_trades_df, test_close_trades_df = trading_rule.compute_trades(test_signal_df, test_date)"
      ]
    },
    {
      "cell_type": "code",
      "execution_count": 121,
      "metadata": {
        "colab": {
          "base_uri": "https://localhost:8080/"
        },
        "id": "rcPhhXtFV8hg",
        "outputId": "ca8afb48-71ad-4f00-b9ce-e050269bb23a"
      },
      "outputs": [
        {
          "name": "stdout",
          "output_type": "stream",
          "text": [
            "test_open_trades_df:\n",
            "145731     0.060091\n",
            "239240     0.082139\n",
            "2557414    0.129742\n",
            "2104465    0.092075\n",
            "1160647    0.049212\n",
            "204683     0.052858\n",
            "170951     0.063429\n",
            "2141589    0.142716\n",
            "201949     0.140954\n",
            "2471974    0.086494\n",
            "116320     0.037069\n",
            "2845655    0.228345\n",
            "946339     0.076626\n",
            "69649      0.089197\n",
            "2844175    0.082734\n",
            "861427     0.103793\n",
            "1765225    0.129742\n",
            "2346063    0.152230\n",
            "2237714    0.086494\n",
            "2218846    0.181227\n",
            "111769    -0.167901\n",
            "2165669   -0.077144\n",
            "1668186   -0.300454\n",
            "807758    -0.221695\n",
            "2595075   -0.292751\n",
            "130426    -0.335802\n",
            "2497193   -0.439126\n",
            "2844942   -0.259483\n",
            "3748187   -0.393699\n",
            "2593362   -0.118930\n",
            "2057228   -0.271840\n",
            "282365    -0.335802\n",
            "2598568   -0.219563\n",
            "2604783   -0.407760\n",
            "2045984   -0.080974\n",
            "1484587   -0.196849\n",
            "1645981   -0.190288\n",
            "2032818   -0.219563\n",
            "2593507   -0.196849\n",
            "37091     -0.211431\n",
            "Name: quantity, dtype: float64\n",
            "\n",
            "\n",
            "\n",
            "test_close_trades_df:\n",
            "    security_id  quantity open_datetime  open_average_price close_datetime  \\\n",
            "360       10555 -0.247801    1993-04-30               6.625            NaT   \n",
            "361       10738 -0.525339    1993-04-30               3.125            NaT   \n",
            "362       10906  0.160164    1993-04-30              10.250            NaT   \n",
            "363       11203  0.054130    1993-04-30              30.500            NaT   \n",
            "364       11480 -0.228832    1993-04-30               7.250            NaT   \n",
            "365       11547 -0.128759    1993-04-30              12.750            NaT   \n",
            "366       11887  0.084825    1993-04-30              38.750            NaT   \n",
            "367       11908  0.110057    1993-04-30              44.750            NaT   \n",
            "368       16978  0.113220    1993-04-30              14.500            NaT   \n",
            "369       29736 -0.305430    1993-04-30               5.375            NaT   \n",
            "370       43327 -0.226439    1993-04-30               7.250            NaT   \n",
            "371       44185  0.049374    1993-04-30              33.250            NaT   \n",
            "372       58085  0.138247    1993-04-30              11.875            NaT   \n",
            "373       58704  0.094486    1993-04-30              17.375            NaT   \n",
            "374       62607  0.156351    1993-04-30              10.500            NaT   \n",
            "375       62790 -0.234526    1993-04-30               7.000            NaT   \n",
            "376       63300 -0.226439    1993-04-30               7.250            NaT   \n",
            "377       70616  0.132661    1993-04-30              12.375            NaT   \n",
            "378       72769  0.132597    1993-04-30              13.000            NaT   \n",
            "379       75107 -0.198992    1993-04-30               8.250            NaT   \n",
            "380       76132 -0.328337    1993-04-30               5.000            NaT   \n",
            "381       76222 -0.328337    1993-04-30               5.000            NaT   \n",
            "382       76256 -0.234526    1993-04-30               7.000            NaT   \n",
            "383       76264 -0.205210    1993-04-30               8.000            NaT   \n",
            "384       76267 -0.354959    1993-04-30               4.625            NaT   \n",
            "385       76645  0.102605    1993-04-30              16.000            NaT   \n",
            "386       76678 -0.452878    1993-04-30               3.625            NaT   \n",
            "387       76720 -0.354959    1993-04-30               4.625            NaT   \n",
            "388       76753  0.111301    1993-04-30              14.750            NaT   \n",
            "389       76795  0.054271    1993-04-30              30.250            NaT   \n",
            "390       77088  0.114610    1993-04-30              21.500            NaT   \n",
            "391       77505 -0.397984    1993-04-30               4.125            NaT   \n",
            "392       77532  0.054723    1993-04-30              30.000            NaT   \n",
            "393       77554 -0.147567    1993-04-30              11.125            NaT   \n",
            "394       77560  0.098343    1993-04-30              17.625            NaT   \n",
            "395       77620 -0.312701    1993-04-30               5.250            NaT   \n",
            "396       78527  0.105915    1993-04-30              15.500            NaT   \n",
            "397       79338  0.149244    1993-04-30              33.000            NaT   \n",
            "398       88867 -0.252567    1993-04-30               6.500            NaT   \n",
            "399       89181  0.141220    1993-04-30              23.250            NaT   \n",
            "\n",
            "     close_average_price  ir  \n",
            "360                  NaN NaN  \n",
            "361                  NaN NaN  \n",
            "362                  NaN NaN  \n",
            "363                  NaN NaN  \n",
            "364                  NaN NaN  \n",
            "365                  NaN NaN  \n",
            "366                  NaN NaN  \n",
            "367                  NaN NaN  \n",
            "368                  NaN NaN  \n",
            "369                  NaN NaN  \n",
            "370                  NaN NaN  \n",
            "371                  NaN NaN  \n",
            "372                  NaN NaN  \n",
            "373                  NaN NaN  \n",
            "374                  NaN NaN  \n",
            "375                  NaN NaN  \n",
            "376                  NaN NaN  \n",
            "377                  NaN NaN  \n",
            "378                  NaN NaN  \n",
            "379                  NaN NaN  \n",
            "380                  NaN NaN  \n",
            "381                  NaN NaN  \n",
            "382                  NaN NaN  \n",
            "383                  NaN NaN  \n",
            "384                  NaN NaN  \n",
            "385                  NaN NaN  \n",
            "386                  NaN NaN  \n",
            "387                  NaN NaN  \n",
            "388                  NaN NaN  \n",
            "389                  NaN NaN  \n",
            "390                  NaN NaN  \n",
            "391                  NaN NaN  \n",
            "392                  NaN NaN  \n",
            "393                  NaN NaN  \n",
            "394                  NaN NaN  \n",
            "395                  NaN NaN  \n",
            "396                  NaN NaN  \n",
            "397                  NaN NaN  \n",
            "398                  NaN NaN  \n",
            "399                  NaN NaN  \n"
          ]
        }
      ],
      "source": [
        "print('test_open_trades_df:')\n",
        "print(test_open_trades_df['quantity'])\n",
        "test_open_trades_df.to_csv(\"test_open_trades_df.csv\")\n",
        "print('\\n\\n')\n",
        "print('test_close_trades_df:')\n",
        "print(test_close_trades_df)"
      ]
    },
    {
      "cell_type": "markdown",
      "metadata": {
        "id": "_VGuoyVIV8hg"
      },
      "source": [
        "## <span style=\"color:blue\">Task 5</span>: Run the Backtest"
      ]
    },
    {
      "cell_type": "markdown",
      "metadata": {
        "id": "QtiPSiB-V8hg"
      },
      "source": [
        "If everything above was done correctly, the code in backtest.ipynb should produce a backtest for the gross profitability strategy with a few modifications.\n",
        "\n",
        "Copy the backtest.ipynb code here and modify it as follows:\n",
        "- Adjust the comments and strategy_info dictionary\n",
        "- Do not run bm_data_processor.ipynb and bm_trading_rule.ipynb, as these are no longer needed (the GPDataProcessor and IRTradingRule classes should already be defined above)\n",
        "- Replace the BM versions of data_processor and trading_rule with the GP versions. This should only be two lines of code\n",
        "\n",
        "Nothing else should change."
      ]
    },
    {
      "cell_type": "code",
      "execution_count": 112,
      "metadata": {
        "id": "9Uz91ND6V8hg"
      },
      "outputs": [],
      "source": [
        "# Solution\n",
        "# Imports\n",
        "from IPython.display import display, Markdown, Latex, clear_output\n",
        "import numpy as np\n",
        "import pandas as pd"
      ]
    },
    {
      "cell_type": "code",
      "execution_count": 113,
      "metadata": {
        "id": "IVG4hU7kV8hg"
      },
      "outputs": [],
      "source": [
        "# # These tools should remain unchanged across strategies unless you have a good reason to change them\n",
        "%run portfolio_db.ipynb\n",
        "%run backtest_executor.ipynb # if you were live trading a strategy, this would be replace by code that submitted orders etc"
      ]
    },
    {
      "cell_type": "code",
      "execution_count": 114,
      "metadata": {
        "id": "busNeStIV8hg"
      },
      "outputs": [],
      "source": [
        "# Step 2: Create the tools we'll need to do the backtest\n",
        "\n",
        "# Data processor, in charge of loading and doling out data\n",
        "data_processor = IRDataProcessor() "
      ]
    },
    {
      "cell_type": "code",
      "execution_count": 116,
      "metadata": {
        "id": "xNEiPGwcV8hh"
      },
      "outputs": [],
      "source": [
        "# Portfolio database, keeps track of all the trades the backtest makes, the strategy NAV, and the current portfolio as we go through the backtest\n",
        "%run portfolio_db.ipynb\n",
        "portfolio_db = PortfolioDB()\n",
        "\n",
        "# Strategy logic, in charge of choosing trades based on current portfolio and data\n",
        "# This exact code would be used for live trading \n",
        "trading_rule = IRTradingRule(portfolio_db)\n",
        "\n",
        "# Trade executor, in charge of \"executing\" trades the strategy decides on, turning them into transactions and updating the portfolio\n",
        "trade_executor = BacktestExecutor(portfolio_db)\n",
        "\n",
        "# Info about the strategy, used for ex-post statistics and output not the actual backtest\n",
        "strategy_info = {\n",
        "    'brief descriptor': 'ir_rebalancing', \n",
        "    'plot descriptor': 'Index Rebalancing Prediction Strategy, Equal-Weighted',\n",
        "    'universe': 'Public US equities eligible for the Russell 2000',\n",
        "    'signals': 'Change in market cap from prior year rebalance date (6/30) to current year prediction date (4/30)',\n",
        "    'trading rule': 'Buy all equities entering 1001-3000 market cap and sell all equities exiting (as the predictor for inclusion/exclusion in Russell 2000), equal-weighted',\n",
        "    'holding period': 'One year',\n",
        "    'periods per year': 12,\n",
        "    'output folder name': 'Output'\n",
        "}\n",
        "\n",
        "# Statistician, used to tabulate and plot statistics after the backtest runs\n",
        "%run backtest_statistician.ipynb\n",
        "statistican = BacktestStatistican(portfolio_db,strategy_info)"
      ]
    },
    {
      "cell_type": "code",
      "execution_count": 117,
      "metadata": {
        "colab": {
          "base_uri": "https://localhost:8080/",
          "height": 468
        },
        "id": "d-hyMIw7V8hh",
        "outputId": "f625ca6e-1e39-4db9-d42b-0343c0f3b5a9"
      },
      "outputs": [
        {
          "data": {
            "text/plain": [
              "'1983-06-30: 100.0 | 0.0'"
            ]
          },
          "metadata": {},
          "output_type": "display_data"
        },
        {
          "data": {
            "text/plain": [
              "'1983-07-30: 100.0 | 0.0'"
            ]
          },
          "metadata": {},
          "output_type": "display_data"
        },
        {
          "data": {
            "text/plain": [
              "'1983-08-30: 100.0 | 0.0'"
            ]
          },
          "metadata": {},
          "output_type": "display_data"
        },
        {
          "data": {
            "text/plain": [
              "'1983-09-30: 100.0 | 0.0'"
            ]
          },
          "metadata": {},
          "output_type": "display_data"
        },
        {
          "data": {
            "text/plain": [
              "'1983-10-30: 100.0 | 0.0'"
            ]
          },
          "metadata": {},
          "output_type": "display_data"
        },
        {
          "data": {
            "text/plain": [
              "'1983-11-30: 100.0 | 0.0'"
            ]
          },
          "metadata": {},
          "output_type": "display_data"
        },
        {
          "data": {
            "text/plain": [
              "'1983-12-30: 100.0 | 0.0'"
            ]
          },
          "metadata": {},
          "output_type": "display_data"
        },
        {
          "data": {
            "text/plain": [
              "'1984-01-30: 100.0 | 0.0'"
            ]
          },
          "metadata": {},
          "output_type": "display_data"
        },
        {
          "data": {
            "text/plain": [
              "'1984-02-29: 100.0 | 0.0'"
            ]
          },
          "metadata": {},
          "output_type": "display_data"
        },
        {
          "data": {
            "text/plain": [
              "'1984-03-30: 100.0 | 0.0'"
            ]
          },
          "metadata": {},
          "output_type": "display_data"
        },
        {
          "name": "stdout",
          "output_type": "stream",
          "text": [
            "CLOSE TRADES LENGTH:  0\n",
            "OPEN TRADES LENGTH:  40\n"
          ]
        },
        {
          "data": {
            "text/plain": [
              "'1984-04-30: 100.0 | 100.0'"
            ]
          },
          "metadata": {},
          "output_type": "display_data"
        },
        {
          "data": {
            "text/plain": [
              "'1984-05-30: 99.78427 | 94.39372'"
            ]
          },
          "metadata": {},
          "output_type": "display_data"
        },
        {
          "data": {
            "text/plain": [
              "'1984-06-30: 94.91969306121501 | 95.5861085568875'"
            ]
          },
          "metadata": {},
          "output_type": "display_data"
        },
        {
          "data": {
            "text/plain": [
              "'1984-07-30: 101.5209667181619 | 90.65004410924982'"
            ]
          },
          "metadata": {},
          "output_type": "display_data"
        },
        {
          "data": {
            "text/plain": [
              "'1984-08-30: 98.36149502333203 | 99.88305931695103'"
            ]
          },
          "metadata": {},
          "output_type": "display_data"
        },
        {
          "data": {
            "text/plain": [
              "'1984-09-30: 94.25003122216387 | 102.0867215165996'"
            ]
          },
          "metadata": {},
          "output_type": "display_data"
        },
        {
          "data": {
            "text/plain": [
              "'1984-10-30: 101.31823579816623 | 99.59745120585973'"
            ]
          },
          "metadata": {},
          "output_type": "display_data"
        },
        {
          "data": {
            "text/plain": [
              "'1984-11-30: 102.25068930871713 | 96.49227558027073'"
            ]
          },
          "metadata": {},
          "output_type": "display_data"
        },
        {
          "data": {
            "text/plain": [
              "'1984-12-30: 110.6338073979658 | 96.3177755776313'"
            ]
          },
          "metadata": {},
          "output_type": "display_data"
        },
        {
          "data": {
            "text/plain": [
              "'1985-01-30: 101.62269492615447 | 108.98465287626783'"
            ]
          },
          "metadata": {},
          "output_type": "display_data"
        },
        {
          "data": {
            "text/plain": [
              "'1985-02-28: 99.80192092848263 | 114.93977594557754'"
            ]
          },
          "metadata": {},
          "output_type": "display_data"
        },
        {
          "data": {
            "text/plain": [
              "'1985-03-30: 97.28541528285847 | 115.82374019594721'"
            ]
          },
          "metadata": {},
          "output_type": "display_data"
        },
        {
          "name": "stdout",
          "output_type": "stream",
          "text": [
            "CLOSE TRADES LENGTH:  40\n",
            "OPEN TRADES LENGTH:  40\n"
          ]
        },
        {
          "data": {
            "text/plain": [
              "'1985-04-30: 90.95765261105569 | 90.9576526110557'"
            ]
          },
          "metadata": {},
          "output_type": "display_data"
        },
        {
          "data": {
            "text/plain": [
              "'1985-05-30: 89.17052574831894 | 94.85524260003102'"
            ]
          },
          "metadata": {},
          "output_type": "display_data"
        },
        {
          "data": {
            "text/plain": [
              "'1985-06-30: 99.22296449731172 | 94.71721047787217'"
            ]
          },
          "metadata": {},
          "output_type": "display_data"
        },
        {
          "data": {
            "text/plain": [
              "'1985-07-30: 101.26688880926488 | 94.39604554203792'"
            ]
          },
          "metadata": {},
          "output_type": "display_data"
        },
        {
          "data": {
            "text/plain": [
              "'1985-08-30: 94.41729306755614 | 93.78218505883636'"
            ]
          },
          "metadata": {},
          "output_type": "display_data"
        },
        {
          "data": {
            "text/plain": [
              "'1985-09-30: 88.72728857820687 | 86.19811369570355'"
            ]
          },
          "metadata": {},
          "output_type": "display_data"
        },
        {
          "data": {
            "text/plain": [
              "'1985-10-30: 98.30720567651282 | 91.27846455768842'"
            ]
          },
          "metadata": {},
          "output_type": "display_data"
        },
        {
          "data": {
            "text/plain": [
              "'1985-11-30: 93.38642101826835 | 100.12590277621113'"
            ]
          },
          "metadata": {},
          "output_type": "display_data"
        },
        {
          "data": {
            "text/plain": [
              "'1985-12-30: 98.89464179868025 | 108.67035691466064'"
            ]
          },
          "metadata": {},
          "output_type": "display_data"
        },
        {
          "data": {
            "text/plain": [
              "'1986-01-30: 103.68324562305303 | 115.6777912436376'"
            ]
          },
          "metadata": {},
          "output_type": "display_data"
        },
        {
          "data": {
            "text/plain": [
              "'1986-02-28: 108.4830884482868 | 122.02273721619024'"
            ]
          },
          "metadata": {},
          "output_type": "display_data"
        },
        {
          "data": {
            "text/plain": [
              "'1986-03-30: 113.68135350534375 | 133.18387079327948'"
            ]
          },
          "metadata": {},
          "output_type": "display_data"
        },
        {
          "name": "stdout",
          "output_type": "stream",
          "text": [
            "CLOSE TRADES LENGTH:  40\n",
            "OPEN TRADES LENGTH:  40\n"
          ]
        },
        {
          "data": {
            "text/plain": [
              "'1986-04-30: 114.88011447617237 | 114.88011447617237'"
            ]
          },
          "metadata": {},
          "output_type": "display_data"
        },
        {
          "data": {
            "text/plain": [
              "'1986-05-30: 114.19783573229267 | 120.87917415813811'"
            ]
          },
          "metadata": {},
          "output_type": "display_data"
        },
        {
          "data": {
            "text/plain": [
              "'1986-06-30: 121.04018945251161 | 122.94346204720165'"
            ]
          },
          "metadata": {},
          "output_type": "display_data"
        },
        {
          "data": {
            "text/plain": [
              "'1986-07-30: 117.48123420524314 | 113.71443212062582'"
            ]
          },
          "metadata": {},
          "output_type": "display_data"
        },
        {
          "data": {
            "text/plain": [
              "'1986-08-30: 120.10534354613768 | 116.20464548091581'"
            ]
          },
          "metadata": {},
          "output_type": "display_data"
        },
        {
          "data": {
            "text/plain": [
              "'1986-09-30: 109.99906091639163 | 108.37900437928172'"
            ]
          },
          "metadata": {},
          "output_type": "display_data"
        },
        {
          "data": {
            "text/plain": [
              "'1986-10-30: 115.62692045238909 | 115.02861965842118'"
            ]
          },
          "metadata": {},
          "output_type": "display_data"
        },
        {
          "data": {
            "text/plain": [
              "'1986-11-30: 114.00958778306021 | 111.2894294051714'"
            ]
          },
          "metadata": {},
          "output_type": "display_data"
        },
        {
          "data": {
            "text/plain": [
              "'1986-12-30: 108.60102358761606 | 109.01898562408121'"
            ]
          },
          "metadata": {},
          "output_type": "display_data"
        },
        {
          "data": {
            "text/plain": [
              "'1987-01-30: 109.13636451737577 | 120.90876221568851'"
            ]
          },
          "metadata": {},
          "output_type": "display_data"
        },
        {
          "data": {
            "text/plain": [
              "'1987-02-28: 118.55805396122624 | 134.85185745959205'"
            ]
          },
          "metadata": {},
          "output_type": "display_data"
        },
        {
          "data": {
            "text/plain": [
              "'1987-03-30: 118.71589080994067 | 136.04713419909615'"
            ]
          },
          "metadata": {},
          "output_type": "display_data"
        },
        {
          "name": "stdout",
          "output_type": "stream",
          "text": [
            "CLOSE TRADES LENGTH:  40\n",
            "OPEN TRADES LENGTH:  40\n"
          ]
        },
        {
          "data": {
            "text/plain": [
              "'1987-04-30: 115.2151540169287 | 115.2151540169287'"
            ]
          },
          "metadata": {},
          "output_type": "display_data"
        },
        {
          "data": {
            "text/plain": [
              "'1987-05-30: 114.84575119011964 | 114.48990342618066'"
            ]
          },
          "metadata": {},
          "output_type": "display_data"
        },
        {
          "data": {
            "text/plain": [
              "'1987-06-30: 109.66906730087227 | 111.75178184321126'"
            ]
          },
          "metadata": {},
          "output_type": "display_data"
        },
        {
          "data": {
            "text/plain": [
              "'1987-07-30: 108.42348826812002 | 116.7326283283765'"
            ]
          },
          "metadata": {},
          "output_type": "display_data"
        },
        {
          "data": {
            "text/plain": [
              "'1987-08-30: 110.95063739809386 | 115.67359980823355'"
            ]
          },
          "metadata": {},
          "output_type": "display_data"
        },
        {
          "data": {
            "text/plain": [
              "'1987-09-30: 109.1702483829122 | 114.87423746676285'"
            ]
          },
          "metadata": {},
          "output_type": "display_data"
        },
        {
          "data": {
            "text/plain": [
              "'1987-10-30: 107.74127370455194 | 83.04578895532575'"
            ]
          },
          "metadata": {},
          "output_type": "display_data"
        },
        {
          "data": {
            "text/plain": [
              "'1987-11-30: 108.72445861996522 | 78.96583034922693'"
            ]
          },
          "metadata": {},
          "output_type": "display_data"
        },
        {
          "data": {
            "text/plain": [
              "'1987-12-30: 112.67737754286557 | 84.18871677373411'"
            ]
          },
          "metadata": {},
          "output_type": "display_data"
        },
        {
          "data": {
            "text/plain": [
              "'1988-01-30: 108.05055576610009 | 84.68385538236527'"
            ]
          },
          "metadata": {},
          "output_type": "display_data"
        },
        {
          "data": {
            "text/plain": [
              "'1988-02-29: 100.13847201065869 | 91.55260705667703'"
            ]
          },
          "metadata": {},
          "output_type": "display_data"
        },
        {
          "data": {
            "text/plain": [
              "'1988-03-30: 97.82244420933603 | 96.57829677506157'"
            ]
          },
          "metadata": {},
          "output_type": "display_data"
        },
        {
          "name": "stdout",
          "output_type": "stream",
          "text": [
            "CLOSE TRADES LENGTH:  40\n",
            "OPEN TRADES LENGTH:  40\n"
          ]
        },
        {
          "data": {
            "text/plain": [
              "'1988-04-30: 99.24499284144926 | 99.24499284144925'"
            ]
          },
          "metadata": {},
          "output_type": "display_data"
        },
        {
          "data": {
            "text/plain": [
              "'1988-05-30: 98.34178401059779 | 98.63557896290634'"
            ]
          },
          "metadata": {},
          "output_type": "display_data"
        },
        {
          "data": {
            "text/plain": [
              "'1988-06-30: 98.83758459799041 | 107.46044584177254'"
            ]
          },
          "metadata": {},
          "output_type": "display_data"
        },
        {
          "data": {
            "text/plain": [
              "'1988-07-30: 100.26935671486845 | 106.96407067263034'"
            ]
          },
          "metadata": {},
          "output_type": "display_data"
        },
        {
          "data": {
            "text/plain": [
              "'1988-08-30: 100.28283840375211 | 104.35256393690459'"
            ]
          },
          "metadata": {},
          "output_type": "display_data"
        },
        {
          "data": {
            "text/plain": [
              "'1988-09-30: 100.07783987251949 | 107.60303415653392'"
            ]
          },
          "metadata": {},
          "output_type": "display_data"
        },
        {
          "data": {
            "text/plain": [
              "'1988-10-30: 101.25682510138675 | 106.91038954797598'"
            ]
          },
          "metadata": {},
          "output_type": "display_data"
        },
        {
          "data": {
            "text/plain": [
              "'1988-11-30: 104.16846120278157 | 102.75299884114584'"
            ]
          },
          "metadata": {},
          "output_type": "display_data"
        },
        {
          "data": {
            "text/plain": [
              "'1988-12-30: 101.52317829280166 | 102.693468734251'"
            ]
          },
          "metadata": {},
          "output_type": "display_data"
        },
        {
          "data": {
            "text/plain": [
              "'1989-01-30: 103.90999797657676 | 109.30588976263597'"
            ]
          },
          "metadata": {},
          "output_type": "display_data"
        },
        {
          "data": {
            "text/plain": [
              "'1989-02-28: 106.95465526821714 | 109.81212353373384'"
            ]
          },
          "metadata": {},
          "output_type": "display_data"
        },
        {
          "data": {
            "text/plain": [
              "'1989-03-30: 108.99388182055395 | 112.26196176674962'"
            ]
          },
          "metadata": {},
          "output_type": "display_data"
        },
        {
          "name": "stdout",
          "output_type": "stream",
          "text": [
            "CLOSE TRADES LENGTH:  40\n",
            "OPEN TRADES LENGTH:  40\n"
          ]
        },
        {
          "data": {
            "text/plain": [
              "'1989-04-30: 111.27960019651738 | 111.27960019651738'"
            ]
          },
          "metadata": {},
          "output_type": "display_data"
        },
        {
          "data": {
            "text/plain": [
              "'1989-05-30: 117.38734240872351 | 114.2047430611131'"
            ]
          },
          "metadata": {},
          "output_type": "display_data"
        },
        {
          "data": {
            "text/plain": [
              "'1989-06-30: 118.89391171660894 | 111.94127895902298'"
            ]
          },
          "metadata": {},
          "output_type": "display_data"
        },
        {
          "data": {
            "text/plain": [
              "'1989-07-30: 113.00607716513832 | 126.94780701586745'"
            ]
          },
          "metadata": {},
          "output_type": "display_data"
        },
        {
          "data": {
            "text/plain": [
              "'1989-08-30: 120.288641144753 | 128.45553949142206'"
            ]
          },
          "metadata": {},
          "output_type": "display_data"
        },
        {
          "data": {
            "text/plain": [
              "'1989-09-30: 130.50947264875893 | 132.19285908926466'"
            ]
          },
          "metadata": {},
          "output_type": "display_data"
        },
        {
          "data": {
            "text/plain": [
              "'1989-10-30: 139.1271112867381 | 123.16292086061372'"
            ]
          },
          "metadata": {},
          "output_type": "display_data"
        },
        {
          "data": {
            "text/plain": [
              "'1989-11-30: 141.4235116483134 | 121.16094635460095'"
            ]
          },
          "metadata": {},
          "output_type": "display_data"
        },
        {
          "data": {
            "text/plain": [
              "'1989-12-30: 146.94846559907467 | 123.13078561306037'"
            ]
          },
          "metadata": {},
          "output_type": "display_data"
        },
        {
          "data": {
            "text/plain": [
              "'1990-01-30: 141.67466206960773 | 113.20105167226197'"
            ]
          },
          "metadata": {},
          "output_type": "display_data"
        },
        {
          "data": {
            "text/plain": [
              "'1990-02-28: 144.5673034317668 | 118.37608218415696'"
            ]
          },
          "metadata": {},
          "output_type": "display_data"
        },
        {
          "data": {
            "text/plain": [
              "'1990-03-30: 145.26826137902637 | 122.70724900949284'"
            ]
          },
          "metadata": {},
          "output_type": "display_data"
        },
        {
          "name": "stdout",
          "output_type": "stream",
          "text": [
            "CLOSE TRADES LENGTH:  40\n",
            "OPEN TRADES LENGTH:  40\n"
          ]
        },
        {
          "data": {
            "text/plain": [
              "'1990-04-30: 139.03679978203584 | 139.03679978203587'"
            ]
          },
          "metadata": {},
          "output_type": "display_data"
        },
        {
          "data": {
            "text/plain": [
              "'1990-05-30: 137.87614143297537 | 154.5066493636242'"
            ]
          },
          "metadata": {},
          "output_type": "display_data"
        },
        {
          "data": {
            "text/plain": [
              "'1990-06-30: 141.55338311280087 | 156.38471930508047'"
            ]
          },
          "metadata": {},
          "output_type": "display_data"
        },
        {
          "data": {
            "text/plain": [
              "'1990-07-30: 148.10627061059716 | 151.20812303190883'"
            ]
          },
          "metadata": {},
          "output_type": "display_data"
        },
        {
          "data": {
            "text/plain": [
              "'1990-08-30: 135.50529907746423 | 129.18141121632368'"
            ]
          },
          "metadata": {},
          "output_type": "display_data"
        },
        {
          "data": {
            "text/plain": [
              "'1990-09-30: 141.63820216625422 | 118.57028902437837'"
            ]
          },
          "metadata": {},
          "output_type": "display_data"
        },
        {
          "data": {
            "text/plain": [
              "'1990-10-30: 134.4180823789669 | 111.54906941268315'"
            ]
          },
          "metadata": {},
          "output_type": "display_data"
        },
        {
          "data": {
            "text/plain": [
              "'1990-11-30: 138.2033139001279 | 118.14229012577196'"
            ]
          },
          "metadata": {},
          "output_type": "display_data"
        },
        {
          "data": {
            "text/plain": [
              "'1990-12-30: 140.02480412882244 | 121.06928333409904'"
            ]
          },
          "metadata": {},
          "output_type": "display_data"
        },
        {
          "data": {
            "text/plain": [
              "'1991-01-30: 136.76163796218944 | 131.44049094057897'"
            ]
          },
          "metadata": {},
          "output_type": "display_data"
        },
        {
          "data": {
            "text/plain": [
              "'1991-02-28: 124.62595101297907 | 153.03369085662257'"
            ]
          },
          "metadata": {},
          "output_type": "display_data"
        },
        {
          "data": {
            "text/plain": [
              "'1991-03-30: 126.17980960304223 | 159.6647892963686'"
            ]
          },
          "metadata": {},
          "output_type": "display_data"
        },
        {
          "name": "stdout",
          "output_type": "stream",
          "text": [
            "CLOSE TRADES LENGTH:  40\n",
            "OPEN TRADES LENGTH:  40\n"
          ]
        },
        {
          "data": {
            "text/plain": [
              "'1991-04-30: 129.88685687829013 | 129.88685687829013'"
            ]
          },
          "metadata": {},
          "output_type": "display_data"
        },
        {
          "data": {
            "text/plain": [
              "'1991-05-30: 121.60347844510542 | 133.52656586476212'"
            ]
          },
          "metadata": {},
          "output_type": "display_data"
        },
        {
          "data": {
            "text/plain": [
              "'1991-06-30: 112.4898824250263 | 127.81820531777805'"
            ]
          },
          "metadata": {},
          "output_type": "display_data"
        },
        {
          "data": {
            "text/plain": [
              "'1991-07-30: 109.65223990857564 | 132.35005007578488'"
            ]
          },
          "metadata": {},
          "output_type": "display_data"
        },
        {
          "data": {
            "text/plain": [
              "'1991-08-30: 110.46203858574928 | 138.180161255672'"
            ]
          },
          "metadata": {},
          "output_type": "display_data"
        },
        {
          "data": {
            "text/plain": [
              "'1991-09-30: 113.66287508858059 | 143.78667114049233'"
            ]
          },
          "metadata": {},
          "output_type": "display_data"
        },
        {
          "data": {
            "text/plain": [
              "'1991-10-30: 110.95391560961568 | 152.1556104322535'"
            ]
          },
          "metadata": {},
          "output_type": "display_data"
        },
        {
          "data": {
            "text/plain": [
              "'1991-11-30: 101.55561761882191 | 143.4931398262388'"
            ]
          },
          "metadata": {},
          "output_type": "display_data"
        },
        {
          "data": {
            "text/plain": [
              "'1991-12-30: 92.44221098915332 | 149.45253625119727'"
            ]
          },
          "metadata": {},
          "output_type": "display_data"
        },
        {
          "data": {
            "text/plain": [
              "'1992-01-30: 79.43555093677014 | 172.03022783631812'"
            ]
          },
          "metadata": {},
          "output_type": "display_data"
        },
        {
          "data": {
            "text/plain": [
              "'1992-02-29: 63.7052781818076 | 173.0865042418725'"
            ]
          },
          "metadata": {},
          "output_type": "display_data"
        },
        {
          "data": {
            "text/plain": [
              "'1992-03-30: 44.33862196889629 | 168.67361223061118'"
            ]
          },
          "metadata": {},
          "output_type": "display_data"
        },
        {
          "name": "stdout",
          "output_type": "stream",
          "text": [
            "CLOSE TRADES LENGTH:  40\n",
            "OPEN TRADES LENGTH:  40\n"
          ]
        },
        {
          "data": {
            "text/plain": [
              "'1992-04-30: 36.493932255497825 | 36.493932255497825'"
            ]
          },
          "metadata": {},
          "output_type": "display_data"
        },
        {
          "data": {
            "text/plain": [
              "'1992-05-30: 36.62789418202131 | 37.146743014470616'"
            ]
          },
          "metadata": {},
          "output_type": "display_data"
        },
        {
          "data": {
            "text/plain": [
              "'1992-06-30: 36.85898595713821 | 32.744116040123956'"
            ]
          },
          "metadata": {},
          "output_type": "display_data"
        },
        {
          "data": {
            "text/plain": [
              "'1992-07-30: 36.53245087324211 | 34.43239360894365'"
            ]
          },
          "metadata": {},
          "output_type": "display_data"
        },
        {
          "data": {
            "text/plain": [
              "'1992-08-30: 35.56106132599962 | 33.23922374146882'"
            ]
          },
          "metadata": {},
          "output_type": "display_data"
        },
        {
          "data": {
            "text/plain": [
              "'1992-09-30: 38.01379784218132 | 33.838830892275446'"
            ]
          },
          "metadata": {},
          "output_type": "display_data"
        },
        {
          "data": {
            "text/plain": [
              "'1992-10-30: 38.554702592053005 | 36.692636345921315'"
            ]
          },
          "metadata": {},
          "output_type": "display_data"
        },
        {
          "data": {
            "text/plain": [
              "'1992-11-30: 41.238002572649606 | 41.536257965190934'"
            ]
          },
          "metadata": {},
          "output_type": "display_data"
        },
        {
          "data": {
            "text/plain": [
              "'1992-12-30: 38.5074012279523 | 44.452010955929296'"
            ]
          },
          "metadata": {},
          "output_type": "display_data"
        },
        {
          "data": {
            "text/plain": [
              "'1993-01-30: 35.24926454279674 | 44.7446748022855'"
            ]
          },
          "metadata": {},
          "output_type": "display_data"
        },
        {
          "data": {
            "text/plain": [
              "'1993-02-28: 33.93529683921511 | 42.19710261628657'"
            ]
          },
          "metadata": {},
          "output_type": "display_data"
        },
        {
          "data": {
            "text/plain": [
              "'1993-03-30: 31.326375232633655 | 43.59642993959993'"
            ]
          },
          "metadata": {},
          "output_type": "display_data"
        },
        {
          "name": "stdout",
          "output_type": "stream",
          "text": [
            "CLOSE TRADES LENGTH:  40\n",
            "OPEN TRADES LENGTH:  40\n"
          ]
        },
        {
          "data": {
            "text/plain": [
              "'1993-04-30: 32.83368356648053 | 32.83368356648053'"
            ]
          },
          "metadata": {},
          "output_type": "display_data"
        },
        {
          "data": {
            "text/plain": [
              "'1993-05-30: 32.82365615951933 | 36.27068237022032'"
            ]
          },
          "metadata": {},
          "output_type": "display_data"
        },
        {
          "data": {
            "text/plain": [
              "'1993-06-30: 33.916345751198435 | 36.0899484223649'"
            ]
          },
          "metadata": {},
          "output_type": "display_data"
        },
        {
          "data": {
            "text/plain": [
              "'1993-07-30: 31.039915089220376 | 35.87550985137722'"
            ]
          },
          "metadata": {},
          "output_type": "display_data"
        },
        {
          "data": {
            "text/plain": [
              "'1993-08-30: 32.77948104600386 | 39.49853929115527'"
            ]
          },
          "metadata": {},
          "output_type": "display_data"
        },
        {
          "data": {
            "text/plain": [
              "'1993-09-30: 31.311044622565333 | 42.85588042513275'"
            ]
          },
          "metadata": {},
          "output_type": "display_data"
        },
        {
          "data": {
            "text/plain": [
              "'1993-10-30: 30.87161317601084 | 43.66161463731024'"
            ]
          },
          "metadata": {},
          "output_type": "display_data"
        },
        {
          "data": {
            "text/plain": [
              "'1993-11-30: 28.543176235866415 | 40.82896692499638'"
            ]
          },
          "metadata": {},
          "output_type": "display_data"
        },
        {
          "ename": "KeyboardInterrupt",
          "evalue": "",
          "output_type": "error",
          "traceback": [
            "\u001b[1;31m---------------------------------------------------------------------------\u001b[0m",
            "\u001b[1;31mKeyboardInterrupt\u001b[0m                         Traceback (most recent call last)",
            "\u001b[1;32m<ipython-input-117-0925ed1c0545>\u001b[0m in \u001b[0;36m<module>\u001b[1;34m\u001b[0m\n\u001b[0;32m     13\u001b[0m     \u001b[1;31m# dataframes for the date\u001b[0m\u001b[1;33m\u001b[0m\u001b[1;33m\u001b[0m\u001b[1;33m\u001b[0m\u001b[0m\n\u001b[0;32m     14\u001b[0m     \u001b[0mtemp_df\u001b[0m \u001b[1;33m=\u001b[0m \u001b[0mdata_processor\u001b[0m\u001b[1;33m.\u001b[0m\u001b[0msignal_df_for_date\u001b[0m\u001b[1;33m(\u001b[0m\u001b[0mdate\u001b[0m\u001b[1;33m)\u001b[0m\u001b[1;33m\u001b[0m\u001b[1;33m\u001b[0m\u001b[0m\n\u001b[1;32m---> 15\u001b[1;33m     \u001b[0msignal_df\u001b[0m \u001b[1;33m=\u001b[0m \u001b[0mdata_processor\u001b[0m\u001b[1;33m.\u001b[0m\u001b[0mfilter_and_rank\u001b[0m\u001b[1;33m(\u001b[0m\u001b[0mdata_processor\u001b[0m\u001b[1;33m.\u001b[0m\u001b[0msignal_df\u001b[0m\u001b[1;33m)\u001b[0m\u001b[1;33m\u001b[0m\u001b[1;33m\u001b[0m\u001b[0m\n\u001b[0m\u001b[0;32m     16\u001b[0m     \u001b[1;31m# price_df = data_processor.price_df_for_date(date)\u001b[0m\u001b[1;33m\u001b[0m\u001b[1;33m\u001b[0m\u001b[1;33m\u001b[0m\u001b[0m\n\u001b[0;32m     17\u001b[0m     \u001b[1;31m# Update prices to reflect the new values after however much time has passed\u001b[0m\u001b[1;33m\u001b[0m\u001b[1;33m\u001b[0m\u001b[1;33m\u001b[0m\u001b[0m\n",
            "\u001b[1;32m<ipython-input-110-96ccfeb5d174>\u001b[0m in \u001b[0;36mfilter_and_rank\u001b[1;34m(self, df)\u001b[0m\n\u001b[0;32m    122\u001b[0m         \u001b[0mfiltered_df\u001b[0m \u001b[1;33m=\u001b[0m \u001b[0mfiltered_df\u001b[0m\u001b[1;33m[\u001b[0m\u001b[0mfiltered_df\u001b[0m\u001b[1;33m[\u001b[0m\u001b[1;34m'market_cap'\u001b[0m\u001b[1;33m]\u001b[0m\u001b[1;33m.\u001b[0m\u001b[0mnotna\u001b[0m\u001b[1;33m(\u001b[0m\u001b[1;33m)\u001b[0m\u001b[1;33m]\u001b[0m\u001b[1;33m\u001b[0m\u001b[1;33m\u001b[0m\u001b[0m\n\u001b[0;32m    123\u001b[0m         \u001b[0mfiltered_df\u001b[0m\u001b[1;33m.\u001b[0m\u001b[0mrename\u001b[0m\u001b[1;33m(\u001b[0m\u001b[0mcolumns\u001b[0m\u001b[1;33m=\u001b[0m\u001b[1;33m{\u001b[0m\u001b[1;34m'PERMNO'\u001b[0m\u001b[1;33m:\u001b[0m\u001b[1;34m'security_id'\u001b[0m\u001b[1;33m,\u001b[0m \u001b[1;34m'PRC'\u001b[0m\u001b[1;33m:\u001b[0m \u001b[1;34m'prc'\u001b[0m\u001b[1;33m,\u001b[0m \u001b[1;34m'RET'\u001b[0m\u001b[1;33m:\u001b[0m \u001b[1;34m'ret'\u001b[0m\u001b[1;33m}\u001b[0m\u001b[1;33m,\u001b[0m \u001b[0minplace\u001b[0m\u001b[1;33m=\u001b[0m\u001b[1;32mTrue\u001b[0m\u001b[1;33m)\u001b[0m  \u001b[1;31m# use permno as our security_id\u001b[0m\u001b[1;33m\u001b[0m\u001b[1;33m\u001b[0m\u001b[0m\n\u001b[1;32m--> 124\u001b[1;33m         \u001b[0mfiltered_df\u001b[0m \u001b[1;33m=\u001b[0m \u001b[0mself\u001b[0m\u001b[1;33m.\u001b[0m\u001b[0mrank_by_market_cap\u001b[0m\u001b[1;33m(\u001b[0m\u001b[0mfiltered_df\u001b[0m\u001b[1;33m)\u001b[0m\u001b[1;33m\u001b[0m\u001b[1;33m\u001b[0m\u001b[0m\n\u001b[0m\u001b[0;32m    125\u001b[0m         \u001b[1;31m# ranking process\u001b[0m\u001b[1;33m\u001b[0m\u001b[1;33m\u001b[0m\u001b[1;33m\u001b[0m\u001b[0m\n\u001b[0;32m    126\u001b[0m         \u001b[1;32mreturn\u001b[0m \u001b[0mfiltered_df\u001b[0m\u001b[1;33m\u001b[0m\u001b[1;33m\u001b[0m\u001b[0m\n",
            "\u001b[1;32m<ipython-input-110-96ccfeb5d174>\u001b[0m in \u001b[0;36mrank_by_market_cap\u001b[1;34m(self, df)\u001b[0m\n\u001b[0;32m    148\u001b[0m \u001b[1;33m\u001b[0m\u001b[0m\n\u001b[0;32m    149\u001b[0m     \u001b[1;32mdef\u001b[0m \u001b[0mrank_by_market_cap\u001b[0m\u001b[1;33m(\u001b[0m\u001b[0mself\u001b[0m\u001b[1;33m,\u001b[0m \u001b[0mdf\u001b[0m\u001b[1;33m)\u001b[0m\u001b[1;33m:\u001b[0m\u001b[1;33m\u001b[0m\u001b[1;33m\u001b[0m\u001b[0m\n\u001b[1;32m--> 150\u001b[1;33m         \u001b[0mdf\u001b[0m\u001b[1;33m[\u001b[0m\u001b[1;34m'rank'\u001b[0m\u001b[1;33m]\u001b[0m \u001b[1;33m=\u001b[0m \u001b[0mdf\u001b[0m\u001b[1;33m.\u001b[0m\u001b[0mgroupby\u001b[0m\u001b[1;33m(\u001b[0m\u001b[1;33m[\u001b[0m\u001b[1;34m'date'\u001b[0m\u001b[1;33m]\u001b[0m\u001b[1;33m)\u001b[0m\u001b[1;33m[\u001b[0m\u001b[1;34m'market_cap'\u001b[0m\u001b[1;33m]\u001b[0m\u001b[1;33m.\u001b[0m\u001b[0mrank\u001b[0m\u001b[1;33m(\u001b[0m\u001b[0mascending\u001b[0m\u001b[1;33m=\u001b[0m\u001b[1;32mFalse\u001b[0m\u001b[1;33m,\u001b[0m \u001b[0mmethod\u001b[0m\u001b[1;33m=\u001b[0m\u001b[1;34m'first'\u001b[0m\u001b[1;33m)\u001b[0m\u001b[1;33m\u001b[0m\u001b[1;33m\u001b[0m\u001b[0m\n\u001b[0m\u001b[0;32m    151\u001b[0m         \u001b[1;32mreturn\u001b[0m \u001b[0mdf\u001b[0m\u001b[1;33m\u001b[0m\u001b[1;33m\u001b[0m\u001b[0m\n\u001b[0;32m    152\u001b[0m \u001b[1;33m\u001b[0m\u001b[0m\n",
            "\u001b[1;32mc:\\Users\\trent\\anaconda3\\lib\\site-packages\\pandas\\core\\groupby\\groupby.py\u001b[0m in \u001b[0;36mrank\u001b[1;34m(self, method, ascending, na_option, pct, axis)\u001b[0m\n\u001b[0;32m   2297\u001b[0m             \u001b[0mmsg\u001b[0m \u001b[1;33m=\u001b[0m \u001b[1;34m\"na_option must be one of 'keep', 'top', or 'bottom'\"\u001b[0m\u001b[1;33m\u001b[0m\u001b[1;33m\u001b[0m\u001b[0m\n\u001b[0;32m   2298\u001b[0m             \u001b[1;32mraise\u001b[0m \u001b[0mValueError\u001b[0m\u001b[1;33m(\u001b[0m\u001b[0mmsg\u001b[0m\u001b[1;33m)\u001b[0m\u001b[1;33m\u001b[0m\u001b[1;33m\u001b[0m\u001b[0m\n\u001b[1;32m-> 2299\u001b[1;33m         return self._cython_transform(\n\u001b[0m\u001b[0;32m   2300\u001b[0m             \u001b[1;34m\"rank\"\u001b[0m\u001b[1;33m,\u001b[0m\u001b[1;33m\u001b[0m\u001b[1;33m\u001b[0m\u001b[0m\n\u001b[0;32m   2301\u001b[0m             \u001b[0mnumeric_only\u001b[0m\u001b[1;33m=\u001b[0m\u001b[1;32mFalse\u001b[0m\u001b[1;33m,\u001b[0m\u001b[1;33m\u001b[0m\u001b[1;33m\u001b[0m\u001b[0m\n",
            "\u001b[1;32mc:\\Users\\trent\\anaconda3\\lib\\site-packages\\pandas\\core\\groupby\\groupby.py\u001b[0m in \u001b[0;36m_cython_transform\u001b[1;34m(self, how, numeric_only, **kwargs)\u001b[0m\n\u001b[0;32m    959\u001b[0m \u001b[1;33m\u001b[0m\u001b[0m\n\u001b[0;32m    960\u001b[0m             \u001b[1;32mtry\u001b[0m\u001b[1;33m:\u001b[0m\u001b[1;33m\u001b[0m\u001b[1;33m\u001b[0m\u001b[0m\n\u001b[1;32m--> 961\u001b[1;33m                 \u001b[0mresult\u001b[0m\u001b[1;33m,\u001b[0m \u001b[0m_\u001b[0m \u001b[1;33m=\u001b[0m \u001b[0mself\u001b[0m\u001b[1;33m.\u001b[0m\u001b[0mgrouper\u001b[0m\u001b[1;33m.\u001b[0m\u001b[0mtransform\u001b[0m\u001b[1;33m(\u001b[0m\u001b[0mobj\u001b[0m\u001b[1;33m.\u001b[0m\u001b[0mvalues\u001b[0m\u001b[1;33m,\u001b[0m \u001b[0mhow\u001b[0m\u001b[1;33m,\u001b[0m \u001b[1;33m**\u001b[0m\u001b[0mkwargs\u001b[0m\u001b[1;33m)\u001b[0m\u001b[1;33m\u001b[0m\u001b[1;33m\u001b[0m\u001b[0m\n\u001b[0m\u001b[0;32m    962\u001b[0m             \u001b[1;32mexcept\u001b[0m \u001b[0mNotImplementedError\u001b[0m\u001b[1;33m:\u001b[0m\u001b[1;33m\u001b[0m\u001b[1;33m\u001b[0m\u001b[0m\n\u001b[0;32m    963\u001b[0m                 \u001b[1;32mcontinue\u001b[0m\u001b[1;33m\u001b[0m\u001b[1;33m\u001b[0m\u001b[0m\n",
            "\u001b[1;32mc:\\Users\\trent\\anaconda3\\lib\\site-packages\\pandas\\core\\groupby\\ops.py\u001b[0m in \u001b[0;36mtransform\u001b[1;34m(self, values, how, axis, **kwargs)\u001b[0m\n\u001b[0;32m    587\u001b[0m \u001b[1;33m\u001b[0m\u001b[0m\n\u001b[0;32m    588\u001b[0m     \u001b[1;32mdef\u001b[0m \u001b[0mtransform\u001b[0m\u001b[1;33m(\u001b[0m\u001b[0mself\u001b[0m\u001b[1;33m,\u001b[0m \u001b[0mvalues\u001b[0m\u001b[1;33m,\u001b[0m \u001b[0mhow\u001b[0m\u001b[1;33m:\u001b[0m \u001b[0mstr\u001b[0m\u001b[1;33m,\u001b[0m \u001b[0maxis\u001b[0m\u001b[1;33m:\u001b[0m \u001b[0mint\u001b[0m \u001b[1;33m=\u001b[0m \u001b[1;36m0\u001b[0m\u001b[1;33m,\u001b[0m \u001b[1;33m**\u001b[0m\u001b[0mkwargs\u001b[0m\u001b[1;33m)\u001b[0m\u001b[1;33m:\u001b[0m\u001b[1;33m\u001b[0m\u001b[1;33m\u001b[0m\u001b[0m\n\u001b[1;32m--> 589\u001b[1;33m         \u001b[1;32mreturn\u001b[0m \u001b[0mself\u001b[0m\u001b[1;33m.\u001b[0m\u001b[0m_cython_operation\u001b[0m\u001b[1;33m(\u001b[0m\u001b[1;34m\"transform\"\u001b[0m\u001b[1;33m,\u001b[0m \u001b[0mvalues\u001b[0m\u001b[1;33m,\u001b[0m \u001b[0mhow\u001b[0m\u001b[1;33m,\u001b[0m \u001b[0maxis\u001b[0m\u001b[1;33m,\u001b[0m \u001b[1;33m**\u001b[0m\u001b[0mkwargs\u001b[0m\u001b[1;33m)\u001b[0m\u001b[1;33m\u001b[0m\u001b[1;33m\u001b[0m\u001b[0m\n\u001b[0m\u001b[0;32m    590\u001b[0m \u001b[1;33m\u001b[0m\u001b[0m\n\u001b[0;32m    591\u001b[0m     def _aggregate(\n",
            "\u001b[1;32mc:\\Users\\trent\\anaconda3\\lib\\site-packages\\pandas\\core\\groupby\\ops.py\u001b[0m in \u001b[0;36m_cython_operation\u001b[1;34m(self, kind, values, how, axis, min_count, **kwargs)\u001b[0m\n\u001b[0;32m    542\u001b[0m \u001b[1;33m\u001b[0m\u001b[0m\n\u001b[0;32m    543\u001b[0m             \u001b[1;31m# TODO: min_count\u001b[0m\u001b[1;33m\u001b[0m\u001b[1;33m\u001b[0m\u001b[1;33m\u001b[0m\u001b[0m\n\u001b[1;32m--> 544\u001b[1;33m             result = self._transform(\n\u001b[0m\u001b[0;32m    545\u001b[0m                 \u001b[0mresult\u001b[0m\u001b[1;33m,\u001b[0m \u001b[0mvalues\u001b[0m\u001b[1;33m,\u001b[0m \u001b[0mcodes\u001b[0m\u001b[1;33m,\u001b[0m \u001b[0mfunc\u001b[0m\u001b[1;33m,\u001b[0m \u001b[0mis_datetimelike\u001b[0m\u001b[1;33m,\u001b[0m \u001b[1;33m**\u001b[0m\u001b[0mkwargs\u001b[0m\u001b[1;33m\u001b[0m\u001b[1;33m\u001b[0m\u001b[0m\n\u001b[0;32m    546\u001b[0m             )\n",
            "\u001b[1;32mc:\\Users\\trent\\anaconda3\\lib\\site-packages\\pandas\\core\\groupby\\ops.py\u001b[0m in \u001b[0;36m_transform\u001b[1;34m(self, result, values, comp_ids, transform_func, is_datetimelike, **kwargs)\u001b[0m\n\u001b[0;32m    606\u001b[0m \u001b[1;33m\u001b[0m\u001b[0m\n\u001b[0;32m    607\u001b[0m         \u001b[0mcomp_ids\u001b[0m\u001b[1;33m,\u001b[0m \u001b[0m_\u001b[0m\u001b[1;33m,\u001b[0m \u001b[0mngroups\u001b[0m \u001b[1;33m=\u001b[0m \u001b[0mself\u001b[0m\u001b[1;33m.\u001b[0m\u001b[0mgroup_info\u001b[0m\u001b[1;33m\u001b[0m\u001b[1;33m\u001b[0m\u001b[0m\n\u001b[1;32m--> 608\u001b[1;33m         \u001b[0mtransform_func\u001b[0m\u001b[1;33m(\u001b[0m\u001b[0mresult\u001b[0m\u001b[1;33m,\u001b[0m \u001b[0mvalues\u001b[0m\u001b[1;33m,\u001b[0m \u001b[0mcomp_ids\u001b[0m\u001b[1;33m,\u001b[0m \u001b[0mngroups\u001b[0m\u001b[1;33m,\u001b[0m \u001b[0mis_datetimelike\u001b[0m\u001b[1;33m,\u001b[0m \u001b[1;33m**\u001b[0m\u001b[0mkwargs\u001b[0m\u001b[1;33m)\u001b[0m\u001b[1;33m\u001b[0m\u001b[1;33m\u001b[0m\u001b[0m\n\u001b[0m\u001b[0;32m    609\u001b[0m \u001b[1;33m\u001b[0m\u001b[0m\n\u001b[0;32m    610\u001b[0m         \u001b[1;32mreturn\u001b[0m \u001b[0mresult\u001b[0m\u001b[1;33m\u001b[0m\u001b[1;33m\u001b[0m\u001b[0m\n",
            "\u001b[1;32mpandas\\_libs\\groupby.pyx\u001b[0m in \u001b[0;36mpandas._libs.groupby.group_rank\u001b[1;34m()\u001b[0m\n",
            "\u001b[1;32m<__array_function__ internals>\u001b[0m in \u001b[0;36mlexsort\u001b[1;34m(*args, **kwargs)\u001b[0m\n",
            "\u001b[1;31mKeyboardInterrupt\u001b[0m: "
          ]
        }
      ],
      "source": [
        "# Step 3: Run actual backtest\n",
        "# Do NOT edit this cell without a very good reason\n",
        "import warnings\n",
        "warnings.filterwarnings(\"ignore\")\n",
        "# Add 100 initial cash to our portfolios\n",
        "portfolio_db.add_cash(100)\n",
        "\n",
        "# Get our list of unique dates\n",
        "udates = data_processor.unique_dates()\n",
        "\n",
        "# Main loop for the backtest\n",
        "for date in udates:\n",
        "    # dataframes for the date\n",
        "    temp_df = data_processor.signal_df_for_date(date)\n",
        "    signal_df = data_processor.filter_and_rank(data_processor.signal_df)\n",
        "    # price_df = data_processor.price_df_for_date(date)\n",
        "    # Update prices to reflect the new values after however much time has passed\n",
        "    # Need to do this first each date because the updated prices may affect our trading rule\n",
        "    portfolio_db.update_prices(temp_df)\n",
        "    \n",
        "    if date.month == 4: \n",
        "        # Ask the trading rule what trades we should make\n",
        "        open_trades_df, close_trades_df = trading_rule.compute_trades(signal_df=signal_df, date=date)\n",
        "        if date.year == 1992:\n",
        "            open_trades_df.to_csv(\"DebugFile.csv\")\n",
        "        # print(date)\n",
        "        # apply dates to trades\n",
        "        open_trades_df.loc[:,'open_datetime'] = date\n",
        "        close_trades_df.loc[:,'close_datetime'] = date\n",
        "        # signal_df.to_csv(\"DebugFile.csv\")\n",
        "        # execute trades\n",
        "        trade_executor.execute_opens(open_trades_df=open_trades_df, price_df=temp_df)\n",
        "        trade_executor.execute_closes(close_trades_df=close_trades_df, price_df=temp_df) \n",
        "    # Record account data for today\n",
        "    portfolio_db.record_account_data(price_df=temp_df,datetime=date)\n",
        "    \n",
        "    # Do some fancy output tracking our NAV and margin requirement each day\n",
        "    # clear_output(wait=True)\n",
        "    display( np.datetime_as_string(np.datetime64(date), unit='D') + ': ' + str(portfolio_db.current_nav()) + \" | \" + str(portfolio_db.current_margin()))\n",
        "# Now that the loop is done, tell the statistican to output stats"
      ]
    },
    {
      "cell_type": "code",
      "execution_count": null,
      "metadata": {},
      "outputs": [
        {
          "ename": "NameError",
          "evalue": "name 'statistican' is not defined",
          "output_type": "error",
          "traceback": [
            "\u001b[1;31m---------------------------------------------------------------------------\u001b[0m",
            "\u001b[1;31mNameError\u001b[0m                                 Traceback (most recent call last)",
            "\u001b[1;32m<ipython-input-1-093bf01c5ba1>\u001b[0m in \u001b[0;36m<module>\u001b[1;34m\u001b[0m\n\u001b[1;32m----> 1\u001b[1;33m \u001b[0mstatistican\u001b[0m\u001b[1;33m.\u001b[0m\u001b[0mnav_plot\u001b[0m\u001b[1;33m(\u001b[0m\u001b[1;33m)\u001b[0m\u001b[1;33m\u001b[0m\u001b[1;33m\u001b[0m\u001b[0m\n\u001b[0m\u001b[0;32m      2\u001b[0m \u001b[0mstatistican\u001b[0m\u001b[1;33m.\u001b[0m\u001b[0moutput_stats\u001b[0m\u001b[1;33m(\u001b[0m\u001b[1;33m)\u001b[0m\u001b[1;33m\u001b[0m\u001b[1;33m\u001b[0m\u001b[0m\n",
            "\u001b[1;31mNameError\u001b[0m: name 'statistican' is not defined"
          ]
        }
      ],
      "source": [
        "statistican.nav_plot()\n",
        "statistican.output_stats()"
      ]
    }
  ],
  "metadata": {
    "colab": {
      "provenance": []
    },
    "kernelspec": {
      "display_name": "Python 3",
      "language": "python",
      "name": "python3"
    },
    "language_info": {
      "codemirror_mode": {
        "name": "ipython",
        "version": 3
      },
      "file_extension": ".py",
      "mimetype": "text/x-python",
      "name": "python",
      "nbconvert_exporter": "python",
      "pygments_lexer": "ipython3",
      "version": "3.8.5"
    },
    "vscode": {
      "interpreter": {
        "hash": "08aaebccf46177101be16f6e26ae2889575a915459ea24a9bfd89d18fb6b39fb"
      }
    }
  },
  "nbformat": 4,
  "nbformat_minor": 0
}
