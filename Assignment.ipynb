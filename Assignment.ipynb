{
  "cells": [
    {
      "cell_type": "markdown",
      "metadata": {
        "id": "HmRbPqCoV8hW"
      },
      "source": [
        "# <span style=\"color:blue\">Quant Final Project</span>\n",
        "## Finance 372 - Prof Travis Johnson"
      ]
    },
    {
      "cell_type": "markdown",
      "metadata": {
        "id": "rY2TsKH4V8hY"
      },
      "source": [
        "## Solution by: <span style=\"color:orange\">Trent Becker, Arjun Nair, Madhavan Uchani </span>"
      ]
    },
    {
      "cell_type": "code",
      "execution_count": 5,
      "metadata": {
        "id": "RXYIbw3rV8hY"
      },
      "outputs": [],
      "source": [
        "import pandas as pd\n",
        "import datetime as dt\n",
        "import numpy as np\n",
        "from pathlib import Path"
      ]
    },
    {
      "cell_type": "code",
      "execution_count": 6,
      "metadata": {
        "id": "WpnDfGn0V8hZ"
      },
      "outputs": [],
      "source": [
        "# Solution\n",
        "# signal_df = pd.read_stata(\"final_project_data.dta\")\n",
        "#TODO --> Determine if we need the foreign identifier code from compustat data or if we can justify not needing it\n",
        "df = pd.read_csv(\"crsp_finalproject.csv\", dtype={'PERMNO': 'str', 'date': 'str', 'TICKER': 'str', 'COMNAM': 'str', 'PRC': 'float', 'VOL': 'float', 'RET': 'str', 'SHROUT': 'float'})\n",
        "df['RET'] = pd.to_numeric(df['RET'], errors='coerce')\n",
        "df['RET'] = df['RET'].astype(float)\n",
        "df = df[df['date'] >= '1983-06-01']"
      ]
    },
    {
      "cell_type": "markdown",
      "metadata": {
        "id": "4x8huJPhV8hZ"
      },
      "source": [
        "Now remove unnecessary columns, keeping only gvkey, datadate, at, cogs, and revt. Write the edited dataframe into a .dta file using `.to_stata('gp_data.dta',write_index=False)`"
      ]
    },
    {
      "cell_type": "code",
      "execution_count": 118,
      "metadata": {
        "id": "X_A8xzlAV8hZ"
      },
      "outputs": [],
      "source": [
        "# Solution\n",
        "#signal_df = signal_df[['PERMNO', 'date', 'TICKER', 'COMNAM', 'PRC', 'VOL', 'RET', 'SHROUT']]\n",
        "#signal_df.to_stata('index_rebalancing_data.dta', write_index=False)\n",
        "df1985 = df[pd.to_datetime(df['date']).dt.year == 1985]\n",
        "df1985.to_csv(\"1985data.csv\")"
      ]
    },
    {
      "cell_type": "markdown",
      "metadata": {
        "id": "TJKZFr4rV8ha"
      },
      "source": [
        "Run this cell without editing it to show us what your signal_df looks like:"
      ]
    },
    {
      "cell_type": "code",
      "execution_count": 8,
      "metadata": {
        "colab": {
          "base_uri": "https://localhost:8080/",
          "height": 423
        },
        "id": "wlFy9pWHV8ha",
        "outputId": "e4480a66-9356-4997-a5a0-5052cca747fc"
      },
      "outputs": [
        {
          "data": {
            "text/html": [
              "<div>\n",
              "<style scoped>\n",
              "    .dataframe tbody tr th:only-of-type {\n",
              "        vertical-align: middle;\n",
              "    }\n",
              "\n",
              "    .dataframe tbody tr th {\n",
              "        vertical-align: top;\n",
              "    }\n",
              "\n",
              "    .dataframe thead th {\n",
              "        text-align: right;\n",
              "    }\n",
              "</style>\n",
              "<table border=\"1\" class=\"dataframe\">\n",
              "  <thead>\n",
              "    <tr style=\"text-align: right;\">\n",
              "      <th></th>\n",
              "      <th>PERMNO</th>\n",
              "      <th>date</th>\n",
              "      <th>TICKER</th>\n",
              "      <th>COMNAM</th>\n",
              "      <th>PRC</th>\n",
              "      <th>VOL</th>\n",
              "      <th>RET</th>\n",
              "      <th>SHROUT</th>\n",
              "    </tr>\n",
              "  </thead>\n",
              "  <tbody>\n",
              "    <tr>\n",
              "      <th>1079</th>\n",
              "      <td>10006</td>\n",
              "      <td>1984-04-30</td>\n",
              "      <td>ACF</td>\n",
              "      <td>A C F INDUSTRIES INC</td>\n",
              "      <td>52.6250</td>\n",
              "      <td>19428.0</td>\n",
              "      <td>0.031863</td>\n",
              "      <td>8385.0</td>\n",
              "    </tr>\n",
              "    <tr>\n",
              "      <th>1936</th>\n",
              "      <td>10015</td>\n",
              "      <td>1984-04-30</td>\n",
              "      <td>AMFD</td>\n",
              "      <td>A &amp; M FOOD SERVICES INC</td>\n",
              "      <td>-7.2500</td>\n",
              "      <td>1362.0</td>\n",
              "      <td>0.104762</td>\n",
              "      <td>3568.0</td>\n",
              "    </tr>\n",
              "    <tr>\n",
              "      <th>4175</th>\n",
              "      <td>10031</td>\n",
              "      <td>1984-04-30</td>\n",
              "      <td>ANTQ</td>\n",
              "      <td>A A IMPORTING INC</td>\n",
              "      <td>-4.3125</td>\n",
              "      <td>203.0</td>\n",
              "      <td>-0.178571</td>\n",
              "      <td>2683.0</td>\n",
              "    </tr>\n",
              "    <tr>\n",
              "      <th>8015</th>\n",
              "      <td>10057</td>\n",
              "      <td>1984-04-30</td>\n",
              "      <td>AMT</td>\n",
              "      <td>ACME CLEVELAND CORP</td>\n",
              "      <td>21.0000</td>\n",
              "      <td>2576.0</td>\n",
              "      <td>0.004762</td>\n",
              "      <td>6106.0</td>\n",
              "    </tr>\n",
              "    <tr>\n",
              "      <th>8300</th>\n",
              "      <td>10058</td>\n",
              "      <td>1984-04-30</td>\n",
              "      <td>ABKC</td>\n",
              "      <td>A B K C O INDUSTRIES INC</td>\n",
              "      <td>-0.6875</td>\n",
              "      <td>6.0</td>\n",
              "      <td>-0.083333</td>\n",
              "      <td>1089.0</td>\n",
              "    </tr>\n",
              "    <tr>\n",
              "      <th>...</th>\n",
              "      <td>...</td>\n",
              "      <td>...</td>\n",
              "      <td>...</td>\n",
              "      <td>...</td>\n",
              "      <td>...</td>\n",
              "      <td>...</td>\n",
              "      <td>...</td>\n",
              "      <td>...</td>\n",
              "    </tr>\n",
              "    <tr>\n",
              "      <th>4018028</th>\n",
              "      <td>90705</td>\n",
              "      <td>1984-04-30</td>\n",
              "      <td>OPTC</td>\n",
              "      <td>OPTELECOM INC</td>\n",
              "      <td>-4.6875</td>\n",
              "      <td>1318.0</td>\n",
              "      <td>-0.157303</td>\n",
              "      <td>3025.0</td>\n",
              "    </tr>\n",
              "    <tr>\n",
              "      <th>4051671</th>\n",
              "      <td>90975</td>\n",
              "      <td>1984-04-30</td>\n",
              "      <td>PEOP</td>\n",
              "      <td>PEOPLES BAN CORP</td>\n",
              "      <td>-25.2500</td>\n",
              "      <td>834.0</td>\n",
              "      <td>0.052083</td>\n",
              "      <td>3782.0</td>\n",
              "    </tr>\n",
              "    <tr>\n",
              "      <th>4206531</th>\n",
              "      <td>92321</td>\n",
              "      <td>1984-04-30</td>\n",
              "      <td>NaN</td>\n",
              "      <td>TAURUS OIL CORP</td>\n",
              "      <td>NaN</td>\n",
              "      <td>NaN</td>\n",
              "      <td>NaN</td>\n",
              "      <td>15639.0</td>\n",
              "    </tr>\n",
              "    <tr>\n",
              "      <th>4274787</th>\n",
              "      <td>92946</td>\n",
              "      <td>1984-04-30</td>\n",
              "      <td>VYQT</td>\n",
              "      <td>VYQUEST INC</td>\n",
              "      <td>-5.3125</td>\n",
              "      <td>360.0</td>\n",
              "      <td>-0.086022</td>\n",
              "      <td>3837.0</td>\n",
              "    </tr>\n",
              "    <tr>\n",
              "      <th>4298584</th>\n",
              "      <td>93172</td>\n",
              "      <td>1984-04-30</td>\n",
              "      <td>WINNS</td>\n",
              "      <td>WINN ENTERPRISES</td>\n",
              "      <td>4.6250</td>\n",
              "      <td>1196.0</td>\n",
              "      <td>-0.051282</td>\n",
              "      <td>6140.0</td>\n",
              "    </tr>\n",
              "  </tbody>\n",
              "</table>\n",
              "<p>6514 rows × 8 columns</p>\n",
              "</div>"
            ],
            "text/plain": [
              "        PERMNO        date TICKER                    COMNAM      PRC      VOL  \\\n",
              "1079     10006  1984-04-30    ACF      A C F INDUSTRIES INC  52.6250  19428.0   \n",
              "1936     10015  1984-04-30   AMFD   A & M FOOD SERVICES INC  -7.2500   1362.0   \n",
              "4175     10031  1984-04-30   ANTQ         A A IMPORTING INC  -4.3125    203.0   \n",
              "8015     10057  1984-04-30    AMT       ACME CLEVELAND CORP  21.0000   2576.0   \n",
              "8300     10058  1984-04-30   ABKC  A B K C O INDUSTRIES INC  -0.6875      6.0   \n",
              "...        ...         ...    ...                       ...      ...      ...   \n",
              "4018028  90705  1984-04-30   OPTC             OPTELECOM INC  -4.6875   1318.0   \n",
              "4051671  90975  1984-04-30   PEOP          PEOPLES BAN CORP -25.2500    834.0   \n",
              "4206531  92321  1984-04-30    NaN           TAURUS OIL CORP      NaN      NaN   \n",
              "4274787  92946  1984-04-30   VYQT               VYQUEST INC  -5.3125    360.0   \n",
              "4298584  93172  1984-04-30  WINNS          WINN ENTERPRISES   4.6250   1196.0   \n",
              "\n",
              "              RET   SHROUT  \n",
              "1079     0.031863   8385.0  \n",
              "1936     0.104762   3568.0  \n",
              "4175    -0.178571   2683.0  \n",
              "8015     0.004762   6106.0  \n",
              "8300    -0.083333   1089.0  \n",
              "...           ...      ...  \n",
              "4018028 -0.157303   3025.0  \n",
              "4051671  0.052083   3782.0  \n",
              "4206531       NaN  15639.0  \n",
              "4274787 -0.086022   3837.0  \n",
              "4298584 -0.051282   6140.0  \n",
              "\n",
              "[6514 rows x 8 columns]"
            ]
          },
          "execution_count": 8,
          "metadata": {},
          "output_type": "execute_result"
        }
      ],
      "source": [
        "# print(signal_df.sort_values(by='date'))\n",
        "temp_df = df[df['date'] == '1984-04-30']\n",
        "temp_df"
      ]
    },
    {
      "cell_type": "markdown",
      "metadata": {
        "id": "_RFU4KXgV8hb"
      },
      "source": [
        "Copy and modify the BMDataProcessor to create a IRDataProcessor class. It should load the same `price_df` as before (from the monthly_returns.csv file) but a new `signal_df` with revt, cogs, and lag_at columns (in addition to the date and security_id columns). The lag_at column should contain the prior year's at value, which you can get using the included  `safe_lead_lag` method\n",
        "\n",
        "Let's be very conservative and say we can't rely on having accounting data until 120 days after the end of the fiscal year ('datadate' column). Assume we are willing to use accounting data up to two years old."
      ]
    },
    {
      "cell_type": "markdown",
      "metadata": {
        "id": "MhmGW9wKV8hb"
      },
      "source": [
        "***HINT***: be sure to change the `data_folder_path`, `min_accounting_lag`, `max_accounting_lag`, and the constructor `__init__(self)` to reflect the new strategy. The `unique_dates()` and `signal_df_for_date` functions only need to be updated to use datatdate instead of rdq (since we don't have an rdq column in this annual data). These functions will otherwise work as-is, and the other functions don't need to be changed at all."
      ]
    },
    {
      "cell_type": "code",
      "execution_count": 226,
      "metadata": {
        "id": "KVCp-g0aV8hb"
      },
      "outputs": [],
      "source": [
        "# Solution\n",
        "class IRDataProcessor():\n",
        "    \n",
        "    # Path to where we store the data\n",
        "    data_folder_path = Path('') \n",
        "    # Minimum share price to open a new position\n",
        "    min_share_price = 3.0\n",
        "    \n",
        "    # Constructor, loads/cleans/merges data as needed\n",
        "    def __init__(self):\n",
        "        \n",
        "        # Load price data: monthly 1961-2020 sample from CRSP including all public US equities\n",
        "        # In monthly_returns.csv\n",
        "#         self.price_df = pd.read_csv(self.data_folder_path / 'monthly_returns.csv')\n",
        "        \n",
        "        # Parse the yyyyMMdd int dates into DateTime64\n",
        "        # Based on formatting strings here\n",
        "        # https://docs.python.org/3/library/datetime.html#strftime-and-strptime-behavior\n",
        "#         self.price_df.loc[:,'date'] = pd.to_datetime(self.price_df.loc[:,'date'], format =\"%Y%m%d\")\n",
        "        \n",
        "        # Prices sometimes negative to indicate no volume at closing auction\n",
        "        # In these cases, price = -0.5*(bid+ask)\n",
        "        # But we don't use that information and so want prices to always be positive\n",
        "        # See http://www.crsp.org/products/documentation/data-definitions-p\n",
        "#         self.price_df.loc[:,'prccm'] = np.absolute(self.price_df.loc[:,'prccm'])\n",
        "        \n",
        "        # Add next-months return as a new column 'ret_next'\n",
        "        # Use the safe_lead_lag: want lead return but only when permno the same\n",
        "        # self.price_df.loc[:,'ret_next'] = safe_lead_lag(self.price_df.loc[:,'ret'],self.price_df.loc[:,'permno'],1)\n",
        "        \n",
        "#         self.price_df = self.price_df.dropna()\n",
        "#         self.price_df['market_cap'] = self.price_df['prccm'] * self.price_df['cshom']\n",
        "\n",
        "        # Load accounting data used for BM signal\n",
        "        # Quarterly sample from 1961-2020 from Compustat Fundamentals Quarterly\n",
        "        # Stored in the `comp_bm.dta` file\n",
        "        # `.dta` files are Stata data, and do a better job than `.csv` files of remembering data types\n",
        "        self.signal_df = pd.read_csv(\"crsp_finalproject.csv\", dtype={'PERMNO': 'str', 'date': 'str', 'TICKER': 'str', 'COMNAM': 'str', 'PRC': 'float', 'VOL': 'float', 'RET': 'str', 'SHROUT': 'float'})\n",
        "        self.signal_df = self.signal_df[self.signal_df['date'] >= '1983-06-28']\n",
        "        self.signal_df['RET'] = pd.to_numeric(self.signal_df['RET'], errors='coerce')\n",
        "        self.signal_df['RET'] = self.signal_df['RET'].astype(float)        \n",
        "#         self.signal_df.loc[:, 'lag_at'] = safe_lead_lag(self.signal_df.loc[:, 'at'], self.signal_df.loc[:,'gvkey'], -1)\n",
        "#         self.signal_df.drop('at', axis=1, inplace=True)\n",
        "\n",
        "        self.signal_df['date'] = pd.to_datetime(self.signal_df['date'])\n",
        "        self.signal_df['month'] = pd.DatetimeIndex(self.signal_df['date']).month\n",
        "        self.signal_df['day'] = pd.DatetimeIndex(self.signal_df['date']).day\n",
        "        self.signal_df['year'] = pd.DatetimeIndex(self.signal_df['date']).year\n",
        "        self.signal_df.loc[self.signal_df['month'] == 4, \"day\"] = 30\n",
        "        self.signal_df.loc[self.signal_df['month'] == 6, \"day\"] = 30\n",
        "        import calendar\n",
        "        self.signal_df['date'] = self.signal_df['date'].apply(lambda dt: dt.replace(day=min(calendar.monthrange(dt.year, dt.month)[1],30)))\n",
        "        self.signal_df['PRC'] = self.signal_df['PRC'].abs()\n",
        "        # self.signal_df['date'] = pd.to_datetime(dict(year=self.signal_df.year, month=self.signal_df.month, day=self.signal_df.day))\n",
        "        self.signal_df['market_cap'] = self.signal_df['PRC'] * self.signal_df['SHROUT']\n",
        "        # self.signal_df['ret_next'] = safe_lead_lag(self.signal_df.loc[:,'RET'],self.signal_df.loc[:,'PERMNO'],12)\n",
        "        self.signal_df = self.signal_df.dropna()\n",
        "        \n",
        "        #TODO explain why these dates were selected based on Russell 2000 schedule\n",
        "        prediction_date = '04/30'\n",
        "        last_rebalance = '06/30'\n",
        "        self.signal_df = self.liquidity_filter(self.signal_df)\n",
        "        self.prediction_date = dt.datetime.strptime(prediction_date, '%m/%d')\n",
        "        self.last_rebalance = dt.datetime.strptime(last_rebalance, '%m/%d')\n",
        "\n",
        "        # The problem with our accounting data is that it identifies stocks using gvkey instead of permno\n",
        "        # To merge with return_df, we need to use another dataset that converts gvkey to permno\n",
        "        # This is stored in the gvkey_permno_conversion.dta file\n",
        "#         self.gvkey_permno_conversion = pd.read_stata(self.data_folder_path / 'gvkey_permno_conversion.dta')\n",
        "\n",
        "        # Use a merge command to add the permno column to our signal_df\n",
        "#         self.signal_df = self.signal_df.merge(self.gvkey_permno_conversion,on=['gvkey','datadate'])           \n",
        "        \n",
        "    # Returns an array with the unique dates for which we have loaded data\n",
        "    # Uses from the price_df since that's how frequency we can update portfolio value\n",
        "    # Filters all dates in price_df to return only dates for which we have signals as well\n",
        "    def unique_dates(self):\n",
        "        temp_df = self.signal_df\n",
        "        # temp_df['date'] = temp_df['date'].apply(lambda dt: dt.replace(day=30) if ((dt.month == 4) | (dt.month == 6)) else dt)\n",
        "        price_dates = pd.Series( np.sort(self.signal_df.loc[:,'date'].unique()) )\n",
        "        return price_dates    \n",
        "    # Returns a DataFrame containing one row for all securities in price_df as of date.\n",
        "    # Columns must include:\n",
        "    # - 'date': date on which price data observed\n",
        "    # - 'security_id': a security identifier\n",
        "    # - 'prc': price on date\n",
        "    # - 'ret': return from previous date to date\n",
        "    # Ignores liquidity and future-return availability requirements\n",
        "    # To be used only for closing decisions and execution decisions\n",
        "    # Some of the returned stocks cannot be traded\n",
        "    def price_df_for_date(self,date):\n",
        "        price_date_df = self.signal_df.loc[ self.signal_df.loc[:,'date'] == date, :]\n",
        "        return price_date_df.rename(columns={'PERMNO':'security_id'}) \n",
        "    \n",
        "    # Returns a DataFrame where each row is a security in the strategy's universe,\n",
        "    # Columes must include:\n",
        "    # - 'date': date on which price data observed\n",
        "    # - 'security_id': a security identifier\n",
        "    # - whatever signals the trading rule needs to decide which securities to open new positions in\n",
        "    #   - In this case, return cshoq, prccq, and ceqq so trading rule can compute B/M ratio\n",
        "    #\n",
        "    # Also responsible for applying whatever liquidity filters are wanted to narrow universe,\n",
        "    # and check that we have future return data (no point in backtesting if we don't know what happens next)\n",
        "    def signal_df_for_date(self,date):\n",
        "        temp_df1 = self.signal_df\n",
        "        # temp_df1 = self.date_filter(temp_df1, self.prediction_date.month, self.last_rebalance.month)\n",
        "        # temp_df1['date'] = temp_df1['date'].apply(lambda dt: dt.replace(day=30))\n",
        "        # temp_df1.to_csv(\"temp_df1_1985.csv\")\n",
        "        date_price_df = temp_df1.loc[ temp_df1.loc[:,'date'] == date,:]\n",
        "        date_price_df.rename(columns={'PERMNO':'security_id', 'PRC': 'prc', 'RET': 'ret'}, inplace=True)  # use permno as our security_id        \n",
        "        # and return without the ret_next column so backtests don't cheat by using it\n",
        "        return date_price_df\n",
        "    \n",
        "    def filter_and_rank(self,df):\n",
        "        #TODO commenting out for now because I think CRSP may only be US data and we could justify that but not sure\n",
        "        # filtered_df = self.country_filter(self.signal_df)\n",
        "        filtered_df = self.date_filter(df, self.prediction_date.month,self.last_rebalance.month)\n",
        "        # filtered_df = filtered_df.loc[ np.isfinite(filtered_df.loc[:,'ret_next']),:]\n",
        "        # filtered_df = filtered_df.drop(columns=['ret_next'])\n",
        "  \n",
        "        # TODO: May need to change this since dropping NaN gets rid of too many rows\n",
        "        filtered_df = filtered_df[filtered_df['market_cap'].notna()]\n",
        "        filtered_df.rename(columns={'PERMNO':'security_id', 'PRC': 'prc', 'RET': 'ret'}, inplace=True)  # use permno as our security_id        \n",
        "        filtered_df = self.rank_by_market_cap(filtered_df)\n",
        "        # ranking process\n",
        "        return filtered_df\n",
        "    \n",
        "\n",
        "    # Returns a filterd version of the passed DataFrame,\n",
        "    # with all observations deemefd too illiquid removed\n",
        "    # Liquidity requirements:\n",
        "    #  - price >= $3\n",
        "    def liquidity_filter(self,df):\n",
        "        return df.loc[ df.loc[:,'PRC'] >= self.min_share_price,:]\n",
        "\n",
        "    \n",
        "\n",
        "    def country_filter(self, df):\n",
        "        return df.loc[df.loc[:, 'fic'] == 'USA',:]\n",
        "\n",
        "    \n",
        "\n",
        "    def date_filter(self, df, prediction_month, rebalance_month): \n",
        "        condition1 = ((df['month'] == prediction_month))\n",
        "        condition2 = ((df['month'] == rebalance_month))\n",
        "        return df.loc[(condition1 | condition2),:]\n",
        "    \n",
        "    \n",
        "    def rank_by_market_cap(self, df):\n",
        "        df['rank'] = df.groupby(['date'])['market_cap'].rank(ascending=False, method='first')\n",
        "        return df \n",
        "\n",
        "        \n",
        "        \n",
        "###################################################################\n",
        "# Helper methods, do not modify\n",
        "###################################################################\n",
        "\n",
        "# Function safe_lead_lag returns a new Series with the lead/lagged values\n",
        "#  but only when a group is the same for the lead/lag\n",
        "# Inputs:\n",
        "# - data_series: data we want to lead/lag\n",
        "# - group_series: grouping we want to be the same for the lead/lag to be value\n",
        "# requires data_series and group_series already by sorted by group_series\n",
        "# so that all alike values of group_series are adjacent,\n",
        "# meaning group_series should look like:\n",
        "#    g_0\n",
        "#    g_0\n",
        "#    g_0\n",
        "#    g_0\n",
        "#    g_1\n",
        "#    g_1\n",
        "#    g_2\n",
        "#    g_2 \n",
        "#    ...\n",
        "# where g_i indicates the observation is in group i,\n",
        "# and once the first g_{i+1} appears no more g_i values appear\n",
        "# \n",
        "# lead_lag > 0 returns a data_series with values of data_series lead_lag rows ahead\n",
        "# as long as group_series remains the same, NaN if group different\n",
        "# lead_lag < 0 returns a data_series with values of data_series -lead_lag rows behind \n",
        "# (same as lead_lag rows ahead) as long as group_series remains the same, NaN if group different\n",
        "def safe_lead_lag(data_series,group_series,lead_lag): \n",
        "    df = pd.DataFrame({ 'data': data_series, 'group': group_series })\n",
        "    return df.groupby(['group'])['data'].shift(-lead_lag)"
      ]
    },
    {
      "cell_type": "code",
      "execution_count": null,
      "metadata": {
        "colab": {
          "base_uri": "https://localhost:8080/",
          "height": 641
        },
        "id": "nwWMBioJH8wV",
        "outputId": "c32ec176-abac-47a5-c0a7-0cff10109726"
      },
      "outputs": [],
      "source": [
        "temp_processor = IRDataProcessor()\n",
        "temp_df = temp_processor.signal_df\n",
        "temp_df = temp_processor.filter_and_rank(temp_df)\n",
        "temp_df\n",
        "\n",
        "## VERIFIED FINE BY THIS POINT"
      ]
    },
    {
      "cell_type": "markdown",
      "metadata": {
        "id": "gbotCdXUV8hd"
      },
      "source": [
        "### After running your code above, you should be able to run these tests sucessfully. Please run each cell without editing."
      ]
    },
    {
      "cell_type": "markdown",
      "metadata": {
        "id": "HulbXIH_V8hd"
      },
      "source": [
        "#### Constructor tests: should print price_df and signal_df."
      ]
    },
    {
      "cell_type": "code",
      "execution_count": null,
      "metadata": {
        "colab": {
          "base_uri": "https://localhost:8080/"
        },
        "id": "JkRdf3Q2KyJN",
        "outputId": "9b75aa2b-59c1-470c-b118-e21dace337b7"
      },
      "outputs": [],
      "source": [
        "data_processor = IRDataProcessor()\n",
        "print('\\n\\n', data_processor.signal_df)"
      ]
    },
    {
      "cell_type": "markdown",
      "metadata": {
        "id": "d0oR_CCZV8he"
      },
      "source": [
        "#### `ranking_df` test: should return DataFrame with market_cap field ranked by decreasing order on specific dates (4/30 and 6/30)"
      ]
    },
    {
      "cell_type": "code",
      "execution_count": null,
      "metadata": {
        "colab": {
          "base_uri": "https://localhost:8080/",
          "height": 641
        },
        "id": "i8VDQ1nPKyed",
        "outputId": "c29bfa88-3e08-4e57-ea5e-82d99c26bca4"
      },
      "outputs": [],
      "source": [
        "ranked_df = data_processor.filter_and_rank(data_processor.signal_df)\n",
        "ranked_df"
      ]
    },
    {
      "cell_type": "markdown",
      "metadata": {
        "id": "MY6w6rxTH8wX"
      },
      "source": [
        "#### Try it for a specific date to prove values are sorted/ranked correctly."
      ]
    },
    {
      "cell_type": "code",
      "execution_count": null,
      "metadata": {
        "colab": {
          "base_uri": "https://localhost:8080/",
          "height": 641
        },
        "id": "DGiovo7FKyvu",
        "outputId": "4452fa96-5dfe-43c2-9ea1-0400f358d58a"
      },
      "outputs": [],
      "source": [
        "# Prove it works for a specific date - look at 'rank' column\n",
        "test_ranked_df = ranked_df.sort_values(by=['market_cap', 'date'], ascending = False)\n",
        "test_ranked_df = test_ranked_df.loc[(test_ranked_df['date'] == '1998-06-30')]\n",
        "test_ranked_df"
      ]
    },
    {
      "cell_type": "markdown",
      "metadata": {
        "id": "2nAhAy-3H8wX"
      },
      "source": [
        "## Need to build our enter exit signals based on the market cap weights.\n",
        "For Russell 2000: enter signal means market cap was outside of (1001-3000) and is now inside, exit signal means market cap was inside (1001-3000) and is now outside"
      ]
    },
    {
      "cell_type": "code",
      "execution_count": 254,
      "metadata": {
        "id": "ufZ6QcHzH8wX"
      },
      "outputs": [],
      "source": [
        "def index_enter(df, trade_date):\n",
        "    # df_test = df[df['security_id'] == '83011']\n",
        "    # print(df_test)\n",
        "    # df = df[(df['year'] < 2007) & (df['year'] > 2004)]\n",
        "    # df.to_csv(\"DebugFile.csv\")\n",
        "    # Need this df to be all companies whose market cap was outside the range on last rebalance date\n",
        "    #TODO justify in report why we are not doing <1001 as an enter signal (likely a negative sign, company would be exiting other market cap indexes, etc.)\n",
        "    last_rebalance_df = df[(df['month'] == 6) & ((df['rank'] > 3000))] #82403 rows\n",
        "    # print(last_rebalance_df[last_rebalance_df['security_id'] == '83011'])\n",
        "\n",
        "    # Need this df to be all companies whose market cap is inside the range on prediction date\n",
        "    prediction_date_df = df[(df['month'] == 4) & ((df['rank'] >= 1001) & (df['rank'] <= 3000))] #66514 rows\n",
        "    # print(prediction_date_df[prediction_date_df['security_id'] == '83011'])\n",
        "\n",
        "    # Doing some strange manipulation to get a last_rebalance_rank column\n",
        "    last_rebalance_df['date'] = last_rebalance_df['date'] + pd.DateOffset(years=1) - pd.DateOffset(months=2)\n",
        "    # last_rebalance_df['date'] = last_rebalance_df['date'].apply(lambda dt: dt.replace(day=30))\n",
        "    last_rebalance_df = last_rebalance_df.rename(columns={'rank': 'last_rebalance_rank'})\n",
        "    last_rebalance_df = last_rebalance_df[['security_id', 'date','COMNAM', 'last_rebalance_rank']]\n",
        "\n",
        "    merged_df = pd.merge(prediction_date_df, last_rebalance_df)\n",
        "    merged_df['rank_movement'] = (merged_df['last_rebalance_rank'] - merged_df['rank']).abs()\n",
        "    # merged_df.to_csv(\"DebugFile.csv\")\n",
        "    merged_df.drop(['month', 'day'], axis=1, inplace=True)\n",
        "    next_year_date = pd.to_datetime(trade_date) + pd.DateOffset(years=1)\n",
        "    next_year_names = df[df['date'] == next_year_date]['security_id']\n",
        "    # print(\"NEXT YEAR DATE: \", next_year_date)  \n",
        "    # print(\"NEXT YEAR NAMES LIST: \", next_year_names.sort_values(), \"\\n\")\n",
        "    # print(\"MERGED_DF BEFORE:\\n\", merged_df[merged_df['date'] == '1984-04-30'].sort_values(by=\"security_id\"))\n",
        "    merged_df = merged_df[merged_df['date'] == trade_date]\n",
        "    merged_df = merged_df[merged_df['security_id'].isin(list(next_year_names))]\n",
        "    # print(\"MERGED_DF AFTER: \\n\", merged_df)\n",
        "    merged_df = merged_df.nlargest(100, 'rank_movement')\n",
        "    return merged_df\n",
        "\n",
        "def index_exit(df, trade_date): \n",
        "    # Need this df to be all companies whose market cap was inside the range on last rebalance date\n",
        "    last_rebalance_df = df[(df['month'] == 6) & ((df['rank'] > 1000) & (df['rank'] < 3001))]\n",
        "    # Need this df to be all companies whose market cap is outside the range on prediction date\n",
        "    prediction_date_df = df[(df['month'] == 4) & ((df['rank'] > 3000))]\n",
        "\n",
        "    # Doing some strange manipulation to get a last_rebalance_rank column\n",
        "    last_rebalance_df['date'] = last_rebalance_df['date'] + pd.DateOffset(years=1) - pd.DateOffset(months=2)\n",
        "    # last_rebalance_df['date'] = last_rebalance_df['date'].apply(lambda dt: dt.replace(day=30))\n",
        "    last_rebalance_df = last_rebalance_df.rename(columns={'rank': 'last_rebalance_rank'})\n",
        "    last_rebalance_df = last_rebalance_df[['date', 'TICKER','COMNAM', 'last_rebalance_rank']]\n",
        "\n",
        "    merged_df = pd.merge(prediction_date_df, last_rebalance_df)\n",
        "    merged_df['rank_movement'] = (merged_df['rank'] - merged_df['last_rebalance_rank']).abs()\n",
        "    merged_df.drop(['month', 'day'], axis=1, inplace=True)\n",
        "\n",
        "    next_year_date = pd.to_datetime(trade_date) + pd.DateOffset(years=1)\n",
        "    next_year_names = df[df['date'] == next_year_date]['security_id']\n",
        "\n",
        "    merged_df = merged_df[merged_df['date'] == trade_date]\n",
        "    merged_df = merged_df[merged_df['security_id'].isin(list(next_year_names))]\n",
        "\n",
        "    merged_df = merged_df.nlargest(100, 'rank_movement')\n",
        "    return merged_df"
      ]
    },
    {
      "cell_type": "markdown",
      "metadata": {
        "id": "DT79U7F6V8hf"
      },
      "source": [
        "## <span style=\"color:blue\">Task 4</span>: Create a ProfTradingRule"
      ]
    },
    {
      "cell_type": "markdown",
      "metadata": {
        "id": "u3PXfFWtV8hf"
      },
      "source": [
        "This strategy should long stocks that are projected to enter the index and short stocks projected to exit the index, and use equal weighting"
      ]
    },
    {
      "cell_type": "code",
      "execution_count": 263,
      "metadata": {
        "id": "A84G_iYcV8hf"
      },
      "outputs": [],
      "source": [
        "# Solution\n",
        "class IRTradingRule():\n",
        "    # strategy: The index rebalancing strategy forms a new portfolio each month with long positions in firms projected to enter index, and short positions in firms projected to exit index.\n",
        "    # For each $1 NAV, we open $1 total of long positions AND $1 total of short positions\n",
        "    # This would be the max leverage allowed given 50% margin requirements\n",
        "    #\n",
        "    # Assume 100% of portfolio liquidated after each rebalance period and repurchased with new quantities\n",
        "    \n",
        "    # strategy-specifc columns for trades_df (variables we want to keep track of for subsequent analysis)\n",
        "    # usually the variables that led the strategy to open trade in the first place\n",
        "    strategy_specific_trades_df_columns = {'ir': pd.Series([], dtype='float')} \n",
        "    \n",
        "    # minumum number of stocks with available ir for us to actually trade\n",
        "    min_stocks_available = 5\n",
        "\n",
        "    value_weighted = False\n",
        "    \n",
        "    def __init__(self,portfolio_db):\n",
        "        self.portfolio_db = portfolio_db\n",
        "    \n",
        "    # Regardless of the strategy you are implementing, this method must return\n",
        "    # open_trades_df, close_trades_df\n",
        "    #\n",
        "    # open_trades_df is a DataFrame with all the required trades_df columns plus any custom ones for this strategy\n",
        "    #     each row is a new trade the strategy wants to open\n",
        "    #     method only populates the security_id (index) and quantity required columns, plus any custom columns. Rest remain NaN to be populated elsewhere\n",
        "    # close_trades_df is a DataFrame that is a subset of the rows of portfolio_db.trades_df\n",
        "    #     each row is an exist trade the strategy wants to close\n",
        "    #     we don't need to populate any columns in this function\n",
        "    def compute_trades(self,signal_df, date):                \n",
        "        # Since we are doing 100% turnover each period, all currently open trades should be closed\n",
        "        # self.portfolio_db.trades_df.to_csv(\"CloseTrades.csv\")\n",
        "        close_trades_df = self.portfolio_db.trades_df.loc[ self.portfolio_db.trades_df.loc[:,'close_datetime'].isna() ,: ].copy()\n",
        "        print(\"CLOSE TRADES LENGTH: \", len(close_trades_df))\n",
        "        # before deciding to open new positions, check that signal_df gives us a big enough set of stocks to actually do this\n",
        "        if( len(signal_df) < self.min_stocks_available ):\n",
        "            return self.empty_trades_df(), close_trades_df       \n",
        "        \n",
        "        # As our gross profitability measure, we'll use annual revenue (REVT), minus annual cost of goods sold (COGS), scaled by prior-year book value of assets (AT)        \n",
        "        # signal_df.loc[:,'gp'] = (signal_df.loc[:,'revt'] - signal_df.loc[:, 'cogs']) / (signal_df.loc[:,'lag_at'])        \n",
        "        # You shouldn't have to change anything below here if you are doing a decile strategy    \n",
        "            \n",
        "        # Find top 10% of signal column      \n",
        "        # need to make a copy because we are going to modify this and don't want to affect signal_df\n",
        "        buys_df = index_enter(signal_df, date)\n",
        "        # Find bottom 10% of signal column\n",
        "        # need to make a copy because we are going to modify this and don't want to affect signal_df\n",
        "        sells_df = index_exit(signal_df, date)\n",
        "\n",
        "        if len(buys_df) > len(sells_df):\n",
        "            buys_df = buys_df.nlargest(len(sells_df), 'rank_movement')\n",
        "        elif len(buys_df) < len(sells_df):\n",
        "            sells_df = sells_df.nlargest(len(sells_df), 'rank_movement')\n",
        "\n",
        "        # print(\"BUYS: \", len(buys_df), \"SELLS: \", len(sells_df), \"\\n\")\n",
        "        # signal_df.to_csv(\"DebugFile.csv\")\n",
        "        if( self.value_weighted ): \n",
        "            # Compute value weights\n",
        "            buys_mktcap = buys_df.loc[:,'prc']*buys_df.loc[:,'SHROUT']\n",
        "            buys_w = buys_mktcap / buys_mktcap.sum()\n",
        "            sells_mktcap = sells_df.loc[:,'prc']*sells_df.loc[:,'SHROUT']\n",
        "            sells_w = -sells_mktcap / sells_mktcap.sum() # weights negative because we are selling\n",
        "            \n",
        "            # Dollars per position equal total NAV * buys_w and NAV * sells_w, respectively\n",
        "            buys_dollar = self.portfolio_db.current_nav() * buys_w\n",
        "            buys_df.loc[:,'quantity'] = buys_dollar / buys_df.loc[:,'prc']\n",
        "            sells_dollar = self.portfolio_db.current_nav() * sells_w\n",
        "            sells_df.loc[:,'quantity'] = sells_dollar / sells_df.loc[:,'prc']             \n",
        "                        \n",
        "        else:\n",
        "            # With equal weights we can go directly to dollars per buy/sell\n",
        "            # Which is just NAV / number of positions\n",
        "            dollars_per_buy = self.portfolio_db.current_nav() / len(buys_df)\n",
        "            buys_df['quantity'] = dollars_per_buy / buys_df['prc']\n",
        "      \n",
        "            # figure out quantity per trade by splitting $ evenly\n",
        "            dollars_per_sell = -self.portfolio_db.current_nav() / len(sells_df) # negative because we are selling\n",
        "            sells_df['quantity'] = dollars_per_sell / sells_df['prc'] \n",
        "        open_trades_df = self.empty_trades_df().append(\n",
        "        buys_df.loc[:,['security_id','quantity']]).append(\n",
        "        sells_df.loc[:,['security_id','quantity']])\n",
        "        # open_trades_df.to_csv(\"OpenTradesFile.csv\")\n",
        "        print(\"OPEN TRADES LENGTH: \", len(open_trades_df))\n",
        "        # print(open_trades_df)\n",
        "        return open_trades_df, close_trades_df\n",
        "    \n",
        "    # Returns an empty trades_df\n",
        "    # Used so we know the right columns to populate when creating a trades_df else\n",
        "    def empty_trades_df(self):\n",
        "        return pd.concat([self.portfolio_db.empty_trades_df(), pd.DataFrame(self.strategy_specific_trades_df_columns)], axis=1)"
      ]
    },
    {
      "cell_type": "markdown",
      "metadata": {
        "id": "OXecovPqV8hf"
      },
      "source": [
        "### After running your code above, you should be able to run these tests sucessfully. Please run each cell without editing."
      ]
    },
    {
      "cell_type": "markdown",
      "metadata": {
        "id": "sIUdMFkTV8hf"
      },
      "source": [
        "#### `compute_trades` test: should output an open_trades_df with open positions having positive quantity and high gp, close_trades_df negative quantity and low gp, and an empty close_trades_df"
      ]
    },
    {
      "cell_type": "code",
      "execution_count": 207,
      "metadata": {
        "colab": {
          "base_uri": "https://localhost:8080/"
        },
        "id": "rhGgwIUxV8hg",
        "outputId": "481e8306-94bd-40f1-bc12-8f1c60ca5efd"
      },
      "outputs": [],
      "source": [
        "%run portfolio_db.ipynb\n",
        "portfolio_db = PortfolioDB()\n",
        "portfolio_db.add_cash(100)\n",
        "\n",
        "data_processor = IRDataProcessor()"
      ]
    },
    {
      "cell_type": "code",
      "execution_count": 216,
      "metadata": {},
      "outputs": [
        {
          "name": "stdout",
          "output_type": "stream",
          "text": [
            "CLOSE TRADES LENGTH:  0\n",
            "NEXT YEAR DATE:  1985-04-30 00:00:00\n",
            "NEXT YEAR NAMES LIST:  1948       10015\n",
            "4187       10031\n",
            "8027       10057\n",
            "9178       10065\n",
            "10465      10074\n",
            "           ...  \n",
            "4298596    93172\n",
            "4301406    93201\n",
            "4303318    93220\n",
            "4309986    93287\n",
            "4313123    93316\n",
            "Name: security_id, Length: 4474, dtype: object \n",
            "\n",
            "MERGED_DF BEFORE:\n",
            "      security_id       date TICKER                        COMNAM      prc  \\\n",
            "125        10605 1984-04-30   ACLE             ACCELERATION CORP  10.0000   \n",
            "283        11448 1984-04-30   ALMO  ALAMO SAVINGS ASSOCIATION TX  21.8750   \n",
            "469        12424 1984-04-30   AWAL        AMERICA WEST AIRLS INC   8.5000   \n",
            "600        13290 1984-04-30    MUN               MUNSINGWEAR INC  18.6250   \n",
            "1012       16687 1984-04-30   BMON          BANK MONTANA SYSTEMS  37.0000   \n",
            "...          ...        ...    ...                           ...      ...   \n",
            "3179       78467 1984-04-30  WFRAF           WHARF RESOURCES LTD   3.8125   \n",
            "3519       79979 1984-04-30   VAIL           VAIL ASSOCIATES INC  21.6250   \n",
            "3665       80566 1984-04-30   VRSA        VERSA TECHNOLOGIES INC  14.0000   \n",
            "3868       81737 1984-04-30   WAVR             WAVERLY PRESS INC  14.8750   \n",
            "4275       84188 1984-04-30   ZTRX                   ZYTREX CORP   6.3750   \n",
            "\n",
            "          VOL       ret  SHROUT  year  market_cap    rank  \\\n",
            "125    1501.0 -0.111111  4563.0  1984  45630.0000  2611.0   \n",
            "283     224.0 -0.005682  1527.0  1984  33403.1250  2953.0   \n",
            "469   11367.0 -0.128205  5388.0  1984  45798.0000  2607.0   \n",
            "600    1075.0  0.095588  1898.0  1984  35350.2500  2888.0   \n",
            "1012    165.0  0.104478   883.0  1984  32671.0000  2980.0   \n",
            "...       ...       ...     ...   ...         ...     ...   \n",
            "3179   1376.0 -0.061538  8747.0  1984  33347.9375  2956.0   \n",
            "3519    210.0 -0.011429  1506.0  1984  32567.2500  2985.0   \n",
            "3665    155.0 -0.114961  2377.0  1984  33278.0000  2959.0   \n",
            "3868     42.0  0.008475  2432.0  1984  36176.0000  2867.0   \n",
            "4275   8579.0 -0.064220  7467.0  1984  47602.1250  2555.0   \n",
            "\n",
            "      last_rebalance_rank  rank_movement  \n",
            "125                3303.0          692.0  \n",
            "283                3017.0           64.0  \n",
            "469                3032.0          425.0  \n",
            "600                3243.0          355.0  \n",
            "1012               3191.0          211.0  \n",
            "...                   ...            ...  \n",
            "3179               3086.0          130.0  \n",
            "3519               3337.0          352.0  \n",
            "3665               3115.0          156.0  \n",
            "3868               3084.0          217.0  \n",
            "4275               3161.0          606.0  \n",
            "\n",
            "[81 rows x 13 columns]\n",
            "MERGED_DF AFTER: \n",
            "      security_id       date TICKER                        COMNAM      prc  \\\n",
            "125        10605 1984-04-30   ACLE             ACCELERATION CORP  10.0000   \n",
            "283        11448 1984-04-30   ALMO  ALAMO SAVINGS ASSOCIATION TX  21.8750   \n",
            "469        12424 1984-04-30   AWAL        AMERICA WEST AIRLS INC   8.5000   \n",
            "600        13290 1984-04-30    MUN               MUNSINGWEAR INC  18.6250   \n",
            "1021       16732 1984-04-30   BENH                 BANKEAST CORP  26.6250   \n",
            "...          ...        ...    ...                           ...      ...   \n",
            "2305       68638 1984-04-30   PLEY          PAULEY PETROLEUM INC  11.5000   \n",
            "2354       70114 1984-04-30   SERF         SERVICE FRACTURING CO  11.0000   \n",
            "3162       78406 1984-04-30  CALSF         CALIFORNIA SILVER LTD   7.6875   \n",
            "3665       80566 1984-04-30   VRSA        VERSA TECHNOLOGIES INC  14.0000   \n",
            "3868       81737 1984-04-30   WAVR             WAVERLY PRESS INC  14.8750   \n",
            "\n",
            "          VOL       ret  SHROUT  year  market_cap    rank  \\\n",
            "125    1501.0 -0.111111  4563.0  1984  45630.0000  2611.0   \n",
            "283     224.0 -0.005682  1527.0  1984  33403.1250  2953.0   \n",
            "469   11367.0 -0.128205  5388.0  1984  45798.0000  2607.0   \n",
            "600    1075.0  0.095588  1898.0  1984  35350.2500  2888.0   \n",
            "1021    259.0 -0.004673  1634.0  1984  43505.2500  2654.0   \n",
            "...       ...       ...     ...   ...         ...     ...   \n",
            "2305    503.0 -0.070707  2891.0  1984  33246.5000  2961.0   \n",
            "2354   3556.0  0.023256  3141.0  1984  34551.0000  2910.0   \n",
            "3162  11693.0  0.490909  5279.0  1984  40582.3125  2746.0   \n",
            "3665    155.0 -0.114961  2377.0  1984  33278.0000  2959.0   \n",
            "3868     42.0  0.008475  2432.0  1984  36176.0000  2867.0   \n",
            "\n",
            "      last_rebalance_rank  rank_movement  \n",
            "125                3303.0          692.0  \n",
            "283                3017.0           64.0  \n",
            "469                3032.0          425.0  \n",
            "600                3243.0          355.0  \n",
            "1021               3195.0          541.0  \n",
            "...                   ...            ...  \n",
            "2305               3012.0           51.0  \n",
            "2354               3322.0          412.0  \n",
            "3162               3579.0          833.0  \n",
            "3665               3115.0          156.0  \n",
            "3868               3084.0          217.0  \n",
            "\n",
            "[66 rows x 13 columns]\n",
            "OPEN TRADES LENGTH:  40\n"
          ]
        }
      ],
      "source": [
        "\n",
        "trading_rule = IRTradingRule(portfolio_db)\n",
        "\n",
        "%run backtest_executor.ipynb\n",
        "executor = BacktestExecutor(portfolio_db)\n",
        "test_date = '1984-04-30'\n",
        "# test_price_df = data_processor.price_df_for_date(test_date)\n",
        "test_signal_df = data_processor.filter_and_rank(data_processor.signal_df)\n",
        "test_open_trades_df, test_close_trades_df = trading_rule.compute_trades(test_signal_df, test_date)"
      ]
    },
    {
      "cell_type": "code",
      "execution_count": 21,
      "metadata": {
        "colab": {
          "base_uri": "https://localhost:8080/"
        },
        "id": "rcPhhXtFV8hg",
        "outputId": "ca8afb48-71ad-4f00-b9ce-e050269bb23a"
      },
      "outputs": [
        {
          "name": "stdout",
          "output_type": "stream",
          "text": [
            "test_open_trades_df:\n",
            "     security_id   quantity open_datetime  open_average_price close_datetime  \\\n",
            "2578       63263   0.571619           NaT                 NaN            NaT   \n",
            "1984       43043   0.511287           NaT                 NaN            NaT   \n",
            "2218       51748   0.918834           NaT                 NaN            NaT   \n",
            "3281       76428   0.070149           NaT                 NaN            NaT   \n",
            "2546       62439   3.103003           NaT                 NaN            NaT   \n",
            "1073       15238   0.053532           NaT                 NaN            NaT   \n",
            "2801       68638   0.660072           NaT                 NaN            NaT   \n",
            "147        10597   0.213156           NaT                 NaN            NaT   \n",
            "256        11037   0.251195           NaT                 NaN            NaT   \n",
            "2635       64813   0.836057           NaT                 NaN            NaT   \n",
            "7216       93009   5.509581           NaT                 NaN            NaT   \n",
            "2004       43634   0.387709           NaT                 NaN            NaT   \n",
            "19         10064   0.290616           NaT                 NaN            NaT   \n",
            "229        10914   0.444564           NaT                 NaN            NaT   \n",
            "2438       58975   1.094717           NaT                 NaN            NaT   \n",
            "228        10910   0.476929           NaT                 NaN            NaT   \n",
            "1431       19238   0.261523           NaT                 NaN            NaT   \n",
            "2866       70762   0.322827           NaT                 NaN            NaT   \n",
            "1673       29209   0.554593           NaT                 NaN            NaT   \n",
            "1562       24409   4.609920           NaT                 NaN            NaT   \n",
            "4972       78609  -2.026206           NaT                 NaN            NaT   \n",
            "2866       57948  -1.790174           NaT                 NaN            NaT   \n",
            "3499       69083  -3.785026           NaT                 NaN            NaT   \n",
            "183        10556  -2.118260           NaT                 NaN            NaT   \n",
            "7773       89632  -4.749217           NaT                 NaN            NaT   \n",
            "133        10403  -5.597525           NaT                 NaN            NaT   \n",
            "8580       92276  -2.393421           NaT                 NaN            NaT   \n",
            "2786       56120  -2.977353           NaT                 NaN            NaT   \n",
            "7603       89077  -3.164974           NaT                 NaN            NaT   \n",
            "6914       86880  -2.622429           NaT                 NaN            NaT   \n",
            "4967       78543  -4.012780           NaT                 NaN            NaT   \n",
            "3197       64370  -2.786472           NaT                 NaN            NaT   \n",
            "1964       33815 -28.314204           NaT                 NaN            NaT   \n",
            "5914       82473  -0.379757           NaT                 NaN            NaT   \n",
            "3241       65067  -1.516268           NaT                 NaN            NaT   \n",
            "3622       71651  -4.207173           NaT                 NaN            NaT   \n",
            "3419       67555  -3.764709           NaT                 NaN            NaT   \n",
            "3503       69155  -5.318852           NaT                 NaN            NaT   \n",
            "3610       71212  -2.135568           NaT                 NaN            NaT   \n",
            "1420       18817  -2.723764           NaT                 NaN            NaT   \n",
            "\n",
            "      close_average_price  ir  \n",
            "2578                  NaN NaN  \n",
            "1984                  NaN NaN  \n",
            "2218                  NaN NaN  \n",
            "3281                  NaN NaN  \n",
            "2546                  NaN NaN  \n",
            "1073                  NaN NaN  \n",
            "2801                  NaN NaN  \n",
            "147                   NaN NaN  \n",
            "256                   NaN NaN  \n",
            "2635                  NaN NaN  \n",
            "7216                  NaN NaN  \n",
            "2004                  NaN NaN  \n",
            "19                    NaN NaN  \n",
            "229                   NaN NaN  \n",
            "2438                  NaN NaN  \n",
            "228                   NaN NaN  \n",
            "1431                  NaN NaN  \n",
            "2866                  NaN NaN  \n",
            "1673                  NaN NaN  \n",
            "1562                  NaN NaN  \n",
            "4972                  NaN NaN  \n",
            "2866                  NaN NaN  \n",
            "3499                  NaN NaN  \n",
            "183                   NaN NaN  \n",
            "7773                  NaN NaN  \n",
            "133                   NaN NaN  \n",
            "8580                  NaN NaN  \n",
            "2786                  NaN NaN  \n",
            "7603                  NaN NaN  \n",
            "6914                  NaN NaN  \n",
            "4967                  NaN NaN  \n",
            "3197                  NaN NaN  \n",
            "1964                  NaN NaN  \n",
            "5914                  NaN NaN  \n",
            "3241                  NaN NaN  \n",
            "3622                  NaN NaN  \n",
            "3419                  NaN NaN  \n",
            "3503                  NaN NaN  \n",
            "3610                  NaN NaN  \n",
            "1420                  NaN NaN  \n",
            "\n",
            "\n",
            "\n",
            "test_close_trades_df:\n",
            "Empty DataFrame\n",
            "Columns: [security_id, quantity, open_datetime, open_average_price, close_datetime, close_average_price]\n",
            "Index: []\n"
          ]
        }
      ],
      "source": [
        "print('test_open_trades_df:')\n",
        "print(test_open_trades_df)\n",
        "\n",
        "print('\\n\\n')\n",
        "print('test_close_trades_df:')\n",
        "print(test_close_trades_df)"
      ]
    },
    {
      "cell_type": "markdown",
      "metadata": {
        "id": "_VGuoyVIV8hg"
      },
      "source": [
        "## <span style=\"color:blue\">Task 5</span>: Run the Backtest"
      ]
    },
    {
      "cell_type": "markdown",
      "metadata": {
        "id": "QtiPSiB-V8hg"
      },
      "source": [
        "If everything above was done correctly, the code in backtest.ipynb should produce a backtest for the gross profitability strategy with a few modifications.\n",
        "\n",
        "Copy the backtest.ipynb code here and modify it as follows:\n",
        "- Adjust the comments and strategy_info dictionary\n",
        "- Do not run bm_data_processor.ipynb and bm_trading_rule.ipynb, as these are no longer needed (the GPDataProcessor and IRTradingRule classes should already be defined above)\n",
        "- Replace the BM versions of data_processor and trading_rule with the GP versions. This should only be two lines of code\n",
        "\n",
        "Nothing else should change."
      ]
    },
    {
      "cell_type": "code",
      "execution_count": 264,
      "metadata": {
        "id": "9Uz91ND6V8hg"
      },
      "outputs": [],
      "source": [
        "# Solution\n",
        "# Imports\n",
        "from IPython.display import display, Markdown, Latex, clear_output\n",
        "import numpy as np\n",
        "import pandas as pd"
      ]
    },
    {
      "cell_type": "code",
      "execution_count": 265,
      "metadata": {
        "id": "IVG4hU7kV8hg"
      },
      "outputs": [],
      "source": [
        "# # These tools should remain unchanged across strategies unless you have a good reason to change them\n",
        "%run portfolio_db.ipynb\n",
        "%run backtest_executor.ipynb # if you were live trading a strategy, this would be replace by code that submitted orders etc"
      ]
    },
    {
      "cell_type": "code",
      "execution_count": 266,
      "metadata": {
        "id": "busNeStIV8hg"
      },
      "outputs": [],
      "source": [
        "# Step 2: Create the tools we'll need to do the backtest\n",
        "\n",
        "# Data processor, in charge of loading and doling out data\n",
        "data_processor = IRDataProcessor() "
      ]
    },
    {
      "cell_type": "code",
      "execution_count": 268,
      "metadata": {
        "id": "xNEiPGwcV8hh"
      },
      "outputs": [],
      "source": [
        "# Portfolio database, keeps track of all the trades the backtest makes, the strategy NAV, and the current portfolio as we go through the backtest\n",
        "%run portfolio_db.ipynb\n",
        "portfolio_db = PortfolioDB()\n",
        "\n",
        "# Strategy logic, in charge of choosing trades based on current portfolio and data\n",
        "# This exact code would be used for live trading \n",
        "trading_rule = IRTradingRule(portfolio_db)\n",
        "\n",
        "# Trade executor, in charge of \"executing\" trades the strategy decides on, turning them into transactions and updating the portfolio\n",
        "trade_executor = BacktestExecutor(portfolio_db)\n",
        "\n",
        "# Info about the strategy, used for ex-post statistics and output not the actual backtest\n",
        "strategy_info = {\n",
        "    'brief descriptor': 'ir_rebalancing', \n",
        "    'plot descriptor': 'Index Rebalancing Prediction Strategy, Equal-Weighted',\n",
        "    'universe': 'Public US equities eligible for the Russell 2000',\n",
        "    'signals': 'Change in market cap from prior year rebalance date (6/30) to current year prediction date (4/30)',\n",
        "    'trading rule': 'Buy all equities entering 1001-3000 market cap and sell all equities exiting (as the predictor for inclusion/exclusion in Russell 2000), equal-weighted',\n",
        "    'holding period': 'One year',\n",
        "    'periods per year': 12,\n",
        "    'output folder name': 'Output'\n",
        "}\n",
        "\n",
        "# Statistician, used to tabulate and plot statistics after the backtest runs\n",
        "%run backtest_statistician.ipynb\n",
        "statistican = BacktestStatistican(portfolio_db,strategy_info)"
      ]
    },
    {
      "cell_type": "code",
      "execution_count": 269,
      "metadata": {
        "colab": {
          "base_uri": "https://localhost:8080/",
          "height": 468
        },
        "id": "d-hyMIw7V8hh",
        "outputId": "f625ca6e-1e39-4db9-d42b-0343c0f3b5a9"
      },
      "outputs": [
        {
          "data": {
            "text/plain": [
              "'1983-06-30: 100.0 | 0.0'"
            ]
          },
          "metadata": {},
          "output_type": "display_data"
        },
        {
          "data": {
            "text/plain": [
              "'1983-07-30: 100.0 | 0.0'"
            ]
          },
          "metadata": {},
          "output_type": "display_data"
        },
        {
          "data": {
            "text/plain": [
              "'1983-08-30: 100.0 | 0.0'"
            ]
          },
          "metadata": {},
          "output_type": "display_data"
        },
        {
          "data": {
            "text/plain": [
              "'1983-09-30: 100.0 | 0.0'"
            ]
          },
          "metadata": {},
          "output_type": "display_data"
        },
        {
          "data": {
            "text/plain": [
              "'1983-10-30: 100.0 | 0.0'"
            ]
          },
          "metadata": {},
          "output_type": "display_data"
        },
        {
          "data": {
            "text/plain": [
              "'1983-11-30: 100.0 | 0.0'"
            ]
          },
          "metadata": {},
          "output_type": "display_data"
        },
        {
          "data": {
            "text/plain": [
              "'1983-12-30: 100.0 | 0.0'"
            ]
          },
          "metadata": {},
          "output_type": "display_data"
        },
        {
          "data": {
            "text/plain": [
              "'1984-01-30: 100.0 | 0.0'"
            ]
          },
          "metadata": {},
          "output_type": "display_data"
        },
        {
          "data": {
            "text/plain": [
              "'1984-02-29: 100.0 | 0.0'"
            ]
          },
          "metadata": {},
          "output_type": "display_data"
        },
        {
          "data": {
            "text/plain": [
              "'1984-03-30: 100.0 | 0.0'"
            ]
          },
          "metadata": {},
          "output_type": "display_data"
        },
        {
          "name": "stdout",
          "output_type": "stream",
          "text": [
            "CLOSE TRADES LENGTH:  0\n",
            "OPEN TRADES LENGTH:  63\n"
          ]
        },
        {
          "data": {
            "text/plain": [
              "'1984-04-30: 100.00000000000003 | 49.99999999999999'"
            ]
          },
          "metadata": {},
          "output_type": "display_data"
        },
        {
          "data": {
            "text/plain": [
              "'1984-05-30: 95.5305793650794 | 47.76528968253968'"
            ]
          },
          "metadata": {},
          "output_type": "display_data"
        },
        {
          "data": {
            "text/plain": [
              "'1984-06-30: 94.4202671278683 | 47.21013356393413'"
            ]
          },
          "metadata": {},
          "output_type": "display_data"
        },
        {
          "data": {
            "text/plain": [
              "'1984-07-30: 92.39296449509068 | 46.19648224754532'"
            ]
          },
          "metadata": {},
          "output_type": "display_data"
        },
        {
          "data": {
            "text/plain": [
              "'1984-08-30: 97.98820422264319 | 48.994102111321574'"
            ]
          },
          "metadata": {},
          "output_type": "display_data"
        },
        {
          "data": {
            "text/plain": [
              "'1984-09-30: 99.0060562701893 | 49.50302813509463'"
            ]
          },
          "metadata": {},
          "output_type": "display_data"
        },
        {
          "data": {
            "text/plain": [
              "'1984-10-30: 100.44373336180571 | 50.221866680902835'"
            ]
          },
          "metadata": {},
          "output_type": "display_data"
        },
        {
          "data": {
            "text/plain": [
              "'1984-11-30: 101.15294884528568 | 50.57647442264282'"
            ]
          },
          "metadata": {},
          "output_type": "display_data"
        },
        {
          "data": {
            "text/plain": [
              "'1984-12-30: 104.63109632085877 | 52.315548160429366'"
            ]
          },
          "metadata": {},
          "output_type": "display_data"
        },
        {
          "data": {
            "text/plain": [
              "'1985-01-30: 111.89505133318202 | 55.94752566659099'"
            ]
          },
          "metadata": {},
          "output_type": "display_data"
        },
        {
          "data": {
            "text/plain": [
              "'1985-02-28: 115.58406320848674 | 57.79203160424335'"
            ]
          },
          "metadata": {},
          "output_type": "display_data"
        },
        {
          "data": {
            "text/plain": [
              "'1985-03-30: 115.43065878064998 | 57.71532939032497'"
            ]
          },
          "metadata": {},
          "output_type": "display_data"
        },
        {
          "name": "stdout",
          "output_type": "stream",
          "text": [
            "CLOSE TRADES LENGTH:  63\n",
            "OPEN TRADES LENGTH:  97\n"
          ]
        },
        {
          "data": {
            "text/plain": [
              "'1985-04-30: 115.89037500214589 | 57.94518750107295'"
            ]
          },
          "metadata": {},
          "output_type": "display_data"
        },
        {
          "data": {
            "text/plain": [
              "'1985-05-30: 119.13007729312339 | 59.5650386465617'"
            ]
          },
          "metadata": {},
          "output_type": "display_data"
        },
        {
          "data": {
            "text/plain": [
              "'1985-06-30: 121.58636118934461 | 60.793180594672314'"
            ]
          },
          "metadata": {},
          "output_type": "display_data"
        },
        {
          "data": {
            "text/plain": [
              "'1985-07-30: 125.03869929167956 | 62.51934964583979'"
            ]
          },
          "metadata": {},
          "output_type": "display_data"
        },
        {
          "data": {
            "text/plain": [
              "'1985-08-30: 125.46638441394778 | 62.7331922069739'"
            ]
          },
          "metadata": {},
          "output_type": "display_data"
        },
        {
          "data": {
            "text/plain": [
              "'1985-09-30: 116.35136975135923 | 58.17568487567962'"
            ]
          },
          "metadata": {},
          "output_type": "display_data"
        },
        {
          "data": {
            "text/plain": [
              "'1985-10-30: 121.65749116883401 | 60.828745584417014'"
            ]
          },
          "metadata": {},
          "output_type": "display_data"
        },
        {
          "data": {
            "text/plain": [
              "'1985-11-30: 132.09115648244926 | 66.04557824122463'"
            ]
          },
          "metadata": {},
          "output_type": "display_data"
        },
        {
          "data": {
            "text/plain": [
              "'1985-12-30: 139.0033127445986 | 69.50165637229932'"
            ]
          },
          "metadata": {},
          "output_type": "display_data"
        },
        {
          "data": {
            "text/plain": [
              "'1986-01-30: 147.61477062825674 | 73.80738531412837'"
            ]
          },
          "metadata": {},
          "output_type": "display_data"
        },
        {
          "data": {
            "text/plain": [
              "'1986-02-28: 158.15271568082 | 79.07635784041'"
            ]
          },
          "metadata": {},
          "output_type": "display_data"
        },
        {
          "data": {
            "text/plain": [
              "'1986-03-30: 165.45213176265304 | 82.72606588132652'"
            ]
          },
          "metadata": {},
          "output_type": "display_data"
        },
        {
          "name": "stdout",
          "output_type": "stream",
          "text": [
            "CLOSE TRADES LENGTH:  97\n",
            "OPEN TRADES LENGTH:  100\n"
          ]
        },
        {
          "data": {
            "text/plain": [
              "'1986-04-30: 169.38091274097746 | 84.69045637048872'"
            ]
          },
          "metadata": {},
          "output_type": "display_data"
        },
        {
          "data": {
            "text/plain": [
              "'1986-05-30: 177.76445828089297 | 88.88222914044647'"
            ]
          },
          "metadata": {},
          "output_type": "display_data"
        },
        {
          "data": {
            "text/plain": [
              "'1986-06-30: 183.73116598775775 | 91.86558299387886'"
            ]
          },
          "metadata": {},
          "output_type": "display_data"
        },
        {
          "data": {
            "text/plain": [
              "'1986-07-30: 164.2562419932882 | 82.12812099664409'"
            ]
          },
          "metadata": {},
          "output_type": "display_data"
        },
        {
          "data": {
            "text/plain": [
              "'1986-08-30: 163.7823892393133 | 81.89119461965663'"
            ]
          },
          "metadata": {},
          "output_type": "display_data"
        },
        {
          "data": {
            "text/plain": [
              "'1986-09-30: 148.21218438900698 | 74.10609219450347'"
            ]
          },
          "metadata": {},
          "output_type": "display_data"
        },
        {
          "data": {
            "text/plain": [
              "'1986-10-30: 154.03781172155306 | 77.01890586077651'"
            ]
          },
          "metadata": {},
          "output_type": "display_data"
        },
        {
          "data": {
            "text/plain": [
              "'1986-11-30: 153.076850659409 | 76.53842532970448'"
            ]
          },
          "metadata": {},
          "output_type": "display_data"
        },
        {
          "data": {
            "text/plain": [
              "'1986-12-30: 144.10501484606766 | 72.05250742303382'"
            ]
          },
          "metadata": {},
          "output_type": "display_data"
        },
        {
          "data": {
            "text/plain": [
              "'1987-01-30: 162.14701690919372 | 81.07350845459685'"
            ]
          },
          "metadata": {},
          "output_type": "display_data"
        },
        {
          "data": {
            "text/plain": [
              "'1987-02-28: 179.77782526777472 | 89.88891263388734'"
            ]
          },
          "metadata": {},
          "output_type": "display_data"
        },
        {
          "data": {
            "text/plain": [
              "'1987-03-30: 178.85609248753926 | 89.42804624376961'"
            ]
          },
          "metadata": {},
          "output_type": "display_data"
        },
        {
          "name": "stdout",
          "output_type": "stream",
          "text": [
            "CLOSE TRADES LENGTH:  100\n",
            "OPEN TRADES LENGTH:  82\n"
          ]
        },
        {
          "data": {
            "text/plain": [
              "'1987-04-30: 172.32388597695996 | 86.16194298847998'"
            ]
          },
          "metadata": {},
          "output_type": "display_data"
        },
        {
          "data": {
            "text/plain": [
              "'1987-05-30: 168.61992484910914 | 84.30996242455457'"
            ]
          },
          "metadata": {},
          "output_type": "display_data"
        },
        {
          "data": {
            "text/plain": [
              "'1987-06-30: 168.57173789564055 | 84.28586894782028'"
            ]
          },
          "metadata": {},
          "output_type": "display_data"
        },
        {
          "data": {
            "text/plain": [
              "'1987-07-30: 173.89238508432518 | 86.94619254216259'"
            ]
          },
          "metadata": {},
          "output_type": "display_data"
        },
        {
          "data": {
            "text/plain": [
              "'1987-08-30: 177.65294196489867 | 88.82647098244934'"
            ]
          },
          "metadata": {},
          "output_type": "display_data"
        },
        {
          "data": {
            "text/plain": [
              "'1987-09-30: 175.7019615458846 | 87.8509807729423'"
            ]
          },
          "metadata": {},
          "output_type": "display_data"
        },
        {
          "data": {
            "text/plain": [
              "'1987-10-30: 123.90219080528414 | 61.95109540264207'"
            ]
          },
          "metadata": {},
          "output_type": "display_data"
        },
        {
          "data": {
            "text/plain": [
              "'1987-11-30: 118.88093256315813 | 59.44046628157906'"
            ]
          },
          "metadata": {},
          "output_type": "display_data"
        },
        {
          "data": {
            "text/plain": [
              "'1987-12-30: 125.55508852946728 | 62.77754426473364'"
            ]
          },
          "metadata": {},
          "output_type": "display_data"
        },
        {
          "data": {
            "text/plain": [
              "'1988-01-30: 128.04204183841298 | 64.02102091920649'"
            ]
          },
          "metadata": {},
          "output_type": "display_data"
        },
        {
          "data": {
            "text/plain": [
              "'1988-02-29: 139.0874935361852 | 69.5437467680926'"
            ]
          },
          "metadata": {},
          "output_type": "display_data"
        },
        {
          "data": {
            "text/plain": [
              "'1988-03-30: 144.73778553593925 | 72.36889276796963'"
            ]
          },
          "metadata": {},
          "output_type": "display_data"
        },
        {
          "name": "stdout",
          "output_type": "stream",
          "text": [
            "CLOSE TRADES LENGTH:  82\n",
            "OPEN TRADES LENGTH:  100\n"
          ]
        },
        {
          "data": {
            "text/plain": [
              "'1988-04-30: 149.26695949854218 | 74.63347974927109'"
            ]
          },
          "metadata": {},
          "output_type": "display_data"
        },
        {
          "data": {
            "text/plain": [
              "'1988-05-30: 146.23109792078986 | 73.11554896039493'"
            ]
          },
          "metadata": {},
          "output_type": "display_data"
        },
        {
          "data": {
            "text/plain": [
              "'1988-06-30: 154.079162308558 | 77.039581154279'"
            ]
          },
          "metadata": {},
          "output_type": "display_data"
        },
        {
          "data": {
            "text/plain": [
              "'1988-07-30: 152.55924298746987 | 76.27962149373494'"
            ]
          },
          "metadata": {},
          "output_type": "display_data"
        },
        {
          "data": {
            "text/plain": [
              "'1988-08-30: 148.02322629456916 | 74.01161314728458'"
            ]
          },
          "metadata": {},
          "output_type": "display_data"
        },
        {
          "data": {
            "text/plain": [
              "'1988-09-30: 150.58413084793781 | 75.29206542396891'"
            ]
          },
          "metadata": {},
          "output_type": "display_data"
        },
        {
          "data": {
            "text/plain": [
              "'1988-10-30: 149.75247791535068 | 74.87623895767534'"
            ]
          },
          "metadata": {},
          "output_type": "display_data"
        },
        {
          "data": {
            "text/plain": [
              "'1988-11-30: 146.97087782498818 | 73.48543891249409'"
            ]
          },
          "metadata": {},
          "output_type": "display_data"
        },
        {
          "data": {
            "text/plain": [
              "'1988-12-30: 149.81147729959648 | 74.90573864979824'"
            ]
          },
          "metadata": {},
          "output_type": "display_data"
        },
        {
          "data": {
            "text/plain": [
              "'1989-01-30: 158.1254377869838 | 79.0627188934919'"
            ]
          },
          "metadata": {},
          "output_type": "display_data"
        },
        {
          "data": {
            "text/plain": [
              "'1989-02-28: 159.58402384735885 | 79.79201192367942'"
            ]
          },
          "metadata": {},
          "output_type": "display_data"
        },
        {
          "data": {
            "text/plain": [
              "'1989-03-30: 164.93134077989038 | 82.46567038994519'"
            ]
          },
          "metadata": {},
          "output_type": "display_data"
        },
        {
          "name": "stdout",
          "output_type": "stream",
          "text": [
            "CLOSE TRADES LENGTH:  100\n",
            "OPEN TRADES LENGTH:  97\n"
          ]
        },
        {
          "data": {
            "text/plain": [
              "'1989-04-30: 173.07695722476598 | 86.538478612383'"
            ]
          },
          "metadata": {},
          "output_type": "display_data"
        },
        {
          "data": {
            "text/plain": [
              "'1989-05-30: 181.76129517925224 | 90.88064758962614'"
            ]
          },
          "metadata": {},
          "output_type": "display_data"
        },
        {
          "data": {
            "text/plain": [
              "'1989-06-30: 180.5231264794532 | 90.26156323972661'"
            ]
          },
          "metadata": {},
          "output_type": "display_data"
        },
        {
          "data": {
            "text/plain": [
              "'1989-07-30: 194.50975661378882 | 97.25487830689443'"
            ]
          },
          "metadata": {},
          "output_type": "display_data"
        },
        {
          "data": {
            "text/plain": [
              "'1989-08-30: 200.63913425808576 | 100.3195671290429'"
            ]
          },
          "metadata": {},
          "output_type": "display_data"
        },
        {
          "data": {
            "text/plain": [
              "'1989-09-30: 207.36804106172664 | 103.68402053086334'"
            ]
          },
          "metadata": {},
          "output_type": "display_data"
        },
        {
          "data": {
            "text/plain": [
              "'1989-10-30: 196.64213852342854 | 98.32106926171429'"
            ]
          },
          "metadata": {},
          "output_type": "display_data"
        },
        {
          "data": {
            "text/plain": [
              "'1989-11-30: 198.6622624935342 | 99.33113124676711'"
            ]
          },
          "metadata": {},
          "output_type": "display_data"
        },
        {
          "data": {
            "text/plain": [
              "'1989-12-30: 200.33877148332044 | 100.16938574166024'"
            ]
          },
          "metadata": {},
          "output_type": "display_data"
        },
        {
          "data": {
            "text/plain": [
              "'1990-01-30: 176.74051461046326 | 88.37025730523165'"
            ]
          },
          "metadata": {},
          "output_type": "display_data"
        },
        {
          "data": {
            "text/plain": [
              "'1990-02-28: 184.0865969317042 | 92.04329846585212'"
            ]
          },
          "metadata": {},
          "output_type": "display_data"
        },
        {
          "data": {
            "text/plain": [
              "'1990-03-30: 191.78468847087913 | 95.89234423543958'"
            ]
          },
          "metadata": {},
          "output_type": "display_data"
        },
        {
          "name": "stdout",
          "output_type": "stream",
          "text": [
            "CLOSE TRADES LENGTH:  97\n",
            "OPEN TRADES LENGTH:  97\n"
          ]
        },
        {
          "data": {
            "text/plain": [
              "'1990-04-30: 184.27801826581705 | 92.13900913290854'"
            ]
          },
          "metadata": {},
          "output_type": "display_data"
        },
        {
          "data": {
            "text/plain": [
              "'1990-05-30: 200.1940898059284 | 100.09704490296421'"
            ]
          },
          "metadata": {},
          "output_type": "display_data"
        },
        {
          "data": {
            "text/plain": [
              "'1990-06-30: 208.3984188889143 | 104.19920944445717'"
            ]
          },
          "metadata": {},
          "output_type": "display_data"
        },
        {
          "data": {
            "text/plain": [
              "'1990-07-30: 201.23266447727033 | 100.61633223863518'"
            ]
          },
          "metadata": {},
          "output_type": "display_data"
        },
        {
          "data": {
            "text/plain": [
              "'1990-08-30: 170.34161242962426 | 85.17080621481215'"
            ]
          },
          "metadata": {},
          "output_type": "display_data"
        },
        {
          "data": {
            "text/plain": [
              "'1990-09-30: 155.56193146998407 | 77.78096573499205'"
            ]
          },
          "metadata": {},
          "output_type": "display_data"
        },
        {
          "data": {
            "text/plain": [
              "'1990-10-30: 148.25273410827495 | 74.12636705413749'"
            ]
          },
          "metadata": {},
          "output_type": "display_data"
        },
        {
          "data": {
            "text/plain": [
              "'1990-11-30: 157.0050303288221 | 78.50251516441107'"
            ]
          },
          "metadata": {},
          "output_type": "display_data"
        },
        {
          "data": {
            "text/plain": [
              "'1990-12-30: 165.06448879480303 | 82.53224439740153'"
            ]
          },
          "metadata": {},
          "output_type": "display_data"
        },
        {
          "data": {
            "text/plain": [
              "'1991-01-30: 176.57097689272055 | 88.28548844636029'"
            ]
          },
          "metadata": {},
          "output_type": "display_data"
        },
        {
          "data": {
            "text/plain": [
              "'1991-02-28: 194.4372292059954 | 97.21861460299772'"
            ]
          },
          "metadata": {},
          "output_type": "display_data"
        },
        {
          "data": {
            "text/plain": [
              "'1991-03-30: 212.66172273798463 | 106.33086136899233'"
            ]
          },
          "metadata": {},
          "output_type": "display_data"
        },
        {
          "name": "stdout",
          "output_type": "stream",
          "text": [
            "CLOSE TRADES LENGTH:  97\n",
            "OPEN TRADES LENGTH:  100\n"
          ]
        },
        {
          "data": {
            "text/plain": [
              "'1991-04-30: 214.05685108785036 | 107.02842554392514'"
            ]
          },
          "metadata": {},
          "output_type": "display_data"
        },
        {
          "data": {
            "text/plain": [
              "'1991-05-30: 225.33204099125018 | 112.66602049562505'"
            ]
          },
          "metadata": {},
          "output_type": "display_data"
        },
        {
          "data": {
            "text/plain": [
              "'1991-06-30: 209.67356858605913 | 104.83678429302952'"
            ]
          },
          "metadata": {},
          "output_type": "display_data"
        },
        {
          "data": {
            "text/plain": [
              "'1991-07-30: 230.16054853565055 | 115.08027426782523'"
            ]
          },
          "metadata": {},
          "output_type": "display_data"
        },
        {
          "data": {
            "text/plain": [
              "'1991-08-30: 243.980465579472 | 121.99023278973596'"
            ]
          },
          "metadata": {},
          "output_type": "display_data"
        },
        {
          "data": {
            "text/plain": [
              "'1991-09-30: 251.45860573673542 | 125.72930286836767'"
            ]
          },
          "metadata": {},
          "output_type": "display_data"
        },
        {
          "data": {
            "text/plain": [
              "'1991-10-30: 277.90424218740975 | 138.95212109370482'"
            ]
          },
          "metadata": {},
          "output_type": "display_data"
        },
        {
          "data": {
            "text/plain": [
              "'1991-11-30: 270.2007671454403 | 135.1003835727201'"
            ]
          },
          "metadata": {},
          "output_type": "display_data"
        },
        {
          "data": {
            "text/plain": [
              "'1991-12-30: 299.6221250124829 | 149.8110625062414'"
            ]
          },
          "metadata": {},
          "output_type": "display_data"
        },
        {
          "data": {
            "text/plain": [
              "'1992-01-30: 328.0985722035256 | 164.04928610176273'"
            ]
          },
          "metadata": {},
          "output_type": "display_data"
        },
        {
          "data": {
            "text/plain": [
              "'1992-02-29: 318.126539901426 | 159.06326995071294'"
            ]
          },
          "metadata": {},
          "output_type": "display_data"
        },
        {
          "data": {
            "text/plain": [
              "'1992-03-30: 289.2874077023598 | 144.64370385117985'"
            ]
          },
          "metadata": {},
          "output_type": "display_data"
        },
        {
          "name": "stdout",
          "output_type": "stream",
          "text": [
            "CLOSE TRADES LENGTH:  100\n",
            "OPEN TRADES LENGTH:  74\n"
          ]
        },
        {
          "data": {
            "text/plain": [
              "'1992-04-30: 263.13346768118925 | 131.56673384059468'"
            ]
          },
          "metadata": {},
          "output_type": "display_data"
        },
        {
          "data": {
            "text/plain": [
              "'1992-05-30: 271.93221702581224 | 135.96610851290617'"
            ]
          },
          "metadata": {},
          "output_type": "display_data"
        },
        {
          "data": {
            "text/plain": [
              "'1992-06-30: 251.14771854276287 | 125.5738592713815'"
            ]
          },
          "metadata": {},
          "output_type": "display_data"
        },
        {
          "data": {
            "text/plain": [
              "'1992-07-30: 262.67075088636386 | 131.335375443182'"
            ]
          },
          "metadata": {},
          "output_type": "display_data"
        },
        {
          "data": {
            "text/plain": [
              "'1992-08-30: 252.08034701634085 | 126.04017350817048'"
            ]
          },
          "metadata": {},
          "output_type": "display_data"
        },
        {
          "data": {
            "text/plain": [
              "'1992-09-30: 262.7786702613103 | 131.3893351306552'"
            ]
          },
          "metadata": {},
          "output_type": "display_data"
        },
        {
          "data": {
            "text/plain": [
              "'1992-10-30: 278.8443243990612 | 139.42216219953065'"
            ]
          },
          "metadata": {},
          "output_type": "display_data"
        },
        {
          "data": {
            "text/plain": [
              "'1992-11-30: 309.29038219223116 | 154.64519109611564'"
            ]
          },
          "metadata": {},
          "output_type": "display_data"
        },
        {
          "data": {
            "text/plain": [
              "'1992-12-30: 316.5898634625145 | 158.2949317312573'"
            ]
          },
          "metadata": {},
          "output_type": "display_data"
        },
        {
          "data": {
            "text/plain": [
              "'1993-01-30: 321.56324561285663 | 160.78162280642837'"
            ]
          },
          "metadata": {},
          "output_type": "display_data"
        },
        {
          "data": {
            "text/plain": [
              "'1993-02-28: 301.0391852527123 | 150.5195926263562'"
            ]
          },
          "metadata": {},
          "output_type": "display_data"
        },
        {
          "data": {
            "text/plain": [
              "'1993-03-30: 313.6788779032274 | 156.83943895161374'"
            ]
          },
          "metadata": {},
          "output_type": "display_data"
        },
        {
          "name": "stdout",
          "output_type": "stream",
          "text": [
            "CLOSE TRADES LENGTH:  74\n",
            "OPEN TRADES LENGTH:  100\n"
          ]
        },
        {
          "data": {
            "text/plain": [
              "'1993-04-30: 292.10749921483927 | 146.05374960741966'"
            ]
          },
          "metadata": {},
          "output_type": "display_data"
        },
        {
          "data": {
            "text/plain": [
              "'1993-05-30: 308.5963833305185 | 154.29819166525928'"
            ]
          },
          "metadata": {},
          "output_type": "display_data"
        },
        {
          "data": {
            "text/plain": [
              "'1993-06-30: 311.32662339258763 | 155.66331169629385'"
            ]
          },
          "metadata": {},
          "output_type": "display_data"
        },
        {
          "data": {
            "text/plain": [
              "'1993-07-30: 318.6592201826954 | 159.32961009134772'"
            ]
          },
          "metadata": {},
          "output_type": "display_data"
        },
        {
          "data": {
            "text/plain": [
              "'1993-08-30: 329.05232587052666 | 164.52616293526336'"
            ]
          },
          "metadata": {},
          "output_type": "display_data"
        },
        {
          "data": {
            "text/plain": [
              "'1993-09-30: 347.285287094741 | 173.64264354737054'"
            ]
          },
          "metadata": {},
          "output_type": "display_data"
        },
        {
          "data": {
            "text/plain": [
              "'1993-10-30: 358.3324581765611 | 179.16622908828057'"
            ]
          },
          "metadata": {},
          "output_type": "display_data"
        },
        {
          "data": {
            "text/plain": [
              "'1993-11-30: 337.01703958744946 | 168.50851979372476'"
            ]
          },
          "metadata": {},
          "output_type": "display_data"
        },
        {
          "data": {
            "text/plain": [
              "'1993-12-30: 346.79607258906543 | 173.39803629453274'"
            ]
          },
          "metadata": {},
          "output_type": "display_data"
        },
        {
          "data": {
            "text/plain": [
              "'1994-01-30: 359.91308874001993 | 179.95654437001'"
            ]
          },
          "metadata": {},
          "output_type": "display_data"
        },
        {
          "data": {
            "text/plain": [
              "'1994-02-28: 351.48640479900007 | 175.74320239950006'"
            ]
          },
          "metadata": {},
          "output_type": "display_data"
        },
        {
          "data": {
            "text/plain": [
              "'1994-03-30: 317.0004471431406 | 158.50022357157033'"
            ]
          },
          "metadata": {},
          "output_type": "display_data"
        },
        {
          "name": "stdout",
          "output_type": "stream",
          "text": [
            "CLOSE TRADES LENGTH:  100\n",
            "OPEN TRADES LENGTH:  100\n"
          ]
        },
        {
          "data": {
            "text/plain": [
              "'1994-04-30: 324.47352591041414 | 162.23676295520698'"
            ]
          },
          "metadata": {},
          "output_type": "display_data"
        },
        {
          "data": {
            "text/plain": [
              "'1994-05-30: 313.72555127242356 | 156.8627756362117'"
            ]
          },
          "metadata": {},
          "output_type": "display_data"
        },
        {
          "data": {
            "text/plain": [
              "'1994-06-30: 298.44633920331484 | 149.22316960165733'"
            ]
          },
          "metadata": {},
          "output_type": "display_data"
        },
        {
          "data": {
            "text/plain": [
              "'1994-07-30: 308.34864128572593 | 154.17432064286288'"
            ]
          },
          "metadata": {},
          "output_type": "display_data"
        },
        {
          "data": {
            "text/plain": [
              "'1994-08-30: 325.2449003180115 | 162.62245015900567'"
            ]
          },
          "metadata": {},
          "output_type": "display_data"
        },
        {
          "data": {
            "text/plain": [
              "'1994-09-30: 326.95228587132044 | 163.47614293566014'"
            ]
          },
          "metadata": {},
          "output_type": "display_data"
        },
        {
          "data": {
            "text/plain": [
              "'1994-10-30: 332.27898507321146 | 166.13949253660564'"
            ]
          },
          "metadata": {},
          "output_type": "display_data"
        },
        {
          "data": {
            "text/plain": [
              "'1994-11-30: 321.34486168023574 | 160.67243084011778'"
            ]
          },
          "metadata": {},
          "output_type": "display_data"
        },
        {
          "data": {
            "text/plain": [
              "'1994-12-30: 322.6467734660777 | 161.32338673303877'"
            ]
          },
          "metadata": {},
          "output_type": "display_data"
        },
        {
          "data": {
            "text/plain": [
              "'1995-01-30: 320.5446230584455 | 160.27231152922266'"
            ]
          },
          "metadata": {},
          "output_type": "display_data"
        },
        {
          "data": {
            "text/plain": [
              "'1995-02-28: 330.6742710224517 | 165.33713551122577'"
            ]
          },
          "metadata": {},
          "output_type": "display_data"
        },
        {
          "data": {
            "text/plain": [
              "'1995-03-30: 343.66136417334155 | 171.8306820866707'"
            ]
          },
          "metadata": {},
          "output_type": "display_data"
        },
        {
          "name": "stdout",
          "output_type": "stream",
          "text": [
            "CLOSE TRADES LENGTH:  100\n",
            "OPEN TRADES LENGTH:  100\n"
          ]
        },
        {
          "data": {
            "text/plain": [
              "'1995-04-30: 354.52343286815847 | 177.2617164340793'"
            ]
          },
          "metadata": {},
          "output_type": "display_data"
        },
        {
          "data": {
            "text/plain": [
              "'1995-05-30: 359.8783639670244 | 179.93918198351227'"
            ]
          },
          "metadata": {},
          "output_type": "display_data"
        },
        {
          "data": {
            "text/plain": [
              "'1995-06-30: 399.3421559610759 | 199.671077980538'"
            ]
          },
          "metadata": {},
          "output_type": "display_data"
        },
        {
          "data": {
            "text/plain": [
              "'1995-07-30: 441.51259147373963 | 220.75629573686987'"
            ]
          },
          "metadata": {},
          "output_type": "display_data"
        },
        {
          "data": {
            "text/plain": [
              "'1995-08-30: 441.40055798550964 | 220.70027899275487'"
            ]
          },
          "metadata": {},
          "output_type": "display_data"
        },
        {
          "data": {
            "text/plain": [
              "'1995-09-30: 457.92767234497825 | 228.96383617248918'"
            ]
          },
          "metadata": {},
          "output_type": "display_data"
        },
        {
          "data": {
            "text/plain": [
              "'1995-10-30: 421.499105577995 | 210.74955278899756'"
            ]
          },
          "metadata": {},
          "output_type": "display_data"
        },
        {
          "data": {
            "text/plain": [
              "'1995-11-30: 441.9122992538753 | 220.9561496269377'"
            ]
          },
          "metadata": {},
          "output_type": "display_data"
        },
        {
          "data": {
            "text/plain": [
              "'1995-12-30: 430.0363365906634 | 215.01816829533175'"
            ]
          },
          "metadata": {},
          "output_type": "display_data"
        },
        {
          "data": {
            "text/plain": [
              "'1996-01-30: 410.41499361020027 | 205.2074968051002'"
            ]
          },
          "metadata": {},
          "output_type": "display_data"
        },
        {
          "data": {
            "text/plain": [
              "'1996-02-29: 436.1608138504473 | 218.0804069252237'"
            ]
          },
          "metadata": {},
          "output_type": "display_data"
        },
        {
          "data": {
            "text/plain": [
              "'1996-03-30: 433.47494136291476 | 216.73747068145744'"
            ]
          },
          "metadata": {},
          "output_type": "display_data"
        },
        {
          "name": "stdout",
          "output_type": "stream",
          "text": [
            "CLOSE TRADES LENGTH:  100\n",
            "OPEN TRADES LENGTH:  100\n"
          ]
        },
        {
          "data": {
            "text/plain": [
              "'1996-04-30: 475.78160567389995 | 237.89080283695'"
            ]
          },
          "metadata": {},
          "output_type": "display_data"
        },
        {
          "data": {
            "text/plain": [
              "'1996-05-30: 511.2893153663765 | 255.64465768318829'"
            ]
          },
          "metadata": {},
          "output_type": "display_data"
        },
        {
          "data": {
            "text/plain": [
              "'1996-06-30: 483.2283016468525 | 241.6141508234263'"
            ]
          },
          "metadata": {},
          "output_type": "display_data"
        },
        {
          "data": {
            "text/plain": [
              "'1996-07-30: 408.3658827485652 | 204.18294137428262'"
            ]
          },
          "metadata": {},
          "output_type": "display_data"
        },
        {
          "data": {
            "text/plain": [
              "'1996-08-30: 447.7426040847107 | 223.87130204235538'"
            ]
          },
          "metadata": {},
          "output_type": "display_data"
        },
        {
          "data": {
            "text/plain": [
              "'1996-09-30: 485.79885340643784 | 242.89942670321895'"
            ]
          },
          "metadata": {},
          "output_type": "display_data"
        },
        {
          "data": {
            "text/plain": [
              "'1996-10-30: 458.8867923014761 | 229.44339615073807'"
            ]
          },
          "metadata": {},
          "output_type": "display_data"
        },
        {
          "data": {
            "text/plain": [
              "'1996-11-30: 470.6591534486025 | 235.3295767243013'"
            ]
          },
          "metadata": {},
          "output_type": "display_data"
        },
        {
          "data": {
            "text/plain": [
              "'1996-12-30: 469.8858569381294 | 234.94292846906473'"
            ]
          },
          "metadata": {},
          "output_type": "display_data"
        },
        {
          "data": {
            "text/plain": [
              "'1997-01-30: 495.45032086177935 | 247.7251604308897'"
            ]
          },
          "metadata": {},
          "output_type": "display_data"
        },
        {
          "data": {
            "text/plain": [
              "'1997-02-28: 444.1848418864837 | 222.09242094324188'"
            ]
          },
          "metadata": {},
          "output_type": "display_data"
        },
        {
          "data": {
            "text/plain": [
              "'1997-03-30: 404.50697006085426 | 202.25348503042716'"
            ]
          },
          "metadata": {},
          "output_type": "display_data"
        },
        {
          "name": "stdout",
          "output_type": "stream",
          "text": [
            "CLOSE TRADES LENGTH:  100\n",
            "OPEN TRADES LENGTH:  100\n"
          ]
        },
        {
          "data": {
            "text/plain": [
              "'1997-04-30: 389.3983362052289 | 194.6991681026144'"
            ]
          },
          "metadata": {},
          "output_type": "display_data"
        },
        {
          "data": {
            "text/plain": [
              "'1997-05-30: 442.3904109482901 | 221.195205474145'"
            ]
          },
          "metadata": {},
          "output_type": "display_data"
        },
        {
          "data": {
            "text/plain": [
              "'1997-06-30: 483.409238996709 | 241.70461949835448'"
            ]
          },
          "metadata": {},
          "output_type": "display_data"
        },
        {
          "data": {
            "text/plain": [
              "'1997-07-30: 508.4597402623045 | 254.2298701311522'"
            ]
          },
          "metadata": {},
          "output_type": "display_data"
        },
        {
          "data": {
            "text/plain": [
              "'1997-08-30: 532.3712107260044 | 266.1856053630022'"
            ]
          },
          "metadata": {},
          "output_type": "display_data"
        },
        {
          "data": {
            "text/plain": [
              "'1997-09-30: 576.1590245184054 | 288.0795122592027'"
            ]
          },
          "metadata": {},
          "output_type": "display_data"
        },
        {
          "data": {
            "text/plain": [
              "'1997-10-30: 524.539158877132 | 262.269579438566'"
            ]
          },
          "metadata": {},
          "output_type": "display_data"
        },
        {
          "data": {
            "text/plain": [
              "'1997-11-30: 503.10183325354524 | 251.5509166267726'"
            ]
          },
          "metadata": {},
          "output_type": "display_data"
        },
        {
          "data": {
            "text/plain": [
              "'1997-12-30: 503.0183990617584 | 251.50919953087916'"
            ]
          },
          "metadata": {},
          "output_type": "display_data"
        },
        {
          "data": {
            "text/plain": [
              "'1998-01-30: 494.685925464687 | 247.34296273234347'"
            ]
          },
          "metadata": {},
          "output_type": "display_data"
        },
        {
          "data": {
            "text/plain": [
              "'1998-02-28: 533.129584965913 | 266.5647924829565'"
            ]
          },
          "metadata": {},
          "output_type": "display_data"
        },
        {
          "data": {
            "text/plain": [
              "'1998-03-30: 541.9612514603559 | 270.98062573017796'"
            ]
          },
          "metadata": {},
          "output_type": "display_data"
        },
        {
          "name": "stdout",
          "output_type": "stream",
          "text": [
            "CLOSE TRADES LENGTH:  100\n",
            "OPEN TRADES LENGTH:  100\n"
          ]
        },
        {
          "data": {
            "text/plain": [
              "'1998-04-30: 550.0107063573889 | 275.00535317869446'"
            ]
          },
          "metadata": {},
          "output_type": "display_data"
        },
        {
          "data": {
            "text/plain": [
              "'1998-05-30: 517.6419987770149 | 258.82099938850746'"
            ]
          },
          "metadata": {},
          "output_type": "display_data"
        },
        {
          "data": {
            "text/plain": [
              "'1998-06-30: 568.6583055197525 | 284.32915275987625'"
            ]
          },
          "metadata": {},
          "output_type": "display_data"
        },
        {
          "data": {
            "text/plain": [
              "'1998-07-30: 529.5815633562288 | 264.7907816781144'"
            ]
          },
          "metadata": {},
          "output_type": "display_data"
        },
        {
          "data": {
            "text/plain": [
              "'1998-08-30: 378.5564657798847 | 189.27823288994236'"
            ]
          },
          "metadata": {},
          "output_type": "display_data"
        },
        {
          "data": {
            "text/plain": [
              "'1998-09-30: 427.99296938765536 | 213.99648469382768'"
            ]
          },
          "metadata": {},
          "output_type": "display_data"
        },
        {
          "data": {
            "text/plain": [
              "'1998-10-30: 450.1727699776391 | 225.08638498881956'"
            ]
          },
          "metadata": {},
          "output_type": "display_data"
        },
        {
          "data": {
            "text/plain": [
              "'1998-11-30: 518.5440246062158 | 259.2720123031079'"
            ]
          },
          "metadata": {},
          "output_type": "display_data"
        },
        {
          "data": {
            "text/plain": [
              "'1998-12-30: 565.5321949261329 | 282.76609746306644'"
            ]
          },
          "metadata": {},
          "output_type": "display_data"
        },
        {
          "data": {
            "text/plain": [
              "'1999-01-30: 635.3411924805165 | 317.67059624025825'"
            ]
          },
          "metadata": {},
          "output_type": "display_data"
        },
        {
          "data": {
            "text/plain": [
              "'1999-02-28: 573.26212467486 | 286.63106233743'"
            ]
          },
          "metadata": {},
          "output_type": "display_data"
        },
        {
          "data": {
            "text/plain": [
              "'1999-03-30: 610.0661944685098 | 305.0330972342549'"
            ]
          },
          "metadata": {},
          "output_type": "display_data"
        },
        {
          "name": "stdout",
          "output_type": "stream",
          "text": [
            "CLOSE TRADES LENGTH:  100\n",
            "OPEN TRADES LENGTH:  100\n"
          ]
        },
        {
          "data": {
            "text/plain": [
              "'1999-04-30: 659.9312984195914 | 329.96564920979563'"
            ]
          },
          "metadata": {},
          "output_type": "display_data"
        },
        {
          "data": {
            "text/plain": [
              "'1999-05-30: 677.9033790515898 | 338.95168952579485'"
            ]
          },
          "metadata": {},
          "output_type": "display_data"
        },
        {
          "data": {
            "text/plain": [
              "'1999-06-30: 779.2437409156778 | 389.62187045783884'"
            ]
          },
          "metadata": {},
          "output_type": "display_data"
        },
        {
          "data": {
            "text/plain": [
              "'1999-07-30: 762.3266549982827 | 381.1633274991413'"
            ]
          },
          "metadata": {},
          "output_type": "display_data"
        },
        {
          "data": {
            "text/plain": [
              "'1999-08-30: 736.9054164007681 | 368.452708200384'"
            ]
          },
          "metadata": {},
          "output_type": "display_data"
        },
        {
          "data": {
            "text/plain": [
              "'1999-09-30: 752.2033869897076 | 376.10169349485375'"
            ]
          },
          "metadata": {},
          "output_type": "display_data"
        },
        {
          "data": {
            "text/plain": [
              "'1999-10-30: 793.7357939005421 | 396.867896950271'"
            ]
          },
          "metadata": {},
          "output_type": "display_data"
        },
        {
          "data": {
            "text/plain": [
              "'1999-11-30: 913.3613441120884 | 456.68067205604416'"
            ]
          },
          "metadata": {},
          "output_type": "display_data"
        },
        {
          "data": {
            "text/plain": [
              "'1999-12-30: 1059.2562747629713 | 529.6281373814857'"
            ]
          },
          "metadata": {},
          "output_type": "display_data"
        },
        {
          "data": {
            "text/plain": [
              "'2000-01-30: 1029.6595732653745 | 514.8297866326873'"
            ]
          },
          "metadata": {},
          "output_type": "display_data"
        },
        {
          "data": {
            "text/plain": [
              "'2000-02-29: 1425.4194124083797 | 712.7097062041898'"
            ]
          },
          "metadata": {},
          "output_type": "display_data"
        },
        {
          "data": {
            "text/plain": [
              "'2000-03-30: 1255.9190790519133 | 627.9595395259566'"
            ]
          },
          "metadata": {},
          "output_type": "display_data"
        },
        {
          "name": "stdout",
          "output_type": "stream",
          "text": [
            "CLOSE TRADES LENGTH:  100\n",
            "OPEN TRADES LENGTH:  100\n"
          ]
        },
        {
          "data": {
            "text/plain": [
              "'2000-04-30: 1139.5841526566312 | 569.7920763283157'"
            ]
          },
          "metadata": {},
          "output_type": "display_data"
        },
        {
          "data": {
            "text/plain": [
              "'2000-05-30: 1002.5565314091391 | 501.27826570456966'"
            ]
          },
          "metadata": {},
          "output_type": "display_data"
        },
        {
          "data": {
            "text/plain": [
              "'2000-06-30: 1468.899763889222 | 734.4498819446111'"
            ]
          },
          "metadata": {},
          "output_type": "display_data"
        },
        {
          "data": {
            "text/plain": [
              "'2000-07-30: 1268.3944844158536 | 634.1972422079269'"
            ]
          },
          "metadata": {},
          "output_type": "display_data"
        },
        {
          "data": {
            "text/plain": [
              "'2000-08-30: 1513.9403769572955 | 756.9701884786479'"
            ]
          },
          "metadata": {},
          "output_type": "display_data"
        },
        {
          "data": {
            "text/plain": [
              "'2000-09-30: 1432.8095253337503 | 716.4047626668753'"
            ]
          },
          "metadata": {},
          "output_type": "display_data"
        },
        {
          "data": {
            "text/plain": [
              "'2000-10-30: 1272.1375922159261 | 636.0687961079632'"
            ]
          },
          "metadata": {},
          "output_type": "display_data"
        },
        {
          "data": {
            "text/plain": [
              "'2000-11-30: 887.3333879826888 | 443.6666939913445'"
            ]
          },
          "metadata": {},
          "output_type": "display_data"
        },
        {
          "data": {
            "text/plain": [
              "'2000-12-30: 917.6461860904787 | 458.8230930452395'"
            ]
          },
          "metadata": {},
          "output_type": "display_data"
        },
        {
          "data": {
            "text/plain": [
              "'2001-01-30: 995.5181689065631 | 497.7590844532817'"
            ]
          },
          "metadata": {},
          "output_type": "display_data"
        },
        {
          "data": {
            "text/plain": [
              "'2001-02-28: 718.5860760324597 | 359.29303801622996'"
            ]
          },
          "metadata": {},
          "output_type": "display_data"
        },
        {
          "data": {
            "text/plain": [
              "'2001-03-30: 587.4768307729013 | 293.73841538645075'"
            ]
          },
          "metadata": {},
          "output_type": "display_data"
        },
        {
          "name": "stdout",
          "output_type": "stream",
          "text": [
            "CLOSE TRADES LENGTH:  100\n",
            "OPEN TRADES LENGTH:  100\n"
          ]
        },
        {
          "data": {
            "text/plain": [
              "'2001-04-30: 734.419760359782 | 367.2098801798911'"
            ]
          },
          "metadata": {},
          "output_type": "display_data"
        },
        {
          "data": {
            "text/plain": [
              "'2001-05-30: 793.6162256808518 | 396.808112840426'"
            ]
          },
          "metadata": {},
          "output_type": "display_data"
        },
        {
          "data": {
            "text/plain": [
              "'2001-06-30: 824.3096990753252 | 412.1548495376627'"
            ]
          },
          "metadata": {},
          "output_type": "display_data"
        },
        {
          "data": {
            "text/plain": [
              "'2001-07-30: 815.2406798248002 | 407.6203399124002'"
            ]
          },
          "metadata": {},
          "output_type": "display_data"
        },
        {
          "data": {
            "text/plain": [
              "'2001-08-30: 788.9508179582034 | 394.4754089791018'"
            ]
          },
          "metadata": {},
          "output_type": "display_data"
        },
        {
          "data": {
            "text/plain": [
              "'2001-09-30: 682.7594732374856 | 341.3797366187429'"
            ]
          },
          "metadata": {},
          "output_type": "display_data"
        },
        {
          "data": {
            "text/plain": [
              "'2001-10-30: 732.265677924665 | 366.13283896233264'"
            ]
          },
          "metadata": {},
          "output_type": "display_data"
        },
        {
          "data": {
            "text/plain": [
              "'2001-11-30: 775.5309379942832 | 387.76546899714174'"
            ]
          },
          "metadata": {},
          "output_type": "display_data"
        },
        {
          "data": {
            "text/plain": [
              "'2001-12-30: 817.627351954976 | 408.8136759774881'"
            ]
          },
          "metadata": {},
          "output_type": "display_data"
        },
        {
          "data": {
            "text/plain": [
              "'2002-01-30: 817.8923396659611 | 408.9461698329807'"
            ]
          },
          "metadata": {},
          "output_type": "display_data"
        },
        {
          "data": {
            "text/plain": [
              "'2002-02-28: 799.1859381789734 | 399.5929690894868'"
            ]
          },
          "metadata": {},
          "output_type": "display_data"
        },
        {
          "data": {
            "text/plain": [
              "'2002-03-30: 851.4024795072042 | 425.70123975360224'"
            ]
          },
          "metadata": {},
          "output_type": "display_data"
        },
        {
          "name": "stdout",
          "output_type": "stream",
          "text": [
            "CLOSE TRADES LENGTH:  100\n",
            "OPEN TRADES LENGTH:  100\n"
          ]
        },
        {
          "data": {
            "text/plain": [
              "'2002-04-30: 888.5075629385334 | 444.25378146926687'"
            ]
          },
          "metadata": {},
          "output_type": "display_data"
        },
        {
          "data": {
            "text/plain": [
              "'2002-05-30: 866.5976772425191 | 433.29883862125973'"
            ]
          },
          "metadata": {},
          "output_type": "display_data"
        },
        {
          "data": {
            "text/plain": [
              "'2002-06-30: 865.200403220325 | 432.6002016101627'"
            ]
          },
          "metadata": {},
          "output_type": "display_data"
        },
        {
          "data": {
            "text/plain": [
              "'2002-07-30: 733.9316893095671 | 366.9658446547837'"
            ]
          },
          "metadata": {},
          "output_type": "display_data"
        },
        {
          "data": {
            "text/plain": [
              "'2002-08-30: 752.4839308442112 | 376.24196542210575'"
            ]
          },
          "metadata": {},
          "output_type": "display_data"
        },
        {
          "data": {
            "text/plain": [
              "'2002-09-30: 700.4009740889663 | 350.20048704448334'"
            ]
          },
          "metadata": {},
          "output_type": "display_data"
        },
        {
          "data": {
            "text/plain": [
              "'2002-10-30: 720.7053652401927 | 360.3526826200965'"
            ]
          },
          "metadata": {},
          "output_type": "display_data"
        },
        {
          "data": {
            "text/plain": [
              "'2002-11-30: 756.8125737334359 | 378.4062868667181'"
            ]
          },
          "metadata": {},
          "output_type": "display_data"
        },
        {
          "data": {
            "text/plain": [
              "'2002-12-30: 734.963708498125 | 367.4818542490627'"
            ]
          },
          "metadata": {},
          "output_type": "display_data"
        },
        {
          "data": {
            "text/plain": [
              "'2003-01-30: 726.4254298759118 | 363.2127149379561'"
            ]
          },
          "metadata": {},
          "output_type": "display_data"
        },
        {
          "data": {
            "text/plain": [
              "'2003-02-28: 705.3619577490388 | 352.68097887451955'"
            ]
          },
          "metadata": {},
          "output_type": "display_data"
        },
        {
          "data": {
            "text/plain": [
              "'2003-03-30: 725.8074155070296 | 362.903707753515'"
            ]
          },
          "metadata": {},
          "output_type": "display_data"
        },
        {
          "name": "stdout",
          "output_type": "stream",
          "text": [
            "CLOSE TRADES LENGTH:  100\n",
            "OPEN TRADES LENGTH:  100\n"
          ]
        },
        {
          "data": {
            "text/plain": [
              "'2003-04-30: 802.888369891307 | 401.44418494565343'"
            ]
          },
          "metadata": {},
          "output_type": "display_data"
        },
        {
          "data": {
            "text/plain": [
              "'2003-05-30: 894.4571381378311 | 447.2285690689155'"
            ]
          },
          "metadata": {},
          "output_type": "display_data"
        },
        {
          "data": {
            "text/plain": [
              "'2003-06-30: 953.6394248483697 | 476.8197124241848'"
            ]
          },
          "metadata": {},
          "output_type": "display_data"
        },
        {
          "data": {
            "text/plain": [
              "'2003-07-30: 1004.5159599680055 | 502.2579799840027'"
            ]
          },
          "metadata": {},
          "output_type": "display_data"
        },
        {
          "data": {
            "text/plain": [
              "'2003-08-30: 1065.082138968985 | 532.5410694844925'"
            ]
          },
          "metadata": {},
          "output_type": "display_data"
        },
        {
          "data": {
            "text/plain": [
              "'2003-09-30: 1069.710505666541 | 534.8552528332705'"
            ]
          },
          "metadata": {},
          "output_type": "display_data"
        },
        {
          "data": {
            "text/plain": [
              "'2003-10-30: 1182.4764619307462 | 591.2382309653731'"
            ]
          },
          "metadata": {},
          "output_type": "display_data"
        },
        {
          "data": {
            "text/plain": [
              "'2003-11-30: 1209.1782953409515 | 604.5891476704758'"
            ]
          },
          "metadata": {},
          "output_type": "display_data"
        },
        {
          "data": {
            "text/plain": [
              "'2003-12-30: 1240.693753082594 | 620.346876541297'"
            ]
          },
          "metadata": {},
          "output_type": "display_data"
        },
        {
          "data": {
            "text/plain": [
              "'2004-01-30: 1299.4194421495167 | 649.7097210747584'"
            ]
          },
          "metadata": {},
          "output_type": "display_data"
        },
        {
          "data": {
            "text/plain": [
              "'2004-02-29: 1289.947875901868 | 644.973937950934'"
            ]
          },
          "metadata": {},
          "output_type": "display_data"
        },
        {
          "data": {
            "text/plain": [
              "'2004-03-30: 1267.638371807157 | 633.8191859035785'"
            ]
          },
          "metadata": {},
          "output_type": "display_data"
        },
        {
          "name": "stdout",
          "output_type": "stream",
          "text": [
            "CLOSE TRADES LENGTH:  100\n",
            "OPEN TRADES LENGTH:  100\n"
          ]
        },
        {
          "data": {
            "text/plain": [
              "'2004-04-30: 1203.0154090303056 | 601.5077045151528'"
            ]
          },
          "metadata": {},
          "output_type": "display_data"
        },
        {
          "data": {
            "text/plain": [
              "'2004-05-30: 1218.5161182138118 | 609.2580591069059'"
            ]
          },
          "metadata": {},
          "output_type": "display_data"
        },
        {
          "data": {
            "text/plain": [
              "'2004-06-30: 1235.6698897800563 | 617.8349448900282'"
            ]
          },
          "metadata": {},
          "output_type": "display_data"
        },
        {
          "data": {
            "text/plain": [
              "'2004-07-30: 1135.5156473480672 | 567.7578236740336'"
            ]
          },
          "metadata": {},
          "output_type": "display_data"
        },
        {
          "data": {
            "text/plain": [
              "'2004-08-30: 1130.0709981927073 | 565.0354990963536'"
            ]
          },
          "metadata": {},
          "output_type": "display_data"
        },
        {
          "data": {
            "text/plain": [
              "'2004-09-30: 1207.0539002018759 | 603.5269501009379'"
            ]
          },
          "metadata": {},
          "output_type": "display_data"
        },
        {
          "data": {
            "text/plain": [
              "'2004-10-30: 1218.2339688690295 | 609.1169844345147'"
            ]
          },
          "metadata": {},
          "output_type": "display_data"
        },
        {
          "data": {
            "text/plain": [
              "'2004-11-30: 1343.8849294525896 | 671.9424647262948'"
            ]
          },
          "metadata": {},
          "output_type": "display_data"
        },
        {
          "data": {
            "text/plain": [
              "'2004-12-30: 1404.0496567893156 | 702.0248283946578'"
            ]
          },
          "metadata": {},
          "output_type": "display_data"
        },
        {
          "data": {
            "text/plain": [
              "'2005-01-30: 1326.932644370459 | 663.4663221852295'"
            ]
          },
          "metadata": {},
          "output_type": "display_data"
        },
        {
          "data": {
            "text/plain": [
              "'2005-02-28: 1367.9196188716317 | 683.9598094358158'"
            ]
          },
          "metadata": {},
          "output_type": "display_data"
        },
        {
          "data": {
            "text/plain": [
              "'2005-03-30: 1279.6298755519165 | 639.8149377759582'"
            ]
          },
          "metadata": {},
          "output_type": "display_data"
        },
        {
          "name": "stdout",
          "output_type": "stream",
          "text": [
            "CLOSE TRADES LENGTH:  100\n",
            "OPEN TRADES LENGTH:  100\n"
          ]
        },
        {
          "data": {
            "text/plain": [
              "'2005-04-30: 1185.8206502245894 | 592.9103251122946'"
            ]
          },
          "metadata": {},
          "output_type": "display_data"
        },
        {
          "data": {
            "text/plain": [
              "'2005-05-30: 1254.2923892173035 | 627.1461946086516'"
            ]
          },
          "metadata": {},
          "output_type": "display_data"
        },
        {
          "data": {
            "text/plain": [
              "'2005-06-30: 1309.8771418403594 | 654.9385709201796'"
            ]
          },
          "metadata": {},
          "output_type": "display_data"
        },
        {
          "data": {
            "text/plain": [
              "'2005-07-30: 1405.3759999226443 | 702.687999961322'"
            ]
          },
          "metadata": {},
          "output_type": "display_data"
        },
        {
          "data": {
            "text/plain": [
              "'2005-08-30: 1425.2301152560574 | 712.6150576280286'"
            ]
          },
          "metadata": {},
          "output_type": "display_data"
        },
        {
          "data": {
            "text/plain": [
              "'2005-09-30: 1461.885983131412 | 730.9429915657059'"
            ]
          },
          "metadata": {},
          "output_type": "display_data"
        },
        {
          "data": {
            "text/plain": [
              "'2005-10-30: 1377.7022175908621 | 688.851108795431'"
            ]
          },
          "metadata": {},
          "output_type": "display_data"
        },
        {
          "data": {
            "text/plain": [
              "'2005-11-30: 1477.777654955906 | 738.8888274779529'"
            ]
          },
          "metadata": {},
          "output_type": "display_data"
        },
        {
          "data": {
            "text/plain": [
              "'2005-12-30: 1487.9818658126305 | 743.9909329063152'"
            ]
          },
          "metadata": {},
          "output_type": "display_data"
        },
        {
          "data": {
            "text/plain": [
              "'2006-01-30: 1684.8750116283527 | 842.4375058141762'"
            ]
          },
          "metadata": {},
          "output_type": "display_data"
        },
        {
          "data": {
            "text/plain": [
              "'2006-02-28: 1658.495393283192 | 829.2476966415959'"
            ]
          },
          "metadata": {},
          "output_type": "display_data"
        },
        {
          "data": {
            "text/plain": [
              "'2006-03-30: 1747.129303968357 | 873.5646519841783'"
            ]
          },
          "metadata": {},
          "output_type": "display_data"
        },
        {
          "name": "stdout",
          "output_type": "stream",
          "text": [
            "CLOSE TRADES LENGTH:  100\n",
            "OPEN TRADES LENGTH:  100\n"
          ]
        },
        {
          "data": {
            "text/plain": [
              "'2006-04-30: 1830.8947307992123 | 915.4473653996064'"
            ]
          },
          "metadata": {},
          "output_type": "display_data"
        },
        {
          "data": {
            "text/plain": [
              "'2006-05-30: 1691.478340399884 | 845.7391701999422'"
            ]
          },
          "metadata": {},
          "output_type": "display_data"
        },
        {
          "data": {
            "text/plain": [
              "'2006-06-30: 1676.5329442495981 | 838.2664721247993'"
            ]
          },
          "metadata": {},
          "output_type": "display_data"
        },
        {
          "data": {
            "text/plain": [
              "'2006-07-30: 1622.8181514465643 | 811.4090757232824'"
            ]
          },
          "metadata": {},
          "output_type": "display_data"
        },
        {
          "data": {
            "text/plain": [
              "'2006-08-30: 1683.4962809277242 | 841.7481404638623'"
            ]
          },
          "metadata": {},
          "output_type": "display_data"
        },
        {
          "data": {
            "text/plain": [
              "'2006-09-30: 1630.5579039543675 | 815.278951977184'"
            ]
          },
          "metadata": {},
          "output_type": "display_data"
        },
        {
          "data": {
            "text/plain": [
              "'2006-10-30: 1716.4558886388838 | 858.2279443194421'"
            ]
          },
          "metadata": {},
          "output_type": "display_data"
        },
        {
          "data": {
            "text/plain": [
              "'2006-11-30: 1791.320153228477 | 895.6600766142387'"
            ]
          },
          "metadata": {},
          "output_type": "display_data"
        },
        {
          "data": {
            "text/plain": [
              "'2006-12-30: 1812.8072005063339 | 906.4036002531672'"
            ]
          },
          "metadata": {},
          "output_type": "display_data"
        },
        {
          "data": {
            "text/plain": [
              "'2007-01-30: 1828.9663640892975 | 914.483182044649'"
            ]
          },
          "metadata": {},
          "output_type": "display_data"
        },
        {
          "data": {
            "text/plain": [
              "'2007-02-28: 1819.9705155333213 | 909.9852577666609'"
            ]
          },
          "metadata": {},
          "output_type": "display_data"
        },
        {
          "data": {
            "text/plain": [
              "'2007-03-30: 1849.7931405518705 | 924.8965702759355'"
            ]
          },
          "metadata": {},
          "output_type": "display_data"
        },
        {
          "name": "stdout",
          "output_type": "stream",
          "text": [
            "CLOSE TRADES LENGTH:  100\n",
            "OPEN TRADES LENGTH:  100\n"
          ]
        },
        {
          "data": {
            "text/plain": [
              "'2007-04-30: 1907.7442329716253 | 953.8721164858126'"
            ]
          },
          "metadata": {},
          "output_type": "display_data"
        },
        {
          "data": {
            "text/plain": [
              "'2007-05-30: 1996.2811547833364 | 998.1405773916682'"
            ]
          },
          "metadata": {},
          "output_type": "display_data"
        },
        {
          "data": {
            "text/plain": [
              "'2007-06-30: 2002.9314462576065 | 1001.4657231288032'"
            ]
          },
          "metadata": {},
          "output_type": "display_data"
        },
        {
          "data": {
            "text/plain": [
              "'2007-07-30: 1929.4410361279163 | 964.7205180639581'"
            ]
          },
          "metadata": {},
          "output_type": "display_data"
        },
        {
          "data": {
            "text/plain": [
              "'2007-08-30: 2003.2701940075892 | 1001.6350970037946'"
            ]
          },
          "metadata": {},
          "output_type": "display_data"
        },
        {
          "data": {
            "text/plain": [
              "'2007-09-30: 2090.8855353777853 | 1045.4427676888927'"
            ]
          },
          "metadata": {},
          "output_type": "display_data"
        },
        {
          "data": {
            "text/plain": [
              "'2007-10-30: 2235.984258485432 | 1117.992129242716'"
            ]
          },
          "metadata": {},
          "output_type": "display_data"
        },
        {
          "data": {
            "text/plain": [
              "'2007-11-30: 2012.0325855844076 | 1006.0162927922038'"
            ]
          },
          "metadata": {},
          "output_type": "display_data"
        },
        {
          "data": {
            "text/plain": [
              "'2007-12-30: 1997.0374604197316 | 998.5187302098658'"
            ]
          },
          "metadata": {},
          "output_type": "display_data"
        },
        {
          "data": {
            "text/plain": [
              "'2008-01-30: 1798.3855731172923 | 899.1927865586462'"
            ]
          },
          "metadata": {},
          "output_type": "display_data"
        },
        {
          "data": {
            "text/plain": [
              "'2008-02-29: 1759.0028255165837 | 879.5014127582918'"
            ]
          },
          "metadata": {},
          "output_type": "display_data"
        },
        {
          "data": {
            "text/plain": [
              "'2008-03-30: 1667.0202191329342 | 833.5101095664671'"
            ]
          },
          "metadata": {},
          "output_type": "display_data"
        },
        {
          "name": "stdout",
          "output_type": "stream",
          "text": [
            "CLOSE TRADES LENGTH:  100\n",
            "OPEN TRADES LENGTH:  100\n"
          ]
        },
        {
          "data": {
            "text/plain": [
              "'2008-04-30: 1801.467414566226 | 900.733707283113'"
            ]
          },
          "metadata": {},
          "output_type": "display_data"
        },
        {
          "data": {
            "text/plain": [
              "'2008-05-30: 1906.8970519911984 | 953.4485259955992'"
            ]
          },
          "metadata": {},
          "output_type": "display_data"
        },
        {
          "data": {
            "text/plain": [
              "'2008-06-30: 1834.7982891185293 | 917.3991445592646'"
            ]
          },
          "metadata": {},
          "output_type": "display_data"
        },
        {
          "data": {
            "text/plain": [
              "'2008-07-30: 1801.1133345540354 | 900.5566672770177'"
            ]
          },
          "metadata": {},
          "output_type": "display_data"
        },
        {
          "data": {
            "text/plain": [
              "'2008-08-30: 1754.3428383812225 | 877.1714191906112'"
            ]
          },
          "metadata": {},
          "output_type": "display_data"
        },
        {
          "data": {
            "text/plain": [
              "'2008-09-30: 1546.4164093058762 | 773.2082046529381'"
            ]
          },
          "metadata": {},
          "output_type": "display_data"
        },
        {
          "data": {
            "text/plain": [
              "'2008-10-30: 1262.015173155757 | 631.0075865778786'"
            ]
          },
          "metadata": {},
          "output_type": "display_data"
        },
        {
          "data": {
            "text/plain": [
              "'2008-11-30: 1162.328366275413 | 581.1641831377065'"
            ]
          },
          "metadata": {},
          "output_type": "display_data"
        },
        {
          "data": {
            "text/plain": [
              "'2008-12-30: 1203.2833963857202 | 601.6416981928601'"
            ]
          },
          "metadata": {},
          "output_type": "display_data"
        },
        {
          "data": {
            "text/plain": [
              "'2009-01-30: 1119.7214309566773 | 559.8607154783386'"
            ]
          },
          "metadata": {},
          "output_type": "display_data"
        },
        {
          "data": {
            "text/plain": [
              "'2009-02-28: 1042.9914350839842 | 521.4957175419921'"
            ]
          },
          "metadata": {},
          "output_type": "display_data"
        },
        {
          "data": {
            "text/plain": [
              "'2009-03-30: 1082.4663334318377 | 541.2331667159189'"
            ]
          },
          "metadata": {},
          "output_type": "display_data"
        },
        {
          "name": "stdout",
          "output_type": "stream",
          "text": [
            "CLOSE TRADES LENGTH:  100\n",
            "OPEN TRADES LENGTH:  100\n"
          ]
        },
        {
          "data": {
            "text/plain": [
              "'2009-04-30: 1163.8526152796626 | 581.9263076398314'"
            ]
          },
          "metadata": {},
          "output_type": "display_data"
        },
        {
          "data": {
            "text/plain": [
              "'2009-05-30: 1211.193100187415 | 605.5965500937076'"
            ]
          },
          "metadata": {},
          "output_type": "display_data"
        },
        {
          "data": {
            "text/plain": [
              "'2009-06-30: 1234.2963289353088 | 617.1481644676545'"
            ]
          },
          "metadata": {},
          "output_type": "display_data"
        },
        {
          "data": {
            "text/plain": [
              "'2009-07-30: 1303.8909629879035 | 651.9454814939519'"
            ]
          },
          "metadata": {},
          "output_type": "display_data"
        },
        {
          "data": {
            "text/plain": [
              "'2009-08-30: 1315.8032924933161 | 657.9016462466582'"
            ]
          },
          "metadata": {},
          "output_type": "display_data"
        },
        {
          "data": {
            "text/plain": [
              "'2009-09-30: 1410.0713368098538 | 705.035668404927'"
            ]
          },
          "metadata": {},
          "output_type": "display_data"
        },
        {
          "data": {
            "text/plain": [
              "'2009-10-30: 1310.4615256986935 | 655.2307628493469'"
            ]
          },
          "metadata": {},
          "output_type": "display_data"
        },
        {
          "data": {
            "text/plain": [
              "'2009-11-30: 1361.6584240661537 | 680.8292120330769'"
            ]
          },
          "metadata": {},
          "output_type": "display_data"
        },
        {
          "data": {
            "text/plain": [
              "'2009-12-30: 1447.2246001585254 | 723.6123000792628'"
            ]
          },
          "metadata": {},
          "output_type": "display_data"
        },
        {
          "data": {
            "text/plain": [
              "'2010-01-30: 1408.5971398969991 | 704.2985699484997'"
            ]
          },
          "metadata": {},
          "output_type": "display_data"
        },
        {
          "data": {
            "text/plain": [
              "'2010-02-28: 1430.2765904771884 | 715.1382952385943'"
            ]
          },
          "metadata": {},
          "output_type": "display_data"
        },
        {
          "data": {
            "text/plain": [
              "'2010-03-30: 1500.78275034038 | 750.3913751701901'"
            ]
          },
          "metadata": {},
          "output_type": "display_data"
        },
        {
          "name": "stdout",
          "output_type": "stream",
          "text": [
            "CLOSE TRADES LENGTH:  100\n",
            "OPEN TRADES LENGTH:  100\n"
          ]
        },
        {
          "data": {
            "text/plain": [
              "'2010-04-30: 1561.9740015289096 | 780.9870007644549'"
            ]
          },
          "metadata": {},
          "output_type": "display_data"
        },
        {
          "data": {
            "text/plain": [
              "'2010-05-30: 1408.295690566724 | 704.1478452833621'"
            ]
          },
          "metadata": {},
          "output_type": "display_data"
        },
        {
          "data": {
            "text/plain": [
              "'2010-06-30: 1310.3844335972312 | 655.1922167986157'"
            ]
          },
          "metadata": {},
          "output_type": "display_data"
        },
        {
          "data": {
            "text/plain": [
              "'2010-07-30: 1393.4541011668314 | 696.7270505834158'"
            ]
          },
          "metadata": {},
          "output_type": "display_data"
        },
        {
          "data": {
            "text/plain": [
              "'2010-08-30: 1323.3145586866278 | 661.657279343314'"
            ]
          },
          "metadata": {},
          "output_type": "display_data"
        },
        {
          "data": {
            "text/plain": [
              "'2010-09-30: 1466.0375755625332 | 733.0187877812667'"
            ]
          },
          "metadata": {},
          "output_type": "display_data"
        },
        {
          "data": {
            "text/plain": [
              "'2010-10-30: 1554.3621562645976 | 777.1810781322989'"
            ]
          },
          "metadata": {},
          "output_type": "display_data"
        },
        {
          "data": {
            "text/plain": [
              "'2010-11-30: 1610.9001761940983 | 805.4500880970493'"
            ]
          },
          "metadata": {},
          "output_type": "display_data"
        },
        {
          "data": {
            "text/plain": [
              "'2010-12-30: 1739.2739618367489 | 869.6369809183745'"
            ]
          },
          "metadata": {},
          "output_type": "display_data"
        },
        {
          "data": {
            "text/plain": [
              "'2011-01-30: 1740.533918263208 | 870.2669591316042'"
            ]
          },
          "metadata": {},
          "output_type": "display_data"
        },
        {
          "data": {
            "text/plain": [
              "'2011-02-28: 1814.9524996409637 | 907.4762498204819'"
            ]
          },
          "metadata": {},
          "output_type": "display_data"
        },
        {
          "data": {
            "text/plain": [
              "'2011-03-30: 1815.8660742149466 | 907.9330371074734'"
            ]
          },
          "metadata": {},
          "output_type": "display_data"
        },
        {
          "name": "stdout",
          "output_type": "stream",
          "text": [
            "CLOSE TRADES LENGTH:  100\n",
            "OPEN TRADES LENGTH:  100\n"
          ]
        },
        {
          "data": {
            "text/plain": [
              "'2011-04-30: 1865.966299990071 | 932.9831499950359'"
            ]
          },
          "metadata": {},
          "output_type": "display_data"
        },
        {
          "data": {
            "text/plain": [
              "'2011-05-30: 1813.381634307691 | 906.6908171538458'"
            ]
          },
          "metadata": {},
          "output_type": "display_data"
        },
        {
          "data": {
            "text/plain": [
              "'2011-06-30: 1744.6628368392849 | 872.3314184196428'"
            ]
          },
          "metadata": {},
          "output_type": "display_data"
        },
        {
          "data": {
            "text/plain": [
              "'2011-07-30: 1703.0129607133758 | 851.5064803566883'"
            ]
          },
          "metadata": {},
          "output_type": "display_data"
        },
        {
          "data": {
            "text/plain": [
              "'2011-08-30: 1537.8642466560466 | 768.9321233280236'"
            ]
          },
          "metadata": {},
          "output_type": "display_data"
        },
        {
          "data": {
            "text/plain": [
              "'2011-09-30: 1291.881851696861 | 645.9409258484309'"
            ]
          },
          "metadata": {},
          "output_type": "display_data"
        },
        {
          "data": {
            "text/plain": [
              "'2011-10-30: 1517.5060907069046 | 758.7530453534526'"
            ]
          },
          "metadata": {},
          "output_type": "display_data"
        },
        {
          "data": {
            "text/plain": [
              "'2011-11-30: 1528.79120858087 | 764.3956042904354'"
            ]
          },
          "metadata": {},
          "output_type": "display_data"
        },
        {
          "data": {
            "text/plain": [
              "'2011-12-30: 1493.352150921599 | 746.6760754607999'"
            ]
          },
          "metadata": {},
          "output_type": "display_data"
        },
        {
          "data": {
            "text/plain": [
              "'2012-01-30: 1639.3368271496327 | 819.6684135748167'"
            ]
          },
          "metadata": {},
          "output_type": "display_data"
        },
        {
          "data": {
            "text/plain": [
              "'2012-02-29: 1701.3686838896394 | 850.6843419448201'"
            ]
          },
          "metadata": {},
          "output_type": "display_data"
        },
        {
          "data": {
            "text/plain": [
              "'2012-03-30: 1706.239115927946 | 853.1195579639733'"
            ]
          },
          "metadata": {},
          "output_type": "display_data"
        },
        {
          "name": "stdout",
          "output_type": "stream",
          "text": [
            "CLOSE TRADES LENGTH:  100\n",
            "OPEN TRADES LENGTH:  100\n"
          ]
        },
        {
          "data": {
            "text/plain": [
              "'2012-04-30: 1685.0635985743975 | 842.5317992871986'"
            ]
          },
          "metadata": {},
          "output_type": "display_data"
        },
        {
          "data": {
            "text/plain": [
              "'2012-05-30: 1580.9148390360376 | 790.4574195180187'"
            ]
          },
          "metadata": {},
          "output_type": "display_data"
        },
        {
          "data": {
            "text/plain": [
              "'2012-06-30: 1640.8917022723472 | 820.4458511361735'"
            ]
          },
          "metadata": {},
          "output_type": "display_data"
        },
        {
          "data": {
            "text/plain": [
              "'2012-07-30: 1671.2018716298833 | 835.6009358149415'"
            ]
          },
          "metadata": {},
          "output_type": "display_data"
        },
        {
          "data": {
            "text/plain": [
              "'2012-08-30: 1708.3588842258898 | 854.1794421129448'"
            ]
          },
          "metadata": {},
          "output_type": "display_data"
        },
        {
          "data": {
            "text/plain": [
              "'2012-09-30: 1776.7263204259284 | 888.3631602129641'"
            ]
          },
          "metadata": {},
          "output_type": "display_data"
        },
        {
          "data": {
            "text/plain": [
              "'2012-10-30: 1744.08514800677 | 872.0425740033849'"
            ]
          },
          "metadata": {},
          "output_type": "display_data"
        },
        {
          "data": {
            "text/plain": [
              "'2012-11-30: 1767.7690369809384 | 883.8845184904691'"
            ]
          },
          "metadata": {},
          "output_type": "display_data"
        },
        {
          "data": {
            "text/plain": [
              "'2012-12-30: 1794.1213061689066 | 897.0606530844532'"
            ]
          },
          "metadata": {},
          "output_type": "display_data"
        },
        {
          "data": {
            "text/plain": [
              "'2013-01-30: 1886.5321769378654 | 943.2660884689326'"
            ]
          },
          "metadata": {},
          "output_type": "display_data"
        },
        {
          "data": {
            "text/plain": [
              "'2013-02-28: 1918.0379634948845 | 959.0189817474421'"
            ]
          },
          "metadata": {},
          "output_type": "display_data"
        },
        {
          "data": {
            "text/plain": [
              "'2013-03-30: 2006.7349529399698 | 1003.3674764699848'"
            ]
          },
          "metadata": {},
          "output_type": "display_data"
        },
        {
          "name": "stdout",
          "output_type": "stream",
          "text": [
            "CLOSE TRADES LENGTH:  100\n",
            "OPEN TRADES LENGTH:  100\n"
          ]
        },
        {
          "data": {
            "text/plain": [
              "'2013-04-30: 2021.6472181804118 | 1010.8236090902059'"
            ]
          },
          "metadata": {},
          "output_type": "display_data"
        },
        {
          "data": {
            "text/plain": [
              "'2013-05-30: 2043.8907555949409 | 1021.9453777974704'"
            ]
          },
          "metadata": {},
          "output_type": "display_data"
        },
        {
          "data": {
            "text/plain": [
              "'2013-06-30: 2009.7727002208194 | 1004.8863501104097'"
            ]
          },
          "metadata": {},
          "output_type": "display_data"
        },
        {
          "data": {
            "text/plain": [
              "'2013-07-30: 2176.7997821141303 | 1088.3998910570651'"
            ]
          },
          "metadata": {},
          "output_type": "display_data"
        },
        {
          "data": {
            "text/plain": [
              "'2013-08-30: 2119.0857193818815 | 1059.5428596909408'"
            ]
          },
          "metadata": {},
          "output_type": "display_data"
        },
        {
          "data": {
            "text/plain": [
              "'2013-09-30: 2272.8226417785654 | 1136.4113208892827'"
            ]
          },
          "metadata": {},
          "output_type": "display_data"
        },
        {
          "data": {
            "text/plain": [
              "'2013-10-30: 2266.738182656974 | 1133.369091328487'"
            ]
          },
          "metadata": {},
          "output_type": "display_data"
        },
        {
          "data": {
            "text/plain": [
              "'2013-11-30: 2367.3606612049643 | 1183.6803306024822'"
            ]
          },
          "metadata": {},
          "output_type": "display_data"
        },
        {
          "data": {
            "text/plain": [
              "'2013-12-30: 2406.3970275867164 | 1203.1985137933582'"
            ]
          },
          "metadata": {},
          "output_type": "display_data"
        },
        {
          "data": {
            "text/plain": [
              "'2014-01-30: 2368.9344319333613 | 1184.4672159666807'"
            ]
          },
          "metadata": {},
          "output_type": "display_data"
        },
        {
          "data": {
            "text/plain": [
              "'2014-02-28: 2478.8466812992897 | 1239.4233406496448'"
            ]
          },
          "metadata": {},
          "output_type": "display_data"
        },
        {
          "data": {
            "text/plain": [
              "'2014-03-30: 2423.058220497752 | 1211.529110248876'"
            ]
          },
          "metadata": {},
          "output_type": "display_data"
        },
        {
          "name": "stdout",
          "output_type": "stream",
          "text": [
            "CLOSE TRADES LENGTH:  100\n",
            "OPEN TRADES LENGTH:  100\n"
          ]
        },
        {
          "data": {
            "text/plain": [
              "'2014-04-30: 2321.5939928169364 | 1160.7969964084682'"
            ]
          },
          "metadata": {},
          "output_type": "display_data"
        },
        {
          "data": {
            "text/plain": [
              "'2014-05-30: 2323.9213211469155 | 1161.9606605734577'"
            ]
          },
          "metadata": {},
          "output_type": "display_data"
        },
        {
          "data": {
            "text/plain": [
              "'2014-06-30: 2456.6327155545187 | 1228.3163577772593'"
            ]
          },
          "metadata": {},
          "output_type": "display_data"
        },
        {
          "data": {
            "text/plain": [
              "'2014-07-30: 2336.094616336754 | 1168.047308168377'"
            ]
          },
          "metadata": {},
          "output_type": "display_data"
        },
        {
          "data": {
            "text/plain": [
              "'2014-08-30: 2461.9685911558327 | 1230.9842955779163'"
            ]
          },
          "metadata": {},
          "output_type": "display_data"
        },
        {
          "data": {
            "text/plain": [
              "'2014-09-30: 2325.7447069631075 | 1162.8723534815538'"
            ]
          },
          "metadata": {},
          "output_type": "display_data"
        },
        {
          "data": {
            "text/plain": [
              "'2014-10-30: 2398.469632841208 | 1199.234816420604'"
            ]
          },
          "metadata": {},
          "output_type": "display_data"
        },
        {
          "data": {
            "text/plain": [
              "'2014-11-30: 2413.9852100239445 | 1206.9926050119723'"
            ]
          },
          "metadata": {},
          "output_type": "display_data"
        },
        {
          "data": {
            "text/plain": [
              "'2014-12-30: 2369.1379847303065 | 1184.5689923651532'"
            ]
          },
          "metadata": {},
          "output_type": "display_data"
        },
        {
          "data": {
            "text/plain": [
              "'2015-01-30: 2303.411644404331 | 1151.7058222021656'"
            ]
          },
          "metadata": {},
          "output_type": "display_data"
        },
        {
          "data": {
            "text/plain": [
              "'2015-02-28: 2446.680224901468 | 1223.340112450734'"
            ]
          },
          "metadata": {},
          "output_type": "display_data"
        },
        {
          "data": {
            "text/plain": [
              "'2015-03-30: 2504.293636953769 | 1252.1468184768844'"
            ]
          },
          "metadata": {},
          "output_type": "display_data"
        },
        {
          "name": "stdout",
          "output_type": "stream",
          "text": [
            "CLOSE TRADES LENGTH:  100\n",
            "OPEN TRADES LENGTH:  100\n"
          ]
        },
        {
          "data": {
            "text/plain": [
              "'2015-04-30: 2538.0130520201096 | 1269.0065260100546'"
            ]
          },
          "metadata": {},
          "output_type": "display_data"
        },
        {
          "data": {
            "text/plain": [
              "'2015-05-30: 2670.5572558237172 | 1335.2786279118584'"
            ]
          },
          "metadata": {},
          "output_type": "display_data"
        },
        {
          "data": {
            "text/plain": [
              "'2015-06-30: 2721.1645024196473 | 1360.5822512098234'"
            ]
          },
          "metadata": {},
          "output_type": "display_data"
        },
        {
          "data": {
            "text/plain": [
              "'2015-07-30: 2710.4055981524975 | 1355.2027990762485'"
            ]
          },
          "metadata": {},
          "output_type": "display_data"
        },
        {
          "data": {
            "text/plain": [
              "'2015-08-30: 2471.274540601894 | 1235.6372703009467'"
            ]
          },
          "metadata": {},
          "output_type": "display_data"
        },
        {
          "data": {
            "text/plain": [
              "'2015-09-30: 2319.78688554778 | 1159.8934427738898'"
            ]
          },
          "metadata": {},
          "output_type": "display_data"
        },
        {
          "data": {
            "text/plain": [
              "'2015-10-30: 2483.602289998689 | 1241.8011449993442'"
            ]
          },
          "metadata": {},
          "output_type": "display_data"
        },
        {
          "data": {
            "text/plain": [
              "'2015-11-30: 2580.321611131576 | 1290.1608055657878'"
            ]
          },
          "metadata": {},
          "output_type": "display_data"
        },
        {
          "data": {
            "text/plain": [
              "'2015-12-30: 2504.889970834522 | 1252.4449854172608'"
            ]
          },
          "metadata": {},
          "output_type": "display_data"
        },
        {
          "data": {
            "text/plain": [
              "'2016-01-30: 2175.3250788848577 | 1087.6625394424286'"
            ]
          },
          "metadata": {},
          "output_type": "display_data"
        },
        {
          "data": {
            "text/plain": [
              "'2016-02-29: 2153.015142651975 | 1076.5075713259873'"
            ]
          },
          "metadata": {},
          "output_type": "display_data"
        },
        {
          "data": {
            "text/plain": [
              "'2016-03-30: 2291.3748635566676 | 1145.6874317783336'"
            ]
          },
          "metadata": {},
          "output_type": "display_data"
        },
        {
          "name": "stdout",
          "output_type": "stream",
          "text": [
            "CLOSE TRADES LENGTH:  100\n",
            "OPEN TRADES LENGTH:  100\n"
          ]
        },
        {
          "data": {
            "text/plain": [
              "'2016-04-30: 2341.9439898771184 | 1170.971994938559'"
            ]
          },
          "metadata": {},
          "output_type": "display_data"
        },
        {
          "data": {
            "text/plain": [
              "'2016-05-30: 2366.8479412321935 | 1183.4239706160965'"
            ]
          },
          "metadata": {},
          "output_type": "display_data"
        },
        {
          "data": {
            "text/plain": [
              "'2016-06-30: 2418.18501301872 | 1209.0925065093597'"
            ]
          },
          "metadata": {},
          "output_type": "display_data"
        },
        {
          "data": {
            "text/plain": [
              "'2016-07-30: 2533.6894839552483 | 1266.844741977624'"
            ]
          },
          "metadata": {},
          "output_type": "display_data"
        },
        {
          "data": {
            "text/plain": [
              "'2016-08-30: 2480.7249656881672 | 1240.3624828440834'"
            ]
          },
          "metadata": {},
          "output_type": "display_data"
        },
        {
          "data": {
            "text/plain": [
              "'2016-09-30: 2519.4144627705314 | 1259.7072313852655'"
            ]
          },
          "metadata": {},
          "output_type": "display_data"
        },
        {
          "data": {
            "text/plain": [
              "'2016-10-30: 2399.568100036353 | 1199.7840500181762'"
            ]
          },
          "metadata": {},
          "output_type": "display_data"
        },
        {
          "data": {
            "text/plain": [
              "'2016-11-30: 2500.6046460353004 | 1250.30232301765'"
            ]
          },
          "metadata": {},
          "output_type": "display_data"
        },
        {
          "data": {
            "text/plain": [
              "'2016-12-30: 2551.379287943487 | 1275.6896439717432'"
            ]
          },
          "metadata": {},
          "output_type": "display_data"
        },
        {
          "data": {
            "text/plain": [
              "'2017-01-30: 2619.6337273867944 | 1309.816863693397'"
            ]
          },
          "metadata": {},
          "output_type": "display_data"
        },
        {
          "data": {
            "text/plain": [
              "'2017-02-28: 2655.4218190399583 | 1327.710909519979'"
            ]
          },
          "metadata": {},
          "output_type": "display_data"
        },
        {
          "data": {
            "text/plain": [
              "'2017-03-30: 2700.6617570023964 | 1350.330878501198'"
            ]
          },
          "metadata": {},
          "output_type": "display_data"
        },
        {
          "name": "stdout",
          "output_type": "stream",
          "text": [
            "CLOSE TRADES LENGTH:  100\n",
            "OPEN TRADES LENGTH:  100\n"
          ]
        },
        {
          "data": {
            "text/plain": [
              "'2017-04-30: 2714.795832686839 | 1357.397916343419'"
            ]
          },
          "metadata": {},
          "output_type": "display_data"
        },
        {
          "data": {
            "text/plain": [
              "'2017-05-30: 2683.3692746837824 | 1341.6846373418907'"
            ]
          },
          "metadata": {},
          "output_type": "display_data"
        },
        {
          "data": {
            "text/plain": [
              "'2017-06-30: 2820.065762112027 | 1410.0328810560131'"
            ]
          },
          "metadata": {},
          "output_type": "display_data"
        },
        {
          "data": {
            "text/plain": [
              "'2017-07-30: 2911.125470206846 | 1455.5627351034225'"
            ]
          },
          "metadata": {},
          "output_type": "display_data"
        },
        {
          "data": {
            "text/plain": [
              "'2017-08-30: 2908.748997824128 | 1454.3744989120635'"
            ]
          },
          "metadata": {},
          "output_type": "display_data"
        },
        {
          "data": {
            "text/plain": [
              "'2017-09-30: 3073.3824593477752 | 1536.6912296738872'"
            ]
          },
          "metadata": {},
          "output_type": "display_data"
        },
        {
          "data": {
            "text/plain": [
              "'2017-10-30: 3073.8279089918215 | 1536.9139544959103'"
            ]
          },
          "metadata": {},
          "output_type": "display_data"
        },
        {
          "data": {
            "text/plain": [
              "'2017-11-30: 3102.5684247976355 | 1551.2842123988173'"
            ]
          },
          "metadata": {},
          "output_type": "display_data"
        },
        {
          "data": {
            "text/plain": [
              "'2017-12-30: 3227.0985163518135 | 1613.5492581759063'"
            ]
          },
          "metadata": {},
          "output_type": "display_data"
        },
        {
          "data": {
            "text/plain": [
              "'2018-01-30: 3392.2187640281004 | 1696.1093820140497'"
            ]
          },
          "metadata": {},
          "output_type": "display_data"
        },
        {
          "data": {
            "text/plain": [
              "'2018-02-28: 3313.145210492641 | 1656.57260524632'"
            ]
          },
          "metadata": {},
          "output_type": "display_data"
        },
        {
          "data": {
            "text/plain": [
              "'2018-03-30: 3328.3798202956436 | 1664.1899101478214'"
            ]
          },
          "metadata": {},
          "output_type": "display_data"
        },
        {
          "name": "stdout",
          "output_type": "stream",
          "text": [
            "CLOSE TRADES LENGTH:  100\n",
            "OPEN TRADES LENGTH:  100\n"
          ]
        },
        {
          "data": {
            "text/plain": [
              "'2018-04-30: 3351.739829693668 | 1675.8699148468343'"
            ]
          },
          "metadata": {},
          "output_type": "display_data"
        },
        {
          "data": {
            "text/plain": [
              "'2018-05-30: 3660.661109342569 | 1830.3305546712847'"
            ]
          },
          "metadata": {},
          "output_type": "display_data"
        },
        {
          "data": {
            "text/plain": [
              "'2018-06-30: 3663.8103582293516 | 1831.905179114676'"
            ]
          },
          "metadata": {},
          "output_type": "display_data"
        },
        {
          "data": {
            "text/plain": [
              "'2018-07-30: 3693.4653691083963 | 1846.7326845541984'"
            ]
          },
          "metadata": {},
          "output_type": "display_data"
        },
        {
          "data": {
            "text/plain": [
              "'2018-08-30: 3887.6975958151706 | 1943.8487979075855'"
            ]
          },
          "metadata": {},
          "output_type": "display_data"
        },
        {
          "data": {
            "text/plain": [
              "'2018-09-30: 3790.4302041502474 | 1895.215102075124'"
            ]
          },
          "metadata": {},
          "output_type": "display_data"
        },
        {
          "data": {
            "text/plain": [
              "'2018-10-30: 3284.662000257463 | 1642.3310001287318'"
            ]
          },
          "metadata": {},
          "output_type": "display_data"
        },
        {
          "data": {
            "text/plain": [
              "'2018-11-30: 3286.633394719459 | 1643.3166973597297'"
            ]
          },
          "metadata": {},
          "output_type": "display_data"
        },
        {
          "data": {
            "text/plain": [
              "'2018-12-30: 2915.1515110715213 | 1457.575755535761'"
            ]
          },
          "metadata": {},
          "output_type": "display_data"
        },
        {
          "data": {
            "text/plain": [
              "'2019-01-30: 3189.0069268110506 | 1594.5034634055255'"
            ]
          },
          "metadata": {},
          "output_type": "display_data"
        },
        {
          "data": {
            "text/plain": [
              "'2019-02-28: 3358.7905180917883 | 1679.3952590458944'"
            ]
          },
          "metadata": {},
          "output_type": "display_data"
        },
        {
          "data": {
            "text/plain": [
              "'2019-03-30: 3317.3974833414964 | 1658.6987416707484'"
            ]
          },
          "metadata": {},
          "output_type": "display_data"
        },
        {
          "name": "stdout",
          "output_type": "stream",
          "text": [
            "CLOSE TRADES LENGTH:  100\n",
            "OPEN TRADES LENGTH:  84\n"
          ]
        },
        {
          "data": {
            "text/plain": [
              "'2019-04-30: 3405.227826412581 | 1702.6139132062904'"
            ]
          },
          "metadata": {},
          "output_type": "display_data"
        },
        {
          "data": {
            "text/plain": [
              "'2019-05-30: 3310.806696319578 | 1655.4033481597887'"
            ]
          },
          "metadata": {},
          "output_type": "display_data"
        },
        {
          "data": {
            "text/plain": [
              "'2019-06-30: 3517.3233835494784 | 1758.661691774739'"
            ]
          },
          "metadata": {},
          "output_type": "display_data"
        },
        {
          "data": {
            "text/plain": [
              "'2019-07-30: 3540.2916607896414 | 1770.1458303948205'"
            ]
          },
          "metadata": {},
          "output_type": "display_data"
        },
        {
          "data": {
            "text/plain": [
              "'2019-08-30: 3470.787573879837 | 1735.3937869399183'"
            ]
          },
          "metadata": {},
          "output_type": "display_data"
        },
        {
          "data": {
            "text/plain": [
              "'2019-09-30: 3379.593798425119 | 1689.7968992125593'"
            ]
          },
          "metadata": {},
          "output_type": "display_data"
        },
        {
          "data": {
            "text/plain": [
              "'2019-10-30: 3428.5189615030836 | 1714.2594807515416'"
            ]
          },
          "metadata": {},
          "output_type": "display_data"
        },
        {
          "data": {
            "text/plain": [
              "'2019-11-30: 3556.580583670094 | 1778.2902918350467'"
            ]
          },
          "metadata": {},
          "output_type": "display_data"
        },
        {
          "data": {
            "text/plain": [
              "'2019-12-30: 3654.4462778175307 | 1827.2231389087651'"
            ]
          },
          "metadata": {},
          "output_type": "display_data"
        },
        {
          "data": {
            "text/plain": [
              "'2020-01-30: 3728.5126957532475 | 1864.2563478766235'"
            ]
          },
          "metadata": {},
          "output_type": "display_data"
        },
        {
          "data": {
            "text/plain": [
              "'2020-02-29: 3656.0156033115495 | 1828.0078016557745'"
            ]
          },
          "metadata": {},
          "output_type": "display_data"
        },
        {
          "data": {
            "text/plain": [
              "'2020-03-30: 3036.4421058629086 | 1518.221052931454'"
            ]
          },
          "metadata": {},
          "output_type": "display_data"
        },
        {
          "name": "stdout",
          "output_type": "stream",
          "text": [
            "CLOSE TRADES LENGTH:  84\n",
            "OPEN TRADES LENGTH:  100\n"
          ]
        },
        {
          "data": {
            "text/plain": [
              "'2020-04-30: 3445.199605572884 | 1722.5998027864425'"
            ]
          },
          "metadata": {},
          "output_type": "display_data"
        },
        {
          "data": {
            "text/plain": [
              "'2020-05-30: 3778.759972760892 | 1889.3799863804466'"
            ]
          },
          "metadata": {},
          "output_type": "display_data"
        },
        {
          "data": {
            "text/plain": [
              "'2020-06-30: 4006.4214804177755 | 2003.2107402088882'"
            ]
          },
          "metadata": {},
          "output_type": "display_data"
        },
        {
          "data": {
            "text/plain": [
              "'2020-07-30: 4192.821048845572 | 2096.4105244227862'"
            ]
          },
          "metadata": {},
          "output_type": "display_data"
        },
        {
          "data": {
            "text/plain": [
              "'2020-08-30: 4211.389542073703 | 2105.6947710368518'"
            ]
          },
          "metadata": {},
          "output_type": "display_data"
        },
        {
          "data": {
            "text/plain": [
              "'2020-09-30: 4112.943517486774 | 2056.4717587433875'"
            ]
          },
          "metadata": {},
          "output_type": "display_data"
        },
        {
          "data": {
            "text/plain": [
              "'2020-10-30: 4021.518316519109 | 2010.7591582595549'"
            ]
          },
          "metadata": {},
          "output_type": "display_data"
        },
        {
          "data": {
            "text/plain": [
              "'2020-11-30: 4641.763649689954 | 2320.8818248449775'"
            ]
          },
          "metadata": {},
          "output_type": "display_data"
        },
        {
          "data": {
            "text/plain": [
              "'2020-12-30: 5016.217426189059 | 2508.10871309453'"
            ]
          },
          "metadata": {},
          "output_type": "display_data"
        },
        {
          "data": {
            "text/plain": [
              "'2021-01-30: 5585.649643729941 | 2792.824821864971'"
            ]
          },
          "metadata": {},
          "output_type": "display_data"
        },
        {
          "data": {
            "text/plain": [
              "'2021-02-28: 5734.894422325096 | 2867.4472111625482'"
            ]
          },
          "metadata": {},
          "output_type": "display_data"
        },
        {
          "data": {
            "text/plain": [
              "'2021-03-30: 5438.40003770583 | 2719.2000188529155'"
            ]
          },
          "metadata": {},
          "output_type": "display_data"
        },
        {
          "name": "stdout",
          "output_type": "stream",
          "text": [
            "CLOSE TRADES LENGTH:  100\n",
            "OPEN TRADES LENGTH:  100\n"
          ]
        },
        {
          "data": {
            "text/plain": [
              "'2021-04-30: 5602.246389277123 | 2801.1231946385615'"
            ]
          },
          "metadata": {},
          "output_type": "display_data"
        },
        {
          "data": {
            "text/plain": [
              "'2021-05-30: 5896.339394717739 | 2948.1696973588696'"
            ]
          },
          "metadata": {},
          "output_type": "display_data"
        },
        {
          "data": {
            "text/plain": [
              "'2021-06-30: 6493.53199179523 | 3246.765995897615'"
            ]
          },
          "metadata": {},
          "output_type": "display_data"
        },
        {
          "data": {
            "text/plain": [
              "'2021-07-30: 6041.986163899268 | 3020.993081949634'"
            ]
          },
          "metadata": {},
          "output_type": "display_data"
        },
        {
          "data": {
            "text/plain": [
              "'2021-08-30: 6124.690702100586 | 3062.345351050293'"
            ]
          },
          "metadata": {},
          "output_type": "display_data"
        },
        {
          "data": {
            "text/plain": [
              "'2021-09-30: 5939.651678289804 | 2969.825839144902'"
            ]
          },
          "metadata": {},
          "output_type": "display_data"
        },
        {
          "data": {
            "text/plain": [
              "'2021-10-30: 6218.783274499452 | 3109.391637249726'"
            ]
          },
          "metadata": {},
          "output_type": "display_data"
        },
        {
          "data": {
            "text/plain": [
              "'2021-11-30: 6093.161796160983 | 3046.5808980804914'"
            ]
          },
          "metadata": {},
          "output_type": "display_data"
        },
        {
          "data": {
            "text/plain": [
              "'2021-12-30: 5919.590094959217 | 2959.7950474796085'"
            ]
          },
          "metadata": {},
          "output_type": "display_data"
        },
        {
          "data": {
            "text/plain": [
              "'2022-01-30: 5178.99797982459 | 2589.498989912295'"
            ]
          },
          "metadata": {},
          "output_type": "display_data"
        },
        {
          "data": {
            "text/plain": [
              "'2022-02-28: 5280.118089023601 | 2640.0590445118005'"
            ]
          },
          "metadata": {},
          "output_type": "display_data"
        },
        {
          "data": {
            "text/plain": [
              "'2022-03-30: 5423.162212280923 | 2711.5811061404615'"
            ]
          },
          "metadata": {},
          "output_type": "display_data"
        },
        {
          "name": "stdout",
          "output_type": "stream",
          "text": [
            "CLOSE TRADES LENGTH:  100\n",
            "OPEN TRADES LENGTH:  0\n"
          ]
        },
        {
          "data": {
            "text/plain": [
              "'2022-04-30: 4758.949076475615 | 0.0'"
            ]
          },
          "metadata": {},
          "output_type": "display_data"
        },
        {
          "data": {
            "text/plain": [
              "'2022-05-30: 4758.949076475615 | 0.0'"
            ]
          },
          "metadata": {},
          "output_type": "display_data"
        },
        {
          "data": {
            "text/plain": [
              "'2022-06-30: 4758.949076475615 | 0.0'"
            ]
          },
          "metadata": {},
          "output_type": "display_data"
        },
        {
          "data": {
            "text/plain": [
              "'2022-07-30: 4758.949076475615 | 0.0'"
            ]
          },
          "metadata": {},
          "output_type": "display_data"
        },
        {
          "data": {
            "text/plain": [
              "'2022-08-30: 4758.949076475615 | 0.0'"
            ]
          },
          "metadata": {},
          "output_type": "display_data"
        },
        {
          "data": {
            "text/plain": [
              "'2022-09-30: 4758.949076475615 | 0.0'"
            ]
          },
          "metadata": {},
          "output_type": "display_data"
        },
        {
          "data": {
            "text/plain": [
              "'2022-10-30: 4758.949076475615 | 0.0'"
            ]
          },
          "metadata": {},
          "output_type": "display_data"
        },
        {
          "data": {
            "text/plain": [
              "'2022-11-30: 4758.949076475615 | 0.0'"
            ]
          },
          "metadata": {},
          "output_type": "display_data"
        },
        {
          "data": {
            "text/plain": [
              "'2022-12-30: 4758.949076475615 | 0.0'"
            ]
          },
          "metadata": {},
          "output_type": "display_data"
        }
      ],
      "source": [
        "# Step 3: Run actual backtest\n",
        "# Do NOT edit this cell without a very good reason\n",
        "import warnings\n",
        "warnings.filterwarnings(\"ignore\")\n",
        "# Add 100 initial cash to our portfolios\n",
        "portfolio_db.add_cash(100)\n",
        "\n",
        "# Get our list of unique dates\n",
        "udates = data_processor.unique_dates()\n",
        "\n",
        "# Main loop for the backtest\n",
        "for date in udates:\n",
        "    # dataframes for the date\n",
        "    temp_df = data_processor.signal_df_for_date(date)\n",
        "    signal_df = data_processor.filter_and_rank(data_processor.signal_df)\n",
        "    # price_df = data_processor.price_df_for_date(date)\n",
        "    # Update prices to reflect the new values after however much time has passed\n",
        "    # Need to do this first each date because the updated prices may affect our trading rule\n",
        "    portfolio_db.update_prices(temp_df)\n",
        "    \n",
        "    if date.month == 4: \n",
        "        # Ask the trading rule what trades we should make\n",
        "        open_trades_df, close_trades_df = trading_rule.compute_trades(signal_df=signal_df, date=date)\n",
        "        # print(date)\n",
        "        # apply dates to trades\n",
        "        open_trades_df.loc[:,'open_datetime'] = date\n",
        "        close_trades_df.loc[:,'close_datetime'] = date\n",
        "        # close_trades_df.to_csv(\"CloseTrades.csv\")\n",
        "        # temp_df.to_csv(\"DebugFile.csv\")\n",
        "        # execute trades\n",
        "        trade_executor.execute_opens(open_trades_df=open_trades_df, price_df=temp_df)\n",
        "        trade_executor.execute_closes(close_trades_df=close_trades_df, price_df=temp_df) \n",
        "    # Record account data for today\n",
        "    portfolio_db.record_account_data(price_df=temp_df,datetime=date)\n",
        "    \n",
        "    # Do some fancy output tracking our NAV and margin requirement each day\n",
        "    clear_output(wait=True)\n",
        "    display( np.datetime_as_string(np.datetime64(date), unit='D') + ': ' + str(portfolio_db.current_nav()) + \" | \" + str(portfolio_db.current_margin()))\n",
        "# Now that the loop is done, tell the statistican to output stats"
      ]
    },
    {
      "cell_type": "code",
      "execution_count": 262,
      "metadata": {},
      "outputs": [
        {
          "ename": "ValueError",
          "evalue": "The indices for endog and exog are not aligned",
          "output_type": "error",
          "traceback": [
            "\u001b[1;31m---------------------------------------------------------------------------\u001b[0m",
            "\u001b[1;31mValueError\u001b[0m                                Traceback (most recent call last)",
            "\u001b[1;32m<ipython-input-262-bca80811853b>\u001b[0m in \u001b[0;36m<module>\u001b[1;34m\u001b[0m\n\u001b[1;32m----> 1\u001b[1;33m \u001b[0mstatistican\u001b[0m\u001b[1;33m.\u001b[0m\u001b[0moutput_stats\u001b[0m\u001b[1;33m(\u001b[0m\u001b[1;33m)\u001b[0m\u001b[1;33m\u001b[0m\u001b[1;33m\u001b[0m\u001b[0m\n\u001b[0m",
            "\u001b[1;32m<ipython-input-260-55a0546b6e60>\u001b[0m in \u001b[0;36moutput_stats\u001b[1;34m(self)\u001b[0m\n\u001b[0;32m     65\u001b[0m \u001b[1;33m\u001b[0m\u001b[0m\n\u001b[0;32m     66\u001b[0m         \u001b[1;31m# Run the regression\u001b[0m\u001b[1;33m\u001b[0m\u001b[1;33m\u001b[0m\u001b[1;33m\u001b[0m\u001b[0m\n\u001b[1;32m---> 67\u001b[1;33m         \u001b[0mmodel\u001b[0m \u001b[1;33m=\u001b[0m \u001b[0msm\u001b[0m\u001b[1;33m.\u001b[0m\u001b[0mOLS\u001b[0m\u001b[1;33m(\u001b[0m\u001b[0mlhs\u001b[0m\u001b[1;33m,\u001b[0m\u001b[0mrhs\u001b[0m\u001b[1;33m)\u001b[0m\u001b[1;33m\u001b[0m\u001b[1;33m\u001b[0m\u001b[0m\n\u001b[0m\u001b[0;32m     68\u001b[0m         \u001b[0mresults\u001b[0m \u001b[1;33m=\u001b[0m \u001b[0mmodel\u001b[0m\u001b[1;33m.\u001b[0m\u001b[0mfit\u001b[0m\u001b[1;33m(\u001b[0m\u001b[1;33m)\u001b[0m\u001b[1;33m\u001b[0m\u001b[1;33m\u001b[0m\u001b[0m\n\u001b[0;32m     69\u001b[0m \u001b[1;33m\u001b[0m\u001b[0m\n",
            "\u001b[1;32mc:\\Users\\trent\\anaconda3\\lib\\site-packages\\statsmodels\\regression\\linear_model.py\u001b[0m in \u001b[0;36m__init__\u001b[1;34m(self, endog, exog, missing, hasconst, **kwargs)\u001b[0m\n\u001b[0;32m    870\u001b[0m     def __init__(self, endog, exog=None, missing='none', hasconst=None,\n\u001b[0;32m    871\u001b[0m                  **kwargs):\n\u001b[1;32m--> 872\u001b[1;33m         super(OLS, self).__init__(endog, exog, missing=missing,\n\u001b[0m\u001b[0;32m    873\u001b[0m                                   hasconst=hasconst, **kwargs)\n\u001b[0;32m    874\u001b[0m         \u001b[1;32mif\u001b[0m \u001b[1;34m\"weights\"\u001b[0m \u001b[1;32min\u001b[0m \u001b[0mself\u001b[0m\u001b[1;33m.\u001b[0m\u001b[0m_init_keys\u001b[0m\u001b[1;33m:\u001b[0m\u001b[1;33m\u001b[0m\u001b[1;33m\u001b[0m\u001b[0m\n",
            "\u001b[1;32mc:\\Users\\trent\\anaconda3\\lib\\site-packages\\statsmodels\\regression\\linear_model.py\u001b[0m in \u001b[0;36m__init__\u001b[1;34m(self, endog, exog, weights, missing, hasconst, **kwargs)\u001b[0m\n\u001b[0;32m    701\u001b[0m         \u001b[1;32melse\u001b[0m\u001b[1;33m:\u001b[0m\u001b[1;33m\u001b[0m\u001b[1;33m\u001b[0m\u001b[0m\n\u001b[0;32m    702\u001b[0m             \u001b[0mweights\u001b[0m \u001b[1;33m=\u001b[0m \u001b[0mweights\u001b[0m\u001b[1;33m.\u001b[0m\u001b[0msqueeze\u001b[0m\u001b[1;33m(\u001b[0m\u001b[1;33m)\u001b[0m\u001b[1;33m\u001b[0m\u001b[1;33m\u001b[0m\u001b[0m\n\u001b[1;32m--> 703\u001b[1;33m         super(WLS, self).__init__(endog, exog, missing=missing,\n\u001b[0m\u001b[0;32m    704\u001b[0m                                   weights=weights, hasconst=hasconst, **kwargs)\n\u001b[0;32m    705\u001b[0m         \u001b[0mnobs\u001b[0m \u001b[1;33m=\u001b[0m \u001b[0mself\u001b[0m\u001b[1;33m.\u001b[0m\u001b[0mexog\u001b[0m\u001b[1;33m.\u001b[0m\u001b[0mshape\u001b[0m\u001b[1;33m[\u001b[0m\u001b[1;36m0\u001b[0m\u001b[1;33m]\u001b[0m\u001b[1;33m\u001b[0m\u001b[1;33m\u001b[0m\u001b[0m\n",
            "\u001b[1;32mc:\\Users\\trent\\anaconda3\\lib\\site-packages\\statsmodels\\regression\\linear_model.py\u001b[0m in \u001b[0;36m__init__\u001b[1;34m(self, endog, exog, **kwargs)\u001b[0m\n\u001b[0;32m    188\u001b[0m     \"\"\"\n\u001b[0;32m    189\u001b[0m     \u001b[1;32mdef\u001b[0m \u001b[0m__init__\u001b[0m\u001b[1;33m(\u001b[0m\u001b[0mself\u001b[0m\u001b[1;33m,\u001b[0m \u001b[0mendog\u001b[0m\u001b[1;33m,\u001b[0m \u001b[0mexog\u001b[0m\u001b[1;33m,\u001b[0m \u001b[1;33m**\u001b[0m\u001b[0mkwargs\u001b[0m\u001b[1;33m)\u001b[0m\u001b[1;33m:\u001b[0m\u001b[1;33m\u001b[0m\u001b[1;33m\u001b[0m\u001b[0m\n\u001b[1;32m--> 190\u001b[1;33m         \u001b[0msuper\u001b[0m\u001b[1;33m(\u001b[0m\u001b[0mRegressionModel\u001b[0m\u001b[1;33m,\u001b[0m \u001b[0mself\u001b[0m\u001b[1;33m)\u001b[0m\u001b[1;33m.\u001b[0m\u001b[0m__init__\u001b[0m\u001b[1;33m(\u001b[0m\u001b[0mendog\u001b[0m\u001b[1;33m,\u001b[0m \u001b[0mexog\u001b[0m\u001b[1;33m,\u001b[0m \u001b[1;33m**\u001b[0m\u001b[0mkwargs\u001b[0m\u001b[1;33m)\u001b[0m\u001b[1;33m\u001b[0m\u001b[1;33m\u001b[0m\u001b[0m\n\u001b[0m\u001b[0;32m    191\u001b[0m         \u001b[0mself\u001b[0m\u001b[1;33m.\u001b[0m\u001b[0m_data_attr\u001b[0m\u001b[1;33m.\u001b[0m\u001b[0mextend\u001b[0m\u001b[1;33m(\u001b[0m\u001b[1;33m[\u001b[0m\u001b[1;34m'pinv_wexog'\u001b[0m\u001b[1;33m,\u001b[0m \u001b[1;34m'weights'\u001b[0m\u001b[1;33m]\u001b[0m\u001b[1;33m)\u001b[0m\u001b[1;33m\u001b[0m\u001b[1;33m\u001b[0m\u001b[0m\n\u001b[0;32m    192\u001b[0m \u001b[1;33m\u001b[0m\u001b[0m\n",
            "\u001b[1;32mc:\\Users\\trent\\anaconda3\\lib\\site-packages\\statsmodels\\base\\model.py\u001b[0m in \u001b[0;36m__init__\u001b[1;34m(self, endog, exog, **kwargs)\u001b[0m\n\u001b[0;32m    235\u001b[0m \u001b[1;33m\u001b[0m\u001b[0m\n\u001b[0;32m    236\u001b[0m     \u001b[1;32mdef\u001b[0m \u001b[0m__init__\u001b[0m\u001b[1;33m(\u001b[0m\u001b[0mself\u001b[0m\u001b[1;33m,\u001b[0m \u001b[0mendog\u001b[0m\u001b[1;33m,\u001b[0m \u001b[0mexog\u001b[0m\u001b[1;33m=\u001b[0m\u001b[1;32mNone\u001b[0m\u001b[1;33m,\u001b[0m \u001b[1;33m**\u001b[0m\u001b[0mkwargs\u001b[0m\u001b[1;33m)\u001b[0m\u001b[1;33m:\u001b[0m\u001b[1;33m\u001b[0m\u001b[1;33m\u001b[0m\u001b[0m\n\u001b[1;32m--> 237\u001b[1;33m         \u001b[0msuper\u001b[0m\u001b[1;33m(\u001b[0m\u001b[0mLikelihoodModel\u001b[0m\u001b[1;33m,\u001b[0m \u001b[0mself\u001b[0m\u001b[1;33m)\u001b[0m\u001b[1;33m.\u001b[0m\u001b[0m__init__\u001b[0m\u001b[1;33m(\u001b[0m\u001b[0mendog\u001b[0m\u001b[1;33m,\u001b[0m \u001b[0mexog\u001b[0m\u001b[1;33m,\u001b[0m \u001b[1;33m**\u001b[0m\u001b[0mkwargs\u001b[0m\u001b[1;33m)\u001b[0m\u001b[1;33m\u001b[0m\u001b[1;33m\u001b[0m\u001b[0m\n\u001b[0m\u001b[0;32m    238\u001b[0m         \u001b[0mself\u001b[0m\u001b[1;33m.\u001b[0m\u001b[0minitialize\u001b[0m\u001b[1;33m(\u001b[0m\u001b[1;33m)\u001b[0m\u001b[1;33m\u001b[0m\u001b[1;33m\u001b[0m\u001b[0m\n\u001b[0;32m    239\u001b[0m \u001b[1;33m\u001b[0m\u001b[0m\n",
            "\u001b[1;32mc:\\Users\\trent\\anaconda3\\lib\\site-packages\\statsmodels\\base\\model.py\u001b[0m in \u001b[0;36m__init__\u001b[1;34m(self, endog, exog, **kwargs)\u001b[0m\n\u001b[0;32m     75\u001b[0m         \u001b[0mmissing\u001b[0m \u001b[1;33m=\u001b[0m \u001b[0mkwargs\u001b[0m\u001b[1;33m.\u001b[0m\u001b[0mpop\u001b[0m\u001b[1;33m(\u001b[0m\u001b[1;34m'missing'\u001b[0m\u001b[1;33m,\u001b[0m \u001b[1;34m'none'\u001b[0m\u001b[1;33m)\u001b[0m\u001b[1;33m\u001b[0m\u001b[1;33m\u001b[0m\u001b[0m\n\u001b[0;32m     76\u001b[0m         \u001b[0mhasconst\u001b[0m \u001b[1;33m=\u001b[0m \u001b[0mkwargs\u001b[0m\u001b[1;33m.\u001b[0m\u001b[0mpop\u001b[0m\u001b[1;33m(\u001b[0m\u001b[1;34m'hasconst'\u001b[0m\u001b[1;33m,\u001b[0m \u001b[1;32mNone\u001b[0m\u001b[1;33m)\u001b[0m\u001b[1;33m\u001b[0m\u001b[1;33m\u001b[0m\u001b[0m\n\u001b[1;32m---> 77\u001b[1;33m         self.data = self._handle_data(endog, exog, missing, hasconst,\n\u001b[0m\u001b[0;32m     78\u001b[0m                                       **kwargs)\n\u001b[0;32m     79\u001b[0m         \u001b[0mself\u001b[0m\u001b[1;33m.\u001b[0m\u001b[0mk_constant\u001b[0m \u001b[1;33m=\u001b[0m \u001b[0mself\u001b[0m\u001b[1;33m.\u001b[0m\u001b[0mdata\u001b[0m\u001b[1;33m.\u001b[0m\u001b[0mk_constant\u001b[0m\u001b[1;33m\u001b[0m\u001b[1;33m\u001b[0m\u001b[0m\n",
            "\u001b[1;32mc:\\Users\\trent\\anaconda3\\lib\\site-packages\\statsmodels\\base\\model.py\u001b[0m in \u001b[0;36m_handle_data\u001b[1;34m(self, endog, exog, missing, hasconst, **kwargs)\u001b[0m\n\u001b[0;32m     99\u001b[0m \u001b[1;33m\u001b[0m\u001b[0m\n\u001b[0;32m    100\u001b[0m     \u001b[1;32mdef\u001b[0m \u001b[0m_handle_data\u001b[0m\u001b[1;33m(\u001b[0m\u001b[0mself\u001b[0m\u001b[1;33m,\u001b[0m \u001b[0mendog\u001b[0m\u001b[1;33m,\u001b[0m \u001b[0mexog\u001b[0m\u001b[1;33m,\u001b[0m \u001b[0mmissing\u001b[0m\u001b[1;33m,\u001b[0m \u001b[0mhasconst\u001b[0m\u001b[1;33m,\u001b[0m \u001b[1;33m**\u001b[0m\u001b[0mkwargs\u001b[0m\u001b[1;33m)\u001b[0m\u001b[1;33m:\u001b[0m\u001b[1;33m\u001b[0m\u001b[1;33m\u001b[0m\u001b[0m\n\u001b[1;32m--> 101\u001b[1;33m         \u001b[0mdata\u001b[0m \u001b[1;33m=\u001b[0m \u001b[0mhandle_data\u001b[0m\u001b[1;33m(\u001b[0m\u001b[0mendog\u001b[0m\u001b[1;33m,\u001b[0m \u001b[0mexog\u001b[0m\u001b[1;33m,\u001b[0m \u001b[0mmissing\u001b[0m\u001b[1;33m,\u001b[0m \u001b[0mhasconst\u001b[0m\u001b[1;33m,\u001b[0m \u001b[1;33m**\u001b[0m\u001b[0mkwargs\u001b[0m\u001b[1;33m)\u001b[0m\u001b[1;33m\u001b[0m\u001b[1;33m\u001b[0m\u001b[0m\n\u001b[0m\u001b[0;32m    102\u001b[0m         \u001b[1;31m# kwargs arrays could have changed, easier to just attach here\u001b[0m\u001b[1;33m\u001b[0m\u001b[1;33m\u001b[0m\u001b[1;33m\u001b[0m\u001b[0m\n\u001b[0;32m    103\u001b[0m         \u001b[1;32mfor\u001b[0m \u001b[0mkey\u001b[0m \u001b[1;32min\u001b[0m \u001b[0mkwargs\u001b[0m\u001b[1;33m:\u001b[0m\u001b[1;33m\u001b[0m\u001b[1;33m\u001b[0m\u001b[0m\n",
            "\u001b[1;32mc:\\Users\\trent\\anaconda3\\lib\\site-packages\\statsmodels\\base\\data.py\u001b[0m in \u001b[0;36mhandle_data\u001b[1;34m(endog, exog, missing, hasconst, **kwargs)\u001b[0m\n\u001b[0;32m    670\u001b[0m \u001b[1;33m\u001b[0m\u001b[0m\n\u001b[0;32m    671\u001b[0m     \u001b[0mklass\u001b[0m \u001b[1;33m=\u001b[0m \u001b[0mhandle_data_class_factory\u001b[0m\u001b[1;33m(\u001b[0m\u001b[0mendog\u001b[0m\u001b[1;33m,\u001b[0m \u001b[0mexog\u001b[0m\u001b[1;33m)\u001b[0m\u001b[1;33m\u001b[0m\u001b[1;33m\u001b[0m\u001b[0m\n\u001b[1;32m--> 672\u001b[1;33m     return klass(endog, exog=exog, missing=missing, hasconst=hasconst,\n\u001b[0m\u001b[0;32m    673\u001b[0m                  **kwargs)\n",
            "\u001b[1;32mc:\\Users\\trent\\anaconda3\\lib\\site-packages\\statsmodels\\base\\data.py\u001b[0m in \u001b[0;36m__init__\u001b[1;34m(self, endog, exog, missing, hasconst, **kwargs)\u001b[0m\n\u001b[0;32m     86\u001b[0m         \u001b[0mself\u001b[0m\u001b[1;33m.\u001b[0m\u001b[0mk_constant\u001b[0m \u001b[1;33m=\u001b[0m \u001b[1;36m0\u001b[0m\u001b[1;33m\u001b[0m\u001b[1;33m\u001b[0m\u001b[0m\n\u001b[0;32m     87\u001b[0m         \u001b[0mself\u001b[0m\u001b[1;33m.\u001b[0m\u001b[0m_handle_constant\u001b[0m\u001b[1;33m(\u001b[0m\u001b[0mhasconst\u001b[0m\u001b[1;33m)\u001b[0m\u001b[1;33m\u001b[0m\u001b[1;33m\u001b[0m\u001b[0m\n\u001b[1;32m---> 88\u001b[1;33m         \u001b[0mself\u001b[0m\u001b[1;33m.\u001b[0m\u001b[0m_check_integrity\u001b[0m\u001b[1;33m(\u001b[0m\u001b[1;33m)\u001b[0m\u001b[1;33m\u001b[0m\u001b[1;33m\u001b[0m\u001b[0m\n\u001b[0m\u001b[0;32m     89\u001b[0m         \u001b[0mself\u001b[0m\u001b[1;33m.\u001b[0m\u001b[0m_cache\u001b[0m \u001b[1;33m=\u001b[0m \u001b[1;33m{\u001b[0m\u001b[1;33m}\u001b[0m\u001b[1;33m\u001b[0m\u001b[1;33m\u001b[0m\u001b[0m\n\u001b[0;32m     90\u001b[0m \u001b[1;33m\u001b[0m\u001b[0m\n",
            "\u001b[1;32mc:\\Users\\trent\\anaconda3\\lib\\site-packages\\statsmodels\\base\\data.py\u001b[0m in \u001b[0;36m_check_integrity\u001b[1;34m(self)\u001b[0m\n\u001b[0;32m    530\u001b[0m                 \u001b[1;33m(\u001b[0m\u001b[0mhasattr\u001b[0m\u001b[1;33m(\u001b[0m\u001b[0mendog\u001b[0m\u001b[1;33m,\u001b[0m \u001b[1;34m'index'\u001b[0m\u001b[1;33m)\u001b[0m \u001b[1;32mand\u001b[0m \u001b[0mhasattr\u001b[0m\u001b[1;33m(\u001b[0m\u001b[0mexog\u001b[0m\u001b[1;33m,\u001b[0m \u001b[1;34m'index'\u001b[0m\u001b[1;33m)\u001b[0m\u001b[1;33m)\u001b[0m \u001b[1;32mand\u001b[0m\u001b[1;33m\u001b[0m\u001b[1;33m\u001b[0m\u001b[0m\n\u001b[0;32m    531\u001b[0m                 not self.orig_endog.index.equals(self.orig_exog.index)):\n\u001b[1;32m--> 532\u001b[1;33m             \u001b[1;32mraise\u001b[0m \u001b[0mValueError\u001b[0m\u001b[1;33m(\u001b[0m\u001b[1;34m\"The indices for endog and exog are not aligned\"\u001b[0m\u001b[1;33m)\u001b[0m\u001b[1;33m\u001b[0m\u001b[1;33m\u001b[0m\u001b[0m\n\u001b[0m\u001b[0;32m    533\u001b[0m         \u001b[0msuper\u001b[0m\u001b[1;33m(\u001b[0m\u001b[0mPandasData\u001b[0m\u001b[1;33m,\u001b[0m \u001b[0mself\u001b[0m\u001b[1;33m)\u001b[0m\u001b[1;33m.\u001b[0m\u001b[0m_check_integrity\u001b[0m\u001b[1;33m(\u001b[0m\u001b[1;33m)\u001b[0m\u001b[1;33m\u001b[0m\u001b[1;33m\u001b[0m\u001b[0m\n\u001b[0;32m    534\u001b[0m \u001b[1;33m\u001b[0m\u001b[0m\n",
            "\u001b[1;31mValueError\u001b[0m: The indices for endog and exog are not aligned"
          ]
        }
      ],
      "source": [
        "statistican.output_stats()"
      ]
    }
  ],
  "metadata": {
    "colab": {
      "provenance": []
    },
    "kernelspec": {
      "display_name": "Python 3",
      "language": "python",
      "name": "python3"
    },
    "language_info": {
      "codemirror_mode": {
        "name": "ipython",
        "version": 3
      },
      "file_extension": ".py",
      "mimetype": "text/x-python",
      "name": "python",
      "nbconvert_exporter": "python",
      "pygments_lexer": "ipython3",
      "version": "3.8.5"
    },
    "vscode": {
      "interpreter": {
        "hash": "08aaebccf46177101be16f6e26ae2889575a915459ea24a9bfd89d18fb6b39fb"
      }
    }
  },
  "nbformat": 4,
  "nbformat_minor": 0
}
