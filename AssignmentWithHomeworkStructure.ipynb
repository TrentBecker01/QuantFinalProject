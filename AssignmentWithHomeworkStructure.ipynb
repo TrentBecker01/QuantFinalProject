{
  "cells": [
    {
      "cell_type": "markdown",
      "metadata": {
        "id": "GQhXkSM1vExH"
      },
      "source": [
        "# <span style=\"color:blue\">Quant Final Project</span>\n",
        "## Finance 372 - Prof Travis Johnson"
      ]
    },
    {
      "cell_type": "markdown",
      "metadata": {
        "id": "MB01HZBdvExL"
      },
      "source": [
        "## Solution by: <span style=\"color:orange\">Trent Becker, Arjun Nair, Madhavan Uchani </span>"
      ]
    },
    {
      "cell_type": "code",
      "execution_count": 1,
      "metadata": {
        "id": "IWbXwZd6vExN"
      },
      "outputs": [],
      "source": [
        "import pandas as pd\n",
        "import datetime as dt\n",
        "import numpy as np\n",
        "from pathlib import Path"
      ]
    },
    {
      "cell_type": "code",
      "execution_count": 2,
      "metadata": {
        "id": "G_Wl2zF7vExQ",
        "colab": {
          "base_uri": "https://localhost:8080/"
        },
        "outputId": "31284c6a-40f8-4d65-a37b-1d2567e03c1c"
      },
      "outputs": [
        {
          "output_type": "stream",
          "name": "stderr",
          "text": [
            "<ipython-input-2-e87dd28e0763>:6: SettingWithCopyWarning: \n",
            "A value is trying to be set on a copy of a slice from a DataFrame.\n",
            "Try using .loc[row_indexer,col_indexer] = value instead\n",
            "\n",
            "See the caveats in the documentation: https://pandas.pydata.org/pandas-docs/stable/user_guide/indexing.html#returning-a-view-versus-a-copy\n",
            "  df['date'] = pd.to_datetime(df['date'])\n"
          ]
        }
      ],
      "source": [
        "df = pd.read_csv(\"crsp_finalproject.csv\", dtype={'PERMNO': 'str', 'date': 'str', 'TICKER': 'str', 'COMNAM': 'str', 'PRC': 'float', 'VOL': 'float', 'RET': 'str', 'SHROUT': 'float'})\n",
        "df['RET'] = pd.to_numeric(df['RET'], errors='coerce')\n",
        "df['RET'] = df['RET'].astype(float)\n",
        "df['date'] = pd.to_datetime(df['date'])\n",
        "df = df[df['date'] >= '1985-12-31']\n",
        "df['date'] = pd.to_datetime(df['date'])\n",
        "df['month'] = pd.DatetimeIndex(df['date']).month\n",
        "df['day'] = pd.DatetimeIndex(df['date']).day\n",
        "df['year'] = pd.DatetimeIndex(df['date']).year"
      ]
    },
    {
      "cell_type": "markdown",
      "metadata": {
        "id": "EntffcMrvExR"
      },
      "source": [
        "Now remove unnecessary columns, keeping only gvkey, datadate, at, cogs, and revt. Write the edited dataframe into a .dta file using `.to_stata('gp_data.dta',write_index=False)`"
      ]
    },
    {
      "cell_type": "markdown",
      "metadata": {
        "id": "8j7wgrCTvExR"
      },
      "source": [
        "Run this cell without editing it to show us what your signal_df looks like:"
      ]
    },
    {
      "cell_type": "code",
      "execution_count": 3,
      "metadata": {
        "colab": {
          "base_uri": "https://localhost:8080/",
          "height": 423
        },
        "id": "LNw6-VmJvExR",
        "outputId": "97ad8600-78a6-4532-8cae-911bb3115938"
      },
      "outputs": [
        {
          "output_type": "execute_result",
          "data": {
            "text/plain": [
              "        PERMNO       date TICKER                     COMNAM        PRC  \\\n",
              "0        10000 1985-12-31    NaN                        NaN        NaN   \n",
              "1        10000 1986-01-31  OMFGA  OPTIMUM MANUFACTURING INC   -4.37500   \n",
              "2        10000 1986-02-28  OMFGA  OPTIMUM MANUFACTURING INC   -3.25000   \n",
              "3        10000 1986-03-31  OMFGA  OPTIMUM MANUFACTURING INC   -4.43750   \n",
              "4        10000 1986-04-30  OMFGA  OPTIMUM MANUFACTURING INC   -4.00000   \n",
              "...        ...        ...    ...                        ...        ...   \n",
              "4325383  93436 2022-08-31   TSLA                  TESLA INC  275.60999   \n",
              "4325384  93436 2022-09-30   TSLA                  TESLA INC  265.25000   \n",
              "4325385  93436 2022-10-31   TSLA                  TESLA INC  227.53999   \n",
              "4325386  93436 2022-11-30   TSLA                  TESLA INC  194.70000   \n",
              "4325387  93436 2022-12-30   TSLA                  TESLA INC  123.18000   \n",
              "\n",
              "                VOL       RET     SHROUT  month  day  year  \n",
              "0               NaN       NaN        NaN     12   31  1985  \n",
              "1            1771.0       NaN     3680.0      1   31  1986  \n",
              "2             828.0 -0.257143     3680.0      2   28  1986  \n",
              "3            1078.0  0.365385     3680.0      3   31  1986  \n",
              "4             957.0 -0.098592     3793.0      4   30  1986  \n",
              "...             ...       ...        ...    ...  ...   ...  \n",
              "4325383   7322218.0 -0.072489  3133470.0      8   31  2022  \n",
              "4325384  12965500.0 -0.037589  3158000.0      9   30  2022  \n",
              "4325385  17325849.0 -0.142168  3157752.0     10   31  2022  \n",
              "4325386  18824244.0 -0.144326  3157752.0     11   30  2022  \n",
              "4325387  29417041.0 -0.367334  3157752.0     12   30  2022  \n",
              "\n",
              "[3382676 rows x 11 columns]"
            ],
            "text/html": [
              "\n",
              "  <div id=\"df-af61c040-0ab6-40f4-ac2b-6ed8befafc93\">\n",
              "    <div class=\"colab-df-container\">\n",
              "      <div>\n",
              "<style scoped>\n",
              "    .dataframe tbody tr th:only-of-type {\n",
              "        vertical-align: middle;\n",
              "    }\n",
              "\n",
              "    .dataframe tbody tr th {\n",
              "        vertical-align: top;\n",
              "    }\n",
              "\n",
              "    .dataframe thead th {\n",
              "        text-align: right;\n",
              "    }\n",
              "</style>\n",
              "<table border=\"1\" class=\"dataframe\">\n",
              "  <thead>\n",
              "    <tr style=\"text-align: right;\">\n",
              "      <th></th>\n",
              "      <th>PERMNO</th>\n",
              "      <th>date</th>\n",
              "      <th>TICKER</th>\n",
              "      <th>COMNAM</th>\n",
              "      <th>PRC</th>\n",
              "      <th>VOL</th>\n",
              "      <th>RET</th>\n",
              "      <th>SHROUT</th>\n",
              "      <th>month</th>\n",
              "      <th>day</th>\n",
              "      <th>year</th>\n",
              "    </tr>\n",
              "  </thead>\n",
              "  <tbody>\n",
              "    <tr>\n",
              "      <th>0</th>\n",
              "      <td>10000</td>\n",
              "      <td>1985-12-31</td>\n",
              "      <td>NaN</td>\n",
              "      <td>NaN</td>\n",
              "      <td>NaN</td>\n",
              "      <td>NaN</td>\n",
              "      <td>NaN</td>\n",
              "      <td>NaN</td>\n",
              "      <td>12</td>\n",
              "      <td>31</td>\n",
              "      <td>1985</td>\n",
              "    </tr>\n",
              "    <tr>\n",
              "      <th>1</th>\n",
              "      <td>10000</td>\n",
              "      <td>1986-01-31</td>\n",
              "      <td>OMFGA</td>\n",
              "      <td>OPTIMUM MANUFACTURING INC</td>\n",
              "      <td>-4.37500</td>\n",
              "      <td>1771.0</td>\n",
              "      <td>NaN</td>\n",
              "      <td>3680.0</td>\n",
              "      <td>1</td>\n",
              "      <td>31</td>\n",
              "      <td>1986</td>\n",
              "    </tr>\n",
              "    <tr>\n",
              "      <th>2</th>\n",
              "      <td>10000</td>\n",
              "      <td>1986-02-28</td>\n",
              "      <td>OMFGA</td>\n",
              "      <td>OPTIMUM MANUFACTURING INC</td>\n",
              "      <td>-3.25000</td>\n",
              "      <td>828.0</td>\n",
              "      <td>-0.257143</td>\n",
              "      <td>3680.0</td>\n",
              "      <td>2</td>\n",
              "      <td>28</td>\n",
              "      <td>1986</td>\n",
              "    </tr>\n",
              "    <tr>\n",
              "      <th>3</th>\n",
              "      <td>10000</td>\n",
              "      <td>1986-03-31</td>\n",
              "      <td>OMFGA</td>\n",
              "      <td>OPTIMUM MANUFACTURING INC</td>\n",
              "      <td>-4.43750</td>\n",
              "      <td>1078.0</td>\n",
              "      <td>0.365385</td>\n",
              "      <td>3680.0</td>\n",
              "      <td>3</td>\n",
              "      <td>31</td>\n",
              "      <td>1986</td>\n",
              "    </tr>\n",
              "    <tr>\n",
              "      <th>4</th>\n",
              "      <td>10000</td>\n",
              "      <td>1986-04-30</td>\n",
              "      <td>OMFGA</td>\n",
              "      <td>OPTIMUM MANUFACTURING INC</td>\n",
              "      <td>-4.00000</td>\n",
              "      <td>957.0</td>\n",
              "      <td>-0.098592</td>\n",
              "      <td>3793.0</td>\n",
              "      <td>4</td>\n",
              "      <td>30</td>\n",
              "      <td>1986</td>\n",
              "    </tr>\n",
              "    <tr>\n",
              "      <th>...</th>\n",
              "      <td>...</td>\n",
              "      <td>...</td>\n",
              "      <td>...</td>\n",
              "      <td>...</td>\n",
              "      <td>...</td>\n",
              "      <td>...</td>\n",
              "      <td>...</td>\n",
              "      <td>...</td>\n",
              "      <td>...</td>\n",
              "      <td>...</td>\n",
              "      <td>...</td>\n",
              "    </tr>\n",
              "    <tr>\n",
              "      <th>4325383</th>\n",
              "      <td>93436</td>\n",
              "      <td>2022-08-31</td>\n",
              "      <td>TSLA</td>\n",
              "      <td>TESLA INC</td>\n",
              "      <td>275.60999</td>\n",
              "      <td>7322218.0</td>\n",
              "      <td>-0.072489</td>\n",
              "      <td>3133470.0</td>\n",
              "      <td>8</td>\n",
              "      <td>31</td>\n",
              "      <td>2022</td>\n",
              "    </tr>\n",
              "    <tr>\n",
              "      <th>4325384</th>\n",
              "      <td>93436</td>\n",
              "      <td>2022-09-30</td>\n",
              "      <td>TSLA</td>\n",
              "      <td>TESLA INC</td>\n",
              "      <td>265.25000</td>\n",
              "      <td>12965500.0</td>\n",
              "      <td>-0.037589</td>\n",
              "      <td>3158000.0</td>\n",
              "      <td>9</td>\n",
              "      <td>30</td>\n",
              "      <td>2022</td>\n",
              "    </tr>\n",
              "    <tr>\n",
              "      <th>4325385</th>\n",
              "      <td>93436</td>\n",
              "      <td>2022-10-31</td>\n",
              "      <td>TSLA</td>\n",
              "      <td>TESLA INC</td>\n",
              "      <td>227.53999</td>\n",
              "      <td>17325849.0</td>\n",
              "      <td>-0.142168</td>\n",
              "      <td>3157752.0</td>\n",
              "      <td>10</td>\n",
              "      <td>31</td>\n",
              "      <td>2022</td>\n",
              "    </tr>\n",
              "    <tr>\n",
              "      <th>4325386</th>\n",
              "      <td>93436</td>\n",
              "      <td>2022-11-30</td>\n",
              "      <td>TSLA</td>\n",
              "      <td>TESLA INC</td>\n",
              "      <td>194.70000</td>\n",
              "      <td>18824244.0</td>\n",
              "      <td>-0.144326</td>\n",
              "      <td>3157752.0</td>\n",
              "      <td>11</td>\n",
              "      <td>30</td>\n",
              "      <td>2022</td>\n",
              "    </tr>\n",
              "    <tr>\n",
              "      <th>4325387</th>\n",
              "      <td>93436</td>\n",
              "      <td>2022-12-30</td>\n",
              "      <td>TSLA</td>\n",
              "      <td>TESLA INC</td>\n",
              "      <td>123.18000</td>\n",
              "      <td>29417041.0</td>\n",
              "      <td>-0.367334</td>\n",
              "      <td>3157752.0</td>\n",
              "      <td>12</td>\n",
              "      <td>30</td>\n",
              "      <td>2022</td>\n",
              "    </tr>\n",
              "  </tbody>\n",
              "</table>\n",
              "<p>3382676 rows × 11 columns</p>\n",
              "</div>\n",
              "      <button class=\"colab-df-convert\" onclick=\"convertToInteractive('df-af61c040-0ab6-40f4-ac2b-6ed8befafc93')\"\n",
              "              title=\"Convert this dataframe to an interactive table.\"\n",
              "              style=\"display:none;\">\n",
              "        \n",
              "  <svg xmlns=\"http://www.w3.org/2000/svg\" height=\"24px\"viewBox=\"0 0 24 24\"\n",
              "       width=\"24px\">\n",
              "    <path d=\"M0 0h24v24H0V0z\" fill=\"none\"/>\n",
              "    <path d=\"M18.56 5.44l.94 2.06.94-2.06 2.06-.94-2.06-.94-.94-2.06-.94 2.06-2.06.94zm-11 1L8.5 8.5l.94-2.06 2.06-.94-2.06-.94L8.5 2.5l-.94 2.06-2.06.94zm10 10l.94 2.06.94-2.06 2.06-.94-2.06-.94-.94-2.06-.94 2.06-2.06.94z\"/><path d=\"M17.41 7.96l-1.37-1.37c-.4-.4-.92-.59-1.43-.59-.52 0-1.04.2-1.43.59L10.3 9.45l-7.72 7.72c-.78.78-.78 2.05 0 2.83L4 21.41c.39.39.9.59 1.41.59.51 0 1.02-.2 1.41-.59l7.78-7.78 2.81-2.81c.8-.78.8-2.07 0-2.86zM5.41 20L4 18.59l7.72-7.72 1.47 1.35L5.41 20z\"/>\n",
              "  </svg>\n",
              "      </button>\n",
              "      \n",
              "  <style>\n",
              "    .colab-df-container {\n",
              "      display:flex;\n",
              "      flex-wrap:wrap;\n",
              "      gap: 12px;\n",
              "    }\n",
              "\n",
              "    .colab-df-convert {\n",
              "      background-color: #E8F0FE;\n",
              "      border: none;\n",
              "      border-radius: 50%;\n",
              "      cursor: pointer;\n",
              "      display: none;\n",
              "      fill: #1967D2;\n",
              "      height: 32px;\n",
              "      padding: 0 0 0 0;\n",
              "      width: 32px;\n",
              "    }\n",
              "\n",
              "    .colab-df-convert:hover {\n",
              "      background-color: #E2EBFA;\n",
              "      box-shadow: 0px 1px 2px rgba(60, 64, 67, 0.3), 0px 1px 3px 1px rgba(60, 64, 67, 0.15);\n",
              "      fill: #174EA6;\n",
              "    }\n",
              "\n",
              "    [theme=dark] .colab-df-convert {\n",
              "      background-color: #3B4455;\n",
              "      fill: #D2E3FC;\n",
              "    }\n",
              "\n",
              "    [theme=dark] .colab-df-convert:hover {\n",
              "      background-color: #434B5C;\n",
              "      box-shadow: 0px 1px 3px 1px rgba(0, 0, 0, 0.15);\n",
              "      filter: drop-shadow(0px 1px 2px rgba(0, 0, 0, 0.3));\n",
              "      fill: #FFFFFF;\n",
              "    }\n",
              "  </style>\n",
              "\n",
              "      <script>\n",
              "        const buttonEl =\n",
              "          document.querySelector('#df-af61c040-0ab6-40f4-ac2b-6ed8befafc93 button.colab-df-convert');\n",
              "        buttonEl.style.display =\n",
              "          google.colab.kernel.accessAllowed ? 'block' : 'none';\n",
              "\n",
              "        async function convertToInteractive(key) {\n",
              "          const element = document.querySelector('#df-af61c040-0ab6-40f4-ac2b-6ed8befafc93');\n",
              "          const dataTable =\n",
              "            await google.colab.kernel.invokeFunction('convertToInteractive',\n",
              "                                                     [key], {});\n",
              "          if (!dataTable) return;\n",
              "\n",
              "          const docLinkHtml = 'Like what you see? Visit the ' +\n",
              "            '<a target=\"_blank\" href=https://colab.research.google.com/notebooks/data_table.ipynb>data table notebook</a>'\n",
              "            + ' to learn more about interactive tables.';\n",
              "          element.innerHTML = '';\n",
              "          dataTable['output_type'] = 'display_data';\n",
              "          await google.colab.output.renderOutput(dataTable, element);\n",
              "          const docLink = document.createElement('div');\n",
              "          docLink.innerHTML = docLinkHtml;\n",
              "          element.appendChild(docLink);\n",
              "        }\n",
              "      </script>\n",
              "    </div>\n",
              "  </div>\n",
              "  "
            ]
          },
          "metadata": {},
          "execution_count": 3
        }
      ],
      "source": [
        "df"
      ]
    },
    {
      "cell_type": "markdown",
      "metadata": {
        "id": "Lc_VnUxjvExS"
      },
      "source": [
        "Copy and modify the BMDataProcessor to create a GPDataProcessor class. It should load the same `price_df` as before (from the monthly_returns.csv file) but a new `signal_df` with revt, cogs, and lag_at columns (in addition to the date and security_id columns). The lag_at column should contain the prior year's at value, which you can get using the included  `safe_lead_lag` method\n",
        "\n",
        "Let's be very conservative and say we can't rely on having accounting data until 120 days after the end of the fiscal year ('datadate' column). Assume we are willing to use accounting data up to two years old."
      ]
    },
    {
      "cell_type": "markdown",
      "metadata": {
        "id": "utfSf7eDvExS"
      },
      "source": [
        "***HINT***: be sure to change the `data_folder_path`, `min_accounting_lag`, `max_accounting_lag`, and the constructor `__init__(self)` to reflect the new strategy. The `unique_dates()` and `signal_df_for_date` functions only need to be updated to use datatdate instead of rdq (since we don't have an rdq column in this annual data). These functions will otherwise work as-is, and the other functions don't need to be changed at all."
      ]
    },
    {
      "cell_type": "code",
      "execution_count": 20,
      "metadata": {
        "id": "UFjb_sINvExT"
      },
      "outputs": [],
      "source": [
        "# Solution\n",
        "# Define class here\n",
        "class IRDataProcessor():\n",
        "    \n",
        "    # Path to where we store the data\n",
        "    data_folder_path = Path('') \n",
        "    \n",
        "    # Minimum share price to open a new position\n",
        "    min_share_price = 5.0\n",
        "    \n",
        "    # Constructor, loads/cleans/merges data as needed\n",
        "    def __init__(self):\n",
        "        \n",
        "        # Load price data: monthly 1961-2020 sample from CRSP including all public US equities\n",
        "        # In monthly_returns.csv\n",
        "        self.price_df = pd.read_csv(self.data_folder_path / 'monthly_prices.csv', dtype={'PERMNO': 'str', 'date': 'str', 'TICKER': 'str', 'PRC': 'float', 'VOL': 'float', 'RET': 'str', 'SHROUT': 'float'})\n",
        "        self.price_df['RET'] = pd.to_numeric(self.price_df['RET'], errors='coerce')\n",
        "        self.price_df['RET'] = self.price_df['RET'].astype(float)\n",
        "        self.price_df = self.price_df.dropna()       \n",
        "        \n",
        "        # Parse the yyyyMMdd int dates into DateTime64\n",
        "        # Based on formatting strings here\n",
        "        # https://docs.python.org/3/library/datetime.html#strftime-and-strptime-behavior\n",
        "        self.price_df.loc[:,'date'] = pd.to_datetime(self.price_df.loc[:,'date'])\n",
        "        self.price_df['month'] = pd.DatetimeIndex(self.price_df['date']).month\n",
        "        self.price_df['year'] = pd.DatetimeIndex(self.price_df['date']).year\n",
        "        # Prices sometimes negative to indicate no volume at closing auction\n",
        "        # In these cases, price = -0.5*(bid+ask)\n",
        "        # But we don't use that information and so want prices to always be positive\n",
        "        # See http://www.crsp.org/products/documentation/data-definitions-p\n",
        "        self.price_df.loc[:,'PRC'] = np.absolute(self.price_df.loc[:,'PRC'])\n",
        "        \n",
        "        # Add next-months return as a new column 'ret_next'\n",
        "        # Use the safe_lead_lag: want lead return but only when permno the same\n",
        "        self.price_df.loc[:,'ret_next'] = safe_lead_lag(self.price_df.loc[:,'RET'],self.price_df.loc[:,'PERMNO'],1)\n",
        "        \n",
        "        # Load accounting data used for BM signal\n",
        "        # Annual sample from 1961-2020 from Compustat Fundamentals Annual\n",
        "        # Stored in the `annual_accounting.dta` file\n",
        "        # `.dta` files are Stata data, and do a better job than `.csv` files of remembering data types\n",
        "        # self.signal_df = pd.read_stata(self.data_folder_path / 'annual_accounting.dta')\n",
        "\n",
        "        self.signal_df = pd.read_csv(\"crsp_finalproject.csv\", dtype={'PERMNO': 'str', 'date': 'str', 'TICKER': 'str', 'COMNAM': 'str', 'PRC': 'float', 'VOL': 'float', 'RET': 'str', 'SHROUT': 'float'})\n",
        "        # self.signal_df.loc[:,'date'] = pd.to_datetime(self.signal_df.loc[:,'date'])\n",
        "        self.signal_df = self.signal_df[self.signal_df['date'] >= '1985-12-31']\n",
        "        self.signal_df['RET'] = pd.to_numeric(self.signal_df['RET'], errors='coerce')\n",
        "        self.signal_df['RET'] = self.signal_df['RET'].astype(float)        \n",
        "\n",
        "        # Add the lag_at column as the prior year's 'at' value\n",
        "        # self.signal_df.loc[:,'lag_at'] = safe_lead_lag(self.signal_df.loc[:,'at'],self.signal_df.loc[:,'gvkey'],-1)\n",
        "        self.signal_df['date'] = pd.to_datetime(self.signal_df['date'])\n",
        "        self.signal_df['month'] = pd.DatetimeIndex(self.signal_df['date']).month\n",
        "        self.signal_df['day'] = pd.DatetimeIndex(self.signal_df['date']).day\n",
        "        self.signal_df['year'] = pd.DatetimeIndex(self.signal_df['date']).year\n",
        "        self.signal_df.loc[self.signal_df['month'] == 4, \"day\"] = 30\n",
        "        self.signal_df.loc[self.signal_df['month'] == 6, \"day\"] = 30\n",
        "        \n",
        "        import calendar\n",
        "        self.signal_df['date'] = self.signal_df['date'].apply(lambda dt: dt.replace(day=calendar.monthrange(dt.year, dt.month)[1]))\n",
        "        self.signal_df['PRC'] = self.signal_df['PRC'].abs()\n",
        "        self.signal_df['market_cap'] = self.signal_df['PRC'] * self.signal_df['SHROUT']\n",
        "        self.signal_df = self.signal_df.dropna()\n",
        "        # The problem with our accounting data is that it identifies stocks using gvkey instead of permno\n",
        "        # To merge with return_df, we need to use another dataset that converts gvkey to permno\n",
        "        # This is stored in the gvkey_permno_conversion.dta file\n",
        "        # self.gvkey_permno_conversion = pd.read_stata(self.data_folder_path / 'gvkey_permno_conversion.dta')\n",
        "\n",
        "        prediction_date = '04/30'\n",
        "        last_rebalance = '06/30'\n",
        "        self.signal_df = self.liquidity_filter(self.signal_df)\n",
        "        self.prediction_date = dt.datetime.strptime(prediction_date, '%m/%d')\n",
        "        self.last_rebalance = dt.datetime.strptime(last_rebalance, '%m/%d')\n",
        "        # Use a merge command to add the permno column to our signal_df\n",
        "        # self.signal_df = self.signal_df.merge(self.gvkey_permno_conversion,on=['gvkey','datadate'])           \n",
        "        \n",
        "    # Returns an array with the unique dates for which we have loaded data\n",
        "    # Uses from the price_df since that's how frequency we can update portfolio value\n",
        "    # Filters all dates in price_df to return only dates for which we have signals as well\n",
        "    def unique_dates(self):\n",
        "        # price_dates = pd.Series( np.sort(self.price_df.loc[:,'date'].unique()) )\n",
        "        # min_signal_date = self.signal_df.loc[:,'datadate'].min() + np.timedelta64(self.min_accounting_lag,'D')\n",
        "        # max_signal_date =  self.signal_df.loc[:,'datadate'].max() + np.timedelta64(self.max_accounting_lag,'D')\n",
        "        # return price_dates[ (price_dates >= min_signal_date) & (price_dates <= max_signal_date) ].array\n",
        "        price_dates = pd.Series( np.sort(self.signal_df.loc[:,'date'].unique()) )\n",
        "        return price_dates    \n",
        "    # Returns a DataFrame containing one row for all securities in price_df as of date.\n",
        "    # Columns must include:\n",
        "    # - 'date': date on which price data observed\n",
        "    # - 'security_id': a security identifier\n",
        "    # - 'prc': price on date\n",
        "    # - 'ret': return from previous date to date\n",
        "    # Ignores liquidity and future-return availability requirements\n",
        "    # To be used only for closing decisions and execution decisions\n",
        "    # Some of the returned stocks cannot be traded\n",
        "    def price_df_for_date(self,month,year):\n",
        "        price_date_df = self.price_df.loc[ self.price_df.loc[:,'month'] == month, :]\n",
        "        price_date_df = price_date_df.loc[ price_date_df.loc[:, 'year'] == year, :]\n",
        "        return price_date_df.rename(columns={'PERMNO':'security_id', 'PRC': 'prc', 'RET': 'ret'}) \n",
        "    \n",
        "    # Returns a DataFrame where each row is a security in the strategy's universe,\n",
        "    # Columes must include:\n",
        "    # - 'date': date on which price data observed\n",
        "    # - 'security_id': a security identifier\n",
        "    # - whatever signals the trading rule needs to decide which securities to open new positions in\n",
        "    #   - In this case, return cshoq, prccq, and ceqq so trading rule can compute B/M ratio\n",
        "    #\n",
        "    # Also responsible for applying whatever liquidity filters are wanted to narrow universe,\n",
        "    # and check that we have future return data (no point in backtesting if we don't know what happens next)\n",
        "    def signal_df_for_date(self,date):\n",
        "        # find set of permnos considered tradeable as of date \n",
        "                \n",
        "        # start with all rows return_df on date with non-nan and non-infinite ret_next\n",
        "        date_price_df = self.price_df.loc[ self.price_df.loc[:,'date'] == date,:]\n",
        "        date_price_df.rename(columns={'PERMNO':'security_id', 'PRC': 'prc', 'RET': 'ret'}, inplace=True)  # use permno as our security_id        \n",
        "        # date_price_df = date_price_df.loc[ np.isfinite(self.price_df.loc[:,'ret_next']),:]\n",
        "        # date_price_df = date_price_df.drop(columns=['ret_next'])\n",
        "        \n",
        "        # now signal data\n",
        "        # first only look at data announced at least accounting_lag_days prior to date\n",
        "        # all_past_signal_df = self.signal_df.loc[(self.signal_df.loc[:,'datadate'] < date - np.timedelta64(self.min_accounting_lag,'D')),:]\n",
        "        # then grab only the latest observation for each permno\n",
        "        # latest_signal_df = all_past_signal_df.groupby('permno').last()\n",
        "        \n",
        "        # now merge with return data and return        \n",
        "        # merged_df = date_price_df.merge(latest_signal_df,on='permno',how='inner')\n",
        "        # merged_df = merged_df.rename(columns={'permno':'security_id'})  # use permno as our security_id\n",
        "        \n",
        "        # filter by liquidity requirements\n",
        "        # merged_df = self.liquidity_filter(merged_df)\n",
        "        \n",
        "        # and return without the ret_next column so backtests don't cheat by using itz\n",
        "        return date_price_df\n",
        "\n",
        "\n",
        "    def filter_and_rank(self,df):\n",
        "        #TODO commenting out for now because I think CRSP may only be US data and we could justify that but not sure\n",
        "        # filtered_df = self.country_filter(self.signal_df)\n",
        "        filtered_df = self.date_filter(df, self.prediction_date.month,self.last_rebalance.month)\n",
        "        # filtered_df = filtered_df.loc[ np.isfinite(filtered_df.loc[:,'ret_next']),:]\n",
        "        # filtered_df = filtered_df.drop(columns=['ret_next'])\n",
        "  \n",
        "        # TODO: May need to change this since dropping NaN gets rid of too many rows\n",
        "        filtered_df = filtered_df[filtered_df['market_cap'].notna()]\n",
        "        filtered_df.rename(columns={'PERMNO':'security_id', 'PRC': 'prc', 'RET': 'ret'}, inplace=True)  # use permno as our security_id        \n",
        "        filtered_df = self.rank_by_market_cap(filtered_df)\n",
        "        # ranking process\n",
        "        return filtered_df\n",
        "\n",
        "\n",
        "    # Returns a filterd version of the passed DataFrame,\n",
        "    # with all observations deemed too illiquid removed\n",
        "    # Liquidity requirements:\n",
        "    #  - price >= $3\n",
        "\n",
        "    def liquidity_filter(self,df):\n",
        "        return df.loc[ df.loc[:,'PRC'] >= self.min_share_price,:]\n",
        "      \n",
        "\n",
        "    def date_filter(self, df, prediction_month, rebalance_month):\n",
        "        condition1 = ((df['month'] == prediction_month))\n",
        "        condition2 = ((df['month'] == rebalance_month))\n",
        "        return df.loc[(condition1 | condition2),:]\n",
        "  \n",
        "\n",
        "    def rank_by_market_cap(self, df):\n",
        "        df['rank'] = df.groupby(['date'])['market_cap'].rank(ascending=False, method='first')\n",
        "        return df \n",
        "###################################################################\n",
        "# Helper methods, do not modify\n",
        "###################################################################\n",
        "\n",
        "# Function safe_lead_lag returns a new Series with the lead/lagged values\n",
        "#  but only when a group is the same for the lead/lag\n",
        "# Inputs:\n",
        "# - data_series: data we want to lead/lag\n",
        "# - group_series: grouping we want to be the same for the lead/lag to be value\n",
        "# requires data_series and group_series already by sorted by group_series\n",
        "# so that all alike values of group_series are adjacent,\n",
        "# meaning group_series should look like:\n",
        "#    g_0\n",
        "#    g_0\n",
        "#    g_0\n",
        "#    g_0\n",
        "#    g_1\n",
        "#    g_1\n",
        "#    g_2\n",
        "#    g_2 \n",
        "#    ...\n",
        "# where g_i indicates the observation is in group i,\n",
        "# and once the first g_{i+1} appears no more g_i values appear\n",
        "# \n",
        "# lead_lag > 0 returns a data_series with values of data_series lead_lag rows ahead\n",
        "# as long as group_series remains the same, NaN if group different\n",
        "# lead_lag < 0 returns a data_series with values of data_series -lead_lag rows behind \n",
        "# (same as lead_lag rows ahead) as long as group_series remains the same, NaN if group different\n",
        "def safe_lead_lag(data_series,group_series,lead_lag): \n",
        "    df = pd.DataFrame({ 'data': data_series, 'group': group_series })\n",
        "    return df.groupby(['group'])['data'].shift(-lead_lag)"
      ]
    },
    {
      "cell_type": "markdown",
      "metadata": {
        "id": "rZwb4bpLvExT"
      },
      "source": [
        "### After running your code above, you should be able to run these tests sucessfully. Please run each cell without editing."
      ]
    },
    {
      "cell_type": "markdown",
      "metadata": {
        "id": "r9op8g07vExT"
      },
      "source": [
        "#### Constructor tests: should print price_df and signal_df."
      ]
    },
    {
      "cell_type": "code",
      "execution_count": 5,
      "metadata": {
        "id": "65aLL7IFvExT",
        "colab": {
          "base_uri": "https://localhost:8080/"
        },
        "outputId": "bfb0e86a-1f2c-4050-feda-5d3fb017766a"
      },
      "outputs": [
        {
          "output_type": "stream",
          "name": "stderr",
          "text": [
            "<ipython-input-4-1a4207ecade5>:24: DeprecationWarning: In a future version, `df.iloc[:, i] = newvals` will attempt to set the values inplace instead of always setting a new array. To retain the old behavior, use either `df[df.columns[i]] = newvals` or, if columns are non-unique, `df.isetitem(i, newvals)`\n",
            "  self.price_df.loc[:,'date'] = pd.to_datetime(self.price_df.loc[:,'date'])\n"
          ]
        },
        {
          "output_type": "stream",
          "name": "stdout",
          "text": [
            "data_processor.price_df:\n",
            "        PERMNO       date TICKER        PRC         VOL       RET     SHROUT  \\\n",
            "2        10000 1986-02-28  OMFGA    3.25000       828.0 -0.257143     3680.0   \n",
            "3        10000 1986-03-31  OMFGA    4.43750      1078.0  0.365385     3680.0   \n",
            "4        10000 1986-04-30  OMFGA    4.00000       957.0 -0.098592     3793.0   \n",
            "5        10000 1986-05-30  OMFGA    3.10938      1074.0 -0.222656     3793.0   \n",
            "6        10000 1986-06-30  OMFGA    3.09375      1069.0 -0.005025     3793.0   \n",
            "...        ...        ...    ...        ...         ...       ...        ...   \n",
            "3800157  93436 2022-08-31   TSLA  275.60999   7322218.0 -0.072489  3133470.0   \n",
            "3800158  93436 2022-09-30   TSLA  265.25000  12965500.0 -0.037589  3158000.0   \n",
            "3800159  93436 2022-10-31   TSLA  227.53999  17325849.0 -0.142168  3157752.0   \n",
            "3800160  93436 2022-11-30   TSLA  194.70000  18824244.0 -0.144326  3157752.0   \n",
            "3800161  93436 2022-12-30   TSLA  123.18000  29417041.0 -0.367334  3157752.0   \n",
            "\n",
            "              RETX  month  year  ret_next  \n",
            "2        -0.257143      2  1986  0.365385  \n",
            "3         0.365385      3  1986 -0.098592  \n",
            "4        -0.098592      4  1986 -0.222656  \n",
            "5        -0.222656      5  1986 -0.005025  \n",
            "6        -0.005025      6  1986 -0.080808  \n",
            "...            ...    ...   ...       ...  \n",
            "3800157  -0.072489      8  2022 -0.037589  \n",
            "3800158  -0.037589      9  2022 -0.142168  \n",
            "3800159  -0.142168     10  2022 -0.144326  \n",
            "3800160  -0.144326     11  2022 -0.367334  \n",
            "3800161  -0.367334     12  2022       NaN  \n",
            "\n",
            "[3564206 rows x 11 columns]\n",
            "\n",
            "\n",
            "\n",
            "data_processor.signal_df:\n",
            "        PERMNO       date TICKER              COMNAM        PRC         VOL  \\\n",
            "21       10001 1986-02-28   GFGC  GREAT FALLS GAS CO    6.25000      1067.0   \n",
            "22       10001 1986-03-31   GFGC  GREAT FALLS GAS CO    6.31250       335.0   \n",
            "23       10001 1986-04-30   GFGC  GREAT FALLS GAS CO    6.37500       225.0   \n",
            "24       10001 1986-05-31   GFGC  GREAT FALLS GAS CO    6.31250       217.0   \n",
            "25       10001 1986-06-30   GFGC  GREAT FALLS GAS CO    6.12500       238.0   \n",
            "...        ...        ...    ...                 ...        ...         ...   \n",
            "4325383  93436 2022-08-31   TSLA           TESLA INC  275.60999   7322218.0   \n",
            "4325384  93436 2022-09-30   TSLA           TESLA INC  265.25000  12965500.0   \n",
            "4325385  93436 2022-10-31   TSLA           TESLA INC  227.53999  17325849.0   \n",
            "4325386  93436 2022-11-30   TSLA           TESLA INC  194.70000  18824244.0   \n",
            "4325387  93436 2022-12-31   TSLA           TESLA INC  123.18000  29417041.0   \n",
            "\n",
            "              RET     SHROUT  month  day  year    market_cap  \n",
            "21       0.020408      985.0      2   28  1986  6.156250e+03  \n",
            "22       0.025200      985.0      3   31  1986  6.217812e+03  \n",
            "23       0.009901      985.0      4   30  1986  6.279375e+03  \n",
            "24      -0.009804      985.0      5   30  1986  6.217812e+03  \n",
            "25      -0.013069      985.0      6   30  1986  6.033125e+03  \n",
            "...           ...        ...    ...  ...   ...           ...  \n",
            "4325383 -0.072489  3133470.0      8   31  2022  8.636156e+08  \n",
            "4325384 -0.037589  3158000.0      9   30  2022  8.376595e+08  \n",
            "4325385 -0.142168  3157752.0     10   31  2022  7.185149e+08  \n",
            "4325386 -0.144326  3157752.0     11   30  2022  6.148143e+08  \n",
            "4325387 -0.367334  3157752.0     12   30  2022  3.889719e+08  \n",
            "\n",
            "[2540986 rows x 12 columns]\n",
            "        security_id       date TICKER              COMNAM         prc  \\\n",
            "23            10001 1986-04-30   GFGC  GREAT FALLS GAS CO     6.37500   \n",
            "25            10001 1986-06-30   GFGC  GREAT FALLS GAS CO     6.12500   \n",
            "35            10001 1987-04-30   GFGC  GREAT FALLS GAS CO     6.12500   \n",
            "37            10001 1987-06-30   GFGC  GREAT FALLS GAS CO     5.87500   \n",
            "47            10001 1988-04-30   GFGC  GREAT FALLS GAS CO     6.31250   \n",
            "...             ...        ...    ...                 ...         ...   \n",
            "4325357       93436 2020-06-30   TSLA           TESLA INC  1079.81006   \n",
            "4325367       93436 2021-04-30   TSLA           TESLA INC   709.44000   \n",
            "4325369       93436 2021-06-30   TSLA           TESLA INC   679.70001   \n",
            "4325379       93436 2022-04-30   TSLA           TESLA INC   870.76001   \n",
            "4325381       93436 2022-06-30   TSLA           TESLA INC   673.41998   \n",
            "\n",
            "               VOL       ret     SHROUT  month  day  year    market_cap  \\\n",
            "23           225.0  0.009901      985.0      4   30  1986  6.279375e+03   \n",
            "25           238.0 -0.013069      985.0      6   30  1986  6.033125e+03   \n",
            "35           188.0 -0.039216      991.0      4   30  1987  6.069875e+03   \n",
            "37           146.0  0.051429      991.0      6   30  1987  5.822125e+03   \n",
            "47           121.0  0.030612      992.0      4   30  1988  6.262000e+03   \n",
            "...            ...       ...        ...    ...  ...   ...           ...   \n",
            "4325357  2551787.0  0.293186   186000.0      6   30  2020  2.008447e+08   \n",
            "4325367  6774422.0  0.062147   963330.0      4   30  2021  6.834248e+08   \n",
            "4325369  5186813.0  0.087137   984003.0      6   30  2021  6.688268e+08   \n",
            "4325379  5046142.0 -0.191945  1036010.0      4   30  2022  9.021161e+08   \n",
            "4325381  6684634.0 -0.111888  1041000.0      6   30  2022  7.010302e+08   \n",
            "\n",
            "           rank  \n",
            "23       4404.0  \n",
            "25       4496.0  \n",
            "35       4789.0  \n",
            "37       4880.0  \n",
            "47       4472.0  \n",
            "...         ...  \n",
            "4325357    26.0  \n",
            "4325367     7.0  \n",
            "4325369     7.0  \n",
            "4325379     4.0  \n",
            "4325381     4.0  \n",
            "\n",
            "[423573 rows x 13 columns]\n"
          ]
        }
      ],
      "source": [
        "data_processor = IRDataProcessor()\n",
        "\n",
        "print('data_processor.price_df:')\n",
        "print(data_processor.price_df)\n",
        "\n",
        "print('\\n\\n')\n",
        "print('data_processor.signal_df:')\n",
        "print(data_processor.signal_df)\n",
        "print(data_processor.filter_and_rank(data_processor.signal_df))"
      ]
    },
    {
      "cell_type": "markdown",
      "metadata": {
        "id": "d0oR_CCZV8he"
      },
      "source": [
        "#### `ranking_df` test: should return DataFrame with market_cap field ranked by decreasing order on specific dates (4/30 and 6/30)"
      ]
    },
    {
      "cell_type": "code",
      "source": [
        "ranked_df = data_processor.filter_and_rank(data_processor.signal_df)\n",
        "ranked_df"
      ],
      "metadata": {
        "colab": {
          "base_uri": "https://localhost:8080/",
          "height": 467
        },
        "id": "oax3_sHt0PmF",
        "outputId": "d4f202cc-4383-4beb-d6ca-365783901fd5"
      },
      "execution_count": 6,
      "outputs": [
        {
          "output_type": "execute_result",
          "data": {
            "text/plain": [
              "        security_id       date TICKER              COMNAM         prc  \\\n",
              "23            10001 1986-04-30   GFGC  GREAT FALLS GAS CO     6.37500   \n",
              "25            10001 1986-06-30   GFGC  GREAT FALLS GAS CO     6.12500   \n",
              "35            10001 1987-04-30   GFGC  GREAT FALLS GAS CO     6.12500   \n",
              "37            10001 1987-06-30   GFGC  GREAT FALLS GAS CO     5.87500   \n",
              "47            10001 1988-04-30   GFGC  GREAT FALLS GAS CO     6.31250   \n",
              "...             ...        ...    ...                 ...         ...   \n",
              "4325357       93436 2020-06-30   TSLA           TESLA INC  1079.81006   \n",
              "4325367       93436 2021-04-30   TSLA           TESLA INC   709.44000   \n",
              "4325369       93436 2021-06-30   TSLA           TESLA INC   679.70001   \n",
              "4325379       93436 2022-04-30   TSLA           TESLA INC   870.76001   \n",
              "4325381       93436 2022-06-30   TSLA           TESLA INC   673.41998   \n",
              "\n",
              "               VOL       ret     SHROUT  month  day  year    market_cap  \\\n",
              "23           225.0  0.009901      985.0      4   30  1986  6.279375e+03   \n",
              "25           238.0 -0.013069      985.0      6   30  1986  6.033125e+03   \n",
              "35           188.0 -0.039216      991.0      4   30  1987  6.069875e+03   \n",
              "37           146.0  0.051429      991.0      6   30  1987  5.822125e+03   \n",
              "47           121.0  0.030612      992.0      4   30  1988  6.262000e+03   \n",
              "...            ...       ...        ...    ...  ...   ...           ...   \n",
              "4325357  2551787.0  0.293186   186000.0      6   30  2020  2.008447e+08   \n",
              "4325367  6774422.0  0.062147   963330.0      4   30  2021  6.834248e+08   \n",
              "4325369  5186813.0  0.087137   984003.0      6   30  2021  6.688268e+08   \n",
              "4325379  5046142.0 -0.191945  1036010.0      4   30  2022  9.021161e+08   \n",
              "4325381  6684634.0 -0.111888  1041000.0      6   30  2022  7.010302e+08   \n",
              "\n",
              "           rank  \n",
              "23       4404.0  \n",
              "25       4496.0  \n",
              "35       4789.0  \n",
              "37       4880.0  \n",
              "47       4472.0  \n",
              "...         ...  \n",
              "4325357    26.0  \n",
              "4325367     7.0  \n",
              "4325369     7.0  \n",
              "4325379     4.0  \n",
              "4325381     4.0  \n",
              "\n",
              "[423573 rows x 13 columns]"
            ],
            "text/html": [
              "\n",
              "  <div id=\"df-ed132f03-c092-49dd-8582-bbbfeb2fe875\">\n",
              "    <div class=\"colab-df-container\">\n",
              "      <div>\n",
              "<style scoped>\n",
              "    .dataframe tbody tr th:only-of-type {\n",
              "        vertical-align: middle;\n",
              "    }\n",
              "\n",
              "    .dataframe tbody tr th {\n",
              "        vertical-align: top;\n",
              "    }\n",
              "\n",
              "    .dataframe thead th {\n",
              "        text-align: right;\n",
              "    }\n",
              "</style>\n",
              "<table border=\"1\" class=\"dataframe\">\n",
              "  <thead>\n",
              "    <tr style=\"text-align: right;\">\n",
              "      <th></th>\n",
              "      <th>security_id</th>\n",
              "      <th>date</th>\n",
              "      <th>TICKER</th>\n",
              "      <th>COMNAM</th>\n",
              "      <th>prc</th>\n",
              "      <th>VOL</th>\n",
              "      <th>ret</th>\n",
              "      <th>SHROUT</th>\n",
              "      <th>month</th>\n",
              "      <th>day</th>\n",
              "      <th>year</th>\n",
              "      <th>market_cap</th>\n",
              "      <th>rank</th>\n",
              "    </tr>\n",
              "  </thead>\n",
              "  <tbody>\n",
              "    <tr>\n",
              "      <th>23</th>\n",
              "      <td>10001</td>\n",
              "      <td>1986-04-30</td>\n",
              "      <td>GFGC</td>\n",
              "      <td>GREAT FALLS GAS CO</td>\n",
              "      <td>6.37500</td>\n",
              "      <td>225.0</td>\n",
              "      <td>0.009901</td>\n",
              "      <td>985.0</td>\n",
              "      <td>4</td>\n",
              "      <td>30</td>\n",
              "      <td>1986</td>\n",
              "      <td>6.279375e+03</td>\n",
              "      <td>4404.0</td>\n",
              "    </tr>\n",
              "    <tr>\n",
              "      <th>25</th>\n",
              "      <td>10001</td>\n",
              "      <td>1986-06-30</td>\n",
              "      <td>GFGC</td>\n",
              "      <td>GREAT FALLS GAS CO</td>\n",
              "      <td>6.12500</td>\n",
              "      <td>238.0</td>\n",
              "      <td>-0.013069</td>\n",
              "      <td>985.0</td>\n",
              "      <td>6</td>\n",
              "      <td>30</td>\n",
              "      <td>1986</td>\n",
              "      <td>6.033125e+03</td>\n",
              "      <td>4496.0</td>\n",
              "    </tr>\n",
              "    <tr>\n",
              "      <th>35</th>\n",
              "      <td>10001</td>\n",
              "      <td>1987-04-30</td>\n",
              "      <td>GFGC</td>\n",
              "      <td>GREAT FALLS GAS CO</td>\n",
              "      <td>6.12500</td>\n",
              "      <td>188.0</td>\n",
              "      <td>-0.039216</td>\n",
              "      <td>991.0</td>\n",
              "      <td>4</td>\n",
              "      <td>30</td>\n",
              "      <td>1987</td>\n",
              "      <td>6.069875e+03</td>\n",
              "      <td>4789.0</td>\n",
              "    </tr>\n",
              "    <tr>\n",
              "      <th>37</th>\n",
              "      <td>10001</td>\n",
              "      <td>1987-06-30</td>\n",
              "      <td>GFGC</td>\n",
              "      <td>GREAT FALLS GAS CO</td>\n",
              "      <td>5.87500</td>\n",
              "      <td>146.0</td>\n",
              "      <td>0.051429</td>\n",
              "      <td>991.0</td>\n",
              "      <td>6</td>\n",
              "      <td>30</td>\n",
              "      <td>1987</td>\n",
              "      <td>5.822125e+03</td>\n",
              "      <td>4880.0</td>\n",
              "    </tr>\n",
              "    <tr>\n",
              "      <th>47</th>\n",
              "      <td>10001</td>\n",
              "      <td>1988-04-30</td>\n",
              "      <td>GFGC</td>\n",
              "      <td>GREAT FALLS GAS CO</td>\n",
              "      <td>6.31250</td>\n",
              "      <td>121.0</td>\n",
              "      <td>0.030612</td>\n",
              "      <td>992.0</td>\n",
              "      <td>4</td>\n",
              "      <td>30</td>\n",
              "      <td>1988</td>\n",
              "      <td>6.262000e+03</td>\n",
              "      <td>4472.0</td>\n",
              "    </tr>\n",
              "    <tr>\n",
              "      <th>...</th>\n",
              "      <td>...</td>\n",
              "      <td>...</td>\n",
              "      <td>...</td>\n",
              "      <td>...</td>\n",
              "      <td>...</td>\n",
              "      <td>...</td>\n",
              "      <td>...</td>\n",
              "      <td>...</td>\n",
              "      <td>...</td>\n",
              "      <td>...</td>\n",
              "      <td>...</td>\n",
              "      <td>...</td>\n",
              "      <td>...</td>\n",
              "    </tr>\n",
              "    <tr>\n",
              "      <th>4325357</th>\n",
              "      <td>93436</td>\n",
              "      <td>2020-06-30</td>\n",
              "      <td>TSLA</td>\n",
              "      <td>TESLA INC</td>\n",
              "      <td>1079.81006</td>\n",
              "      <td>2551787.0</td>\n",
              "      <td>0.293186</td>\n",
              "      <td>186000.0</td>\n",
              "      <td>6</td>\n",
              "      <td>30</td>\n",
              "      <td>2020</td>\n",
              "      <td>2.008447e+08</td>\n",
              "      <td>26.0</td>\n",
              "    </tr>\n",
              "    <tr>\n",
              "      <th>4325367</th>\n",
              "      <td>93436</td>\n",
              "      <td>2021-04-30</td>\n",
              "      <td>TSLA</td>\n",
              "      <td>TESLA INC</td>\n",
              "      <td>709.44000</td>\n",
              "      <td>6774422.0</td>\n",
              "      <td>0.062147</td>\n",
              "      <td>963330.0</td>\n",
              "      <td>4</td>\n",
              "      <td>30</td>\n",
              "      <td>2021</td>\n",
              "      <td>6.834248e+08</td>\n",
              "      <td>7.0</td>\n",
              "    </tr>\n",
              "    <tr>\n",
              "      <th>4325369</th>\n",
              "      <td>93436</td>\n",
              "      <td>2021-06-30</td>\n",
              "      <td>TSLA</td>\n",
              "      <td>TESLA INC</td>\n",
              "      <td>679.70001</td>\n",
              "      <td>5186813.0</td>\n",
              "      <td>0.087137</td>\n",
              "      <td>984003.0</td>\n",
              "      <td>6</td>\n",
              "      <td>30</td>\n",
              "      <td>2021</td>\n",
              "      <td>6.688268e+08</td>\n",
              "      <td>7.0</td>\n",
              "    </tr>\n",
              "    <tr>\n",
              "      <th>4325379</th>\n",
              "      <td>93436</td>\n",
              "      <td>2022-04-30</td>\n",
              "      <td>TSLA</td>\n",
              "      <td>TESLA INC</td>\n",
              "      <td>870.76001</td>\n",
              "      <td>5046142.0</td>\n",
              "      <td>-0.191945</td>\n",
              "      <td>1036010.0</td>\n",
              "      <td>4</td>\n",
              "      <td>30</td>\n",
              "      <td>2022</td>\n",
              "      <td>9.021161e+08</td>\n",
              "      <td>4.0</td>\n",
              "    </tr>\n",
              "    <tr>\n",
              "      <th>4325381</th>\n",
              "      <td>93436</td>\n",
              "      <td>2022-06-30</td>\n",
              "      <td>TSLA</td>\n",
              "      <td>TESLA INC</td>\n",
              "      <td>673.41998</td>\n",
              "      <td>6684634.0</td>\n",
              "      <td>-0.111888</td>\n",
              "      <td>1041000.0</td>\n",
              "      <td>6</td>\n",
              "      <td>30</td>\n",
              "      <td>2022</td>\n",
              "      <td>7.010302e+08</td>\n",
              "      <td>4.0</td>\n",
              "    </tr>\n",
              "  </tbody>\n",
              "</table>\n",
              "<p>423573 rows × 13 columns</p>\n",
              "</div>\n",
              "      <button class=\"colab-df-convert\" onclick=\"convertToInteractive('df-ed132f03-c092-49dd-8582-bbbfeb2fe875')\"\n",
              "              title=\"Convert this dataframe to an interactive table.\"\n",
              "              style=\"display:none;\">\n",
              "        \n",
              "  <svg xmlns=\"http://www.w3.org/2000/svg\" height=\"24px\"viewBox=\"0 0 24 24\"\n",
              "       width=\"24px\">\n",
              "    <path d=\"M0 0h24v24H0V0z\" fill=\"none\"/>\n",
              "    <path d=\"M18.56 5.44l.94 2.06.94-2.06 2.06-.94-2.06-.94-.94-2.06-.94 2.06-2.06.94zm-11 1L8.5 8.5l.94-2.06 2.06-.94-2.06-.94L8.5 2.5l-.94 2.06-2.06.94zm10 10l.94 2.06.94-2.06 2.06-.94-2.06-.94-.94-2.06-.94 2.06-2.06.94z\"/><path d=\"M17.41 7.96l-1.37-1.37c-.4-.4-.92-.59-1.43-.59-.52 0-1.04.2-1.43.59L10.3 9.45l-7.72 7.72c-.78.78-.78 2.05 0 2.83L4 21.41c.39.39.9.59 1.41.59.51 0 1.02-.2 1.41-.59l7.78-7.78 2.81-2.81c.8-.78.8-2.07 0-2.86zM5.41 20L4 18.59l7.72-7.72 1.47 1.35L5.41 20z\"/>\n",
              "  </svg>\n",
              "      </button>\n",
              "      \n",
              "  <style>\n",
              "    .colab-df-container {\n",
              "      display:flex;\n",
              "      flex-wrap:wrap;\n",
              "      gap: 12px;\n",
              "    }\n",
              "\n",
              "    .colab-df-convert {\n",
              "      background-color: #E8F0FE;\n",
              "      border: none;\n",
              "      border-radius: 50%;\n",
              "      cursor: pointer;\n",
              "      display: none;\n",
              "      fill: #1967D2;\n",
              "      height: 32px;\n",
              "      padding: 0 0 0 0;\n",
              "      width: 32px;\n",
              "    }\n",
              "\n",
              "    .colab-df-convert:hover {\n",
              "      background-color: #E2EBFA;\n",
              "      box-shadow: 0px 1px 2px rgba(60, 64, 67, 0.3), 0px 1px 3px 1px rgba(60, 64, 67, 0.15);\n",
              "      fill: #174EA6;\n",
              "    }\n",
              "\n",
              "    [theme=dark] .colab-df-convert {\n",
              "      background-color: #3B4455;\n",
              "      fill: #D2E3FC;\n",
              "    }\n",
              "\n",
              "    [theme=dark] .colab-df-convert:hover {\n",
              "      background-color: #434B5C;\n",
              "      box-shadow: 0px 1px 3px 1px rgba(0, 0, 0, 0.15);\n",
              "      filter: drop-shadow(0px 1px 2px rgba(0, 0, 0, 0.3));\n",
              "      fill: #FFFFFF;\n",
              "    }\n",
              "  </style>\n",
              "\n",
              "      <script>\n",
              "        const buttonEl =\n",
              "          document.querySelector('#df-ed132f03-c092-49dd-8582-bbbfeb2fe875 button.colab-df-convert');\n",
              "        buttonEl.style.display =\n",
              "          google.colab.kernel.accessAllowed ? 'block' : 'none';\n",
              "\n",
              "        async function convertToInteractive(key) {\n",
              "          const element = document.querySelector('#df-ed132f03-c092-49dd-8582-bbbfeb2fe875');\n",
              "          const dataTable =\n",
              "            await google.colab.kernel.invokeFunction('convertToInteractive',\n",
              "                                                     [key], {});\n",
              "          if (!dataTable) return;\n",
              "\n",
              "          const docLinkHtml = 'Like what you see? Visit the ' +\n",
              "            '<a target=\"_blank\" href=https://colab.research.google.com/notebooks/data_table.ipynb>data table notebook</a>'\n",
              "            + ' to learn more about interactive tables.';\n",
              "          element.innerHTML = '';\n",
              "          dataTable['output_type'] = 'display_data';\n",
              "          await google.colab.output.renderOutput(dataTable, element);\n",
              "          const docLink = document.createElement('div');\n",
              "          docLink.innerHTML = docLinkHtml;\n",
              "          element.appendChild(docLink);\n",
              "        }\n",
              "      </script>\n",
              "    </div>\n",
              "  </div>\n",
              "  "
            ]
          },
          "metadata": {},
          "execution_count": 6
        }
      ]
    },
    {
      "cell_type": "markdown",
      "source": [
        "#### Try it for a specific date to prove values are sorted/ranked correctly."
      ],
      "metadata": {
        "id": "uKZ1WzNY0cgR"
      }
    },
    {
      "cell_type": "code",
      "source": [
        "# Prove it works for a specific date - look at 'rank' column\n",
        "test_ranked_df = ranked_df.sort_values(by=['market_cap', 'date'], ascending = False)\n",
        "test_ranked_df = test_ranked_df.loc[(test_ranked_df['date'] == '1998-06-30')]\n",
        "test_ranked_df"
      ],
      "metadata": {
        "colab": {
          "base_uri": "https://localhost:8080/",
          "height": 467
        },
        "id": "BbYRPzgN0c-K",
        "outputId": "551ff574-67b6-47fe-bae0-d3ad333f5697"
      },
      "execution_count": 7,
      "outputs": [
        {
          "output_type": "execute_result",
          "data": {
            "text/plain": [
              "        security_id       date TICKER                COMNAM      prc  \\\n",
              "255320        12060 1998-06-30     GE   GENERAL ELECTRIC CO   90.875   \n",
              "14940         10107 1998-06-30   MSFT        MICROSOFT CORP  108.375   \n",
              "161620        11308 1998-06-30     KO          COCA COLA CO   85.500   \n",
              "230220        11850 1998-06-30    XON            EXXON CORP   71.375   \n",
              "934138        22752 1998-06-30    MRK        MERCK & CO INC  133.750   \n",
              "...             ...        ...    ...                   ...      ...   \n",
              "3155059       81331 1998-06-30  WACLY           WACOAL CORP   51.000   \n",
              "2434147       75343 1998-06-30    FAI  F A I INSURANCES LTD    5.750   \n",
              "3190671       81782 1998-06-30     TI    TELECOM ITALIA SPA   48.000   \n",
              "3292072       83336 1998-06-30    SCV     SCANIA AKTIEBOLAG   24.625   \n",
              "3514521       85777 1998-06-30     UU  UNITED UTILITIES PLC   28.500   \n",
              "\n",
              "               VOL       ret     SHROUT  month  day  year    market_cap  \\\n",
              "255320    924414.0  0.089955  3258022.0      6   30  1998  2.960727e+08   \n",
              "14940    3106879.0  0.277819  2484636.0      6   30  1998  2.692724e+08   \n",
              "161620    699553.0  0.092823  2469341.0      6   30  1998  2.111287e+08   \n",
              "230220    682701.0  0.012411  2446791.0      6   30  1998  1.746397e+08   \n",
              "934138    612706.0  0.147009  1195259.0      6   30  1998  1.598659e+08   \n",
              "...            ...       ...        ...    ...  ...   ...           ...   \n",
              "3155059       37.0  0.017456       26.0      6   30  1998  1.326000e+03   \n",
              "2434147      380.0 -0.031579      189.0      6   30  1998  1.086750e+03   \n",
              "3190671        0.0 -0.092056       19.0      6   30  1998  9.120000e+02   \n",
              "3292072        4.0 -0.017456       16.0      6   30  1998  3.940000e+02   \n",
              "3514521        3.0  0.090559        2.0      6   30  1998  5.700000e+01   \n",
              "\n",
              "           rank  \n",
              "255320      1.0  \n",
              "14940       2.0  \n",
              "161620      3.0  \n",
              "230220      4.0  \n",
              "934138      5.0  \n",
              "...         ...  \n",
              "3155059  6956.0  \n",
              "2434147  6957.0  \n",
              "3190671  6958.0  \n",
              "3292072  6959.0  \n",
              "3514521  6960.0  \n",
              "\n",
              "[6960 rows x 13 columns]"
            ],
            "text/html": [
              "\n",
              "  <div id=\"df-98aae8e8-d126-4e91-bf1d-f75008f2999b\">\n",
              "    <div class=\"colab-df-container\">\n",
              "      <div>\n",
              "<style scoped>\n",
              "    .dataframe tbody tr th:only-of-type {\n",
              "        vertical-align: middle;\n",
              "    }\n",
              "\n",
              "    .dataframe tbody tr th {\n",
              "        vertical-align: top;\n",
              "    }\n",
              "\n",
              "    .dataframe thead th {\n",
              "        text-align: right;\n",
              "    }\n",
              "</style>\n",
              "<table border=\"1\" class=\"dataframe\">\n",
              "  <thead>\n",
              "    <tr style=\"text-align: right;\">\n",
              "      <th></th>\n",
              "      <th>security_id</th>\n",
              "      <th>date</th>\n",
              "      <th>TICKER</th>\n",
              "      <th>COMNAM</th>\n",
              "      <th>prc</th>\n",
              "      <th>VOL</th>\n",
              "      <th>ret</th>\n",
              "      <th>SHROUT</th>\n",
              "      <th>month</th>\n",
              "      <th>day</th>\n",
              "      <th>year</th>\n",
              "      <th>market_cap</th>\n",
              "      <th>rank</th>\n",
              "    </tr>\n",
              "  </thead>\n",
              "  <tbody>\n",
              "    <tr>\n",
              "      <th>255320</th>\n",
              "      <td>12060</td>\n",
              "      <td>1998-06-30</td>\n",
              "      <td>GE</td>\n",
              "      <td>GENERAL ELECTRIC CO</td>\n",
              "      <td>90.875</td>\n",
              "      <td>924414.0</td>\n",
              "      <td>0.089955</td>\n",
              "      <td>3258022.0</td>\n",
              "      <td>6</td>\n",
              "      <td>30</td>\n",
              "      <td>1998</td>\n",
              "      <td>2.960727e+08</td>\n",
              "      <td>1.0</td>\n",
              "    </tr>\n",
              "    <tr>\n",
              "      <th>14940</th>\n",
              "      <td>10107</td>\n",
              "      <td>1998-06-30</td>\n",
              "      <td>MSFT</td>\n",
              "      <td>MICROSOFT CORP</td>\n",
              "      <td>108.375</td>\n",
              "      <td>3106879.0</td>\n",
              "      <td>0.277819</td>\n",
              "      <td>2484636.0</td>\n",
              "      <td>6</td>\n",
              "      <td>30</td>\n",
              "      <td>1998</td>\n",
              "      <td>2.692724e+08</td>\n",
              "      <td>2.0</td>\n",
              "    </tr>\n",
              "    <tr>\n",
              "      <th>161620</th>\n",
              "      <td>11308</td>\n",
              "      <td>1998-06-30</td>\n",
              "      <td>KO</td>\n",
              "      <td>COCA COLA CO</td>\n",
              "      <td>85.500</td>\n",
              "      <td>699553.0</td>\n",
              "      <td>0.092823</td>\n",
              "      <td>2469341.0</td>\n",
              "      <td>6</td>\n",
              "      <td>30</td>\n",
              "      <td>1998</td>\n",
              "      <td>2.111287e+08</td>\n",
              "      <td>3.0</td>\n",
              "    </tr>\n",
              "    <tr>\n",
              "      <th>230220</th>\n",
              "      <td>11850</td>\n",
              "      <td>1998-06-30</td>\n",
              "      <td>XON</td>\n",
              "      <td>EXXON CORP</td>\n",
              "      <td>71.375</td>\n",
              "      <td>682701.0</td>\n",
              "      <td>0.012411</td>\n",
              "      <td>2446791.0</td>\n",
              "      <td>6</td>\n",
              "      <td>30</td>\n",
              "      <td>1998</td>\n",
              "      <td>1.746397e+08</td>\n",
              "      <td>4.0</td>\n",
              "    </tr>\n",
              "    <tr>\n",
              "      <th>934138</th>\n",
              "      <td>22752</td>\n",
              "      <td>1998-06-30</td>\n",
              "      <td>MRK</td>\n",
              "      <td>MERCK &amp; CO INC</td>\n",
              "      <td>133.750</td>\n",
              "      <td>612706.0</td>\n",
              "      <td>0.147009</td>\n",
              "      <td>1195259.0</td>\n",
              "      <td>6</td>\n",
              "      <td>30</td>\n",
              "      <td>1998</td>\n",
              "      <td>1.598659e+08</td>\n",
              "      <td>5.0</td>\n",
              "    </tr>\n",
              "    <tr>\n",
              "      <th>...</th>\n",
              "      <td>...</td>\n",
              "      <td>...</td>\n",
              "      <td>...</td>\n",
              "      <td>...</td>\n",
              "      <td>...</td>\n",
              "      <td>...</td>\n",
              "      <td>...</td>\n",
              "      <td>...</td>\n",
              "      <td>...</td>\n",
              "      <td>...</td>\n",
              "      <td>...</td>\n",
              "      <td>...</td>\n",
              "      <td>...</td>\n",
              "    </tr>\n",
              "    <tr>\n",
              "      <th>3155059</th>\n",
              "      <td>81331</td>\n",
              "      <td>1998-06-30</td>\n",
              "      <td>WACLY</td>\n",
              "      <td>WACOAL CORP</td>\n",
              "      <td>51.000</td>\n",
              "      <td>37.0</td>\n",
              "      <td>0.017456</td>\n",
              "      <td>26.0</td>\n",
              "      <td>6</td>\n",
              "      <td>30</td>\n",
              "      <td>1998</td>\n",
              "      <td>1.326000e+03</td>\n",
              "      <td>6956.0</td>\n",
              "    </tr>\n",
              "    <tr>\n",
              "      <th>2434147</th>\n",
              "      <td>75343</td>\n",
              "      <td>1998-06-30</td>\n",
              "      <td>FAI</td>\n",
              "      <td>F A I INSURANCES LTD</td>\n",
              "      <td>5.750</td>\n",
              "      <td>380.0</td>\n",
              "      <td>-0.031579</td>\n",
              "      <td>189.0</td>\n",
              "      <td>6</td>\n",
              "      <td>30</td>\n",
              "      <td>1998</td>\n",
              "      <td>1.086750e+03</td>\n",
              "      <td>6957.0</td>\n",
              "    </tr>\n",
              "    <tr>\n",
              "      <th>3190671</th>\n",
              "      <td>81782</td>\n",
              "      <td>1998-06-30</td>\n",
              "      <td>TI</td>\n",
              "      <td>TELECOM ITALIA SPA</td>\n",
              "      <td>48.000</td>\n",
              "      <td>0.0</td>\n",
              "      <td>-0.092056</td>\n",
              "      <td>19.0</td>\n",
              "      <td>6</td>\n",
              "      <td>30</td>\n",
              "      <td>1998</td>\n",
              "      <td>9.120000e+02</td>\n",
              "      <td>6958.0</td>\n",
              "    </tr>\n",
              "    <tr>\n",
              "      <th>3292072</th>\n",
              "      <td>83336</td>\n",
              "      <td>1998-06-30</td>\n",
              "      <td>SCV</td>\n",
              "      <td>SCANIA AKTIEBOLAG</td>\n",
              "      <td>24.625</td>\n",
              "      <td>4.0</td>\n",
              "      <td>-0.017456</td>\n",
              "      <td>16.0</td>\n",
              "      <td>6</td>\n",
              "      <td>30</td>\n",
              "      <td>1998</td>\n",
              "      <td>3.940000e+02</td>\n",
              "      <td>6959.0</td>\n",
              "    </tr>\n",
              "    <tr>\n",
              "      <th>3514521</th>\n",
              "      <td>85777</td>\n",
              "      <td>1998-06-30</td>\n",
              "      <td>UU</td>\n",
              "      <td>UNITED UTILITIES PLC</td>\n",
              "      <td>28.500</td>\n",
              "      <td>3.0</td>\n",
              "      <td>0.090559</td>\n",
              "      <td>2.0</td>\n",
              "      <td>6</td>\n",
              "      <td>30</td>\n",
              "      <td>1998</td>\n",
              "      <td>5.700000e+01</td>\n",
              "      <td>6960.0</td>\n",
              "    </tr>\n",
              "  </tbody>\n",
              "</table>\n",
              "<p>6960 rows × 13 columns</p>\n",
              "</div>\n",
              "      <button class=\"colab-df-convert\" onclick=\"convertToInteractive('df-98aae8e8-d126-4e91-bf1d-f75008f2999b')\"\n",
              "              title=\"Convert this dataframe to an interactive table.\"\n",
              "              style=\"display:none;\">\n",
              "        \n",
              "  <svg xmlns=\"http://www.w3.org/2000/svg\" height=\"24px\"viewBox=\"0 0 24 24\"\n",
              "       width=\"24px\">\n",
              "    <path d=\"M0 0h24v24H0V0z\" fill=\"none\"/>\n",
              "    <path d=\"M18.56 5.44l.94 2.06.94-2.06 2.06-.94-2.06-.94-.94-2.06-.94 2.06-2.06.94zm-11 1L8.5 8.5l.94-2.06 2.06-.94-2.06-.94L8.5 2.5l-.94 2.06-2.06.94zm10 10l.94 2.06.94-2.06 2.06-.94-2.06-.94-.94-2.06-.94 2.06-2.06.94z\"/><path d=\"M17.41 7.96l-1.37-1.37c-.4-.4-.92-.59-1.43-.59-.52 0-1.04.2-1.43.59L10.3 9.45l-7.72 7.72c-.78.78-.78 2.05 0 2.83L4 21.41c.39.39.9.59 1.41.59.51 0 1.02-.2 1.41-.59l7.78-7.78 2.81-2.81c.8-.78.8-2.07 0-2.86zM5.41 20L4 18.59l7.72-7.72 1.47 1.35L5.41 20z\"/>\n",
              "  </svg>\n",
              "      </button>\n",
              "      \n",
              "  <style>\n",
              "    .colab-df-container {\n",
              "      display:flex;\n",
              "      flex-wrap:wrap;\n",
              "      gap: 12px;\n",
              "    }\n",
              "\n",
              "    .colab-df-convert {\n",
              "      background-color: #E8F0FE;\n",
              "      border: none;\n",
              "      border-radius: 50%;\n",
              "      cursor: pointer;\n",
              "      display: none;\n",
              "      fill: #1967D2;\n",
              "      height: 32px;\n",
              "      padding: 0 0 0 0;\n",
              "      width: 32px;\n",
              "    }\n",
              "\n",
              "    .colab-df-convert:hover {\n",
              "      background-color: #E2EBFA;\n",
              "      box-shadow: 0px 1px 2px rgba(60, 64, 67, 0.3), 0px 1px 3px 1px rgba(60, 64, 67, 0.15);\n",
              "      fill: #174EA6;\n",
              "    }\n",
              "\n",
              "    [theme=dark] .colab-df-convert {\n",
              "      background-color: #3B4455;\n",
              "      fill: #D2E3FC;\n",
              "    }\n",
              "\n",
              "    [theme=dark] .colab-df-convert:hover {\n",
              "      background-color: #434B5C;\n",
              "      box-shadow: 0px 1px 3px 1px rgba(0, 0, 0, 0.15);\n",
              "      filter: drop-shadow(0px 1px 2px rgba(0, 0, 0, 0.3));\n",
              "      fill: #FFFFFF;\n",
              "    }\n",
              "  </style>\n",
              "\n",
              "      <script>\n",
              "        const buttonEl =\n",
              "          document.querySelector('#df-98aae8e8-d126-4e91-bf1d-f75008f2999b button.colab-df-convert');\n",
              "        buttonEl.style.display =\n",
              "          google.colab.kernel.accessAllowed ? 'block' : 'none';\n",
              "\n",
              "        async function convertToInteractive(key) {\n",
              "          const element = document.querySelector('#df-98aae8e8-d126-4e91-bf1d-f75008f2999b');\n",
              "          const dataTable =\n",
              "            await google.colab.kernel.invokeFunction('convertToInteractive',\n",
              "                                                     [key], {});\n",
              "          if (!dataTable) return;\n",
              "\n",
              "          const docLinkHtml = 'Like what you see? Visit the ' +\n",
              "            '<a target=\"_blank\" href=https://colab.research.google.com/notebooks/data_table.ipynb>data table notebook</a>'\n",
              "            + ' to learn more about interactive tables.';\n",
              "          element.innerHTML = '';\n",
              "          dataTable['output_type'] = 'display_data';\n",
              "          await google.colab.output.renderOutput(dataTable, element);\n",
              "          const docLink = document.createElement('div');\n",
              "          docLink.innerHTML = docLinkHtml;\n",
              "          element.appendChild(docLink);\n",
              "        }\n",
              "      </script>\n",
              "    </div>\n",
              "  </div>\n",
              "  "
            ]
          },
          "metadata": {},
          "execution_count": 7
        }
      ]
    },
    {
      "cell_type": "markdown",
      "metadata": {
        "id": "KP7LDxfKvExU"
      },
      "source": [
        "#### `unique_dates` test: should return array of unique dates"
      ]
    },
    {
      "cell_type": "code",
      "execution_count": 8,
      "metadata": {
        "id": "EaDhEhfCvExU",
        "colab": {
          "base_uri": "https://localhost:8080/"
        },
        "outputId": "1e85e608-5c22-4418-c37f-6999fc2fa0f7"
      },
      "outputs": [
        {
          "output_type": "execute_result",
          "data": {
            "text/plain": [
              "0     1985-12-31\n",
              "1     1986-01-31\n",
              "2     1986-02-28\n",
              "3     1986-03-31\n",
              "4     1986-04-30\n",
              "         ...    \n",
              "440   2022-08-31\n",
              "441   2022-09-30\n",
              "442   2022-10-31\n",
              "443   2022-11-30\n",
              "444   2022-12-31\n",
              "Length: 445, dtype: datetime64[ns]"
            ]
          },
          "metadata": {},
          "execution_count": 8
        }
      ],
      "source": [
        "data_processor.unique_dates()"
      ]
    },
    {
      "cell_type": "markdown",
      "metadata": {
        "id": "J2UmAzSlvExU"
      },
      "source": [
        "#### `price_df_for_date` test: should return DataFrame with all available observations on passed date"
      ]
    },
    {
      "cell_type": "code",
      "execution_count": 9,
      "metadata": {
        "id": "oi86XVqgvExU",
        "colab": {
          "base_uri": "https://localhost:8080/",
          "height": 423
        },
        "outputId": "62c45c39-04bf-472d-ddfa-8b79cb3aae55"
      },
      "outputs": [
        {
          "output_type": "execute_result",
          "data": {
            "text/plain": [
              "        security_id       date TICKER      prc     VOL       ret  SHROUT  \\\n",
              "2             10000 1986-02-28  OMFGA   3.2500   828.0 -0.257143  3680.0   \n",
              "21            10001 1986-02-28   GFGC   6.2500  1067.0  0.020408   985.0   \n",
              "402           10002 1986-02-28   MBNC  13.2500  1351.0  0.139785  1175.0   \n",
              "729           10003 1986-02-28   GCBK  22.2500  4928.0  0.011364  1900.0   \n",
              "850           10005 1986-02-28   WERC   0.2500   147.0 -0.333333  4655.0   \n",
              "...             ...        ...    ...      ...     ...       ...     ...   \n",
              "3780604       93252 1986-02-28   YUKN   3.3125   813.0  0.060000  4280.0   \n",
              "3783961       93279 1986-02-28   ZABS   2.1250   311.0 -0.227273  7589.0   \n",
              "3784770       93287 1986-02-28   ZNTL   4.5000  4629.0  0.028571  7566.0   \n",
              "3787189       93308 1986-02-28   ZETA   6.3750  1344.0  0.186047  6000.0   \n",
              "3787907       93316 1986-02-28   ZUSC  10.3750   863.0  0.050633  2654.0   \n",
              "\n",
              "              RETX  month  year  ret_next  \n",
              "2        -0.257143      2  1986  0.365385  \n",
              "21        0.020408      2  1986  0.025200  \n",
              "402       0.139785      2  1986  0.070755  \n",
              "729       0.011364      2  1986 -0.011236  \n",
              "850      -0.333333      2  1986  0.125000  \n",
              "...            ...    ...   ...       ...  \n",
              "3780604   0.060000      2  1986 -0.056604  \n",
              "3783961  -0.227273      2  1986 -0.147059  \n",
              "3784770   0.028571      2  1986 -0.125000  \n",
              "3787189   0.186047      2  1986       NaN  \n",
              "3787907   0.050633      2  1986 -0.084337  \n",
              "\n",
              "[6233 rows x 11 columns]"
            ],
            "text/html": [
              "\n",
              "  <div id=\"df-d525c74d-9bed-4dca-b1ff-db890843fe45\">\n",
              "    <div class=\"colab-df-container\">\n",
              "      <div>\n",
              "<style scoped>\n",
              "    .dataframe tbody tr th:only-of-type {\n",
              "        vertical-align: middle;\n",
              "    }\n",
              "\n",
              "    .dataframe tbody tr th {\n",
              "        vertical-align: top;\n",
              "    }\n",
              "\n",
              "    .dataframe thead th {\n",
              "        text-align: right;\n",
              "    }\n",
              "</style>\n",
              "<table border=\"1\" class=\"dataframe\">\n",
              "  <thead>\n",
              "    <tr style=\"text-align: right;\">\n",
              "      <th></th>\n",
              "      <th>security_id</th>\n",
              "      <th>date</th>\n",
              "      <th>TICKER</th>\n",
              "      <th>prc</th>\n",
              "      <th>VOL</th>\n",
              "      <th>ret</th>\n",
              "      <th>SHROUT</th>\n",
              "      <th>RETX</th>\n",
              "      <th>month</th>\n",
              "      <th>year</th>\n",
              "      <th>ret_next</th>\n",
              "    </tr>\n",
              "  </thead>\n",
              "  <tbody>\n",
              "    <tr>\n",
              "      <th>2</th>\n",
              "      <td>10000</td>\n",
              "      <td>1986-02-28</td>\n",
              "      <td>OMFGA</td>\n",
              "      <td>3.2500</td>\n",
              "      <td>828.0</td>\n",
              "      <td>-0.257143</td>\n",
              "      <td>3680.0</td>\n",
              "      <td>-0.257143</td>\n",
              "      <td>2</td>\n",
              "      <td>1986</td>\n",
              "      <td>0.365385</td>\n",
              "    </tr>\n",
              "    <tr>\n",
              "      <th>21</th>\n",
              "      <td>10001</td>\n",
              "      <td>1986-02-28</td>\n",
              "      <td>GFGC</td>\n",
              "      <td>6.2500</td>\n",
              "      <td>1067.0</td>\n",
              "      <td>0.020408</td>\n",
              "      <td>985.0</td>\n",
              "      <td>0.020408</td>\n",
              "      <td>2</td>\n",
              "      <td>1986</td>\n",
              "      <td>0.025200</td>\n",
              "    </tr>\n",
              "    <tr>\n",
              "      <th>402</th>\n",
              "      <td>10002</td>\n",
              "      <td>1986-02-28</td>\n",
              "      <td>MBNC</td>\n",
              "      <td>13.2500</td>\n",
              "      <td>1351.0</td>\n",
              "      <td>0.139785</td>\n",
              "      <td>1175.0</td>\n",
              "      <td>0.139785</td>\n",
              "      <td>2</td>\n",
              "      <td>1986</td>\n",
              "      <td>0.070755</td>\n",
              "    </tr>\n",
              "    <tr>\n",
              "      <th>729</th>\n",
              "      <td>10003</td>\n",
              "      <td>1986-02-28</td>\n",
              "      <td>GCBK</td>\n",
              "      <td>22.2500</td>\n",
              "      <td>4928.0</td>\n",
              "      <td>0.011364</td>\n",
              "      <td>1900.0</td>\n",
              "      <td>0.011364</td>\n",
              "      <td>2</td>\n",
              "      <td>1986</td>\n",
              "      <td>-0.011236</td>\n",
              "    </tr>\n",
              "    <tr>\n",
              "      <th>850</th>\n",
              "      <td>10005</td>\n",
              "      <td>1986-02-28</td>\n",
              "      <td>WERC</td>\n",
              "      <td>0.2500</td>\n",
              "      <td>147.0</td>\n",
              "      <td>-0.333333</td>\n",
              "      <td>4655.0</td>\n",
              "      <td>-0.333333</td>\n",
              "      <td>2</td>\n",
              "      <td>1986</td>\n",
              "      <td>0.125000</td>\n",
              "    </tr>\n",
              "    <tr>\n",
              "      <th>...</th>\n",
              "      <td>...</td>\n",
              "      <td>...</td>\n",
              "      <td>...</td>\n",
              "      <td>...</td>\n",
              "      <td>...</td>\n",
              "      <td>...</td>\n",
              "      <td>...</td>\n",
              "      <td>...</td>\n",
              "      <td>...</td>\n",
              "      <td>...</td>\n",
              "      <td>...</td>\n",
              "    </tr>\n",
              "    <tr>\n",
              "      <th>3780604</th>\n",
              "      <td>93252</td>\n",
              "      <td>1986-02-28</td>\n",
              "      <td>YUKN</td>\n",
              "      <td>3.3125</td>\n",
              "      <td>813.0</td>\n",
              "      <td>0.060000</td>\n",
              "      <td>4280.0</td>\n",
              "      <td>0.060000</td>\n",
              "      <td>2</td>\n",
              "      <td>1986</td>\n",
              "      <td>-0.056604</td>\n",
              "    </tr>\n",
              "    <tr>\n",
              "      <th>3783961</th>\n",
              "      <td>93279</td>\n",
              "      <td>1986-02-28</td>\n",
              "      <td>ZABS</td>\n",
              "      <td>2.1250</td>\n",
              "      <td>311.0</td>\n",
              "      <td>-0.227273</td>\n",
              "      <td>7589.0</td>\n",
              "      <td>-0.227273</td>\n",
              "      <td>2</td>\n",
              "      <td>1986</td>\n",
              "      <td>-0.147059</td>\n",
              "    </tr>\n",
              "    <tr>\n",
              "      <th>3784770</th>\n",
              "      <td>93287</td>\n",
              "      <td>1986-02-28</td>\n",
              "      <td>ZNTL</td>\n",
              "      <td>4.5000</td>\n",
              "      <td>4629.0</td>\n",
              "      <td>0.028571</td>\n",
              "      <td>7566.0</td>\n",
              "      <td>0.028571</td>\n",
              "      <td>2</td>\n",
              "      <td>1986</td>\n",
              "      <td>-0.125000</td>\n",
              "    </tr>\n",
              "    <tr>\n",
              "      <th>3787189</th>\n",
              "      <td>93308</td>\n",
              "      <td>1986-02-28</td>\n",
              "      <td>ZETA</td>\n",
              "      <td>6.3750</td>\n",
              "      <td>1344.0</td>\n",
              "      <td>0.186047</td>\n",
              "      <td>6000.0</td>\n",
              "      <td>0.186047</td>\n",
              "      <td>2</td>\n",
              "      <td>1986</td>\n",
              "      <td>NaN</td>\n",
              "    </tr>\n",
              "    <tr>\n",
              "      <th>3787907</th>\n",
              "      <td>93316</td>\n",
              "      <td>1986-02-28</td>\n",
              "      <td>ZUSC</td>\n",
              "      <td>10.3750</td>\n",
              "      <td>863.0</td>\n",
              "      <td>0.050633</td>\n",
              "      <td>2654.0</td>\n",
              "      <td>0.050633</td>\n",
              "      <td>2</td>\n",
              "      <td>1986</td>\n",
              "      <td>-0.084337</td>\n",
              "    </tr>\n",
              "  </tbody>\n",
              "</table>\n",
              "<p>6233 rows × 11 columns</p>\n",
              "</div>\n",
              "      <button class=\"colab-df-convert\" onclick=\"convertToInteractive('df-d525c74d-9bed-4dca-b1ff-db890843fe45')\"\n",
              "              title=\"Convert this dataframe to an interactive table.\"\n",
              "              style=\"display:none;\">\n",
              "        \n",
              "  <svg xmlns=\"http://www.w3.org/2000/svg\" height=\"24px\"viewBox=\"0 0 24 24\"\n",
              "       width=\"24px\">\n",
              "    <path d=\"M0 0h24v24H0V0z\" fill=\"none\"/>\n",
              "    <path d=\"M18.56 5.44l.94 2.06.94-2.06 2.06-.94-2.06-.94-.94-2.06-.94 2.06-2.06.94zm-11 1L8.5 8.5l.94-2.06 2.06-.94-2.06-.94L8.5 2.5l-.94 2.06-2.06.94zm10 10l.94 2.06.94-2.06 2.06-.94-2.06-.94-.94-2.06-.94 2.06-2.06.94z\"/><path d=\"M17.41 7.96l-1.37-1.37c-.4-.4-.92-.59-1.43-.59-.52 0-1.04.2-1.43.59L10.3 9.45l-7.72 7.72c-.78.78-.78 2.05 0 2.83L4 21.41c.39.39.9.59 1.41.59.51 0 1.02-.2 1.41-.59l7.78-7.78 2.81-2.81c.8-.78.8-2.07 0-2.86zM5.41 20L4 18.59l7.72-7.72 1.47 1.35L5.41 20z\"/>\n",
              "  </svg>\n",
              "      </button>\n",
              "      \n",
              "  <style>\n",
              "    .colab-df-container {\n",
              "      display:flex;\n",
              "      flex-wrap:wrap;\n",
              "      gap: 12px;\n",
              "    }\n",
              "\n",
              "    .colab-df-convert {\n",
              "      background-color: #E8F0FE;\n",
              "      border: none;\n",
              "      border-radius: 50%;\n",
              "      cursor: pointer;\n",
              "      display: none;\n",
              "      fill: #1967D2;\n",
              "      height: 32px;\n",
              "      padding: 0 0 0 0;\n",
              "      width: 32px;\n",
              "    }\n",
              "\n",
              "    .colab-df-convert:hover {\n",
              "      background-color: #E2EBFA;\n",
              "      box-shadow: 0px 1px 2px rgba(60, 64, 67, 0.3), 0px 1px 3px 1px rgba(60, 64, 67, 0.15);\n",
              "      fill: #174EA6;\n",
              "    }\n",
              "\n",
              "    [theme=dark] .colab-df-convert {\n",
              "      background-color: #3B4455;\n",
              "      fill: #D2E3FC;\n",
              "    }\n",
              "\n",
              "    [theme=dark] .colab-df-convert:hover {\n",
              "      background-color: #434B5C;\n",
              "      box-shadow: 0px 1px 3px 1px rgba(0, 0, 0, 0.15);\n",
              "      filter: drop-shadow(0px 1px 2px rgba(0, 0, 0, 0.3));\n",
              "      fill: #FFFFFF;\n",
              "    }\n",
              "  </style>\n",
              "\n",
              "      <script>\n",
              "        const buttonEl =\n",
              "          document.querySelector('#df-d525c74d-9bed-4dca-b1ff-db890843fe45 button.colab-df-convert');\n",
              "        buttonEl.style.display =\n",
              "          google.colab.kernel.accessAllowed ? 'block' : 'none';\n",
              "\n",
              "        async function convertToInteractive(key) {\n",
              "          const element = document.querySelector('#df-d525c74d-9bed-4dca-b1ff-db890843fe45');\n",
              "          const dataTable =\n",
              "            await google.colab.kernel.invokeFunction('convertToInteractive',\n",
              "                                                     [key], {});\n",
              "          if (!dataTable) return;\n",
              "\n",
              "          const docLinkHtml = 'Like what you see? Visit the ' +\n",
              "            '<a target=\"_blank\" href=https://colab.research.google.com/notebooks/data_table.ipynb>data table notebook</a>'\n",
              "            + ' to learn more about interactive tables.';\n",
              "          element.innerHTML = '';\n",
              "          dataTable['output_type'] = 'display_data';\n",
              "          await google.colab.output.renderOutput(dataTable, element);\n",
              "          const docLink = document.createElement('div');\n",
              "          docLink.innerHTML = docLinkHtml;\n",
              "          element.appendChild(docLink);\n",
              "        }\n",
              "      </script>\n",
              "    </div>\n",
              "  </div>\n",
              "  "
            ]
          },
          "metadata": {},
          "execution_count": 9
        }
      ],
      "source": [
        "unique_dates = data_processor.unique_dates()\n",
        "test_date = unique_dates[60]\n",
        "\n",
        "test_price_df = data_processor.price_df_for_date(2, 1986)\n",
        "test_price_df"
      ]
    },
    {
      "cell_type": "markdown",
      "metadata": {
        "id": "rQ4_jPhsvExV"
      },
      "source": [
        "#### `signal_df_for_date` test: should return DataFrame with most recent observations meeting liquidity requirements on passed date"
      ]
    },
    {
      "cell_type": "code",
      "execution_count": 10,
      "metadata": {
        "id": "MjjQQLEPvExV",
        "colab": {
          "base_uri": "https://localhost:8080/",
          "height": 510
        },
        "outputId": "80ea4281-b493-474d-d713-bd01f6aeec58"
      },
      "outputs": [
        {
          "output_type": "stream",
          "name": "stderr",
          "text": [
            "<ipython-input-4-1a4207ecade5>:114: SettingWithCopyWarning: \n",
            "A value is trying to be set on a copy of a slice from a DataFrame\n",
            "\n",
            "See the caveats in the documentation: https://pandas.pydata.org/pandas-docs/stable/user_guide/indexing.html#returning-a-view-versus-a-copy\n",
            "  date_price_df.rename(columns={'PERMNO':'security_id', 'PRC': 'prc', 'RET': 'ret'}, inplace=True)  # use permno as our security_id\n"
          ]
        },
        {
          "output_type": "execute_result",
          "data": {
            "text/plain": [
              "        security_id       date TICKER       prc     VOL       ret   SHROUT  \\\n",
              "79            10001 1990-12-31   GFGC   9.50000   106.0  0.001299   1054.0   \n",
              "460           10002 1990-12-31   MBNC   5.00000   225.0 -0.069767   1175.0   \n",
              "787           10003 1990-12-31   GCBK   2.50000  1976.0 -0.230769   2194.0   \n",
              "908           10005 1990-12-31   WERC   0.04688  1272.0  0.000000   8347.0   \n",
              "1125          10009 1990-12-31   IROQ   6.75000   116.0  0.038462    941.0   \n",
              "...             ...        ...    ...       ...     ...       ...      ...   \n",
              "3771795       93156 1990-12-31   WHLS  20.50000  7243.0  0.012346   7856.0   \n",
              "3778160       93220 1990-12-31   XLDC   6.50000  9283.0 -0.103448  11707.0   \n",
              "3779416       93236 1990-12-31    XYX  11.25000  2255.0 -0.174312   3221.0   \n",
              "3780662       93252 1990-12-31   YUKN   1.31250   682.0 -0.192308   4662.0   \n",
              "3787965       93316 1990-12-31   ZEUS   1.68750   539.0  0.000000   2696.0   \n",
              "\n",
              "              RETX  month  year  ret_next  \n",
              "79       -0.012987     12  1990  0.013158  \n",
              "460      -0.069767     12  1990 -0.025000  \n",
              "787      -0.230769     12  1990  0.050000  \n",
              "908       0.000000     12  1990  0.666667  \n",
              "1125      0.038462     12  1990 -0.018519  \n",
              "...            ...    ...   ...       ...  \n",
              "3771795   0.012346     12  1990  0.067073  \n",
              "3778160  -0.103448     12  1990  0.269231  \n",
              "3779416  -0.174312     12  1990  0.177778  \n",
              "3780662  -0.192308     12  1990  0.047619  \n",
              "3787965   0.000000     12  1990  0.222222  \n",
              "\n",
              "[6680 rows x 11 columns]"
            ],
            "text/html": [
              "\n",
              "  <div id=\"df-305ad236-02f8-4640-94b9-eddc3ca2b6a2\">\n",
              "    <div class=\"colab-df-container\">\n",
              "      <div>\n",
              "<style scoped>\n",
              "    .dataframe tbody tr th:only-of-type {\n",
              "        vertical-align: middle;\n",
              "    }\n",
              "\n",
              "    .dataframe tbody tr th {\n",
              "        vertical-align: top;\n",
              "    }\n",
              "\n",
              "    .dataframe thead th {\n",
              "        text-align: right;\n",
              "    }\n",
              "</style>\n",
              "<table border=\"1\" class=\"dataframe\">\n",
              "  <thead>\n",
              "    <tr style=\"text-align: right;\">\n",
              "      <th></th>\n",
              "      <th>security_id</th>\n",
              "      <th>date</th>\n",
              "      <th>TICKER</th>\n",
              "      <th>prc</th>\n",
              "      <th>VOL</th>\n",
              "      <th>ret</th>\n",
              "      <th>SHROUT</th>\n",
              "      <th>RETX</th>\n",
              "      <th>month</th>\n",
              "      <th>year</th>\n",
              "      <th>ret_next</th>\n",
              "    </tr>\n",
              "  </thead>\n",
              "  <tbody>\n",
              "    <tr>\n",
              "      <th>79</th>\n",
              "      <td>10001</td>\n",
              "      <td>1990-12-31</td>\n",
              "      <td>GFGC</td>\n",
              "      <td>9.50000</td>\n",
              "      <td>106.0</td>\n",
              "      <td>0.001299</td>\n",
              "      <td>1054.0</td>\n",
              "      <td>-0.012987</td>\n",
              "      <td>12</td>\n",
              "      <td>1990</td>\n",
              "      <td>0.013158</td>\n",
              "    </tr>\n",
              "    <tr>\n",
              "      <th>460</th>\n",
              "      <td>10002</td>\n",
              "      <td>1990-12-31</td>\n",
              "      <td>MBNC</td>\n",
              "      <td>5.00000</td>\n",
              "      <td>225.0</td>\n",
              "      <td>-0.069767</td>\n",
              "      <td>1175.0</td>\n",
              "      <td>-0.069767</td>\n",
              "      <td>12</td>\n",
              "      <td>1990</td>\n",
              "      <td>-0.025000</td>\n",
              "    </tr>\n",
              "    <tr>\n",
              "      <th>787</th>\n",
              "      <td>10003</td>\n",
              "      <td>1990-12-31</td>\n",
              "      <td>GCBK</td>\n",
              "      <td>2.50000</td>\n",
              "      <td>1976.0</td>\n",
              "      <td>-0.230769</td>\n",
              "      <td>2194.0</td>\n",
              "      <td>-0.230769</td>\n",
              "      <td>12</td>\n",
              "      <td>1990</td>\n",
              "      <td>0.050000</td>\n",
              "    </tr>\n",
              "    <tr>\n",
              "      <th>908</th>\n",
              "      <td>10005</td>\n",
              "      <td>1990-12-31</td>\n",
              "      <td>WERC</td>\n",
              "      <td>0.04688</td>\n",
              "      <td>1272.0</td>\n",
              "      <td>0.000000</td>\n",
              "      <td>8347.0</td>\n",
              "      <td>0.000000</td>\n",
              "      <td>12</td>\n",
              "      <td>1990</td>\n",
              "      <td>0.666667</td>\n",
              "    </tr>\n",
              "    <tr>\n",
              "      <th>1125</th>\n",
              "      <td>10009</td>\n",
              "      <td>1990-12-31</td>\n",
              "      <td>IROQ</td>\n",
              "      <td>6.75000</td>\n",
              "      <td>116.0</td>\n",
              "      <td>0.038462</td>\n",
              "      <td>941.0</td>\n",
              "      <td>0.038462</td>\n",
              "      <td>12</td>\n",
              "      <td>1990</td>\n",
              "      <td>-0.018519</td>\n",
              "    </tr>\n",
              "    <tr>\n",
              "      <th>...</th>\n",
              "      <td>...</td>\n",
              "      <td>...</td>\n",
              "      <td>...</td>\n",
              "      <td>...</td>\n",
              "      <td>...</td>\n",
              "      <td>...</td>\n",
              "      <td>...</td>\n",
              "      <td>...</td>\n",
              "      <td>...</td>\n",
              "      <td>...</td>\n",
              "      <td>...</td>\n",
              "    </tr>\n",
              "    <tr>\n",
              "      <th>3771795</th>\n",
              "      <td>93156</td>\n",
              "      <td>1990-12-31</td>\n",
              "      <td>WHLS</td>\n",
              "      <td>20.50000</td>\n",
              "      <td>7243.0</td>\n",
              "      <td>0.012346</td>\n",
              "      <td>7856.0</td>\n",
              "      <td>0.012346</td>\n",
              "      <td>12</td>\n",
              "      <td>1990</td>\n",
              "      <td>0.067073</td>\n",
              "    </tr>\n",
              "    <tr>\n",
              "      <th>3778160</th>\n",
              "      <td>93220</td>\n",
              "      <td>1990-12-31</td>\n",
              "      <td>XLDC</td>\n",
              "      <td>6.50000</td>\n",
              "      <td>9283.0</td>\n",
              "      <td>-0.103448</td>\n",
              "      <td>11707.0</td>\n",
              "      <td>-0.103448</td>\n",
              "      <td>12</td>\n",
              "      <td>1990</td>\n",
              "      <td>0.269231</td>\n",
              "    </tr>\n",
              "    <tr>\n",
              "      <th>3779416</th>\n",
              "      <td>93236</td>\n",
              "      <td>1990-12-31</td>\n",
              "      <td>XYX</td>\n",
              "      <td>11.25000</td>\n",
              "      <td>2255.0</td>\n",
              "      <td>-0.174312</td>\n",
              "      <td>3221.0</td>\n",
              "      <td>-0.174312</td>\n",
              "      <td>12</td>\n",
              "      <td>1990</td>\n",
              "      <td>0.177778</td>\n",
              "    </tr>\n",
              "    <tr>\n",
              "      <th>3780662</th>\n",
              "      <td>93252</td>\n",
              "      <td>1990-12-31</td>\n",
              "      <td>YUKN</td>\n",
              "      <td>1.31250</td>\n",
              "      <td>682.0</td>\n",
              "      <td>-0.192308</td>\n",
              "      <td>4662.0</td>\n",
              "      <td>-0.192308</td>\n",
              "      <td>12</td>\n",
              "      <td>1990</td>\n",
              "      <td>0.047619</td>\n",
              "    </tr>\n",
              "    <tr>\n",
              "      <th>3787965</th>\n",
              "      <td>93316</td>\n",
              "      <td>1990-12-31</td>\n",
              "      <td>ZEUS</td>\n",
              "      <td>1.68750</td>\n",
              "      <td>539.0</td>\n",
              "      <td>0.000000</td>\n",
              "      <td>2696.0</td>\n",
              "      <td>0.000000</td>\n",
              "      <td>12</td>\n",
              "      <td>1990</td>\n",
              "      <td>0.222222</td>\n",
              "    </tr>\n",
              "  </tbody>\n",
              "</table>\n",
              "<p>6680 rows × 11 columns</p>\n",
              "</div>\n",
              "      <button class=\"colab-df-convert\" onclick=\"convertToInteractive('df-305ad236-02f8-4640-94b9-eddc3ca2b6a2')\"\n",
              "              title=\"Convert this dataframe to an interactive table.\"\n",
              "              style=\"display:none;\">\n",
              "        \n",
              "  <svg xmlns=\"http://www.w3.org/2000/svg\" height=\"24px\"viewBox=\"0 0 24 24\"\n",
              "       width=\"24px\">\n",
              "    <path d=\"M0 0h24v24H0V0z\" fill=\"none\"/>\n",
              "    <path d=\"M18.56 5.44l.94 2.06.94-2.06 2.06-.94-2.06-.94-.94-2.06-.94 2.06-2.06.94zm-11 1L8.5 8.5l.94-2.06 2.06-.94-2.06-.94L8.5 2.5l-.94 2.06-2.06.94zm10 10l.94 2.06.94-2.06 2.06-.94-2.06-.94-.94-2.06-.94 2.06-2.06.94z\"/><path d=\"M17.41 7.96l-1.37-1.37c-.4-.4-.92-.59-1.43-.59-.52 0-1.04.2-1.43.59L10.3 9.45l-7.72 7.72c-.78.78-.78 2.05 0 2.83L4 21.41c.39.39.9.59 1.41.59.51 0 1.02-.2 1.41-.59l7.78-7.78 2.81-2.81c.8-.78.8-2.07 0-2.86zM5.41 20L4 18.59l7.72-7.72 1.47 1.35L5.41 20z\"/>\n",
              "  </svg>\n",
              "      </button>\n",
              "      \n",
              "  <style>\n",
              "    .colab-df-container {\n",
              "      display:flex;\n",
              "      flex-wrap:wrap;\n",
              "      gap: 12px;\n",
              "    }\n",
              "\n",
              "    .colab-df-convert {\n",
              "      background-color: #E8F0FE;\n",
              "      border: none;\n",
              "      border-radius: 50%;\n",
              "      cursor: pointer;\n",
              "      display: none;\n",
              "      fill: #1967D2;\n",
              "      height: 32px;\n",
              "      padding: 0 0 0 0;\n",
              "      width: 32px;\n",
              "    }\n",
              "\n",
              "    .colab-df-convert:hover {\n",
              "      background-color: #E2EBFA;\n",
              "      box-shadow: 0px 1px 2px rgba(60, 64, 67, 0.3), 0px 1px 3px 1px rgba(60, 64, 67, 0.15);\n",
              "      fill: #174EA6;\n",
              "    }\n",
              "\n",
              "    [theme=dark] .colab-df-convert {\n",
              "      background-color: #3B4455;\n",
              "      fill: #D2E3FC;\n",
              "    }\n",
              "\n",
              "    [theme=dark] .colab-df-convert:hover {\n",
              "      background-color: #434B5C;\n",
              "      box-shadow: 0px 1px 3px 1px rgba(0, 0, 0, 0.15);\n",
              "      filter: drop-shadow(0px 1px 2px rgba(0, 0, 0, 0.3));\n",
              "      fill: #FFFFFF;\n",
              "    }\n",
              "  </style>\n",
              "\n",
              "      <script>\n",
              "        const buttonEl =\n",
              "          document.querySelector('#df-305ad236-02f8-4640-94b9-eddc3ca2b6a2 button.colab-df-convert');\n",
              "        buttonEl.style.display =\n",
              "          google.colab.kernel.accessAllowed ? 'block' : 'none';\n",
              "\n",
              "        async function convertToInteractive(key) {\n",
              "          const element = document.querySelector('#df-305ad236-02f8-4640-94b9-eddc3ca2b6a2');\n",
              "          const dataTable =\n",
              "            await google.colab.kernel.invokeFunction('convertToInteractive',\n",
              "                                                     [key], {});\n",
              "          if (!dataTable) return;\n",
              "\n",
              "          const docLinkHtml = 'Like what you see? Visit the ' +\n",
              "            '<a target=\"_blank\" href=https://colab.research.google.com/notebooks/data_table.ipynb>data table notebook</a>'\n",
              "            + ' to learn more about interactive tables.';\n",
              "          element.innerHTML = '';\n",
              "          dataTable['output_type'] = 'display_data';\n",
              "          await google.colab.output.renderOutput(dataTable, element);\n",
              "          const docLink = document.createElement('div');\n",
              "          docLink.innerHTML = docLinkHtml;\n",
              "          element.appendChild(docLink);\n",
              "        }\n",
              "      </script>\n",
              "    </div>\n",
              "  </div>\n",
              "  "
            ]
          },
          "metadata": {},
          "execution_count": 10
        }
      ],
      "source": [
        "test_signal_df = data_processor.signal_df_for_date(test_date)\n",
        "test_signal_df"
      ]
    },
    {
      "cell_type": "markdown",
      "metadata": {
        "id": "2nAhAy-3H8wX"
      },
      "source": [
        "## Need to build our enter exit signals based on the market cap weights.\n",
        "For Russell 2000: enter signal means market cap was outside of (1001-3000) and is now inside, exit signal means market cap was inside (1001-3000) and is now outside"
      ]
    },
    {
      "cell_type": "code",
      "source": [
        "def index_enter(df, trade_date):\n",
        "    trade_date = pd.to_datetime(trade_date)\n",
        "    rebalance_date =  trade_date - pd.DateOffset(years=1) + pd.DateOffset(months=2)\n",
        "    future_date = trade_date + pd.DateOffset(years=1)\n",
        "    wanted_dates = [trade_date, future_date,rebalance_date]\n",
        "    df = df[df['date'].isin(wanted_dates)]\n",
        "\n",
        "    last_rebalance_df = df.loc[df['date'] == rebalance_date]\n",
        "    future_valid_names = list(df.loc[df['date'] == future_date]['security_id'])\n",
        "    prediction_df = df.loc[df['date'] == trade_date]\n",
        "    # Make sure we only check ones that we can potentially close on the future date\n",
        "    prediction_df = prediction_df[prediction_df['security_id'].isin(future_valid_names)]\n",
        "    # Filter last_rebalance_df by ones that are outside of 3000 ranking\n",
        "    last_rebalance_names = list(last_rebalance_df[last_rebalance_df['rank'] > 3000]['security_id'])\n",
        "    # Filter prediction_df by ones that are inside the 1001-3000 ranking\n",
        "    prediction_df = prediction_df[(prediction_df['rank']>1000) & (prediction_df['rank']<3001)]\n",
        "    prediction_df = prediction_df[prediction_df['security_id'].isin(last_rebalance_names)]\n",
        "    \n",
        "    # return prediction_df.nsmallest(20, 'rank')\n",
        "    return prediction_df\n",
        "\n",
        "def index_exit(df, trade_date): \n",
        "    trade_date = pd.to_datetime(trade_date)\n",
        "    rebalance_date =  trade_date - pd.DateOffset(years=1) + pd.DateOffset(months=2)\n",
        "    future_date = trade_date + pd.DateOffset(years=1)\n",
        "    wanted_dates = [trade_date, future_date,rebalance_date]\n",
        "    df = df[df['date'].isin(wanted_dates)]\n",
        "\n",
        "    last_rebalance_df = df.loc[df['date'] == rebalance_date]\n",
        "    future_valid_names = list(df.loc[df['date'] == future_date]['security_id'])\n",
        "    prediction_df = df.loc[df['date'] == trade_date]\n",
        "    # Make sure we only check ones that we can potentially close on the future date\n",
        "    prediction_df = prediction_df[prediction_df['security_id'].isin(future_valid_names)]\n",
        "    # Filter last_rebalance_df by ones that are inside of 1001-3000 ranking\n",
        "    last_rebalance_names = list(last_rebalance_df[(last_rebalance_df['rank']>1000) & (last_rebalance_df['rank']<3001)]['security_id'])\n",
        "    # Filter prediction_df by ones that are outside the 3000 ranking\n",
        "    prediction_df = prediction_df[prediction_df['rank'] > 3000]\n",
        "    prediction_df = prediction_df[prediction_df['security_id'].isin(last_rebalance_names)]\n",
        "    \n",
        "    # return prediction_df.nlargest(20, 'rank')\n",
        "    return prediction_df"
      ],
      "metadata": {
        "id": "8VTw3a3EQ8rB"
      },
      "execution_count": 21,
      "outputs": []
    },
    {
      "cell_type": "markdown",
      "metadata": {
        "id": "0nteopbPvExV"
      },
      "source": [
        "## Create a ProfTradingRule"
      ]
    },
    {
      "cell_type": "markdown",
      "metadata": {
        "id": "RG3cvToWvExV"
      },
      "source": [
        "This strategy should long stocks that are projected to enter the index and short stocks projected to exit the index, and use equal weighting"
      ]
    },
    {
      "cell_type": "code",
      "execution_count": 23,
      "metadata": {
        "id": "gS-LOq1HvExW"
      },
      "outputs": [],
      "source": [
        "# Solution\n",
        "class IRTradingRule():\n",
        "    # strategy: always long top 10% by B/M and short bottom 10% by B/M, equal-weighted or value-weighted\n",
        "    # For each $1 NAV, we open $1 total of long positions AND $1 total of short positions\n",
        "    # This would be the max leverage allowed given 50% margin requirements\n",
        "    #\n",
        "    # Assume 100% of portfolio liquidated each month and repurchased with new quantities\n",
        "    \n",
        "    # strategy-specifc columns for trades_df (variables we want to keep track of for subsequent analysis)\n",
        "    # usually the variables that led the strategy to open trade in the first place\n",
        "    # In this case, just gross profitability ratio 'gp'\n",
        "    strategy_specific_trades_df_columns = {'ir': pd.Series([], dtype='float')} \n",
        "    \n",
        "    # minumum number of stocks with available ir for us to actually trade\n",
        "    min_stocks_available = 5\n",
        "    \n",
        "    # value weighted?\n",
        "    value_weighted = False\n",
        "    \n",
        "    def __init__(self,portfolio_db):\n",
        "        self.portfolio_db = portfolio_db\n",
        "    \n",
        "    # Regardless of the strategy you are implementing, this method must return\n",
        "    # open_trades_df, close_trades_df\n",
        "    #\n",
        "    # open_trades_df is a DataFrame with all the required trades_df columns plus any custom ones for this strategy\n",
        "    #     each row is a new trade the strategy wants to open\n",
        "    #     method only populates the security_id (index) and quantity required columns, plus any custom columns. Rest remain NaN to be populated elsewhere\n",
        "    # close_trades_df is a DataFrame that is a subset of the rows of portfolio_db.trades_df\n",
        "    #     each row is an exist trade the strategy wants to close\n",
        "    #     we don't need to populate any columns in this function\n",
        "    def compute_trades(self,signal_df, date):                \n",
        "        # Since we are doing 100% turnover each period, all currently open trades should be closed\n",
        "        close_trades_df = self.portfolio_db.trades_df.loc[ self.portfolio_db.trades_df.loc[:,'close_datetime'].isna() ,: ].copy()\n",
        "        # print(\"CLOSE TRADES LENGTH: \", len(close_trades_df))\n",
        "        # before deciding to open new positions, check that signal_df gives us a big enough set of stocks to actually do this\n",
        "        if( len(signal_df) < self.min_stocks_available ):\n",
        "            return self.empty_trades_df(), close_trades_df       \n",
        "        \n",
        "        # As our gross profitability measure, we'll use annual revenue (REVT), minus annual cost of goods sold (COGS), scaled by prior-year book value of assets (AT)        \n",
        "        # signal_df.loc[:,'gp'] = (signal_df.loc[:,'revt'] - signal_df.loc[:, 'cogs']) / (signal_df.loc[:,'lag_at'])        \n",
        "        # You shouldn't have to change anything below here if you are doing a decile strategy    \n",
        "            \n",
        "        # Find top 10% of signal column      \n",
        "        # need to make a copy because we are going to modify this and don't want to affect signal_df\n",
        "        \n",
        "        ## Can just switch these if want to try the reverse strategy\n",
        "        buys_df = index_enter(signal_df, date)\n",
        "        # Find bottom 10% of signal column\n",
        "        # need to make a copy because we are going to modify this and don't want to affect signal_df\n",
        "        sells_df = index_exit(signal_df, date)\n",
        "\n",
        "        if( self.value_weighted ): \n",
        "            # Compute value weights\n",
        "            buys_mktcap = buys_df.loc[:,'prc']*buys_df.loc[:,'shrout']\n",
        "            buys_w = buys_mktcap / buys_mktcap.sum()\n",
        "            sells_mktcap = sells_df.loc[:,'prc']*sells_df.loc[:,'shrout']\n",
        "            sells_w = -sells_mktcap / sells_mktcap.sum() # weights negative because we are selling\n",
        "            \n",
        "            # Dollars per position equal total NAV * buys_w and NAV * sells_w, respectively\n",
        "            buys_dollar = self.portfolio_db.current_nav() * buys_w\n",
        "            buys_df.loc[:,'quantity'] = buys_dollar / buys_df.loc[:,'prc']\n",
        "            sells_dollar = self.portfolio_db.current_nav() * sells_w\n",
        "            sells_df.loc[:,'quantity'] = sells_dollar / sells_df.loc[:,'prc']             \n",
        "                        \n",
        "        else:\n",
        "            # With equal weights we can go directly to dollars per buy/sell\n",
        "            # Which is just NAV / number of positions\n",
        "            dollars_per_buy = self.portfolio_db.current_nav() / len(buys_df)\n",
        "            buys_df['quantity'] = dollars_per_buy / buys_df['prc']\n",
        "      \n",
        "            # figure out quantity per trade by splitting $ evenly\n",
        "            dollars_per_sell = -self.portfolio_db.current_nav() / len(sells_df) # negative because we are selling\n",
        "            sells_df['quantity'] = dollars_per_sell / sells_df['prc'] \n",
        "        \n",
        "        # now make open_trades_df, keeping only security_id, quantity, and signal_col_name from the buys_df and sells_df\n",
        "        \n",
        "        # Append is going to be deprecated, so I'm relacing this\n",
        "        # open_trades_df = self.empty_trades_df().append(\n",
        "        #     buys_df.loc[:,['security_id','quantity',signal_col_name]]).append(\n",
        "        #     sells_df.loc[:,['security_id','quantity',signal_col_name]]) \n",
        "        \n",
        "        # With this\n",
        "        # open_trades_df = pd.concat([self.empty_trades_df(), buys_df.loc[:,['security_id','quantity',signal_col_name]], sells_df.loc[:,['security_id','quantity',signal_col_name]] ])\n",
        "        open_trades_df = self.empty_trades_df().append(\n",
        "        buys_df.loc[:,['security_id','quantity']]).append(\n",
        "        sells_df.loc[:,['security_id','quantity']])\n",
        "        return open_trades_df, close_trades_df\n",
        "    \n",
        "    # Returns an empty trades_df\n",
        "    # Used so we know the right columns to populate when creating a trades_df else\n",
        "    def empty_trades_df(self):\n",
        "        return pd.concat([self.portfolio_db.empty_trades_df(), pd.DataFrame(self.strategy_specific_trades_df_columns)], axis=1)\n",
        "        "
      ]
    },
    {
      "cell_type": "markdown",
      "metadata": {
        "id": "HLbZw80MvExW"
      },
      "source": [
        "### After running your code above, you should be able to run these tests sucessfully. Please run each cell without editing."
      ]
    },
    {
      "cell_type": "markdown",
      "metadata": {
        "id": "O-M2zCrfvExW"
      },
      "source": [
        "#### `compute_trades` test: should output an open_trades_df with open positions having positive quantity and high gp, close_trades_df negative quantity and low gp, and an empty close_trades_df"
      ]
    },
    {
      "cell_type": "code",
      "execution_count": 13,
      "metadata": {
        "id": "gXnytzjcvExX",
        "colab": {
          "base_uri": "https://localhost:8080/"
        },
        "outputId": "f2110d5b-c517-4dfe-89b3-0a82b37fc25e"
      },
      "outputs": [
        {
          "output_type": "stream",
          "name": "stderr",
          "text": [
            "<ipython-input-13-494a59d89da2>:83: FutureWarning: The frame.append method is deprecated and will be removed from pandas in a future version. Use pandas.concat instead.\n",
            "  self.positions_df = self.positions_df.append(pd.DataFrame({'security_id':[self.cash_security_id],'quantity':[0], 'average_cost':[1], 'current_price':[1]}))\n",
            "<ipython-input-4-1a4207ecade5>:24: DeprecationWarning: In a future version, `df.iloc[:, i] = newvals` will attempt to set the values inplace instead of always setting a new array. To retain the old behavior, use either `df[df.columns[i]] = newvals` or, if columns are non-unique, `df.isetitem(i, newvals)`\n",
            "  self.price_df.loc[:,'date'] = pd.to_datetime(self.price_df.loc[:,'date'])\n"
          ]
        },
        {
          "output_type": "stream",
          "name": "stdout",
          "text": [
            "        security_id       date TICKER      prc      VOL       ret   SHROUT  \\\n",
            "47            10001 1988-04-29   GFGC   6.3125    121.0  0.030612    992.0   \n",
            "428           10002 1988-04-29   MBNC   9.7500     32.0 -0.048780   1175.0   \n",
            "755           10003 1988-04-29   GCBK  17.7500   1659.0 -0.089744   2194.0   \n",
            "876           10005 1988-04-29   WERC   0.1250    243.0 -0.200000   8376.0   \n",
            "1057          10008 1988-04-29   GACO  15.5000   1703.0  0.127273   2947.0   \n",
            "...             ...        ...    ...      ...      ...       ...      ...   \n",
            "3776216       93201 1988-04-29   WYSE  19.6250  39797.0  0.046667  14561.0   \n",
            "3778128       93220 1988-04-29   XLDC  23.0000   5581.0  0.045455   6856.0   \n",
            "3779384       93236 1988-04-29   XYYX   8.5000    823.0  0.214286   1519.0   \n",
            "3780630       93252 1988-04-29   YUKN   1.9375    594.0 -0.088235   4279.0   \n",
            "3787933       93316 1988-04-29   ZEUS   3.7500    664.0  0.034483   2669.0   \n",
            "\n",
            "              RETX  month  year  ret_next  \n",
            "47        0.030612      4  1988  0.019802  \n",
            "428      -0.048780      4  1988 -0.012821  \n",
            "755      -0.089744      4  1988  0.063380  \n",
            "876      -0.200000      4  1988 -0.125000  \n",
            "1057      0.127273      4  1988 -0.048387  \n",
            "...            ...    ...   ...       ...  \n",
            "3776216   0.046667      4  1988 -0.076433  \n",
            "3778128   0.045455      4  1988  0.021739  \n",
            "3779384   0.214286      4  1988 -0.176471  \n",
            "3780630  -0.088235      4  1988  0.112903  \n",
            "3787933   0.034483      4  1988  0.033333  \n",
            "\n",
            "[7051 rows x 11 columns]\n"
          ]
        },
        {
          "output_type": "stream",
          "name": "stderr",
          "text": [
            "<ipython-input-12-2c401bd8c0b1>:83: FutureWarning: The frame.append method is deprecated and will be removed from pandas in a future version. Use pandas.concat instead.\n",
            "  open_trades_df = self.empty_trades_df().append(\n",
            "<ipython-input-12-2c401bd8c0b1>:83: FutureWarning: The frame.append method is deprecated and will be removed from pandas in a future version. Use pandas.concat instead.\n",
            "  open_trades_df = self.empty_trades_df().append(\n"
          ]
        }
      ],
      "source": [
        "%run portfolio_db.ipynb\n",
        "portfolio_db = PortfolioDB()\n",
        "portfolio_db.add_cash(100)\n",
        "\n",
        "data_processor = IRDataProcessor()\n",
        "trading_rule = IRTradingRule(portfolio_db)\n",
        "\n",
        "%run backtest_executor.ipynb\n",
        "executor = BacktestExecutor(portfolio_db)\n",
        "test_date = '1988-04-30'\n",
        "\n",
        "test_price_df = data_processor.price_df_for_date(4, 1988)\n",
        "test_signal_df = data_processor.filter_and_rank(data_processor.signal_df)\n",
        "print(test_price_df)\n",
        "test_open_trades_df, test_close_trades_df = trading_rule.compute_trades(test_signal_df, test_date)"
      ]
    },
    {
      "cell_type": "code",
      "execution_count": 14,
      "metadata": {
        "id": "SKUa9mrrvExX",
        "colab": {
          "base_uri": "https://localhost:8080/"
        },
        "outputId": "ab7f27d0-2184-46c7-cd6d-27350ce83e3f"
      },
      "outputs": [
        {
          "output_type": "stream",
          "name": "stdout",
          "text": [
            "test_open_trades_df:\n",
            "        security_id  quantity open_datetime  open_average_price  \\\n",
            "26176         10185  0.183824           NaT                 NaN   \n",
            "56663         10414  0.178253           NaT                 NaN   \n",
            "56758         10415  0.140056           NaT                 NaN   \n",
            "59449         10441  0.280112           NaT                 NaN   \n",
            "69358         10527  0.152788           NaT                 NaN   \n",
            "...             ...       ...           ...                 ...   \n",
            "4130901       91636 -0.053280           NaT                 NaN   \n",
            "4135968       91679 -0.043290           NaT                 NaN   \n",
            "4165800       91927 -0.052701           NaT                 NaN   \n",
            "4223564       92479 -0.069264           NaT                 NaN   \n",
            "4228832       92524 -0.085061           NaT                 NaN   \n",
            "\n",
            "        close_datetime  close_average_price  ir  \n",
            "26176              NaT                  NaN NaN  \n",
            "56663              NaT                  NaN NaN  \n",
            "56758              NaT                  NaN NaN  \n",
            "59449              NaT                  NaN NaN  \n",
            "69358              NaT                  NaN NaN  \n",
            "...                ...                  ...  ..  \n",
            "4130901            NaT                  NaN NaN  \n",
            "4135968            NaT                  NaN NaN  \n",
            "4165800            NaT                  NaN NaN  \n",
            "4223564            NaT                  NaN NaN  \n",
            "4228832            NaT                  NaN NaN  \n",
            "\n",
            "[233 rows x 7 columns]\n",
            "\n",
            "\n",
            "\n",
            "test_close_trades_df:\n",
            "Empty DataFrame\n",
            "Columns: [security_id, quantity, open_datetime, open_average_price, close_datetime, close_average_price]\n",
            "Index: []\n"
          ]
        }
      ],
      "source": [
        "print('test_open_trades_df:')\n",
        "print(test_open_trades_df)\n",
        "\n",
        "print('\\n\\n')\n",
        "print('test_close_trades_df:')\n",
        "print(test_close_trades_df)"
      ]
    },
    {
      "cell_type": "markdown",
      "metadata": {
        "id": "LWrDcVP8vExX"
      },
      "source": [
        "## <span style=\"color:blue\">Task 5</span>: Run the Backtest"
      ]
    },
    {
      "cell_type": "markdown",
      "metadata": {
        "id": "hqMzMNRYvExX"
      },
      "source": [
        "If everything above was done correctly, the code in backtest.ipynb should produce a backtest for the gross profitability strategy with a few modifications.\n",
        "\n",
        "Copy the backtest.ipynb code here and modify it as follows:\n",
        "- Adjust the comments and strategy_info dictionary\n",
        "- Do not run bm_data_processor.ipynb and bm_trading_rule.ipynb, as these are no longer needed (the GPDataProcessor and GPTradingRule classes should already be defined above)\n",
        "- Replace the BM versions of data_processor and trading_rule with the GP versions. This should only be two lines of code\n",
        "\n",
        "Nothing else should change."
      ]
    },
    {
      "cell_type": "code",
      "execution_count": 24,
      "metadata": {
        "id": "PEtc56WOvExY"
      },
      "outputs": [],
      "source": [
        "# Solution\n",
        "from IPython.display import display, Markdown, Latex, clear_output\n",
        "import numpy as np\n",
        "import pandas as pd"
      ]
    },
    {
      "cell_type": "code",
      "source": [
        "# # These tools should remain unchanged across strategies unless you have a good reason to change them\n",
        "%run portfolio_db.ipynb\n",
        "%run backtest_executor.ipynb # if you were live trading a strategy, this would be replace by code that submitted orders etc"
      ],
      "metadata": {
        "id": "l3Vx1U9GHOHM"
      },
      "execution_count": 25,
      "outputs": []
    },
    {
      "cell_type": "code",
      "source": [
        "# Step 2: Create the tools we'll need to do the backtest\n",
        "# These can be customized and changed while keeping the rest of this file (the backtest logic) the same\n",
        "\n",
        "# DO edit this code to make sure that the specifics tools you want for this backtest are chosen here\n",
        "\n",
        "# DO NOT edit the names of the variables, only what's assigned to them. So \n",
        "# good: data_processor = MyNewDataProcessor() \n",
        "# bad: my_new_data_processor = MyNewDataProcessor()\n",
        "\n",
        "# Data processor, in charge of loading and doling out data\n",
        "data_processor = IRDataProcessor() "
      ],
      "metadata": {
        "id": "J5UuYsz8HRcE"
      },
      "execution_count": 26,
      "outputs": []
    },
    {
      "cell_type": "code",
      "source": [
        "# Portfolio database, keeps track of all the trades the backtest makes, the strategy NAV, and the current portfolio as we go through the backtest\n",
        "%run portfolio_db.ipynb\n",
        "portfolio_db = PortfolioDB()\n",
        "\n",
        "# Strategy logic, in charge of choosing trades based on current portfolio and data\n",
        "# This exact code would be used for live trading \n",
        "trading_rule = IRTradingRule(portfolio_db)\n",
        "\n",
        "# Trade executor, in charge of \"executing\" trades the strategy decides on, turning them into transactions and updating the portfolio\n",
        "trade_executor = BacktestExecutor(portfolio_db)\n",
        "\n",
        "# Info about the strategy, used for ex-post statistics and output not the actual backtest\n",
        "strategy_info = {\n",
        "    'brief descriptor': 'ir_rebalancing', \n",
        "    'plot descriptor': 'Index Rebalancing Prediction Strategy, Equal-Weighted',\n",
        "    'universe': 'Public US equities eligible for the Russell 2000',\n",
        "    'signals': 'Change in market cap from prior year rebalance date (6/30) to current year prediction date (4/30)',\n",
        "    'trading rule': 'Buy all equities entering 1001-3000 market cap and sell all equities exiting (as the predictor for inclusion/exclusion in Russell 2000), equal-weighted',\n",
        "    'holding period': 'One year',\n",
        "    'periods per year': 12,\n",
        "    'output folder name': 'Output'\n",
        "}\n",
        "\n",
        "# Statistician, used to tabulate and plot statistics after the backtest runs\n",
        "%run backtest_statistician.ipynb\n",
        "statistican = BacktestStatistican(portfolio_db,strategy_info)"
      ],
      "metadata": {
        "id": "FWDYLIK0HaXt"
      },
      "execution_count": 27,
      "outputs": []
    },
    {
      "cell_type": "code",
      "source": [
        "# Step 3: Run actual backtest\n",
        "# Do NOT edit this cell without a very good reason\n",
        "import warnings\n",
        "warnings.filterwarnings(\"ignore\")\n",
        "# Add 100 initial cash to our portfolios\n",
        "portfolio_db.add_cash(100)\n",
        "\n",
        "# Get our list of unique dates\n",
        "udates = data_processor.unique_dates()\n",
        "# Main loop for the backtest\n",
        "for date in udates:\n",
        "    # dataframes for the date\n",
        "    signal_df = data_processor.filter_and_rank(data_processor.signal_df)\n",
        "    price_df = data_processor.price_df_for_date(date.month, date.year)\n",
        "    # Update prices to reflect the new values after however much time has passed\n",
        "    # Need to dot his first each date because the updated prices may affect our trading rule\n",
        "    portfolio_db.update_prices(price_df)\n",
        "    if date.month == 4:\n",
        "    # Ask the trading rule what trades we should make\n",
        "      open_trades_df, close_trades_df = trading_rule.compute_trades(signal_df=signal_df, date=date)\n",
        "      # print('Reached', len(open_trades_df), len(close_trades_df))\n",
        "        # price_df.to_csv('rand.csv')\n",
        "\n",
        "      # apply dates to trades\n",
        "      open_trades_df.loc[:,'open_datetime'] = date\n",
        "      close_trades_df.loc[:,'close_datetime'] = date\n",
        "\n",
        "      # execute trades\n",
        "      trade_executor.execute_opens(open_trades_df=open_trades_df, price_df=price_df)\n",
        "      trade_executor.execute_closes(close_trades_df=close_trades_df, price_df=price_df)    \n",
        "    \n",
        "    # Record account data for today\n",
        "    portfolio_db.record_account_data(price_df=price_df,datetime=date)\n",
        "    \n",
        "    # Do some fancy output tracking our NAV and margin requirement each day\n",
        "    # clear_output(wait=True)\n",
        "    display( np.datetime_as_string(np.datetime64(date), unit='D') + ': ' + str(portfolio_db.current_nav()) + \" | \" + str(portfolio_db.current_margin()))\n",
        "    \n",
        "# Now that the loop is done, tell the statistican to output stats\n",
        "statistican.output_stats()"
      ],
      "metadata": {
        "colab": {
          "base_uri": "https://localhost:8080/",
          "height": 1000
        },
        "id": "bUWZ1yDMH9y0",
        "outputId": "52d0682a-9919-4865-f51b-71fec8102642"
      },
      "execution_count": 28,
      "outputs": [
        {
          "output_type": "display_data",
          "data": {
            "text/plain": [
              "'1985-12-31: 100.0 | 0.0'"
            ],
            "application/vnd.google.colaboratory.intrinsic+json": {
              "type": "string"
            }
          },
          "metadata": {}
        },
        {
          "output_type": "display_data",
          "data": {
            "text/plain": [
              "'1986-01-31: 100.0 | 0.0'"
            ],
            "application/vnd.google.colaboratory.intrinsic+json": {
              "type": "string"
            }
          },
          "metadata": {}
        },
        {
          "output_type": "display_data",
          "data": {
            "text/plain": [
              "'1986-02-28: 100.0 | 0.0'"
            ],
            "application/vnd.google.colaboratory.intrinsic+json": {
              "type": "string"
            }
          },
          "metadata": {}
        },
        {
          "output_type": "display_data",
          "data": {
            "text/plain": [
              "'1986-03-31: 100.0 | 0.0'"
            ],
            "application/vnd.google.colaboratory.intrinsic+json": {
              "type": "string"
            }
          },
          "metadata": {}
        },
        {
          "output_type": "display_data",
          "data": {
            "text/plain": [
              "'1986-04-30: 100.0 | 0.0'"
            ],
            "application/vnd.google.colaboratory.intrinsic+json": {
              "type": "string"
            }
          },
          "metadata": {}
        },
        {
          "output_type": "display_data",
          "data": {
            "text/plain": [
              "'1986-05-31: 100.0 | 0.0'"
            ],
            "application/vnd.google.colaboratory.intrinsic+json": {
              "type": "string"
            }
          },
          "metadata": {}
        },
        {
          "output_type": "display_data",
          "data": {
            "text/plain": [
              "'1986-06-30: 100.0 | 0.0'"
            ],
            "application/vnd.google.colaboratory.intrinsic+json": {
              "type": "string"
            }
          },
          "metadata": {}
        },
        {
          "output_type": "display_data",
          "data": {
            "text/plain": [
              "'1986-07-31: 100.0 | 0.0'"
            ],
            "application/vnd.google.colaboratory.intrinsic+json": {
              "type": "string"
            }
          },
          "metadata": {}
        },
        {
          "output_type": "display_data",
          "data": {
            "text/plain": [
              "'1986-08-31: 100.0 | 0.0'"
            ],
            "application/vnd.google.colaboratory.intrinsic+json": {
              "type": "string"
            }
          },
          "metadata": {}
        },
        {
          "output_type": "display_data",
          "data": {
            "text/plain": [
              "'1986-09-30: 100.0 | 0.0'"
            ],
            "application/vnd.google.colaboratory.intrinsic+json": {
              "type": "string"
            }
          },
          "metadata": {}
        },
        {
          "output_type": "display_data",
          "data": {
            "text/plain": [
              "'1986-10-31: 100.0 | 0.0'"
            ],
            "application/vnd.google.colaboratory.intrinsic+json": {
              "type": "string"
            }
          },
          "metadata": {}
        },
        {
          "output_type": "display_data",
          "data": {
            "text/plain": [
              "'1986-11-30: 100.0 | 0.0'"
            ],
            "application/vnd.google.colaboratory.intrinsic+json": {
              "type": "string"
            }
          },
          "metadata": {}
        },
        {
          "output_type": "display_data",
          "data": {
            "text/plain": [
              "'1986-12-31: 100.0 | 0.0'"
            ],
            "application/vnd.google.colaboratory.intrinsic+json": {
              "type": "string"
            }
          },
          "metadata": {}
        },
        {
          "output_type": "display_data",
          "data": {
            "text/plain": [
              "'1987-01-31: 100.0 | 0.0'"
            ],
            "application/vnd.google.colaboratory.intrinsic+json": {
              "type": "string"
            }
          },
          "metadata": {}
        },
        {
          "output_type": "display_data",
          "data": {
            "text/plain": [
              "'1987-02-28: 100.0 | 0.0'"
            ],
            "application/vnd.google.colaboratory.intrinsic+json": {
              "type": "string"
            }
          },
          "metadata": {}
        },
        {
          "output_type": "display_data",
          "data": {
            "text/plain": [
              "'1987-03-31: 100.0 | 0.0'"
            ],
            "application/vnd.google.colaboratory.intrinsic+json": {
              "type": "string"
            }
          },
          "metadata": {}
        },
        {
          "output_type": "display_data",
          "data": {
            "text/plain": [
              "'1987-04-30: 100.0 | 100.0'"
            ],
            "application/vnd.google.colaboratory.intrinsic+json": {
              "type": "string"
            }
          },
          "metadata": {}
        },
        {
          "output_type": "display_data",
          "data": {
            "text/plain": [
              "'1987-05-31: 96.45880861257268 | 98.81238265023538'"
            ],
            "application/vnd.google.colaboratory.intrinsic+json": {
              "type": "string"
            }
          },
          "metadata": {}
        },
        {
          "output_type": "display_data",
          "data": {
            "text/plain": [
              "'1987-06-30: 93.13460522383107 | 100.12919094987285'"
            ],
            "application/vnd.google.colaboratory.intrinsic+json": {
              "type": "string"
            }
          },
          "metadata": {}
        },
        {
          "output_type": "display_data",
          "data": {
            "text/plain": [
              "'1987-07-31: 94.17516513071905 | 102.8236315555045'"
            ],
            "application/vnd.google.colaboratory.intrinsic+json": {
              "type": "string"
            }
          },
          "metadata": {}
        },
        {
          "output_type": "display_data",
          "data": {
            "text/plain": [
              "'1987-08-31: 92.4091437481384 | 105.78572171024805'"
            ],
            "application/vnd.google.colaboratory.intrinsic+json": {
              "type": "string"
            }
          },
          "metadata": {}
        },
        {
          "output_type": "display_data",
          "data": {
            "text/plain": [
              "'1987-09-30: 91.67062016426316 | 105.04040828560701'"
            ],
            "application/vnd.google.colaboratory.intrinsic+json": {
              "type": "string"
            }
          },
          "metadata": {}
        },
        {
          "output_type": "display_data",
          "data": {
            "text/plain": [
              "'1987-10-31: 91.53489295994544 | 75.29608553291209'"
            ],
            "application/vnd.google.colaboratory.intrinsic+json": {
              "type": "string"
            }
          },
          "metadata": {}
        },
        {
          "output_type": "display_data",
          "data": {
            "text/plain": [
              "'1987-11-30: 92.13926993844241 | 72.39262152977005'"
            ],
            "application/vnd.google.colaboratory.intrinsic+json": {
              "type": "string"
            }
          },
          "metadata": {}
        },
        {
          "output_type": "display_data",
          "data": {
            "text/plain": [
              "'1987-12-31: 92.5400343356984 | 75.48340092651577'"
            ],
            "application/vnd.google.colaboratory.intrinsic+json": {
              "type": "string"
            }
          },
          "metadata": {}
        },
        {
          "output_type": "display_data",
          "data": {
            "text/plain": [
              "'1988-01-31: 89.58233553666639 | 79.84833380911482'"
            ],
            "application/vnd.google.colaboratory.intrinsic+json": {
              "type": "string"
            }
          },
          "metadata": {}
        },
        {
          "output_type": "display_data",
          "data": {
            "text/plain": [
              "'1988-02-29: 89.2562607219514 | 85.1740967305499'"
            ],
            "application/vnd.google.colaboratory.intrinsic+json": {
              "type": "string"
            }
          },
          "metadata": {}
        },
        {
          "output_type": "display_data",
          "data": {
            "text/plain": [
              "'1988-03-31: 88.76867808468914 | 89.73722618929628'"
            ],
            "application/vnd.google.colaboratory.intrinsic+json": {
              "type": "string"
            }
          },
          "metadata": {}
        },
        {
          "output_type": "display_data",
          "data": {
            "text/plain": [
              "'1988-04-30: 89.38868590262284 | 89.38868590262283'"
            ],
            "application/vnd.google.colaboratory.intrinsic+json": {
              "type": "string"
            }
          },
          "metadata": {}
        },
        {
          "output_type": "display_data",
          "data": {
            "text/plain": [
              "'1988-05-31: 91.55517094538723 | 86.82739658409426'"
            ],
            "application/vnd.google.colaboratory.intrinsic+json": {
              "type": "string"
            }
          },
          "metadata": {}
        },
        {
          "output_type": "display_data",
          "data": {
            "text/plain": [
              "'1988-06-30: 88.92817627544876 | 92.71147595092063'"
            ],
            "application/vnd.google.colaboratory.intrinsic+json": {
              "type": "string"
            }
          },
          "metadata": {}
        },
        {
          "output_type": "display_data",
          "data": {
            "text/plain": [
              "'1988-07-31: 90.51104955989474 | 92.24898997049544'"
            ],
            "application/vnd.google.colaboratory.intrinsic+json": {
              "type": "string"
            }
          },
          "metadata": {}
        },
        {
          "output_type": "display_data",
          "data": {
            "text/plain": [
              "'1988-08-31: 90.82936937538099 | 90.7322047024009'"
            ],
            "application/vnd.google.colaboratory.intrinsic+json": {
              "type": "string"
            }
          },
          "metadata": {}
        },
        {
          "output_type": "display_data",
          "data": {
            "text/plain": [
              "'1988-09-30: 92.70301727855924 | 92.67481289220459'"
            ],
            "application/vnd.google.colaboratory.intrinsic+json": {
              "type": "string"
            }
          },
          "metadata": {}
        },
        {
          "output_type": "display_data",
          "data": {
            "text/plain": [
              "'1988-10-31: 90.02618898229751 | 93.05255104617427'"
            ],
            "application/vnd.google.colaboratory.intrinsic+json": {
              "type": "string"
            }
          },
          "metadata": {}
        },
        {
          "output_type": "display_data",
          "data": {
            "text/plain": [
              "'1988-11-30: 91.93836977280112 | 90.35827497266234'"
            ],
            "application/vnd.google.colaboratory.intrinsic+json": {
              "type": "string"
            }
          },
          "metadata": {}
        },
        {
          "output_type": "display_data",
          "data": {
            "text/plain": [
              "'1988-12-31: 90.15507723469211 | 92.88120754298822'"
            ],
            "application/vnd.google.colaboratory.intrinsic+json": {
              "type": "string"
            }
          },
          "metadata": {}
        },
        {
          "output_type": "display_data",
          "data": {
            "text/plain": [
              "'1989-01-31: 87.30337543746671 | 98.73721950730581'"
            ],
            "application/vnd.google.colaboratory.intrinsic+json": {
              "type": "string"
            }
          },
          "metadata": {}
        },
        {
          "output_type": "display_data",
          "data": {
            "text/plain": [
              "'1989-02-28: 86.06159935332524 | 99.3976091298295'"
            ],
            "application/vnd.google.colaboratory.intrinsic+json": {
              "type": "string"
            }
          },
          "metadata": {}
        },
        {
          "output_type": "display_data",
          "data": {
            "text/plain": [
              "'1989-03-31: 85.09741738941948 | 102.14166334298017'"
            ],
            "application/vnd.google.colaboratory.intrinsic+json": {
              "type": "string"
            }
          },
          "metadata": {}
        },
        {
          "output_type": "display_data",
          "data": {
            "text/plain": [
              "'1989-04-30: 84.90685535352559 | 84.90685535352559'"
            ],
            "application/vnd.google.colaboratory.intrinsic+json": {
              "type": "string"
            }
          },
          "metadata": {}
        },
        {
          "output_type": "display_data",
          "data": {
            "text/plain": [
              "'1989-05-31: 87.5355141136864 | 87.80536685175026'"
            ],
            "application/vnd.google.colaboratory.intrinsic+json": {
              "type": "string"
            }
          },
          "metadata": {}
        },
        {
          "output_type": "display_data",
          "data": {
            "text/plain": [
              "'1989-06-30: 85.07579866719061 | 88.7425001330234'"
            ],
            "application/vnd.google.colaboratory.intrinsic+json": {
              "type": "string"
            }
          },
          "metadata": {}
        },
        {
          "output_type": "display_data",
          "data": {
            "text/plain": [
              "'1989-07-31: 86.80282748169778 | 94.8867239810106'"
            ],
            "application/vnd.google.colaboratory.intrinsic+json": {
              "type": "string"
            }
          },
          "metadata": {}
        },
        {
          "output_type": "display_data",
          "data": {
            "text/plain": [
              "'1989-08-31: 87.01605314309714 | 97.23291451847716'"
            ],
            "application/vnd.google.colaboratory.intrinsic+json": {
              "type": "string"
            }
          },
          "metadata": {}
        },
        {
          "output_type": "display_data",
          "data": {
            "text/plain": [
              "'1989-09-30: 91.8707545172227 | 97.89956818997901'"
            ],
            "application/vnd.google.colaboratory.intrinsic+json": {
              "type": "string"
            }
          },
          "metadata": {}
        },
        {
          "output_type": "display_data",
          "data": {
            "text/plain": [
              "'1989-10-31: 92.76140779235912 | 93.3039141762866'"
            ],
            "application/vnd.google.colaboratory.intrinsic+json": {
              "type": "string"
            }
          },
          "metadata": {}
        },
        {
          "output_type": "display_data",
          "data": {
            "text/plain": [
              "'1989-11-30: 92.7703365043783 | 93.89747209065366'"
            ],
            "application/vnd.google.colaboratory.intrinsic+json": {
              "type": "string"
            }
          },
          "metadata": {}
        },
        {
          "output_type": "display_data",
          "data": {
            "text/plain": [
              "'1989-12-31: 93.71802619240368 | 95.18751047535811'"
            ],
            "application/vnd.google.colaboratory.intrinsic+json": {
              "type": "string"
            }
          },
          "metadata": {}
        },
        {
          "output_type": "display_data",
          "data": {
            "text/plain": [
              "'1990-01-31: 85.79877422132913 | 89.33729659139549'"
            ],
            "application/vnd.google.colaboratory.intrinsic+json": {
              "type": "string"
            }
          },
          "metadata": {}
        },
        {
          "output_type": "display_data",
          "data": {
            "text/plain": [
              "'1990-02-28: 88.56888466696405 | 91.46491916805611'"
            ],
            "application/vnd.google.colaboratory.intrinsic+json": {
              "type": "string"
            }
          },
          "metadata": {}
        },
        {
          "output_type": "display_data",
          "data": {
            "text/plain": [
              "'1990-03-31: 90.23938350142052 | 94.35739618272628'"
            ],
            "application/vnd.google.colaboratory.intrinsic+json": {
              "type": "string"
            }
          },
          "metadata": {}
        },
        {
          "output_type": "display_data",
          "data": {
            "text/plain": [
              "'1990-04-30: 88.82167767306814 | 88.82167767306812'"
            ],
            "application/vnd.google.colaboratory.intrinsic+json": {
              "type": "string"
            }
          },
          "metadata": {}
        },
        {
          "output_type": "display_data",
          "data": {
            "text/plain": [
              "'1990-05-31: 89.67029601880398 | 94.26740443154823'"
            ],
            "application/vnd.google.colaboratory.intrinsic+json": {
              "type": "string"
            }
          },
          "metadata": {}
        },
        {
          "output_type": "display_data",
          "data": {
            "text/plain": [
              "'1990-06-30: 94.2384553458208 | 94.71117489952572'"
            ],
            "application/vnd.google.colaboratory.intrinsic+json": {
              "type": "string"
            }
          },
          "metadata": {}
        },
        {
          "output_type": "display_data",
          "data": {
            "text/plain": [
              "'1990-07-31: 97.97247996403138 | 90.43214661658847'"
            ],
            "application/vnd.google.colaboratory.intrinsic+json": {
              "type": "string"
            }
          },
          "metadata": {}
        },
        {
          "output_type": "display_data",
          "data": {
            "text/plain": [
              "'1990-08-31: 96.79299777303049 | 78.51148513507493'"
            ],
            "application/vnd.google.colaboratory.intrinsic+json": {
              "type": "string"
            }
          },
          "metadata": {}
        },
        {
          "output_type": "display_data",
          "data": {
            "text/plain": [
              "'1990-09-30: 100.32323273355735 | 70.50097289898034'"
            ],
            "application/vnd.google.colaboratory.intrinsic+json": {
              "type": "string"
            }
          },
          "metadata": {}
        },
        {
          "output_type": "display_data",
          "data": {
            "text/plain": [
              "'1990-10-31: 103.3976088280968 | 65.51110589440957'"
            ],
            "application/vnd.google.colaboratory.intrinsic+json": {
              "type": "string"
            }
          },
          "metadata": {}
        },
        {
          "output_type": "display_data",
          "data": {
            "text/plain": [
              "'1990-11-30: 101.4511445588484 | 70.48386224861552'"
            ],
            "application/vnd.google.colaboratory.intrinsic+json": {
              "type": "string"
            }
          },
          "metadata": {}
        },
        {
          "output_type": "display_data",
          "data": {
            "text/plain": [
              "'1990-12-31: 104.17997410096845 | 72.36774384006958'"
            ],
            "application/vnd.google.colaboratory.intrinsic+json": {
              "type": "string"
            }
          },
          "metadata": {}
        },
        {
          "output_type": "display_data",
          "data": {
            "text/plain": [
              "'1991-01-31: 103.14938722436348 | 78.60371264658671'"
            ],
            "application/vnd.google.colaboratory.intrinsic+json": {
              "type": "string"
            }
          },
          "metadata": {}
        },
        {
          "output_type": "display_data",
          "data": {
            "text/plain": [
              "'1991-02-28: 104.6214840365111 | 87.64786426926288'"
            ],
            "application/vnd.google.colaboratory.intrinsic+json": {
              "type": "string"
            }
          },
          "metadata": {}
        },
        {
          "output_type": "display_data",
          "data": {
            "text/plain": [
              "'1991-03-31: 104.62971208962239 | 94.23819487420936'"
            ],
            "application/vnd.google.colaboratory.intrinsic+json": {
              "type": "string"
            }
          },
          "metadata": {}
        },
        {
          "output_type": "display_data",
          "data": {
            "text/plain": [
              "'1991-04-30: 102.54339883799848 | 102.5433988379985'"
            ],
            "application/vnd.google.colaboratory.intrinsic+json": {
              "type": "string"
            }
          },
          "metadata": {}
        },
        {
          "output_type": "display_data",
          "data": {
            "text/plain": [
              "'1991-05-31: 103.42920106716196 | 106.82520435695352'"
            ],
            "application/vnd.google.colaboratory.intrinsic+json": {
              "type": "string"
            }
          },
          "metadata": {}
        },
        {
          "output_type": "display_data",
          "data": {
            "text/plain": [
              "'1991-06-30: 101.18384439980625 | 102.86157522097298'"
            ],
            "application/vnd.google.colaboratory.intrinsic+json": {
              "type": "string"
            }
          },
          "metadata": {}
        },
        {
          "output_type": "display_data",
          "data": {
            "text/plain": [
              "'1991-07-31: 107.84885440555608 | 107.27917306663423'"
            ],
            "application/vnd.google.colaboratory.intrinsic+json": {
              "type": "string"
            }
          },
          "metadata": {}
        },
        {
          "output_type": "display_data",
          "data": {
            "text/plain": [
              "'1991-08-31: 112.42829448432346 | 110.61033788029857'"
            ],
            "application/vnd.google.colaboratory.intrinsic+json": {
              "type": "string"
            }
          },
          "metadata": {}
        },
        {
          "output_type": "display_data",
          "data": {
            "text/plain": [
              "'1991-09-30: 115.99399466821221 | 112.60774426782007'"
            ],
            "application/vnd.google.colaboratory.intrinsic+json": {
              "type": "string"
            }
          },
          "metadata": {}
        },
        {
          "output_type": "display_data",
          "data": {
            "text/plain": [
              "'1991-10-31: 123.83557783258624 | 116.2091873440412'"
            ],
            "application/vnd.google.colaboratory.intrinsic+json": {
              "type": "string"
            }
          },
          "metadata": {}
        },
        {
          "output_type": "display_data",
          "data": {
            "text/plain": [
              "'1991-11-30: 120.45889064068102 | 112.21280605428441'"
            ],
            "application/vnd.google.colaboratory.intrinsic+json": {
              "type": "string"
            }
          },
          "metadata": {}
        },
        {
          "output_type": "display_data",
          "data": {
            "text/plain": [
              "'1991-12-31: 127.49716610493726 | 120.17988017813312'"
            ],
            "application/vnd.google.colaboratory.intrinsic+json": {
              "type": "string"
            }
          },
          "metadata": {}
        },
        {
          "output_type": "display_data",
          "data": {
            "text/plain": [
              "'1992-01-31: 119.73844439035233 | 131.56358933767004'"
            ],
            "application/vnd.google.colaboratory.intrinsic+json": {
              "type": "string"
            }
          },
          "metadata": {}
        },
        {
          "output_type": "display_data",
          "data": {
            "text/plain": [
              "'1992-02-29: 114.48547465976095 | 135.5188831416402'"
            ],
            "application/vnd.google.colaboratory.intrinsic+json": {
              "type": "string"
            }
          },
          "metadata": {}
        },
        {
          "output_type": "display_data",
          "data": {
            "text/plain": [
              "'1992-03-31: 107.30325502355156 | 132.0007772794887'"
            ],
            "application/vnd.google.colaboratory.intrinsic+json": {
              "type": "string"
            }
          },
          "metadata": {}
        },
        {
          "output_type": "display_data",
          "data": {
            "text/plain": [
              "'1992-04-30: 101.08702226841939 | 101.08702226841936'"
            ],
            "application/vnd.google.colaboratory.intrinsic+json": {
              "type": "string"
            }
          },
          "metadata": {}
        },
        {
          "output_type": "display_data",
          "data": {
            "text/plain": [
              "'1992-05-31: 103.65958107333746 | 104.1894379594842'"
            ],
            "application/vnd.google.colaboratory.intrinsic+json": {
              "type": "string"
            }
          },
          "metadata": {}
        },
        {
          "output_type": "display_data",
          "data": {
            "text/plain": [
              "'1992-06-30: 99.02928000421309 | 98.32702588361809'"
            ],
            "application/vnd.google.colaboratory.intrinsic+json": {
              "type": "string"
            }
          },
          "metadata": {}
        },
        {
          "output_type": "display_data",
          "data": {
            "text/plain": [
              "'1992-07-31: 101.13740118364626 | 101.41515642585631'"
            ],
            "application/vnd.google.colaboratory.intrinsic+json": {
              "type": "string"
            }
          },
          "metadata": {}
        },
        {
          "output_type": "display_data",
          "data": {
            "text/plain": [
              "'1992-08-31: 97.0326667198122 | 98.4779889987303'"
            ],
            "application/vnd.google.colaboratory.intrinsic+json": {
              "type": "string"
            }
          },
          "metadata": {}
        },
        {
          "output_type": "display_data",
          "data": {
            "text/plain": [
              "'1992-09-30: 99.98712589610287 | 101.2664327442539'"
            ],
            "application/vnd.google.colaboratory.intrinsic+json": {
              "type": "string"
            }
          },
          "metadata": {}
        },
        {
          "output_type": "display_data",
          "data": {
            "text/plain": [
              "'1992-10-31: 105.19530212215602 | 104.8953367164963'"
            ],
            "application/vnd.google.colaboratory.intrinsic+json": {
              "type": "string"
            }
          },
          "metadata": {}
        },
        {
          "output_type": "display_data",
          "data": {
            "text/plain": [
              "'1992-11-30: 110.2246045120258 | 112.4931633826699'"
            ],
            "application/vnd.google.colaboratory.intrinsic+json": {
              "type": "string"
            }
          },
          "metadata": {}
        },
        {
          "output_type": "display_data",
          "data": {
            "text/plain": [
              "'1992-12-31: 107.34477588698509 | 114.84314504191818'"
            ],
            "application/vnd.google.colaboratory.intrinsic+json": {
              "type": "string"
            }
          },
          "metadata": {}
        },
        {
          "output_type": "display_data",
          "data": {
            "text/plain": [
              "'1993-01-31: 104.99902044165653 | 119.0461891796115'"
            ],
            "application/vnd.google.colaboratory.intrinsic+json": {
              "type": "string"
            }
          },
          "metadata": {}
        },
        {
          "output_type": "display_data",
          "data": {
            "text/plain": [
              "'1993-02-28: 99.80309422944566 | 116.05628074815445'"
            ],
            "application/vnd.google.colaboratory.intrinsic+json": {
              "type": "string"
            }
          },
          "metadata": {}
        },
        {
          "output_type": "display_data",
          "data": {
            "text/plain": [
              "'1993-03-31: 100.56975648610239 | 121.90357879920276'"
            ],
            "application/vnd.google.colaboratory.intrinsic+json": {
              "type": "string"
            }
          },
          "metadata": {}
        },
        {
          "output_type": "display_data",
          "data": {
            "text/plain": [
              "'1993-04-30: 92.55170308009419 | 92.55170308009423'"
            ],
            "application/vnd.google.colaboratory.intrinsic+json": {
              "type": "string"
            }
          },
          "metadata": {}
        },
        {
          "output_type": "display_data",
          "data": {
            "text/plain": [
              "'1993-05-31: 92.3740599878517 | 96.12666962613335'"
            ],
            "application/vnd.google.colaboratory.intrinsic+json": {
              "type": "string"
            }
          },
          "metadata": {}
        },
        {
          "output_type": "display_data",
          "data": {
            "text/plain": [
              "'1993-06-30: 94.81557215941476 | 95.86564677223234'"
            ],
            "application/vnd.google.colaboratory.intrinsic+json": {
              "type": "string"
            }
          },
          "metadata": {}
        },
        {
          "output_type": "display_data",
          "data": {
            "text/plain": [
              "'1993-07-31: 94.5497923921734 | 97.02110986074157'"
            ],
            "application/vnd.google.colaboratory.intrinsic+json": {
              "type": "string"
            }
          },
          "metadata": {}
        },
        {
          "output_type": "display_data",
          "data": {
            "text/plain": [
              "'1993-08-31: 98.39351911398253 | 100.94815397103008'"
            ],
            "application/vnd.google.colaboratory.intrinsic+json": {
              "type": "string"
            }
          },
          "metadata": {}
        },
        {
          "output_type": "display_data",
          "data": {
            "text/plain": [
              "'1993-09-30: 103.11731077248412 | 104.8365895874046'"
            ],
            "application/vnd.google.colaboratory.intrinsic+json": {
              "type": "string"
            }
          },
          "metadata": {}
        },
        {
          "output_type": "display_data",
          "data": {
            "text/plain": [
              "'1993-10-31: 100.6446386177441 | 108.81811023279778'"
            ],
            "application/vnd.google.colaboratory.intrinsic+json": {
              "type": "string"
            }
          },
          "metadata": {}
        },
        {
          "output_type": "display_data",
          "data": {
            "text/plain": [
              "'1993-11-30: 95.00973602810308 | 104.68310420019031'"
            ],
            "application/vnd.google.colaboratory.intrinsic+json": {
              "type": "string"
            }
          },
          "metadata": {}
        },
        {
          "output_type": "display_data",
          "data": {
            "text/plain": [
              "'1993-12-31: 95.71045358214913 | 107.92773406679885'"
            ],
            "application/vnd.google.colaboratory.intrinsic+json": {
              "type": "string"
            }
          },
          "metadata": {}
        },
        {
          "output_type": "display_data",
          "data": {
            "text/plain": [
              "'1994-01-31: 91.47611507624475 | 112.59681392341005'"
            ],
            "application/vnd.google.colaboratory.intrinsic+json": {
              "type": "string"
            }
          },
          "metadata": {}
        },
        {
          "output_type": "display_data",
          "data": {
            "text/plain": [
              "'1994-02-28: 90.79945188443294 | 110.6035558802551'"
            ],
            "application/vnd.google.colaboratory.intrinsic+json": {
              "type": "string"
            }
          },
          "metadata": {}
        },
        {
          "output_type": "display_data",
          "data": {
            "text/plain": [
              "'1994-03-31: 86.82051545589928 | 102.99843089572119'"
            ],
            "application/vnd.google.colaboratory.intrinsic+json": {
              "type": "string"
            }
          },
          "metadata": {}
        },
        {
          "output_type": "display_data",
          "data": {
            "text/plain": [
              "'1994-04-30: 90.90223302271679 | 90.9022330227168'"
            ],
            "application/vnd.google.colaboratory.intrinsic+json": {
              "type": "string"
            }
          },
          "metadata": {}
        },
        {
          "output_type": "display_data",
          "data": {
            "text/plain": [
              "'1994-05-31: 87.81990956237388 | 90.49468307280252'"
            ],
            "application/vnd.google.colaboratory.intrinsic+json": {
              "type": "string"
            }
          },
          "metadata": {}
        },
        {
          "output_type": "display_data",
          "data": {
            "text/plain": [
              "'1994-06-30: 85.39189493258142 | 87.25561985514851'"
            ],
            "application/vnd.google.colaboratory.intrinsic+json": {
              "type": "string"
            }
          },
          "metadata": {}
        },
        {
          "output_type": "display_data",
          "data": {
            "text/plain": [
              "'1994-07-31: 87.91359286179804 | 88.67415703855211'"
            ],
            "application/vnd.google.colaboratory.intrinsic+json": {
              "type": "string"
            }
          },
          "metadata": {}
        },
        {
          "output_type": "display_data",
          "data": {
            "text/plain": [
              "'1994-08-31: 90.13311563374452 | 93.11858431538714'"
            ],
            "application/vnd.google.colaboratory.intrinsic+json": {
              "type": "string"
            }
          },
          "metadata": {}
        },
        {
          "output_type": "display_data",
          "data": {
            "text/plain": [
              "'1994-09-30: 91.47541969410295 | 93.92717344591524'"
            ],
            "application/vnd.google.colaboratory.intrinsic+json": {
              "type": "string"
            }
          },
          "metadata": {}
        },
        {
          "output_type": "display_data",
          "data": {
            "text/plain": [
              "'1994-10-31: 93.78418026975405 | 94.57905750618634'"
            ],
            "application/vnd.google.colaboratory.intrinsic+json": {
              "type": "string"
            }
          },
          "metadata": {}
        },
        {
          "output_type": "display_data",
          "data": {
            "text/plain": [
              "'1994-11-30: 91.4185059112615 | 92.02862292821986'"
            ],
            "application/vnd.google.colaboratory.intrinsic+json": {
              "type": "string"
            }
          },
          "metadata": {}
        },
        {
          "output_type": "display_data",
          "data": {
            "text/plain": [
              "'1994-12-31: 92.64966860014907 | 91.98721170461185'"
            ],
            "application/vnd.google.colaboratory.intrinsic+json": {
              "type": "string"
            }
          },
          "metadata": {}
        },
        {
          "output_type": "display_data",
          "data": {
            "text/plain": [
              "'1995-01-31: 88.78840561638101 | 93.03810481388682'"
            ],
            "application/vnd.google.colaboratory.intrinsic+json": {
              "type": "string"
            }
          },
          "metadata": {}
        },
        {
          "output_type": "display_data",
          "data": {
            "text/plain": [
              "'1995-02-28: 89.78454027512294 | 96.3333492036311'"
            ],
            "application/vnd.google.colaboratory.intrinsic+json": {
              "type": "string"
            }
          },
          "metadata": {}
        },
        {
          "output_type": "display_data",
          "data": {
            "text/plain": [
              "'1995-03-31: 91.76429302949776 | 99.50778336498378'"
            ],
            "application/vnd.google.colaboratory.intrinsic+json": {
              "type": "string"
            }
          },
          "metadata": {}
        },
        {
          "output_type": "display_data",
          "data": {
            "text/plain": [
              "'1995-04-30: 91.86230342776041 | 91.8623034277604'"
            ],
            "application/vnd.google.colaboratory.intrinsic+json": {
              "type": "string"
            }
          },
          "metadata": {}
        },
        {
          "output_type": "display_data",
          "data": {
            "text/plain": [
              "'1995-05-31: 91.74835090718913 | 93.89944524604635'"
            ],
            "application/vnd.google.colaboratory.intrinsic+json": {
              "type": "string"
            }
          },
          "metadata": {}
        },
        {
          "output_type": "display_data",
          "data": {
            "text/plain": [
              "'1995-06-30: 96.79506975793149 | 99.66100237334402'"
            ],
            "application/vnd.google.colaboratory.intrinsic+json": {
              "type": "string"
            }
          },
          "metadata": {}
        },
        {
          "output_type": "display_data",
          "data": {
            "text/plain": [
              "'1995-07-31: 102.08524348452812 | 105.70214955700183'"
            ],
            "application/vnd.google.colaboratory.intrinsic+json": {
              "type": "string"
            }
          },
          "metadata": {}
        },
        {
          "output_type": "display_data",
          "data": {
            "text/plain": [
              "'1995-08-31: 101.9309548777527 | 106.16863394065822'"
            ],
            "application/vnd.google.colaboratory.intrinsic+json": {
              "type": "string"
            }
          },
          "metadata": {}
        },
        {
          "output_type": "display_data",
          "data": {
            "text/plain": [
              "'1995-09-30: 103.74777839631989 | 108.0283895444301'"
            ],
            "application/vnd.google.colaboratory.intrinsic+json": {
              "type": "string"
            }
          },
          "metadata": {}
        },
        {
          "output_type": "display_data",
          "data": {
            "text/plain": [
              "'1995-10-31: 101.4285822261597 | 102.11515849630243'"
            ],
            "application/vnd.google.colaboratory.intrinsic+json": {
              "type": "string"
            }
          },
          "metadata": {}
        },
        {
          "output_type": "display_data",
          "data": {
            "text/plain": [
              "'1995-11-30: 103.11089751476098 | 105.51190938142551'"
            ],
            "application/vnd.google.colaboratory.intrinsic+json": {
              "type": "string"
            }
          },
          "metadata": {}
        },
        {
          "output_type": "display_data",
          "data": {
            "text/plain": [
              "'1995-12-31: 102.93584772696396 | 106.00297400813005'"
            ],
            "application/vnd.google.colaboratory.intrinsic+json": {
              "type": "string"
            }
          },
          "metadata": {}
        },
        {
          "output_type": "display_data",
          "data": {
            "text/plain": [
              "'1996-01-31: 99.0302440207944 | 107.15923167894346'"
            ],
            "application/vnd.google.colaboratory.intrinsic+json": {
              "type": "string"
            }
          },
          "metadata": {}
        },
        {
          "output_type": "display_data",
          "data": {
            "text/plain": [
              "'1996-02-29: 102.86449840717003 | 109.24136717672161'"
            ],
            "application/vnd.google.colaboratory.intrinsic+json": {
              "type": "string"
            }
          },
          "metadata": {}
        },
        {
          "output_type": "display_data",
          "data": {
            "text/plain": [
              "'1996-03-31: 102.48930771505925 | 110.70786480086636'"
            ],
            "application/vnd.google.colaboratory.intrinsic+json": {
              "type": "string"
            }
          },
          "metadata": {}
        },
        {
          "output_type": "display_data",
          "data": {
            "text/plain": [
              "'1996-04-30: 105.51781105303985 | 105.51781105303985'"
            ],
            "application/vnd.google.colaboratory.intrinsic+json": {
              "type": "string"
            }
          },
          "metadata": {}
        },
        {
          "output_type": "display_data",
          "data": {
            "text/plain": [
              "'1996-05-31: 109.51385696446663 | 111.3810513465329'"
            ],
            "application/vnd.google.colaboratory.intrinsic+json": {
              "type": "string"
            }
          },
          "metadata": {}
        },
        {
          "output_type": "display_data",
          "data": {
            "text/plain": [
              "'1996-06-30: 109.21198061954817 | 106.9574949130145'"
            ],
            "application/vnd.google.colaboratory.intrinsic+json": {
              "type": "string"
            }
          },
          "metadata": {}
        },
        {
          "output_type": "display_data",
          "data": {
            "text/plain": [
              "'1996-07-31: 100.93248365744904 | 97.03659939159712'"
            ],
            "application/vnd.google.colaboratory.intrinsic+json": {
              "type": "string"
            }
          },
          "metadata": {}
        },
        {
          "output_type": "display_data",
          "data": {
            "text/plain": [
              "'1996-08-31: 105.98228351729028 | 102.46989538514373'"
            ],
            "application/vnd.google.colaboratory.intrinsic+json": {
              "type": "string"
            }
          },
          "metadata": {}
        },
        {
          "output_type": "display_data",
          "data": {
            "text/plain": [
              "'1996-09-30: 111.32402051851732 | 107.4289464341532'"
            ],
            "application/vnd.google.colaboratory.intrinsic+json": {
              "type": "string"
            }
          },
          "metadata": {}
        },
        {
          "output_type": "display_data",
          "data": {
            "text/plain": [
              "'1996-10-31: 106.80695327680198 | 106.09832445875963'"
            ],
            "application/vnd.google.colaboratory.intrinsic+json": {
              "type": "string"
            }
          },
          "metadata": {}
        },
        {
          "output_type": "display_data",
          "data": {
            "text/plain": [
              "'1996-11-30: 105.12188679670092 | 109.83084159272522'"
            ],
            "application/vnd.google.colaboratory.intrinsic+json": {
              "type": "string"
            }
          },
          "metadata": {}
        },
        {
          "output_type": "display_data",
          "data": {
            "text/plain": [
              "'1996-12-31: 104.8970569607776 | 112.30619855562244'"
            ],
            "application/vnd.google.colaboratory.intrinsic+json": {
              "type": "string"
            }
          },
          "metadata": {}
        },
        {
          "output_type": "display_data",
          "data": {
            "text/plain": [
              "'1997-01-31: 103.5883591291132 | 116.4829479189284'"
            ],
            "application/vnd.google.colaboratory.intrinsic+json": {
              "type": "string"
            }
          },
          "metadata": {}
        },
        {
          "output_type": "display_data",
          "data": {
            "text/plain": [
              "'1997-02-28: 96.3734826972948 | 111.44332276234138'"
            ],
            "application/vnd.google.colaboratory.intrinsic+json": {
              "type": "string"
            }
          },
          "metadata": {}
        },
        {
          "output_type": "display_data",
          "data": {
            "text/plain": [
              "'1997-03-31: 93.32802308112412 | 105.23058834374893'"
            ],
            "application/vnd.google.colaboratory.intrinsic+json": {
              "type": "string"
            }
          },
          "metadata": {}
        },
        {
          "output_type": "display_data",
          "data": {
            "text/plain": [
              "'1997-04-30: 91.61405645964716 | 91.61405645964717'"
            ],
            "application/vnd.google.colaboratory.intrinsic+json": {
              "type": "string"
            }
          },
          "metadata": {}
        },
        {
          "output_type": "display_data",
          "data": {
            "text/plain": [
              "'1997-05-31: 86.27152338854413 | 104.58610852886889'"
            ],
            "application/vnd.google.colaboratory.intrinsic+json": {
              "type": "string"
            }
          },
          "metadata": {}
        },
        {
          "output_type": "display_data",
          "data": {
            "text/plain": [
              "'1997-06-30: 90.56313665789858 | 110.35084281150225'"
            ],
            "application/vnd.google.colaboratory.intrinsic+json": {
              "type": "string"
            }
          },
          "metadata": {}
        },
        {
          "output_type": "display_data",
          "data": {
            "text/plain": [
              "'1997-07-31: 93.6931382079659 | 115.4141705598322'"
            ],
            "application/vnd.google.colaboratory.intrinsic+json": {
              "type": "string"
            }
          },
          "metadata": {}
        },
        {
          "output_type": "display_data",
          "data": {
            "text/plain": [
              "'1997-08-31: 92.13495714431862 | 119.39518935882103'"
            ],
            "application/vnd.google.colaboratory.intrinsic+json": {
              "type": "string"
            }
          },
          "metadata": {}
        },
        {
          "output_type": "display_data",
          "data": {
            "text/plain": [
              "'1997-09-30: 94.08877956610226 | 128.0437023398164'"
            ],
            "application/vnd.google.colaboratory.intrinsic+json": {
              "type": "string"
            }
          },
          "metadata": {}
        },
        {
          "output_type": "display_data",
          "data": {
            "text/plain": [
              "'1997-10-31: 93.05786732319567 | 120.93456656683273'"
            ],
            "application/vnd.google.colaboratory.intrinsic+json": {
              "type": "string"
            }
          },
          "metadata": {}
        },
        {
          "output_type": "display_data",
          "data": {
            "text/plain": [
              "'1997-11-30: 94.8815884614213 | 118.57199688609737'"
            ],
            "application/vnd.google.colaboratory.intrinsic+json": {
              "type": "string"
            }
          },
          "metadata": {}
        },
        {
          "output_type": "display_data",
          "data": {
            "text/plain": [
              "'1997-12-31: 101.73125427282852 | 117.30314784206877'"
            ],
            "application/vnd.google.colaboratory.intrinsic+json": {
              "type": "string"
            }
          },
          "metadata": {}
        },
        {
          "output_type": "display_data",
          "data": {
            "text/plain": [
              "'1998-01-31: 98.41309264379737 | 116.71724226926224'"
            ],
            "application/vnd.google.colaboratory.intrinsic+json": {
              "type": "string"
            }
          },
          "metadata": {}
        },
        {
          "output_type": "display_data",
          "data": {
            "text/plain": [
              "'1998-02-28: 94.30029873798325 | 126.21008023782656'"
            ],
            "application/vnd.google.colaboratory.intrinsic+json": {
              "type": "string"
            }
          },
          "metadata": {}
        },
        {
          "output_type": "display_data",
          "data": {
            "text/plain": [
              "'1998-03-31: 89.96738606728762 | 132.2095275591854'"
            ],
            "application/vnd.google.colaboratory.intrinsic+json": {
              "type": "string"
            }
          },
          "metadata": {}
        },
        {
          "output_type": "display_data",
          "data": {
            "text/plain": [
              "'1998-04-30: 88.19783310315113 | 88.19783310315113'"
            ],
            "application/vnd.google.colaboratory.intrinsic+json": {
              "type": "string"
            }
          },
          "metadata": {}
        },
        {
          "output_type": "display_data",
          "data": {
            "text/plain": [
              "'1998-05-31: 89.20278976777774 | 83.05626970664031'"
            ],
            "application/vnd.google.colaboratory.intrinsic+json": {
              "type": "string"
            }
          },
          "metadata": {}
        },
        {
          "output_type": "display_data",
          "data": {
            "text/plain": [
              "'1998-06-30: 97.6709179767369 | 84.42327442860112'"
            ],
            "application/vnd.google.colaboratory.intrinsic+json": {
              "type": "string"
            }
          },
          "metadata": {}
        },
        {
          "output_type": "display_data",
          "data": {
            "text/plain": [
              "'1998-07-31: 97.70769189066546 | 79.25961687973104'"
            ],
            "application/vnd.google.colaboratory.intrinsic+json": {
              "type": "string"
            }
          },
          "metadata": {}
        },
        {
          "output_type": "display_data",
          "data": {
            "text/plain": [
              "'1998-08-31: 93.94941120064553 | 62.19879261859758'"
            ],
            "application/vnd.google.colaboratory.intrinsic+json": {
              "type": "string"
            }
          },
          "metadata": {}
        },
        {
          "output_type": "display_data",
          "data": {
            "text/plain": [
              "'1998-09-30: 96.67662863753544 | 67.54240178915488'"
            ],
            "application/vnd.google.colaboratory.intrinsic+json": {
              "type": "string"
            }
          },
          "metadata": {}
        },
        {
          "output_type": "display_data",
          "data": {
            "text/plain": [
              "'1998-10-31: 95.44840617504727 | 70.97076131378799'"
            ],
            "application/vnd.google.colaboratory.intrinsic+json": {
              "type": "string"
            }
          },
          "metadata": {}
        },
        {
          "output_type": "display_data",
          "data": {
            "text/plain": [
              "'1998-11-30: 99.19589952804014 | 77.35081187542092'"
            ],
            "application/vnd.google.colaboratory.intrinsic+json": {
              "type": "string"
            }
          },
          "metadata": {}
        },
        {
          "output_type": "display_data",
          "data": {
            "text/plain": [
              "'1998-12-31: 105.08109843304409 | 81.0869823585693'"
            ],
            "application/vnd.google.colaboratory.intrinsic+json": {
              "type": "string"
            }
          },
          "metadata": {}
        },
        {
          "output_type": "display_data",
          "data": {
            "text/plain": [
              "'1999-01-31: 109.25984480397496 | 86.38577805639311'"
            ],
            "application/vnd.google.colaboratory.intrinsic+json": {
              "type": "string"
            }
          },
          "metadata": {}
        },
        {
          "output_type": "display_data",
          "data": {
            "text/plain": [
              "'1999-02-28: 107.54246672237414 | 80.78616447611331'"
            ],
            "application/vnd.google.colaboratory.intrinsic+json": {
              "type": "string"
            }
          },
          "metadata": {}
        },
        {
          "output_type": "display_data",
          "data": {
            "text/plain": [
              "'1999-03-31: 112.30015590370975 | 84.0232341755182'"
            ],
            "application/vnd.google.colaboratory.intrinsic+json": {
              "type": "string"
            }
          },
          "metadata": {}
        },
        {
          "output_type": "display_data",
          "data": {
            "text/plain": [
              "'1999-04-30: 114.09903572181872 | 114.09903572181875'"
            ],
            "application/vnd.google.colaboratory.intrinsic+json": {
              "type": "string"
            }
          },
          "metadata": {}
        },
        {
          "output_type": "display_data",
          "data": {
            "text/plain": [
              "'1999-05-31: 110.06486811565885 | 117.7847072983921'"
            ],
            "application/vnd.google.colaboratory.intrinsic+json": {
              "type": "string"
            }
          },
          "metadata": {}
        },
        {
          "output_type": "display_data",
          "data": {
            "text/plain": [
              "'1999-06-30: 119.40121740735965 | 125.75677886823951'"
            ],
            "application/vnd.google.colaboratory.intrinsic+json": {
              "type": "string"
            }
          },
          "metadata": {}
        },
        {
          "output_type": "display_data",
          "data": {
            "text/plain": [
              "'1999-07-31: 116.6994885988525 | 125.37501663899201'"
            ],
            "application/vnd.google.colaboratory.intrinsic+json": {
              "type": "string"
            }
          },
          "metadata": {}
        },
        {
          "output_type": "display_data",
          "data": {
            "text/plain": [
              "'1999-08-31: 120.33961522942681 | 121.14768130789133'"
            ],
            "application/vnd.google.colaboratory.intrinsic+json": {
              "type": "string"
            }
          },
          "metadata": {}
        },
        {
          "output_type": "display_data",
          "data": {
            "text/plain": [
              "'1999-09-30: 123.97083771494701 | 121.93143751813801'"
            ],
            "application/vnd.google.colaboratory.intrinsic+json": {
              "type": "string"
            }
          },
          "metadata": {}
        },
        {
          "output_type": "display_data",
          "data": {
            "text/plain": [
              "'1999-10-31: 131.55148686750823 | 120.84252130593248'"
            ],
            "application/vnd.google.colaboratory.intrinsic+json": {
              "type": "string"
            }
          },
          "metadata": {}
        },
        {
          "output_type": "display_data",
          "data": {
            "text/plain": [
              "'1999-11-30: 135.96478341988467 | 131.11805227663905'"
            ],
            "application/vnd.google.colaboratory.intrinsic+json": {
              "type": "string"
            }
          },
          "metadata": {}
        },
        {
          "output_type": "display_data",
          "data": {
            "text/plain": [
              "'1999-12-31: 143.29793455564447 | 147.9410649152597'"
            ],
            "application/vnd.google.colaboratory.intrinsic+json": {
              "type": "string"
            }
          },
          "metadata": {}
        },
        {
          "output_type": "display_data",
          "data": {
            "text/plain": [
              "'2000-01-31: 137.21302071305843 | 152.01487982988223'"
            ],
            "application/vnd.google.colaboratory.intrinsic+json": {
              "type": "string"
            }
          },
          "metadata": {}
        },
        {
          "output_type": "display_data",
          "data": {
            "text/plain": [
              "'2000-02-29: 164.87477559731988 | 184.71900825564816'"
            ],
            "application/vnd.google.colaboratory.intrinsic+json": {
              "type": "string"
            }
          },
          "metadata": {}
        },
        {
          "output_type": "display_data",
          "data": {
            "text/plain": [
              "'2000-03-31: 145.43012201286234 | 174.800414465934'"
            ],
            "application/vnd.google.colaboratory.intrinsic+json": {
              "type": "string"
            }
          },
          "metadata": {}
        },
        {
          "output_type": "display_data",
          "data": {
            "text/plain": [
              "'2000-04-30: 144.7641496951142 | 144.7641496951142'"
            ],
            "application/vnd.google.colaboratory.intrinsic+json": {
              "type": "string"
            }
          },
          "metadata": {}
        },
        {
          "output_type": "display_data",
          "data": {
            "text/plain": [
              "'2000-05-31: 134.13097721456546 | 138.0784751216318'"
            ],
            "application/vnd.google.colaboratory.intrinsic+json": {
              "type": "string"
            }
          },
          "metadata": {}
        },
        {
          "output_type": "display_data",
          "data": {
            "text/plain": [
              "'2000-06-30: 166.6818536505491 | 158.67752998871993'"
            ],
            "application/vnd.google.colaboratory.intrinsic+json": {
              "type": "string"
            }
          },
          "metadata": {}
        },
        {
          "output_type": "display_data",
          "data": {
            "text/plain": [
              "'2000-07-31: 145.36231694472355 | 153.74886570361804'"
            ],
            "application/vnd.google.colaboratory.intrinsic+json": {
              "type": "string"
            }
          },
          "metadata": {}
        },
        {
          "output_type": "display_data",
          "data": {
            "text/plain": [
              "'2000-08-31: 162.57554740003252 | 170.1709918510831'"
            ],
            "application/vnd.google.colaboratory.intrinsic+json": {
              "type": "string"
            }
          },
          "metadata": {}
        },
        {
          "output_type": "display_data",
          "data": {
            "text/plain": [
              "'2000-09-30: 156.19357600207584 | 169.4600973916369'"
            ],
            "application/vnd.google.colaboratory.intrinsic+json": {
              "type": "string"
            }
          },
          "metadata": {}
        },
        {
          "output_type": "display_data",
          "data": {
            "text/plain": [
              "'2000-10-31: 140.46593478307364 | 160.20291822356137'"
            ],
            "application/vnd.google.colaboratory.intrinsic+json": {
              "type": "string"
            }
          },
          "metadata": {}
        },
        {
          "output_type": "display_data",
          "data": {
            "text/plain": [
              "'2000-11-30: 113.88840584474296 | 140.54836670535678'"
            ],
            "application/vnd.google.colaboratory.intrinsic+json": {
              "type": "string"
            }
          },
          "metadata": {}
        },
        {
          "output_type": "display_data",
          "data": {
            "text/plain": [
              "'2000-12-31: 103.6615860457567 | 151.81104601081483'"
            ],
            "application/vnd.google.colaboratory.intrinsic+json": {
              "type": "string"
            }
          },
          "metadata": {}
        },
        {
          "output_type": "display_data",
          "data": {
            "text/plain": [
              "'2001-01-31: 99.91493155676623 | 163.0043350410118'"
            ],
            "application/vnd.google.colaboratory.intrinsic+json": {
              "type": "string"
            }
          },
          "metadata": {}
        },
        {
          "output_type": "display_data",
          "data": {
            "text/plain": [
              "'2001-02-28: 73.6733939618515 | 150.41034470668814'"
            ],
            "application/vnd.google.colaboratory.intrinsic+json": {
              "type": "string"
            }
          },
          "metadata": {}
        },
        {
          "output_type": "display_data",
          "data": {
            "text/plain": [
              "'2001-03-31: 64.76466021268317 | 142.71145233078965'"
            ],
            "application/vnd.google.colaboratory.intrinsic+json": {
              "type": "string"
            }
          },
          "metadata": {}
        },
        {
          "output_type": "display_data",
          "data": {
            "text/plain": [
              "'2001-04-30: 69.01280839444848 | 69.01280839444847'"
            ],
            "application/vnd.google.colaboratory.intrinsic+json": {
              "type": "string"
            }
          },
          "metadata": {}
        },
        {
          "output_type": "display_data",
          "data": {
            "text/plain": [
              "'2001-05-31: 68.4345299569614 | 73.27491299690725'"
            ],
            "application/vnd.google.colaboratory.intrinsic+json": {
              "type": "string"
            }
          },
          "metadata": {}
        },
        {
          "output_type": "display_data",
          "data": {
            "text/plain": [
              "'2001-06-30: 64.82129121590175 | 79.24554213632419'"
            ],
            "application/vnd.google.colaboratory.intrinsic+json": {
              "type": "string"
            }
          },
          "metadata": {}
        },
        {
          "output_type": "display_data",
          "data": {
            "text/plain": [
              "'2001-07-31: 69.8243950462028 | 75.16870020403343'"
            ],
            "application/vnd.google.colaboratory.intrinsic+json": {
              "type": "string"
            }
          },
          "metadata": {}
        },
        {
          "output_type": "display_data",
          "data": {
            "text/plain": [
              "'2001-08-31: 71.30515738888641 | 73.70374072724334'"
            ],
            "application/vnd.google.colaboratory.intrinsic+json": {
              "type": "string"
            }
          },
          "metadata": {}
        },
        {
          "output_type": "display_data",
          "data": {
            "text/plain": [
              "'2001-09-30: 77.78892743966566 | 63.671631459317666'"
            ],
            "application/vnd.google.colaboratory.intrinsic+json": {
              "type": "string"
            }
          },
          "metadata": {}
        },
        {
          "output_type": "display_data",
          "data": {
            "text/plain": [
              "'2001-10-31: 73.56861888912161 | 68.66145708848455'"
            ],
            "application/vnd.google.colaboratory.intrinsic+json": {
              "type": "string"
            }
          },
          "metadata": {}
        },
        {
          "output_type": "display_data",
          "data": {
            "text/plain": [
              "'2001-11-30: 66.80628518908216 | 75.97762097507612'"
            ],
            "application/vnd.google.colaboratory.intrinsic+json": {
              "type": "string"
            }
          },
          "metadata": {}
        },
        {
          "output_type": "display_data",
          "data": {
            "text/plain": [
              "'2001-12-31: 64.26593071139756 | 81.21142113755477'"
            ],
            "application/vnd.google.colaboratory.intrinsic+json": {
              "type": "string"
            }
          },
          "metadata": {}
        },
        {
          "output_type": "display_data",
          "data": {
            "text/plain": [
              "'2002-01-31: 66.05109477054935 | 80.8775372660919'"
            ],
            "application/vnd.google.colaboratory.intrinsic+json": {
              "type": "string"
            }
          },
          "metadata": {}
        },
        {
          "output_type": "display_data",
          "data": {
            "text/plain": [
              "'2002-02-28: 73.35465613338815 | 77.50858859255624'"
            ],
            "application/vnd.google.colaboratory.intrinsic+json": {
              "type": "string"
            }
          },
          "metadata": {}
        },
        {
          "output_type": "display_data",
          "data": {
            "text/plain": [
              "'2002-03-31: 68.7843922884197 | 84.62329225278167'"
            ],
            "application/vnd.google.colaboratory.intrinsic+json": {
              "type": "string"
            }
          },
          "metadata": {}
        },
        {
          "output_type": "display_data",
          "data": {
            "text/plain": [
              "'2002-04-30: 77.69096208937215 | 77.69096208937214'"
            ],
            "application/vnd.google.colaboratory.intrinsic+json": {
              "type": "string"
            }
          },
          "metadata": {}
        },
        {
          "output_type": "display_data",
          "data": {
            "text/plain": [
              "'2002-05-31: 76.89909922706626 | 76.38044038550908'"
            ],
            "application/vnd.google.colaboratory.intrinsic+json": {
              "type": "string"
            }
          },
          "metadata": {}
        },
        {
          "output_type": "display_data",
          "data": {
            "text/plain": [
              "'2002-06-30: 81.9150796628578 | 74.61697695940103'"
            ],
            "application/vnd.google.colaboratory.intrinsic+json": {
              "type": "string"
            }
          },
          "metadata": {}
        },
        {
          "output_type": "display_data",
          "data": {
            "text/plain": [
              "'2002-07-31: 83.97050312733916 | 65.0424070429377'"
            ],
            "application/vnd.google.colaboratory.intrinsic+json": {
              "type": "string"
            }
          },
          "metadata": {}
        },
        {
          "output_type": "display_data",
          "data": {
            "text/plain": [
              "'2002-08-31: 84.7016388658638 | 65.74094078910282'"
            ],
            "application/vnd.google.colaboratory.intrinsic+json": {
              "type": "string"
            }
          },
          "metadata": {}
        },
        {
          "output_type": "display_data",
          "data": {
            "text/plain": [
              "'2002-09-30: 87.11693144007208 | 60.49011491074671'"
            ],
            "application/vnd.google.colaboratory.intrinsic+json": {
              "type": "string"
            }
          },
          "metadata": {}
        },
        {
          "output_type": "display_data",
          "data": {
            "text/plain": [
              "'2002-10-31: 84.49732012542601 | 62.675687775741864'"
            ],
            "application/vnd.google.colaboratory.intrinsic+json": {
              "type": "string"
            }
          },
          "metadata": {}
        },
        {
          "output_type": "display_data",
          "data": {
            "text/plain": [
              "'2002-11-30: 78.89361836584611 | 67.96657501597473'"
            ],
            "application/vnd.google.colaboratory.intrinsic+json": {
              "type": "string"
            }
          },
          "metadata": {}
        },
        {
          "output_type": "display_data",
          "data": {
            "text/plain": [
              "'2002-12-31: 79.57818089539607 | 66.5470942733588'"
            ],
            "application/vnd.google.colaboratory.intrinsic+json": {
              "type": "string"
            }
          },
          "metadata": {}
        },
        {
          "output_type": "display_data",
          "data": {
            "text/plain": [
              "'2003-01-31: 79.64136964948673 | 65.3868164256826'"
            ],
            "application/vnd.google.colaboratory.intrinsic+json": {
              "type": "string"
            }
          },
          "metadata": {}
        },
        {
          "output_type": "display_data",
          "data": {
            "text/plain": [
              "'2003-02-28: 78.45397162702521 | 64.23658086873644'"
            ],
            "application/vnd.google.colaboratory.intrinsic+json": {
              "type": "string"
            }
          },
          "metadata": {}
        },
        {
          "output_type": "display_data",
          "data": {
            "text/plain": [
              "'2003-03-31: 78.12269982099096 | 65.60716730311397'"
            ],
            "application/vnd.google.colaboratory.intrinsic+json": {
              "type": "string"
            }
          },
          "metadata": {}
        },
        {
          "output_type": "display_data",
          "data": {
            "text/plain": [
              "'2003-04-30: 72.25393645089028 | 72.2539364508903'"
            ],
            "application/vnd.google.colaboratory.intrinsic+json": {
              "type": "string"
            }
          },
          "metadata": {}
        },
        {
          "output_type": "display_data",
          "data": {
            "text/plain": [
              "'2003-05-31: 70.18991852267854 | 79.87239466656226'"
            ],
            "application/vnd.google.colaboratory.intrinsic+json": {
              "type": "string"
            }
          },
          "metadata": {}
        },
        {
          "output_type": "display_data",
          "data": {
            "text/plain": [
              "'2003-06-30: 68.93544020450656 | 83.89712767705161'"
            ],
            "application/vnd.google.colaboratory.intrinsic+json": {
              "type": "string"
            }
          },
          "metadata": {}
        },
        {
          "output_type": "display_data",
          "data": {
            "text/plain": [
              "'2003-07-31: 64.72686534388185 | 89.6331244914626'"
            ],
            "application/vnd.google.colaboratory.intrinsic+json": {
              "type": "string"
            }
          },
          "metadata": {}
        },
        {
          "output_type": "display_data",
          "data": {
            "text/plain": [
              "'2003-08-31: 63.93730997924513 | 93.54147514855133'"
            ],
            "application/vnd.google.colaboratory.intrinsic+json": {
              "type": "string"
            }
          },
          "metadata": {}
        },
        {
          "output_type": "display_data",
          "data": {
            "text/plain": [
              "'2003-09-30: 65.87917840202148 | 92.99889315890088'"
            ],
            "application/vnd.google.colaboratory.intrinsic+json": {
              "type": "string"
            }
          },
          "metadata": {}
        },
        {
          "output_type": "display_data",
          "data": {
            "text/plain": [
              "'2003-10-31: 63.552868433614066 | 100.89366759225301'"
            ],
            "application/vnd.google.colaboratory.intrinsic+json": {
              "type": "string"
            }
          },
          "metadata": {}
        },
        {
          "output_type": "display_data",
          "data": {
            "text/plain": [
              "'2003-11-30: 61.524513823009016 | 104.48786515091452'"
            ],
            "application/vnd.google.colaboratory.intrinsic+json": {
              "type": "string"
            }
          },
          "metadata": {}
        },
        {
          "output_type": "display_data",
          "data": {
            "text/plain": [
              "'2003-12-31: 61.699854541582866 | 108.62105385452757'"
            ],
            "application/vnd.google.colaboratory.intrinsic+json": {
              "type": "string"
            }
          },
          "metadata": {}
        },
        {
          "output_type": "display_data",
          "data": {
            "text/plain": [
              "'2004-01-31: 57.06870162702995 | 115.71810146499978'"
            ],
            "application/vnd.google.colaboratory.intrinsic+json": {
              "type": "string"
            }
          },
          "metadata": {}
        },
        {
          "output_type": "display_data",
          "data": {
            "text/plain": [
              "'2004-02-29: 55.03650954909274 | 117.05680717445115'"
            ],
            "application/vnd.google.colaboratory.intrinsic+json": {
              "type": "string"
            }
          },
          "metadata": {}
        },
        {
          "output_type": "display_data",
          "data": {
            "text/plain": [
              "'2004-03-31: 52.81344688095376 | 117.35676060632663'"
            ],
            "application/vnd.google.colaboratory.intrinsic+json": {
              "type": "string"
            }
          },
          "metadata": {}
        },
        {
          "output_type": "display_data",
          "data": {
            "text/plain": [
              "'2004-04-30: 53.25117006088111 | 53.2511700608811'"
            ],
            "application/vnd.google.colaboratory.intrinsic+json": {
              "type": "string"
            }
          },
          "metadata": {}
        },
        {
          "output_type": "display_data",
          "data": {
            "text/plain": [
              "'2004-05-31: 53.343152623731896 | 53.13092215285261'"
            ],
            "application/vnd.google.colaboratory.intrinsic+json": {
              "type": "string"
            }
          },
          "metadata": {}
        },
        {
          "output_type": "display_data",
          "data": {
            "text/plain": [
              "'2004-06-30: 53.48499255421672 | 55.01458064402647'"
            ],
            "application/vnd.google.colaboratory.intrinsic+json": {
              "type": "string"
            }
          },
          "metadata": {}
        },
        {
          "output_type": "display_data",
          "data": {
            "text/plain": [
              "'2004-07-31: 51.41498313272753 | 51.79645239670237'"
            ],
            "application/vnd.google.colaboratory.intrinsic+json": {
              "type": "string"
            }
          },
          "metadata": {}
        },
        {
          "output_type": "display_data",
          "data": {
            "text/plain": [
              "'2004-08-31: 50.20951723580098 | 52.082226752341505'"
            ],
            "application/vnd.google.colaboratory.intrinsic+json": {
              "type": "string"
            }
          },
          "metadata": {}
        },
        {
          "output_type": "display_data",
          "data": {
            "text/plain": [
              "'2004-09-30: 52.10261614901344 | 54.22496450082189'"
            ],
            "application/vnd.google.colaboratory.intrinsic+json": {
              "type": "string"
            }
          },
          "metadata": {}
        },
        {
          "output_type": "display_data",
          "data": {
            "text/plain": [
              "'2004-10-31: 52.52440704958575 | 55.12426182832409'"
            ],
            "application/vnd.google.colaboratory.intrinsic+json": {
              "type": "string"
            }
          },
          "metadata": {}
        },
        {
          "output_type": "display_data",
          "data": {
            "text/plain": [
              "'2004-11-30: 55.23162086442292 | 59.37552711338348'"
            ],
            "application/vnd.google.colaboratory.intrinsic+json": {
              "type": "string"
            }
          },
          "metadata": {}
        },
        {
          "output_type": "display_data",
          "data": {
            "text/plain": [
              "'2004-12-31: 56.641992230827036 | 61.46851915657843'"
            ],
            "application/vnd.google.colaboratory.intrinsic+json": {
              "type": "string"
            }
          },
          "metadata": {}
        },
        {
          "output_type": "display_data",
          "data": {
            "text/plain": [
              "'2005-01-31: 55.31697239297188 | 60.06342490491276'"
            ],
            "application/vnd.google.colaboratory.intrinsic+json": {
              "type": "string"
            }
          },
          "metadata": {}
        },
        {
          "output_type": "display_data",
          "data": {
            "text/plain": [
              "'2005-02-28: 57.04050454246473 | 61.550214636496484'"
            ],
            "application/vnd.google.colaboratory.intrinsic+json": {
              "type": "string"
            }
          },
          "metadata": {}
        },
        {
          "output_type": "display_data",
          "data": {
            "text/plain": [
              "'2005-03-31: 55.499454629355895 | 58.89016008859682'"
            ],
            "application/vnd.google.colaboratory.intrinsic+json": {
              "type": "string"
            }
          },
          "metadata": {}
        },
        {
          "output_type": "display_data",
          "data": {
            "text/plain": [
              "'2005-04-30: 53.811791958124374 | 53.81179195812437'"
            ],
            "application/vnd.google.colaboratory.intrinsic+json": {
              "type": "string"
            }
          },
          "metadata": {}
        },
        {
          "output_type": "display_data",
          "data": {
            "text/plain": [
              "'2005-05-31: 52.1346322609904 | 57.15927967832267'"
            ],
            "application/vnd.google.colaboratory.intrinsic+json": {
              "type": "string"
            }
          },
          "metadata": {}
        },
        {
          "output_type": "display_data",
          "data": {
            "text/plain": [
              "'2005-06-30: 51.29319364683579 | 60.0397756405337'"
            ],
            "application/vnd.google.colaboratory.intrinsic+json": {
              "type": "string"
            }
          },
          "metadata": {}
        },
        {
          "output_type": "display_data",
          "data": {
            "text/plain": [
              "'2005-07-31: 49.674386821604955 | 64.49758159539633'"
            ],
            "application/vnd.google.colaboratory.intrinsic+json": {
              "type": "string"
            }
          },
          "metadata": {}
        },
        {
          "output_type": "display_data",
          "data": {
            "text/plain": [
              "'2005-08-31: 50.937107615238304 | 63.67472961963515'"
            ],
            "application/vnd.google.colaboratory.intrinsic+json": {
              "type": "string"
            }
          },
          "metadata": {}
        },
        {
          "output_type": "display_data",
          "data": {
            "text/plain": [
              "'2005-09-30: 52.007085049014044 | 64.23404245740616'"
            ],
            "application/vnd.google.colaboratory.intrinsic+json": {
              "type": "string"
            }
          },
          "metadata": {}
        },
        {
          "output_type": "display_data",
          "data": {
            "text/plain": [
              "'2005-10-31: 50.73835795966334 | 62.25587703160944'"
            ],
            "application/vnd.google.colaboratory.intrinsic+json": {
              "type": "string"
            }
          },
          "metadata": {}
        },
        {
          "output_type": "display_data",
          "data": {
            "text/plain": [
              "'2005-11-30: 51.8745230150214 | 65.25317342892737'"
            ],
            "application/vnd.google.colaboratory.intrinsic+json": {
              "type": "string"
            }
          },
          "metadata": {}
        },
        {
          "output_type": "display_data",
          "data": {
            "text/plain": [
              "'2005-12-31: 51.634566893822836 | 65.43929895297845'"
            ],
            "application/vnd.google.colaboratory.intrinsic+json": {
              "type": "string"
            }
          },
          "metadata": {}
        },
        {
          "output_type": "display_data",
          "data": {
            "text/plain": [
              "'2006-01-31: 51.883923381653524 | 72.33285723905817'"
            ],
            "application/vnd.google.colaboratory.intrinsic+json": {
              "type": "string"
            }
          },
          "metadata": {}
        },
        {
          "output_type": "display_data",
          "data": {
            "text/plain": [
              "'2006-02-28: 51.527732750076204 | 71.88971762123742'"
            ],
            "application/vnd.google.colaboratory.intrinsic+json": {
              "type": "string"
            }
          },
          "metadata": {}
        },
        {
          "output_type": "display_data",
          "data": {
            "text/plain": [
              "'2006-03-31: 50.52517648794839 | 75.5712096795996'"
            ],
            "application/vnd.google.colaboratory.intrinsic+json": {
              "type": "string"
            }
          },
          "metadata": {}
        },
        {
          "output_type": "display_data",
          "data": {
            "text/plain": [
              "'2006-04-30: 51.66356439819947 | 51.66356439819947'"
            ],
            "application/vnd.google.colaboratory.intrinsic+json": {
              "type": "string"
            }
          },
          "metadata": {}
        },
        {
          "output_type": "display_data",
          "data": {
            "text/plain": [
              "'2006-05-31: 49.62897515563667 | 49.33519995131492'"
            ],
            "application/vnd.google.colaboratory.intrinsic+json": {
              "type": "string"
            }
          },
          "metadata": {}
        },
        {
          "output_type": "display_data",
          "data": {
            "text/plain": [
              "'2006-06-30: 49.408754270529585 | 49.51446775501907'"
            ],
            "application/vnd.google.colaboratory.intrinsic+json": {
              "type": "string"
            }
          },
          "metadata": {}
        },
        {
          "output_type": "display_data",
          "data": {
            "text/plain": [
              "'2006-07-31: 48.753453299450406 | 48.375573549176025'"
            ],
            "application/vnd.google.colaboratory.intrinsic+json": {
              "type": "string"
            }
          },
          "metadata": {}
        },
        {
          "output_type": "display_data",
          "data": {
            "text/plain": [
              "'2006-08-31: 49.094979492393406 | 49.533036694287404'"
            ],
            "application/vnd.google.colaboratory.intrinsic+json": {
              "type": "string"
            }
          },
          "metadata": {}
        },
        {
          "output_type": "display_data",
          "data": {
            "text/plain": [
              "'2006-09-30: 47.65959504048496 | 49.7288811967436'"
            ],
            "application/vnd.google.colaboratory.intrinsic+json": {
              "type": "string"
            }
          },
          "metadata": {}
        },
        {
          "output_type": "display_data",
          "data": {
            "text/plain": [
              "'2006-10-31: 47.21559426374162 | 52.468873842147275'"
            ],
            "application/vnd.google.colaboratory.intrinsic+json": {
              "type": "string"
            }
          },
          "metadata": {}
        },
        {
          "output_type": "display_data",
          "data": {
            "text/plain": [
              "'2006-11-30: 47.68251234159936 | 54.14597802112844'"
            ],
            "application/vnd.google.colaboratory.intrinsic+json": {
              "type": "string"
            }
          },
          "metadata": {}
        },
        {
          "output_type": "display_data",
          "data": {
            "text/plain": [
              "'2006-12-31: 47.632489389623785 | 55.21018389667866'"
            ],
            "application/vnd.google.colaboratory.intrinsic+json": {
              "type": "string"
            }
          },
          "metadata": {}
        },
        {
          "output_type": "display_data",
          "data": {
            "text/plain": [
              "'2007-01-31: 47.414491798339355 | 55.94951399246071'"
            ],
            "application/vnd.google.colaboratory.intrinsic+json": {
              "type": "string"
            }
          },
          "metadata": {}
        },
        {
          "output_type": "display_data",
          "data": {
            "text/plain": [
              "'2007-02-28: 47.55915146836035 | 55.6543734159542'"
            ],
            "application/vnd.google.colaboratory.intrinsic+json": {
              "type": "string"
            }
          },
          "metadata": {}
        },
        {
          "output_type": "display_data",
          "data": {
            "text/plain": [
              "'2007-03-31: 46.73437075242095 | 56.66135322736642'"
            ],
            "application/vnd.google.colaboratory.intrinsic+json": {
              "type": "string"
            }
          },
          "metadata": {}
        },
        {
          "output_type": "display_data",
          "data": {
            "text/plain": [
              "'2007-04-30: 46.81186914116987 | 46.811869141169865'"
            ],
            "application/vnd.google.colaboratory.intrinsic+json": {
              "type": "string"
            }
          },
          "metadata": {}
        },
        {
          "output_type": "display_data",
          "data": {
            "text/plain": [
              "'2007-05-31: 47.839401144484114 | 48.65772617427322'"
            ],
            "application/vnd.google.colaboratory.intrinsic+json": {
              "type": "string"
            }
          },
          "metadata": {}
        },
        {
          "output_type": "display_data",
          "data": {
            "text/plain": [
              "'2007-06-30: 48.698555785085084 | 49.0364481410234'"
            ],
            "application/vnd.google.colaboratory.intrinsic+json": {
              "type": "string"
            }
          },
          "metadata": {}
        },
        {
          "output_type": "display_data",
          "data": {
            "text/plain": [
              "'2007-07-31: 51.051663785831735 | 46.20223432423391'"
            ],
            "application/vnd.google.colaboratory.intrinsic+json": {
              "type": "string"
            }
          },
          "metadata": {}
        },
        {
          "output_type": "display_data",
          "data": {
            "text/plain": [
              "'2007-08-31: 51.19550996971709 | 47.360279486169375'"
            ],
            "application/vnd.google.colaboratory.intrinsic+json": {
              "type": "string"
            }
          },
          "metadata": {}
        },
        {
          "output_type": "display_data",
          "data": {
            "text/plain": [
              "'2007-09-30: 53.40183878917128 | 48.643602784428055'"
            ],
            "application/vnd.google.colaboratory.intrinsic+json": {
              "type": "string"
            }
          },
          "metadata": {}
        },
        {
          "output_type": "display_data",
          "data": {
            "text/plain": [
              "'2007-10-31: 56.10373897876685 | 50.13422026524104'"
            ],
            "application/vnd.google.colaboratory.intrinsic+json": {
              "type": "string"
            }
          },
          "metadata": {}
        },
        {
          "output_type": "display_data",
          "data": {
            "text/plain": [
              "'2007-11-30: 54.02161680853328 | 45.96794256201258'"
            ],
            "application/vnd.google.colaboratory.intrinsic+json": {
              "type": "string"
            }
          },
          "metadata": {}
        },
        {
          "output_type": "display_data",
          "data": {
            "text/plain": [
              "'2007-12-31: 53.82898670943092 | 45.97880121142856'"
            ],
            "application/vnd.google.colaboratory.intrinsic+json": {
              "type": "string"
            }
          },
          "metadata": {}
        },
        {
          "output_type": "display_data",
          "data": {
            "text/plain": [
              "'2008-01-31: 50.46929998483438 | 42.473947450579615'"
            ],
            "application/vnd.google.colaboratory.intrinsic+json": {
              "type": "string"
            }
          },
          "metadata": {}
        },
        {
          "output_type": "display_data",
          "data": {
            "text/plain": [
              "'2008-02-29: 51.23891772866184 | 41.5348446166728'"
            ],
            "application/vnd.google.colaboratory.intrinsic+json": {
              "type": "string"
            }
          },
          "metadata": {}
        },
        {
          "output_type": "display_data",
          "data": {
            "text/plain": [
              "'2008-03-31: 48.72776456692415 | 41.12906376752751'"
            ],
            "application/vnd.google.colaboratory.intrinsic+json": {
              "type": "string"
            }
          },
          "metadata": {}
        },
        {
          "output_type": "display_data",
          "data": {
            "text/plain": [
              "'2008-04-30: 49.78616412661028 | 49.78616412661029'"
            ],
            "application/vnd.google.colaboratory.intrinsic+json": {
              "type": "string"
            }
          },
          "metadata": {}
        },
        {
          "output_type": "display_data",
          "data": {
            "text/plain": [
              "'2008-05-31: 48.55536708234956 | 52.5047491904601'"
            ],
            "application/vnd.google.colaboratory.intrinsic+json": {
              "type": "string"
            }
          },
          "metadata": {}
        },
        {
          "output_type": "display_data",
          "data": {
            "text/plain": [
              "'2008-06-30: 51.24296580627446 | 48.36778521554369'"
            ],
            "application/vnd.google.colaboratory.intrinsic+json": {
              "type": "string"
            }
          },
          "metadata": {}
        },
        {
          "output_type": "display_data",
          "data": {
            "text/plain": [
              "'2008-07-31: 47.96406136829907 | 50.071350498113944'"
            ],
            "application/vnd.google.colaboratory.intrinsic+json": {
              "type": "string"
            }
          },
          "metadata": {}
        },
        {
          "output_type": "display_data",
          "data": {
            "text/plain": [
              "'2008-08-31: 45.719742686372776 | 50.95609413681403'"
            ],
            "application/vnd.google.colaboratory.intrinsic+json": {
              "type": "string"
            }
          },
          "metadata": {}
        },
        {
          "output_type": "display_data",
          "data": {
            "text/plain": [
              "'2008-09-30: 45.605083375994525 | 46.5435118863745'"
            ],
            "application/vnd.google.colaboratory.intrinsic+json": {
              "type": "string"
            }
          },
          "metadata": {}
        },
        {
          "output_type": "display_data",
          "data": {
            "text/plain": [
              "'2008-10-31: 47.77707155875407 | 38.35737263951924'"
            ],
            "application/vnd.google.colaboratory.intrinsic+json": {
              "type": "string"
            }
          },
          "metadata": {}
        },
        {
          "output_type": "display_data",
          "data": {
            "text/plain": [
              "'2008-11-30: 49.29635277600656 | 34.55414741956763'"
            ],
            "application/vnd.google.colaboratory.intrinsic+json": {
              "type": "string"
            }
          },
          "metadata": {}
        },
        {
          "output_type": "display_data",
          "data": {
            "text/plain": [
              "'2008-12-31: 46.94338066390269 | 37.079227415798414'"
            ],
            "application/vnd.google.colaboratory.intrinsic+json": {
              "type": "string"
            }
          },
          "metadata": {}
        },
        {
          "output_type": "display_data",
          "data": {
            "text/plain": [
              "'2009-01-31: 49.19448868390188 | 33.75423447634712'"
            ],
            "application/vnd.google.colaboratory.intrinsic+json": {
              "type": "string"
            }
          },
          "metadata": {}
        },
        {
          "output_type": "display_data",
          "data": {
            "text/plain": [
              "'2009-02-28: 49.63685794539771 | 30.748236042286283'"
            ],
            "application/vnd.google.colaboratory.intrinsic+json": {
              "type": "string"
            }
          },
          "metadata": {}
        },
        {
          "output_type": "display_data",
          "data": {
            "text/plain": [
              "'2009-03-31: 46.569841677370086 | 33.321084790529454'"
            ],
            "application/vnd.google.colaboratory.intrinsic+json": {
              "type": "string"
            }
          },
          "metadata": {}
        },
        {
          "output_type": "display_data",
          "data": {
            "text/plain": [
              "'2009-04-30: 41.590958065475675 | 41.590958065475675'"
            ],
            "application/vnd.google.colaboratory.intrinsic+json": {
              "type": "string"
            }
          },
          "metadata": {}
        },
        {
          "output_type": "display_data",
          "data": {
            "text/plain": [
              "'2009-05-31: 35.334830858917414 | 46.629796365893625'"
            ],
            "application/vnd.google.colaboratory.intrinsic+json": {
              "type": "string"
            }
          },
          "metadata": {}
        },
        {
          "output_type": "display_data",
          "data": {
            "text/plain": [
              "'2009-06-30: 34.52684033800299 | 47.938249710234004'"
            ],
            "application/vnd.google.colaboratory.intrinsic+json": {
              "type": "string"
            }
          },
          "metadata": {}
        },
        {
          "output_type": "display_data",
          "data": {
            "text/plain": [
              "'2009-07-31: 33.108266446038726 | 51.74780533301251'"
            ],
            "application/vnd.google.colaboratory.intrinsic+json": {
              "type": "string"
            }
          },
          "metadata": {}
        },
        {
          "output_type": "display_data",
          "data": {
            "text/plain": [
              "'2009-08-31: 31.263880224552025 | 53.10731845917272'"
            ],
            "application/vnd.google.colaboratory.intrinsic+json": {
              "type": "string"
            }
          },
          "metadata": {}
        },
        {
          "output_type": "display_data",
          "data": {
            "text/plain": [
              "'2009-09-30: 28.65404161238511 | 56.83416826485009'"
            ],
            "application/vnd.google.colaboratory.intrinsic+json": {
              "type": "string"
            }
          },
          "metadata": {}
        },
        {
          "output_type": "display_data",
          "data": {
            "text/plain": [
              "'2009-10-31: 29.471568780538632 | 54.072379563641306'"
            ],
            "application/vnd.google.colaboratory.intrinsic+json": {
              "type": "string"
            }
          },
          "metadata": {}
        },
        {
          "output_type": "display_data",
          "data": {
            "text/plain": [
              "'2009-11-30: 27.583009468276806 | 56.153214828852'"
            ],
            "application/vnd.google.colaboratory.intrinsic+json": {
              "type": "string"
            }
          },
          "metadata": {}
        },
        {
          "output_type": "display_data",
          "data": {
            "text/plain": [
              "'2009-12-31: 25.448902795005168 | 59.90371692441053'"
            ],
            "application/vnd.google.colaboratory.intrinsic+json": {
              "type": "string"
            }
          },
          "metadata": {}
        },
        {
          "output_type": "display_data",
          "data": {
            "text/plain": [
              "'2010-01-31: 28.00963706277158 | 57.336486860068106'"
            ],
            "application/vnd.google.colaboratory.intrinsic+json": {
              "type": "string"
            }
          },
          "metadata": {}
        },
        {
          "output_type": "display_data",
          "data": {
            "text/plain": [
              "'2010-02-28: 27.078531930250694 | 59.21543840302911'"
            ],
            "application/vnd.google.colaboratory.intrinsic+json": {
              "type": "string"
            }
          },
          "metadata": {}
        },
        {
          "output_type": "display_data",
          "data": {
            "text/plain": [
              "'2010-03-31: 23.456591720055208 | 64.20406874162177'"
            ],
            "application/vnd.google.colaboratory.intrinsic+json": {
              "type": "string"
            }
          },
          "metadata": {}
        },
        {
          "output_type": "display_data",
          "data": {
            "text/plain": [
              "'2010-04-30: 22.152320539823585 | 22.152320539823585'"
            ],
            "application/vnd.google.colaboratory.intrinsic+json": {
              "type": "string"
            }
          },
          "metadata": {}
        },
        {
          "output_type": "display_data",
          "data": {
            "text/plain": [
              "'2010-05-31: 21.66142187117032 | 20.470563082980952'"
            ],
            "application/vnd.google.colaboratory.intrinsic+json": {
              "type": "string"
            }
          },
          "metadata": {}
        },
        {
          "output_type": "display_data",
          "data": {
            "text/plain": [
              "'2010-06-30: 21.324328102999637 | 19.624505561131464'"
            ],
            "application/vnd.google.colaboratory.intrinsic+json": {
              "type": "string"
            }
          },
          "metadata": {}
        },
        {
          "output_type": "display_data",
          "data": {
            "text/plain": [
              "'2010-07-31: 21.628951687429673 | 20.742921283005003'"
            ],
            "application/vnd.google.colaboratory.intrinsic+json": {
              "type": "string"
            }
          },
          "metadata": {}
        },
        {
          "output_type": "display_data",
          "data": {
            "text/plain": [
              "'2010-08-31: 21.387088549821453 | 19.656158664065906'"
            ],
            "application/vnd.google.colaboratory.intrinsic+json": {
              "type": "string"
            }
          },
          "metadata": {}
        },
        {
          "output_type": "display_data",
          "data": {
            "text/plain": [
              "'2010-09-30: 21.747915601268428 | 21.45224646007047'"
            ],
            "application/vnd.google.colaboratory.intrinsic+json": {
              "type": "string"
            }
          },
          "metadata": {}
        },
        {
          "output_type": "display_data",
          "data": {
            "text/plain": [
              "'2010-10-31: 22.22680731551349 | 22.479343377946073'"
            ],
            "application/vnd.google.colaboratory.intrinsic+json": {
              "type": "string"
            }
          },
          "metadata": {}
        },
        {
          "output_type": "display_data",
          "data": {
            "text/plain": [
              "'2010-11-30: 22.236028570583983 | 22.782731594493136'"
            ],
            "application/vnd.google.colaboratory.intrinsic+json": {
              "type": "string"
            }
          },
          "metadata": {}
        },
        {
          "output_type": "display_data",
          "data": {
            "text/plain": [
              "'2010-12-31: 22.97409077656408 | 24.369410732119952'"
            ],
            "application/vnd.google.colaboratory.intrinsic+json": {
              "type": "string"
            }
          },
          "metadata": {}
        },
        {
          "output_type": "display_data",
          "data": {
            "text/plain": [
              "'2011-01-31: 23.09672019756004 | 23.73139828948937'"
            ],
            "application/vnd.google.colaboratory.intrinsic+json": {
              "type": "string"
            }
          },
          "metadata": {}
        },
        {
          "output_type": "display_data",
          "data": {
            "text/plain": [
              "'2011-02-28: 23.734068311601405 | 24.89221086476939'"
            ],
            "application/vnd.google.colaboratory.intrinsic+json": {
              "type": "string"
            }
          },
          "metadata": {}
        },
        {
          "output_type": "display_data",
          "data": {
            "text/plain": [
              "'2011-03-31: 23.10568244437566 | 25.12703975886147'"
            ],
            "application/vnd.google.colaboratory.intrinsic+json": {
              "type": "string"
            }
          },
          "metadata": {}
        },
        {
          "output_type": "display_data",
          "data": {
            "text/plain": [
              "'2011-04-30: 23.23750007714668 | 23.237500077146677'"
            ],
            "application/vnd.google.colaboratory.intrinsic+json": {
              "type": "string"
            }
          },
          "metadata": {}
        },
        {
          "output_type": "display_data",
          "data": {
            "text/plain": [
              "'2011-05-31: 22.398553357093476 | 22.75179274541815'"
            ],
            "application/vnd.google.colaboratory.intrinsic+json": {
              "type": "string"
            }
          },
          "metadata": {}
        },
        {
          "output_type": "display_data",
          "data": {
            "text/plain": [
              "'2011-06-30: 22.092032593746794 | 22.27732644323585'"
            ],
            "application/vnd.google.colaboratory.intrinsic+json": {
              "type": "string"
            }
          },
          "metadata": {}
        },
        {
          "output_type": "display_data",
          "data": {
            "text/plain": [
              "'2011-07-31: 22.158129106391556 | 21.856300056890774'"
            ],
            "application/vnd.google.colaboratory.intrinsic+json": {
              "type": "string"
            }
          },
          "metadata": {}
        },
        {
          "output_type": "display_data",
          "data": {
            "text/plain": [
              "'2011-08-31: 21.29162141720122 | 20.32691841441052'"
            ],
            "application/vnd.google.colaboratory.intrinsic+json": {
              "type": "string"
            }
          },
          "metadata": {}
        },
        {
          "output_type": "display_data",
          "data": {
            "text/plain": [
              "'2011-09-30: 19.119977763387404 | 18.51884111768733'"
            ],
            "application/vnd.google.colaboratory.intrinsic+json": {
              "type": "string"
            }
          },
          "metadata": {}
        },
        {
          "output_type": "display_data",
          "data": {
            "text/plain": [
              "'2011-10-31: 20.75072167823288 | 20.475129032110694'"
            ],
            "application/vnd.google.colaboratory.intrinsic+json": {
              "type": "string"
            }
          },
          "metadata": {}
        },
        {
          "output_type": "display_data",
          "data": {
            "text/plain": [
              "'2011-11-30: 20.447779662211918 | 20.31188416609501'"
            ],
            "application/vnd.google.colaboratory.intrinsic+json": {
              "type": "string"
            }
          },
          "metadata": {}
        },
        {
          "output_type": "display_data",
          "data": {
            "text/plain": [
              "'2011-12-31: 19.792467129496313 | 20.30387784296374'"
            ],
            "application/vnd.google.colaboratory.intrinsic+json": {
              "type": "string"
            }
          },
          "metadata": {}
        },
        {
          "output_type": "display_data",
          "data": {
            "text/plain": [
              "'2012-01-31: 20.19857865592605 | 21.672723922591466'"
            ],
            "application/vnd.google.colaboratory.intrinsic+json": {
              "type": "string"
            }
          },
          "metadata": {}
        },
        {
          "output_type": "display_data",
          "data": {
            "text/plain": [
              "'2012-02-29: 20.43987673432088 | 22.087832995355974'"
            ],
            "application/vnd.google.colaboratory.intrinsic+json": {
              "type": "string"
            }
          },
          "metadata": {}
        },
        {
          "output_type": "display_data",
          "data": {
            "text/plain": [
              "'2012-03-31: 20.434440677757685 | 22.300612283352265'"
            ],
            "application/vnd.google.colaboratory.intrinsic+json": {
              "type": "string"
            }
          },
          "metadata": {}
        },
        {
          "output_type": "display_data",
          "data": {
            "text/plain": [
              "'2012-04-30: 20.48795711953368 | 20.487957119533675'"
            ],
            "application/vnd.google.colaboratory.intrinsic+json": {
              "type": "string"
            }
          },
          "metadata": {}
        },
        {
          "output_type": "display_data",
          "data": {
            "text/plain": [
              "'2012-05-31: 21.257341703550466 | 19.10666488000574'"
            ],
            "application/vnd.google.colaboratory.intrinsic+json": {
              "type": "string"
            }
          },
          "metadata": {}
        },
        {
          "output_type": "display_data",
          "data": {
            "text/plain": [
              "'2012-06-30: 21.0369821093631 | 20.02067968305684'"
            ],
            "application/vnd.google.colaboratory.intrinsic+json": {
              "type": "string"
            }
          },
          "metadata": {}
        },
        {
          "output_type": "display_data",
          "data": {
            "text/plain": [
              "'2012-07-31: 21.555480557893762 | 20.10624323881773'"
            ],
            "application/vnd.google.colaboratory.intrinsic+json": {
              "type": "string"
            }
          },
          "metadata": {}
        },
        {
          "output_type": "display_data",
          "data": {
            "text/plain": [
              "'2012-08-31: 21.320598856562338 | 20.693457159528183'"
            ],
            "application/vnd.google.colaboratory.intrinsic+json": {
              "type": "string"
            }
          },
          "metadata": {}
        },
        {
          "output_type": "display_data",
          "data": {
            "text/plain": [
              "'2012-09-30: 21.18585914934248 | 21.49209145988861'"
            ],
            "application/vnd.google.colaboratory.intrinsic+json": {
              "type": "string"
            }
          },
          "metadata": {}
        },
        {
          "output_type": "display_data",
          "data": {
            "text/plain": [
              "'2012-10-31: 21.810895918712273 | 20.81562755043929'"
            ],
            "application/vnd.google.colaboratory.intrinsic+json": {
              "type": "string"
            }
          },
          "metadata": {}
        },
        {
          "output_type": "display_data",
          "data": {
            "text/plain": [
              "'2012-11-30: 21.731562344227804 | 21.055032295198263'"
            ],
            "application/vnd.google.colaboratory.intrinsic+json": {
              "type": "string"
            }
          },
          "metadata": {}
        },
        {
          "output_type": "display_data",
          "data": {
            "text/plain": [
              "'2012-12-31: 20.92551144063154 | 21.808907646386327'"
            ],
            "application/vnd.google.colaboratory.intrinsic+json": {
              "type": "string"
            }
          },
          "metadata": {}
        },
        {
          "output_type": "display_data",
          "data": {
            "text/plain": [
              "'2013-01-31: 20.65676100084217 | 22.942448118303655'"
            ],
            "application/vnd.google.colaboratory.intrinsic+json": {
              "type": "string"
            }
          },
          "metadata": {}
        },
        {
          "output_type": "display_data",
          "data": {
            "text/plain": [
              "'2013-02-28: 21.25704977863603 | 22.954398151582627'"
            ],
            "application/vnd.google.colaboratory.intrinsic+json": {
              "type": "string"
            }
          },
          "metadata": {}
        },
        {
          "output_type": "display_data",
          "data": {
            "text/plain": [
              "'2013-03-31: 21.555229485993838 | 23.746894915143702'"
            ],
            "application/vnd.google.colaboratory.intrinsic+json": {
              "type": "string"
            }
          },
          "metadata": {}
        },
        {
          "output_type": "display_data",
          "data": {
            "text/plain": [
              "'2013-04-30: 21.75417742253647 | 21.754177422536465'"
            ],
            "application/vnd.google.colaboratory.intrinsic+json": {
              "type": "string"
            }
          },
          "metadata": {}
        },
        {
          "output_type": "display_data",
          "data": {
            "text/plain": [
              "'2013-05-31: 21.29203306172885 | 22.01068458718271'"
            ],
            "application/vnd.google.colaboratory.intrinsic+json": {
              "type": "string"
            }
          },
          "metadata": {}
        },
        {
          "output_type": "display_data",
          "data": {
            "text/plain": [
              "'2013-06-30: 21.258261175083494 | 21.835356019336494'"
            ],
            "application/vnd.google.colaboratory.intrinsic+json": {
              "type": "string"
            }
          },
          "metadata": {}
        },
        {
          "output_type": "display_data",
          "data": {
            "text/plain": [
              "'2013-07-31: 21.661844676076555 | 23.08672510888934'"
            ],
            "application/vnd.google.colaboratory.intrinsic+json": {
              "type": "string"
            }
          },
          "metadata": {}
        },
        {
          "output_type": "display_data",
          "data": {
            "text/plain": [
              "'2013-08-31: 21.555006866754375 | 22.554629107244033'"
            ],
            "application/vnd.google.colaboratory.intrinsic+json": {
              "type": "string"
            }
          },
          "metadata": {}
        },
        {
          "output_type": "display_data",
          "data": {
            "text/plain": [
              "'2013-09-30: 21.59887240641559 | 24.154485392539492'"
            ],
            "application/vnd.google.colaboratory.intrinsic+json": {
              "type": "string"
            }
          },
          "metadata": {}
        },
        {
          "output_type": "display_data",
          "data": {
            "text/plain": [
              "'2013-10-31: 21.265251428078855 | 24.646978896451536'"
            ],
            "application/vnd.google.colaboratory.intrinsic+json": {
              "type": "string"
            }
          },
          "metadata": {}
        },
        {
          "output_type": "display_data",
          "data": {
            "text/plain": [
              "'2013-11-30: 21.559796263274706 | 25.445276652539114'"
            ],
            "application/vnd.google.colaboratory.intrinsic+json": {
              "type": "string"
            }
          },
          "metadata": {}
        },
        {
          "output_type": "display_data",
          "data": {
            "text/plain": [
              "'2013-12-31: 21.833261489269347 | 25.927231238637418'"
            ],
            "application/vnd.google.colaboratory.intrinsic+json": {
              "type": "string"
            }
          },
          "metadata": {}
        },
        {
          "output_type": "display_data",
          "data": {
            "text/plain": [
              "'2014-01-31: 22.10431367063651 | 25.213670902705253'"
            ],
            "application/vnd.google.colaboratory.intrinsic+json": {
              "type": "string"
            }
          },
          "metadata": {}
        },
        {
          "output_type": "display_data",
          "data": {
            "text/plain": [
              "'2014-02-28: 22.12256315817813 | 26.24168298368376'"
            ],
            "application/vnd.google.colaboratory.intrinsic+json": {
              "type": "string"
            }
          },
          "metadata": {}
        },
        {
          "output_type": "display_data",
          "data": {
            "text/plain": [
              "'2014-03-31: 21.44808023212838 | 26.551613818909274'"
            ],
            "application/vnd.google.colaboratory.intrinsic+json": {
              "type": "string"
            }
          },
          "metadata": {}
        },
        {
          "output_type": "display_data",
          "data": {
            "text/plain": [
              "'2014-04-30: 21.057045274768072 | 21.057045274768072'"
            ],
            "application/vnd.google.colaboratory.intrinsic+json": {
              "type": "string"
            }
          },
          "metadata": {}
        },
        {
          "output_type": "display_data",
          "data": {
            "text/plain": [
              "'2014-05-31: 21.128824817931044 | 21.178202571419174'"
            ],
            "application/vnd.google.colaboratory.intrinsic+json": {
              "type": "string"
            }
          },
          "metadata": {}
        },
        {
          "output_type": "display_data",
          "data": {
            "text/plain": [
              "'2014-06-30: 21.59908904272173 | 22.125296301963424'"
            ],
            "application/vnd.google.colaboratory.intrinsic+json": {
              "type": "string"
            }
          },
          "metadata": {}
        },
        {
          "output_type": "display_data",
          "data": {
            "text/plain": [
              "'2014-07-31: 21.338462016986497 | 21.150839768564257'"
            ],
            "application/vnd.google.colaboratory.intrinsic+json": {
              "type": "string"
            }
          },
          "metadata": {}
        },
        {
          "output_type": "display_data",
          "data": {
            "text/plain": [
              "'2014-08-31: 21.8248204069622 | 22.045580307786985'"
            ],
            "application/vnd.google.colaboratory.intrinsic+json": {
              "type": "string"
            }
          },
          "metadata": {}
        },
        {
          "output_type": "display_data",
          "data": {
            "text/plain": [
              "'2014-09-30: 21.90833717699711 | 21.05818401839098'"
            ],
            "application/vnd.google.colaboratory.intrinsic+json": {
              "type": "string"
            }
          },
          "metadata": {}
        },
        {
          "output_type": "display_data",
          "data": {
            "text/plain": [
              "'2014-10-31: 21.707054856862445 | 22.016013612995295'"
            ],
            "application/vnd.google.colaboratory.intrinsic+json": {
              "type": "string"
            }
          },
          "metadata": {}
        },
        {
          "output_type": "display_data",
          "data": {
            "text/plain": [
              "'2014-11-30: 21.843806618943432 | 22.21952148469112'"
            ],
            "application/vnd.google.colaboratory.intrinsic+json": {
              "type": "string"
            }
          },
          "metadata": {}
        },
        {
          "output_type": "display_data",
          "data": {
            "text/plain": [
              "'2014-12-31: 21.13984439117625 | 22.365761983824505'"
            ],
            "application/vnd.google.colaboratory.intrinsic+json": {
              "type": "string"
            }
          },
          "metadata": {}
        },
        {
          "output_type": "display_data",
          "data": {
            "text/plain": [
              "'2015-01-31: 20.97468330876231 | 21.821277757524648'"
            ],
            "application/vnd.google.colaboratory.intrinsic+json": {
              "type": "string"
            }
          },
          "metadata": {}
        },
        {
          "output_type": "display_data",
          "data": {
            "text/plain": [
              "'2015-02-28: 21.50413312272101 | 22.877901006093545'"
            ],
            "application/vnd.google.colaboratory.intrinsic+json": {
              "type": "string"
            }
          },
          "metadata": {}
        },
        {
          "output_type": "display_data",
          "data": {
            "text/plain": [
              "'2015-03-31: 21.945669978729548 | 23.09905055025275'"
            ],
            "application/vnd.google.colaboratory.intrinsic+json": {
              "type": "string"
            }
          },
          "metadata": {}
        },
        {
          "output_type": "display_data",
          "data": {
            "text/plain": [
              "'2015-04-30: 22.17323148822504 | 22.17323148822503'"
            ],
            "application/vnd.google.colaboratory.intrinsic+json": {
              "type": "string"
            }
          },
          "metadata": {}
        },
        {
          "output_type": "display_data",
          "data": {
            "text/plain": [
              "'2015-05-31: 22.92159157157238 | 22.61330131981219'"
            ],
            "application/vnd.google.colaboratory.intrinsic+json": {
              "type": "string"
            }
          },
          "metadata": {}
        },
        {
          "output_type": "display_data",
          "data": {
            "text/plain": [
              "'2015-06-30: 22.95298553715579 | 22.823559759914307'"
            ],
            "application/vnd.google.colaboratory.intrinsic+json": {
              "type": "string"
            }
          },
          "metadata": {}
        },
        {
          "output_type": "display_data",
          "data": {
            "text/plain": [
              "'2015-07-31: 23.981022789577246 | 22.21969814391264'"
            ],
            "application/vnd.google.colaboratory.intrinsic+json": {
              "type": "string"
            }
          },
          "metadata": {}
        },
        {
          "output_type": "display_data",
          "data": {
            "text/plain": [
              "'2015-08-31: 23.14366222254816 | 20.929724871716022'"
            ],
            "application/vnd.google.colaboratory.intrinsic+json": {
              "type": "string"
            }
          },
          "metadata": {}
        },
        {
          "output_type": "display_data",
          "data": {
            "text/plain": [
              "'2015-09-30: 23.436791779846207 | 19.784108481979462'"
            ],
            "application/vnd.google.colaboratory.intrinsic+json": {
              "type": "string"
            }
          },
          "metadata": {}
        },
        {
          "output_type": "display_data",
          "data": {
            "text/plain": [
              "'2015-10-31: 23.489740951919465 | 21.17913462035086'"
            ],
            "application/vnd.google.colaboratory.intrinsic+json": {
              "type": "string"
            }
          },
          "metadata": {}
        },
        {
          "output_type": "display_data",
          "data": {
            "text/plain": [
              "'2015-11-30: 23.53189088432928 | 21.91358422909551'"
            ],
            "application/vnd.google.colaboratory.intrinsic+json": {
              "type": "string"
            }
          },
          "metadata": {}
        },
        {
          "output_type": "display_data",
          "data": {
            "text/plain": [
              "'2015-12-31: 24.109853356851563 | 20.999180901968334'"
            ],
            "application/vnd.google.colaboratory.intrinsic+json": {
              "type": "string"
            }
          },
          "metadata": {}
        },
        {
          "output_type": "display_data",
          "data": {
            "text/plain": [
              "'2016-01-31: 23.833204024062216 | 18.726834469123535'"
            ],
            "application/vnd.google.colaboratory.intrinsic+json": {
              "type": "string"
            }
          },
          "metadata": {}
        },
        {
          "output_type": "display_data",
          "data": {
            "text/plain": [
              "'2016-02-29: 23.436581301505193 | 18.730198237790933'"
            ],
            "application/vnd.google.colaboratory.intrinsic+json": {
              "type": "string"
            }
          },
          "metadata": {}
        },
        {
          "output_type": "display_data",
          "data": {
            "text/plain": [
              "'2016-03-31: 23.026858087062912 | 20.268165264476462'"
            ],
            "application/vnd.google.colaboratory.intrinsic+json": {
              "type": "string"
            }
          },
          "metadata": {}
        },
        {
          "output_type": "display_data",
          "data": {
            "text/plain": [
              "'2016-04-30: 22.664705414121983 | 22.664705414121983'"
            ],
            "application/vnd.google.colaboratory.intrinsic+json": {
              "type": "string"
            }
          },
          "metadata": {}
        },
        {
          "output_type": "display_data",
          "data": {
            "text/plain": [
              "'2016-05-31: 22.431995030088363 | 22.79502681695083'"
            ],
            "application/vnd.google.colaboratory.intrinsic+json": {
              "type": "string"
            }
          },
          "metadata": {}
        },
        {
          "output_type": "display_data",
          "data": {
            "text/plain": [
              "'2016-06-30: 22.988277405355692 | 22.927069720430495'"
            ],
            "application/vnd.google.colaboratory.intrinsic+json": {
              "type": "string"
            }
          },
          "metadata": {}
        },
        {
          "output_type": "display_data",
          "data": {
            "text/plain": [
              "'2016-07-31: 22.34135102935793 | 24.016130717144428'"
            ],
            "application/vnd.google.colaboratory.intrinsic+json": {
              "type": "string"
            }
          },
          "metadata": {}
        },
        {
          "output_type": "display_data",
          "data": {
            "text/plain": [
              "'2016-08-31: 21.307696495986296 | 24.522275022966284'"
            ],
            "application/vnd.google.colaboratory.intrinsic+json": {
              "type": "string"
            }
          },
          "metadata": {}
        },
        {
          "output_type": "display_data",
          "data": {
            "text/plain": [
              "'2016-09-30: 20.444837942344 | 25.11954771162881'"
            ],
            "application/vnd.google.colaboratory.intrinsic+json": {
              "type": "string"
            }
          },
          "metadata": {}
        },
        {
          "output_type": "display_data",
          "data": {
            "text/plain": [
              "'2016-10-31: 21.291486011226567 | 23.837369422975705'"
            ],
            "application/vnd.google.colaboratory.intrinsic+json": {
              "type": "string"
            }
          },
          "metadata": {}
        },
        {
          "output_type": "display_data",
          "data": {
            "text/plain": [
              "'2016-11-30: 19.46160040337614 | 25.720569054531367'"
            ],
            "application/vnd.google.colaboratory.intrinsic+json": {
              "type": "string"
            }
          },
          "metadata": {}
        },
        {
          "output_type": "display_data",
          "data": {
            "text/plain": [
              "'2016-12-31: 19.665505050010786 | 26.446810919429367'"
            ],
            "application/vnd.google.colaboratory.intrinsic+json": {
              "type": "string"
            }
          },
          "metadata": {}
        },
        {
          "output_type": "display_data",
          "data": {
            "text/plain": [
              "'2017-01-31: 19.601750810348694 | 26.87329088190041'"
            ],
            "application/vnd.google.colaboratory.intrinsic+json": {
              "type": "string"
            }
          },
          "metadata": {}
        },
        {
          "output_type": "display_data",
          "data": {
            "text/plain": [
              "'2017-02-28: 19.161594091046354 | 27.38988137150527'"
            ],
            "application/vnd.google.colaboratory.intrinsic+json": {
              "type": "string"
            }
          },
          "metadata": {}
        },
        {
          "output_type": "display_data",
          "data": {
            "text/plain": [
              "'2017-03-31: 18.86350837020479 | 27.751369890888867'"
            ],
            "application/vnd.google.colaboratory.intrinsic+json": {
              "type": "string"
            }
          },
          "metadata": {}
        },
        {
          "output_type": "display_data",
          "data": {
            "text/plain": [
              "'2017-04-30: 19.02687806242058 | 19.02687806242058'"
            ],
            "application/vnd.google.colaboratory.intrinsic+json": {
              "type": "string"
            }
          },
          "metadata": {}
        },
        {
          "output_type": "display_data",
          "data": {
            "text/plain": [
              "'2017-05-31: 19.14639296138436 | 18.642728496870888'"
            ],
            "application/vnd.google.colaboratory.intrinsic+json": {
              "type": "string"
            }
          },
          "metadata": {}
        },
        {
          "output_type": "display_data",
          "data": {
            "text/plain": [
              "'2017-06-30: 19.27784534831654 | 19.33585310206208'"
            ],
            "application/vnd.google.colaboratory.intrinsic+json": {
              "type": "string"
            }
          },
          "metadata": {}
        },
        {
          "output_type": "display_data",
          "data": {
            "text/plain": [
              "'2017-07-31: 19.563740314699043 | 19.713418783210983'"
            ],
            "application/vnd.google.colaboratory.intrinsic+json": {
              "type": "string"
            }
          },
          "metadata": {}
        },
        {
          "output_type": "display_data",
          "data": {
            "text/plain": [
              "'2017-08-31: 19.33313344970005 | 19.60696090337928'"
            ],
            "application/vnd.google.colaboratory.intrinsic+json": {
              "type": "string"
            }
          },
          "metadata": {}
        },
        {
          "output_type": "display_data",
          "data": {
            "text/plain": [
              "'2017-09-30: 19.82707064887283 | 20.54492329686753'"
            ],
            "application/vnd.google.colaboratory.intrinsic+json": {
              "type": "string"
            }
          },
          "metadata": {}
        },
        {
          "output_type": "display_data",
          "data": {
            "text/plain": [
              "'2017-10-31: 19.94556726580589 | 20.596927518017353'"
            ],
            "application/vnd.google.colaboratory.intrinsic+json": {
              "type": "string"
            }
          },
          "metadata": {}
        },
        {
          "output_type": "display_data",
          "data": {
            "text/plain": [
              "'2017-11-30: 19.82871236952655 | 20.889696303174972'"
            ],
            "application/vnd.google.colaboratory.intrinsic+json": {
              "type": "string"
            }
          },
          "metadata": {}
        },
        {
          "output_type": "display_data",
          "data": {
            "text/plain": [
              "'2017-12-31: 20.194136896515438 | 21.310921065097766'"
            ],
            "application/vnd.google.colaboratory.intrinsic+json": {
              "type": "string"
            }
          },
          "metadata": {}
        },
        {
          "output_type": "display_data",
          "data": {
            "text/plain": [
              "'2018-01-31: 20.76800374754327 | 21.923705685363984'"
            ],
            "application/vnd.google.colaboratory.intrinsic+json": {
              "type": "string"
            }
          },
          "metadata": {}
        },
        {
          "output_type": "display_data",
          "data": {
            "text/plain": [
              "'2018-02-28: 21.073109298323864 | 21.264737953000946'"
            ],
            "application/vnd.google.colaboratory.intrinsic+json": {
              "type": "string"
            }
          },
          "metadata": {}
        },
        {
          "output_type": "display_data",
          "data": {
            "text/plain": [
              "'2018-03-31: 20.69689008421637 | 21.46475904241253'"
            ],
            "application/vnd.google.colaboratory.intrinsic+json": {
              "type": "string"
            }
          },
          "metadata": {}
        },
        {
          "output_type": "display_data",
          "data": {
            "text/plain": [
              "'2018-04-30: 20.504936154322934 | 20.50493615432293'"
            ],
            "application/vnd.google.colaboratory.intrinsic+json": {
              "type": "string"
            }
          },
          "metadata": {}
        },
        {
          "output_type": "display_data",
          "data": {
            "text/plain": [
              "'2018-05-31: 21.573433437003985 | 21.61459369887798'"
            ],
            "application/vnd.google.colaboratory.intrinsic+json": {
              "type": "string"
            }
          },
          "metadata": {}
        },
        {
          "output_type": "display_data",
          "data": {
            "text/plain": [
              "'2018-06-30: 21.32745675859248 | 21.819943177554066'"
            ],
            "application/vnd.google.colaboratory.intrinsic+json": {
              "type": "string"
            }
          },
          "metadata": {}
        },
        {
          "output_type": "display_data",
          "data": {
            "text/plain": [
              "'2018-07-31: 21.81356999760847 | 21.932302930088362'"
            ],
            "application/vnd.google.colaboratory.intrinsic+json": {
              "type": "string"
            }
          },
          "metadata": {}
        },
        {
          "output_type": "display_data",
          "data": {
            "text/plain": [
              "'2018-08-31: 22.498587618122393 | 22.619850529625964'"
            ],
            "application/vnd.google.colaboratory.intrinsic+json": {
              "type": "string"
            }
          },
          "metadata": {}
        },
        {
          "output_type": "display_data",
          "data": {
            "text/plain": [
              "'2018-09-30: 22.12864053426333 | 21.988046502660154'"
            ],
            "application/vnd.google.colaboratory.intrinsic+json": {
              "type": "string"
            }
          },
          "metadata": {}
        },
        {
          "output_type": "display_data",
          "data": {
            "text/plain": [
              "'2018-10-31: 21.02021510948859 | 19.6184711345319'"
            ],
            "application/vnd.google.colaboratory.intrinsic+json": {
              "type": "string"
            }
          },
          "metadata": {}
        },
        {
          "output_type": "display_data",
          "data": {
            "text/plain": [
              "'2018-11-30: 20.903542463652805 | 19.648333251054396'"
            ],
            "application/vnd.google.colaboratory.intrinsic+json": {
              "type": "string"
            }
          },
          "metadata": {}
        },
        {
          "output_type": "display_data",
          "data": {
            "text/plain": [
              "'2018-12-31: 20.72161408846059 | 17.512785074889038'"
            ],
            "application/vnd.google.colaboratory.intrinsic+json": {
              "type": "string"
            }
          },
          "metadata": {}
        },
        {
          "output_type": "display_data",
          "data": {
            "text/plain": [
              "'2019-01-31: 20.395197944421767 | 19.18576908956611'"
            ],
            "application/vnd.google.colaboratory.intrinsic+json": {
              "type": "string"
            }
          },
          "metadata": {}
        },
        {
          "output_type": "display_data",
          "data": {
            "text/plain": [
              "'2019-02-28: 20.914195411500593 | 19.890268416029308'"
            ],
            "application/vnd.google.colaboratory.intrinsic+json": {
              "type": "string"
            }
          },
          "metadata": {}
        },
        {
          "output_type": "display_data",
          "data": {
            "text/plain": [
              "'2019-03-31: 21.17369892705922 | 19.63709291317336'"
            ],
            "application/vnd.google.colaboratory.intrinsic+json": {
              "type": "string"
            }
          },
          "metadata": {}
        },
        {
          "output_type": "display_data",
          "data": {
            "text/plain": [
              "'2019-04-30: 21.29273938333328 | 21.292739383333277'"
            ],
            "application/vnd.google.colaboratory.intrinsic+json": {
              "type": "string"
            }
          },
          "metadata": {}
        },
        {
          "output_type": "display_data",
          "data": {
            "text/plain": [
              "'2019-05-31: 22.941448232017517 | 19.691501720034754'"
            ],
            "application/vnd.google.colaboratory.intrinsic+json": {
              "type": "string"
            }
          },
          "metadata": {}
        },
        {
          "output_type": "display_data",
          "data": {
            "text/plain": [
              "'2019-06-30: 22.405744804719532 | 21.227407061444072'"
            ],
            "application/vnd.google.colaboratory.intrinsic+json": {
              "type": "string"
            }
          },
          "metadata": {}
        },
        {
          "output_type": "display_data",
          "data": {
            "text/plain": [
              "'2019-07-31: 22.43277617989341 | 21.257821292189337'"
            ],
            "application/vnd.google.colaboratory.intrinsic+json": {
              "type": "string"
            }
          },
          "metadata": {}
        },
        {
          "output_type": "display_data",
          "data": {
            "text/plain": [
              "'2019-08-31: 23.569506339000178 | 20.088767087813654'"
            ],
            "application/vnd.google.colaboratory.intrinsic+json": {
              "type": "string"
            }
          },
          "metadata": {}
        },
        {
          "output_type": "display_data",
          "data": {
            "text/plain": [
              "'2019-09-30: 22.802379694432368 | 20.258567216114688'"
            ],
            "application/vnd.google.colaboratory.intrinsic+json": {
              "type": "string"
            }
          },
          "metadata": {}
        },
        {
          "output_type": "display_data",
          "data": {
            "text/plain": [
              "'2019-10-31: 22.39228997119553 | 20.776078754404'"
            ],
            "application/vnd.google.colaboratory.intrinsic+json": {
              "type": "string"
            }
          },
          "metadata": {}
        },
        {
          "output_type": "display_data",
          "data": {
            "text/plain": [
              "'2019-11-30: 22.665456272193513 | 21.83780117112565'"
            ],
            "application/vnd.google.colaboratory.intrinsic+json": {
              "type": "string"
            }
          },
          "metadata": {}
        },
        {
          "output_type": "display_data",
          "data": {
            "text/plain": [
              "'2019-12-31: 22.2621934906833 | 22.776717178600403'"
            ],
            "application/vnd.google.colaboratory.intrinsic+json": {
              "type": "string"
            }
          },
          "metadata": {}
        },
        {
          "output_type": "display_data",
          "data": {
            "text/plain": [
              "'2020-01-31: 23.96536736948837 | 22.15527685064242'"
            ],
            "application/vnd.google.colaboratory.intrinsic+json": {
              "type": "string"
            }
          },
          "metadata": {}
        },
        {
          "output_type": "display_data",
          "data": {
            "text/plain": [
              "'2020-02-29: 24.791764604611092 | 20.814314060374308'"
            ],
            "application/vnd.google.colaboratory.intrinsic+json": {
              "type": "string"
            }
          },
          "metadata": {}
        },
        {
          "output_type": "display_data",
          "data": {
            "text/plain": [
              "'2020-03-31: 24.569672755446078 | 16.55630574586537'"
            ],
            "application/vnd.google.colaboratory.intrinsic+json": {
              "type": "string"
            }
          },
          "metadata": {}
        },
        {
          "output_type": "display_data",
          "data": {
            "text/plain": [
              "'2020-04-30: 24.091351982997526 | 24.091351982997516'"
            ],
            "application/vnd.google.colaboratory.intrinsic+json": {
              "type": "string"
            }
          },
          "metadata": {}
        },
        {
          "output_type": "display_data",
          "data": {
            "text/plain": [
              "'2020-05-31: 24.522795495563535 | 25.758816247878705'"
            ],
            "application/vnd.google.colaboratory.intrinsic+json": {
              "type": "string"
            }
          },
          "metadata": {}
        },
        {
          "output_type": "display_data",
          "data": {
            "text/plain": [
              "'2020-06-30: 24.1261705041157 | 27.120516618383796'"
            ],
            "application/vnd.google.colaboratory.intrinsic+json": {
              "type": "string"
            }
          },
          "metadata": {}
        },
        {
          "output_type": "display_data",
          "data": {
            "text/plain": [
              "'2020-07-31: 25.45679081820345 | 27.53352338524217'"
            ],
            "application/vnd.google.colaboratory.intrinsic+json": {
              "type": "string"
            }
          },
          "metadata": {}
        },
        {
          "output_type": "display_data",
          "data": {
            "text/plain": [
              "'2020-08-31: 24.25137880724862 | 29.259990445231637'"
            ],
            "application/vnd.google.colaboratory.intrinsic+json": {
              "type": "string"
            }
          },
          "metadata": {}
        },
        {
          "output_type": "display_data",
          "data": {
            "text/plain": [
              "'2020-09-30: 25.653281661391347 | 27.644055729708583'"
            ],
            "application/vnd.google.colaboratory.intrinsic+json": {
              "type": "string"
            }
          },
          "metadata": {}
        },
        {
          "output_type": "display_data",
          "data": {
            "text/plain": [
              "'2020-10-31: 25.495231143965547 | 27.44522209792266'"
            ],
            "application/vnd.google.colaboratory.intrinsic+json": {
              "type": "string"
            }
          },
          "metadata": {}
        },
        {
          "output_type": "display_data",
          "data": {
            "text/plain": [
              "'2020-11-30: 22.044214054472445 | 33.54284280761961'"
            ],
            "application/vnd.google.colaboratory.intrinsic+json": {
              "type": "string"
            }
          },
          "metadata": {}
        },
        {
          "output_type": "display_data",
          "data": {
            "text/plain": [
              "'2020-12-31: 21.798949410800393 | 35.842447149259534'"
            ],
            "application/vnd.google.colaboratory.intrinsic+json": {
              "type": "string"
            }
          },
          "metadata": {}
        },
        {
          "output_type": "display_data",
          "data": {
            "text/plain": [
              "'2021-01-31: 22.919046432960286 | 38.50501802705023'"
            ],
            "application/vnd.google.colaboratory.intrinsic+json": {
              "type": "string"
            }
          },
          "metadata": {}
        },
        {
          "output_type": "display_data",
          "data": {
            "text/plain": [
              "'2021-02-28: 19.55786902928029 | 41.76317302930679'"
            ],
            "application/vnd.google.colaboratory.intrinsic+json": {
              "type": "string"
            }
          },
          "metadata": {}
        },
        {
          "output_type": "display_data",
          "data": {
            "text/plain": [
              "'2021-03-31: 15.60748695277147 | 42.48351058166323'"
            ],
            "application/vnd.google.colaboratory.intrinsic+json": {
              "type": "string"
            }
          },
          "metadata": {}
        },
        {
          "output_type": "display_data",
          "data": {
            "text/plain": [
              "'2021-04-30: 16.422860566492265 | 16.422860566492268'"
            ],
            "application/vnd.google.colaboratory.intrinsic+json": {
              "type": "string"
            }
          },
          "metadata": {}
        },
        {
          "output_type": "display_data",
          "data": {
            "text/plain": [
              "'2021-05-31: 16.673749167401894 | 16.79108790256241'"
            ],
            "application/vnd.google.colaboratory.intrinsic+json": {
              "type": "string"
            }
          },
          "metadata": {}
        },
        {
          "output_type": "display_data",
          "data": {
            "text/plain": [
              "'2021-06-30: 17.29264357503116 | 17.257935180617842'"
            ],
            "application/vnd.google.colaboratory.intrinsic+json": {
              "type": "string"
            }
          },
          "metadata": {}
        },
        {
          "output_type": "display_data",
          "data": {
            "text/plain": [
              "'2021-07-31: 16.822617834976604 | 16.719599099042185'"
            ],
            "application/vnd.google.colaboratory.intrinsic+json": {
              "type": "string"
            }
          },
          "metadata": {}
        },
        {
          "output_type": "display_data",
          "data": {
            "text/plain": [
              "'2021-08-31: 16.726415497962325 | 16.90550166014161'"
            ],
            "application/vnd.google.colaboratory.intrinsic+json": {
              "type": "string"
            }
          },
          "metadata": {}
        },
        {
          "output_type": "display_data",
          "data": {
            "text/plain": [
              "'2021-09-30: 16.60758680151582 | 16.445251701230518'"
            ],
            "application/vnd.google.colaboratory.intrinsic+json": {
              "type": "string"
            }
          },
          "metadata": {}
        },
        {
          "output_type": "display_data",
          "data": {
            "text/plain": [
              "'2021-10-31: 17.101128851149227 | 17.11517381808183'"
            ],
            "application/vnd.google.colaboratory.intrinsic+json": {
              "type": "string"
            }
          },
          "metadata": {}
        },
        {
          "output_type": "display_data",
          "data": {
            "text/plain": [
              "'2021-11-30: 17.1827490361741 | 16.73199560208988'"
            ],
            "application/vnd.google.colaboratory.intrinsic+json": {
              "type": "string"
            }
          },
          "metadata": {}
        },
        {
          "output_type": "display_data",
          "data": {
            "text/plain": [
              "'2021-12-31: 16.438065968112042 | 16.781498618481656'"
            ],
            "application/vnd.google.colaboratory.intrinsic+json": {
              "type": "string"
            }
          },
          "metadata": {}
        },
        {
          "output_type": "display_data",
          "data": {
            "text/plain": [
              "'2022-01-31: 15.450067130914906 | 15.55548046491394'"
            ],
            "application/vnd.google.colaboratory.intrinsic+json": {
              "type": "string"
            }
          },
          "metadata": {}
        },
        {
          "output_type": "display_data",
          "data": {
            "text/plain": [
              "'2022-02-28: 15.633103575726098 | 15.58795791002528'"
            ],
            "application/vnd.google.colaboratory.intrinsic+json": {
              "type": "string"
            }
          },
          "metadata": {}
        },
        {
          "output_type": "display_data",
          "data": {
            "text/plain": [
              "'2022-03-31: 15.565484851753634 | 15.818217177450427'"
            ],
            "application/vnd.google.colaboratory.intrinsic+json": {
              "type": "string"
            }
          },
          "metadata": {}
        },
        {
          "output_type": "display_data",
          "data": {
            "text/plain": [
              "'2022-04-30: 14.855091307189607 | 0.0'"
            ],
            "application/vnd.google.colaboratory.intrinsic+json": {
              "type": "string"
            }
          },
          "metadata": {}
        },
        {
          "output_type": "display_data",
          "data": {
            "text/plain": [
              "'2022-05-31: 14.855091307189607 | 0.0'"
            ],
            "application/vnd.google.colaboratory.intrinsic+json": {
              "type": "string"
            }
          },
          "metadata": {}
        },
        {
          "output_type": "display_data",
          "data": {
            "text/plain": [
              "'2022-06-30: 14.855091307189607 | 0.0'"
            ],
            "application/vnd.google.colaboratory.intrinsic+json": {
              "type": "string"
            }
          },
          "metadata": {}
        },
        {
          "output_type": "display_data",
          "data": {
            "text/plain": [
              "'2022-07-31: 14.855091307189607 | 0.0'"
            ],
            "application/vnd.google.colaboratory.intrinsic+json": {
              "type": "string"
            }
          },
          "metadata": {}
        },
        {
          "output_type": "display_data",
          "data": {
            "text/plain": [
              "'2022-08-31: 14.855091307189607 | 0.0'"
            ],
            "application/vnd.google.colaboratory.intrinsic+json": {
              "type": "string"
            }
          },
          "metadata": {}
        },
        {
          "output_type": "display_data",
          "data": {
            "text/plain": [
              "'2022-09-30: 14.855091307189607 | 0.0'"
            ],
            "application/vnd.google.colaboratory.intrinsic+json": {
              "type": "string"
            }
          },
          "metadata": {}
        },
        {
          "output_type": "display_data",
          "data": {
            "text/plain": [
              "'2022-10-31: 14.855091307189607 | 0.0'"
            ],
            "application/vnd.google.colaboratory.intrinsic+json": {
              "type": "string"
            }
          },
          "metadata": {}
        },
        {
          "output_type": "display_data",
          "data": {
            "text/plain": [
              "'2022-11-30: 14.855091307189607 | 0.0'"
            ],
            "application/vnd.google.colaboratory.intrinsic+json": {
              "type": "string"
            }
          },
          "metadata": {}
        },
        {
          "output_type": "display_data",
          "data": {
            "text/plain": [
              "'2022-12-31: 14.855091307189607 | 0.0'"
            ],
            "application/vnd.google.colaboratory.intrinsic+json": {
              "type": "string"
            }
          },
          "metadata": {}
        },
        {
          "output_type": "display_data",
          "data": {
            "text/plain": [
              "<Figure size 640x480 with 1 Axes>"
            ],
            "image/png": "[encoded data removed]"
          },
          "metadata": {}
        }
      ]
    }
  ],
  "metadata": {
    "kernelspec": {
      "display_name": "Python 3",
      "language": "python",
      "name": "python3"
    },
    "language_info": {
      "codemirror_mode": {
        "name": "ipython",
        "version": 3
      },
      "file_extension": ".py",
      "mimetype": "text/x-python",
      "name": "python",
      "nbconvert_exporter": "python",
      "pygments_lexer": "ipython3",
      "version": "3.8.5"
    },
    "colab": {
      "provenance": []
    }
  },
  "nbformat": 4,
  "nbformat_minor": 0
}